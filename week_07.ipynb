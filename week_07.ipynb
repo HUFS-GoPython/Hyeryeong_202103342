{
  "nbformat": 4,
  "nbformat_minor": 0,
  "metadata": {
    "colab": {
      "name": "week_07.ipynb",
      "provenance": [],
      "collapsed_sections": [],
      "authorship_tag": "ABX9TyO0/KCRrgDQmYB8xi3LA7F5",
      "include_colab_link": true
    },
    "kernelspec": {
      "name": "python3",
      "display_name": "Python 3"
    },
    "language_info": {
      "name": "python"
    }
  },
  "cells": [
    {
      "cell_type": "markdown",
      "metadata": {
        "id": "view-in-github",
        "colab_type": "text"
      },
      "source": [
        "<a href=\"https://colab.research.google.com/github/HUFS-Programming-2022/Hyeryeong_202103342/blob/main/week_07.ipynb\" target=\"_parent\"><img src=\"https://colab.research.google.com/assets/colab-badge.svg\" alt=\"Open In Colab\"/></a>"
      ]
    },
    {
      "cell_type": "markdown",
      "source": [
        "# 고급파이썬프로그래밍_7주차(0415)"
      ],
      "metadata": {
        "id": "NgebPvAjghKQ"
      }
    },
    {
      "cell_type": "markdown",
      "source": [
        "### * 중간고사\n",
        "- 1. 배운 것만 쓰기(tokenize 안됨)\n",
        "- 2. 틀린 것 쓰면 감점\n",
        "- 3. 간결하고 정리 잘 된 코드일수록 가산점 부여\n",
        "\n",
        "### * 조장\n",
        "- 이번주 조장은 중간고사 이후 주간까지"
      ],
      "metadata": {
        "id": "LLmGGhozqeU4"
      }
    },
    {
      "cell_type": "markdown",
      "source": [
        "# CH09\n",
        "## 1. 함수\n",
        "### 1) 정의 및 호출\n",
        "- 어떤 일을 수행하는 코드의 덩어리, 묶음\n",
        "- 이름이 붙여진 코드 조각, 분리되어 있음\n",
        "- 코드의 (편리한) 재사용이 주된 목적\n",
        "- 구조\n",
        "-정의하기(define) -> 호출하기(call)\n",
        "    *정의하기(define)\n",
        "        - def 함수이름(매개변수1,2,3,4,...):\n",
        "             수행문1\n",
        "             수행문2\n",
        "               ...\n",
        "              return 출력값\n",
        "    *호출하기(call)\n",
        "        - 함수이름(인수1,2,3,4,....)\n",
        "       ** 들여쓰기 주의하기\n",
        "- \"인터페이스\" 잘 설정하면 내부를 몰라도 함수를 쉽게 쓸 수 있다.\n",
        "  *인터페이스란?  -> 함수 내부의 수행문*\n",
        "- split(), join()(= 내장함수) -> split(), join()의 인터페이스 모르지만 사용가능 -> 인터페이스 잘 설정되어 있다는 뜻.\n",
        "- 입력값 출력값 많아도 됨\n",
        "### 2) 함수 이름 짓기\n",
        "- 소문자 사용한다.(대문자는 사용하지 않음)\n",
        "- 카멜표기법 사용 가능 < 언더바(카멜보다 언더바 선호)\n",
        "- 동사 위주의 이름 짓기, 동사 + 명사 :print_output, save_model, split_text (명사는 class 선언할 때 많이 사용됨)\n",
        "- 줄임말 쓰지 말기(여러 개발자들이 주로 사용하는 줄임말은 괜찮음) pr_output (x)-> 명료하게 쓰기"
      ],
      "metadata": {
        "id": "S-PiW3qTsQY4"
      }
    },
    {
      "cell_type": "code",
      "execution_count": 20,
      "metadata": {
        "id": "Umu_jIvtgggz"
      },
      "outputs": [],
      "source": [
        "# y = x + 1  # x == 매개변수, y == 출력값"
      ]
    },
    {
      "cell_type": "code",
      "source": [
        "# split(). join()"
      ],
      "metadata": {
        "id": "DQ8Cs8TjtcA9"
      },
      "execution_count": 21,
      "outputs": []
    },
    {
      "cell_type": "code",
      "source": [
        "def split():    # 우리는 split()의 인터페이스 모르지만, 사용가능 -> 인터페이스 잘 설정되어 있다는 뜻\n",
        "  #####\n",
        "  return"
      ],
      "metadata": {
        "id": "n0P9cpQPteZR"
      },
      "execution_count": 22,
      "outputs": []
    },
    {
      "cell_type": "code",
      "source": [
        "# 1. 입력값 없고, 반환값도 없을 때\n",
        "def make_a_sound():\n",
        "  print('quack')\n",
        "  # return None -> return 값이 없다면? return None이 생략된것\n",
        "\n",
        "make_a_sound()"
      ],
      "metadata": {
        "colab": {
          "base_uri": "https://localhost:8080/"
        },
        "id": "DyTM7wAhuGLB",
        "outputId": "5f6829ac-6d8c-490a-a96c-fe266ba01f13"
      },
      "execution_count": 23,
      "outputs": [
        {
          "output_type": "stream",
          "name": "stdout",
          "text": [
            "quack\n"
          ]
        }
      ]
    },
    {
      "cell_type": "code",
      "source": [
        "make_a_sound()"
      ],
      "metadata": {
        "colab": {
          "base_uri": "https://localhost:8080/"
        },
        "id": "WcJRUnjguYLD",
        "outputId": "4f844059-5e23-4c9e-81fe-d69518e8a422"
      },
      "execution_count": 24,
      "outputs": [
        {
          "output_type": "stream",
          "name": "stdout",
          "text": [
            "quack\n"
          ]
        }
      ]
    },
    {
      "cell_type": "code",
      "source": [
        "# 2. 입력값 없고, 반환값 있을 때\n",
        "def agree():\n",
        "  return True\n",
        "\n",
        "agree()"
      ],
      "metadata": {
        "colab": {
          "base_uri": "https://localhost:8080/"
        },
        "id": "rGmydlD6ubc9",
        "outputId": "db3a13c0-6bee-4209-b360-1c145c18fc9f"
      },
      "execution_count": 25,
      "outputs": [
        {
          "output_type": "execute_result",
          "data": {
            "text/plain": [
              "True"
            ]
          },
          "metadata": {},
          "execution_count": 25
        }
      ]
    },
    {
      "cell_type": "code",
      "source": [
        "if agree():\n",
        "  print('Splendid!')\n",
        "else:\n",
        "  print('that was unexpected!')"
      ],
      "metadata": {
        "colab": {
          "base_uri": "https://localhost:8080/"
        },
        "id": "EMQBmZeYuim1",
        "outputId": "6d2b0bea-ec04-4e19-9b67-31c05c6dde4f"
      },
      "execution_count": 26,
      "outputs": [
        {
          "output_type": "stream",
          "name": "stdout",
          "text": [
            "Splendid!\n"
          ]
        }
      ]
    },
    {
      "cell_type": "code",
      "source": [
        "# 3. 입력값 있고, 반환값은 없을 때\n",
        "def echo(anything):    # anything은 매개변수\n",
        "  print('{0} {0}'.format(anything))\n",
        "\n",
        "echo('hello')   # 'hello'는 인수"
      ],
      "metadata": {
        "colab": {
          "base_uri": "https://localhost:8080/"
        },
        "id": "l_plMB47usc-",
        "outputId": "2b658107-3241-4631-f731-0ffe32f0e168"
      },
      "execution_count": 27,
      "outputs": [
        {
          "output_type": "stream",
          "name": "stdout",
          "text": [
            "hello hello\n"
          ]
        }
      ]
    },
    {
      "cell_type": "code",
      "source": [
        "# 4. 입력값 있고, 반환값도 있을 때\n",
        "def echo(anything):\n",
        "  return '{0} {0}'.format(anything)\n",
        "\n",
        "echo = echo('hello')\n",
        "echo"
      ],
      "metadata": {
        "colab": {
          "base_uri": "https://localhost:8080/",
          "height": 36
        },
        "id": "Nw5s1pkMvB0X",
        "outputId": "d98e44e3-f4bf-43bf-9c04-3fd84f6e3dd9"
      },
      "execution_count": 28,
      "outputs": [
        {
          "output_type": "execute_result",
          "data": {
            "text/plain": [
              "'hello hello'"
            ],
            "application/vnd.google.colaboratory.intrinsic+json": {
              "type": "string"
            }
          },
          "metadata": {},
          "execution_count": 28
        }
      ]
    },
    {
      "cell_type": "code",
      "source": [
        "# antything    -> 매개변수이기 때문에 def함수를 벗어나면 쓸 수 없음."
      ],
      "metadata": {
        "id": "hcGgmd1ZgWoy"
      },
      "execution_count": 29,
      "outputs": []
    },
    {
      "cell_type": "markdown",
      "source": [
        "### 3) 인수와 매개변수\n",
        "- 의외로 많이 헷갈리는 게 매개변수와 인수\n",
        "  - 매개변수: 정의할 때 쓰임. 인터페이스 내에서만 유효함\n",
        "  - 인수: 호출할 때 쓰임\n",
        "- 함수 호출 시 인수에 할당된 값이 매개변수에 복제됨\n",
        "  - line = 'hello'\n",
        "  - anything = line  \n",
        "     ** copy됨 ->즉, 'hello' 자체가 anything에 할당되는 것이 아니라, line이 부여되는 것)\n",
        "  - anything 쓰이고 사라짐\n",
        "\n",
        "### 4) 인수의 종류\n",
        "- 위치 인수:\n",
        "    - positional argument\n",
        "    - 값을 순서대로 상응하는 매개변수에 복사하는 것4\n",
        "- 키워드 인수:\n",
        "    - keyword argument\n",
        "    - 매개변수에 상응하는 이름을 인수에 저장한다.\n",
        "    - 위치가 달라도 됨\n",
        "- 디폴트 인수\n",
        "    - default argument\n",
        "    - 정의할 때 매개변수의 기본값 설정\n",
        "    - 호출 시 인수가 없으면 기본값으로 적용됨\n",
        "    - 순서 중요: default 값은 non-default값 뒤에 와야 함\n",
        "\n",
        "- ** positional(위치 인수)와 keyword(키워드 인수) 혼용 시 순서 중요, 주의 바람"
      ],
      "metadata": {
        "id": "CKX1nhVNvior"
      }
    },
    {
      "cell_type": "code",
      "source": [
        "def commentary(color):\n",
        "  # pass ->  나중에 함수 설정하고 싶을 때\n",
        "  # print(color, '1')\n",
        "  if color == 'g':\n",
        "    return 'green'\n",
        "  else:\n",
        "    return 'black'\n",
        "\n",
        "color = 'white'    \n",
        "commentary(color)   # commentary에 color를 넣으면 white가 아니라 black이 출력됨 "
      ],
      "metadata": {
        "colab": {
          "base_uri": "https://localhost:8080/",
          "height": 36
        },
        "id": "68WSFjcOwSha",
        "outputId": "f3e81b2f-40c0-4f3e-be3a-6500d94967f9"
      },
      "execution_count": 30,
      "outputs": [
        {
          "output_type": "execute_result",
          "data": {
            "text/plain": [
              "'black'"
            ],
            "application/vnd.google.colaboratory.intrinsic+json": {
              "type": "string"
            }
          },
          "metadata": {},
          "execution_count": 30
        }
      ]
    },
    {
      "cell_type": "code",
      "source": [
        "colors = ['g', 'r', 'b']\n",
        "for c in colors:\n",
        "  print(commentary(c))\n",
        "\n",
        "# 함수는 단순하게 쓰일 수도 있지만, 리스트를 for문을 통해 순회하는 데에 쓰일 수도 있음."
      ],
      "metadata": {
        "colab": {
          "base_uri": "https://localhost:8080/"
        },
        "id": "Kgws4_o7wTx-",
        "outputId": "32c5ef22-ad0a-4372-905f-296834ca7267"
      },
      "execution_count": 31,
      "outputs": [
        {
          "output_type": "stream",
          "name": "stdout",
          "text": [
            "green\n",
            "black\n",
            "black\n"
          ]
        }
      ]
    },
    {
      "cell_type": "code",
      "source": [
        "# 1. 위치인수(positional argument)\n",
        "def menu(wine, entree, dessert):\n",
        "  return {'wine': wine, 'entree': entree, 'dessert': dessert}\n",
        "\n",
        "menu('rioja', 'cake', 'egg')"
      ],
      "metadata": {
        "colab": {
          "base_uri": "https://localhost:8080/"
        },
        "id": "yCBDk3MKxp3v",
        "outputId": "17c5b160-a4d6-4525-8659-2dc5dc5d22e9"
      },
      "execution_count": 32,
      "outputs": [
        {
          "output_type": "execute_result",
          "data": {
            "text/plain": [
              "{'dessert': 'egg', 'entree': 'cake', 'wine': 'rioja'}"
            ]
          },
          "metadata": {},
          "execution_count": 32
        }
      ]
    },
    {
      "cell_type": "code",
      "source": [
        "# 2. 키워드 인수(keyword argument)\n",
        "menu(entree = 'egg', wine = 'rioja', dessert = 'pancake')"
      ],
      "metadata": {
        "colab": {
          "base_uri": "https://localhost:8080/"
        },
        "id": "BK3gmfjoyExe",
        "outputId": "a952a6a8-b02d-49ec-9a98-6a6109cc27f6"
      },
      "execution_count": 33,
      "outputs": [
        {
          "output_type": "execute_result",
          "data": {
            "text/plain": [
              "{'dessert': 'pancake', 'entree': 'egg', 'wine': 'rioja'}"
            ]
          },
          "metadata": {},
          "execution_count": 33
        }
      ]
    },
    {
      "cell_type": "code",
      "source": [
        "# menu(entree = 'egg', 'rioja', 'pancake')\n",
        "# error -> entree를 두 번째 자리에서 첫 번째 자리로 가져옴. \n",
        "# -> 논리적으로 다른 값들의 위치를 정확히 알 수 없음.\n",
        "# positional(위치 인수)와 keyword(키워드 인수) 혼용 시 순서 중요, 주의 바람\n",
        "# menu('rioja', 'pancake', entree = 'egg') -> error\n",
        "# menu('egg', 'rioja', 'wine = 'pancake') -> error\n",
        "# menu(wine = 'egg', 'rioja', 'pancake') -> error\n",
        "# menu('egg', entree = 'rioja', 'pancake') -> error\n",
        "\n",
        "menu('egg', 'rioja', dessert = 'pancake')"
      ],
      "metadata": {
        "colab": {
          "base_uri": "https://localhost:8080/"
        },
        "id": "N5iFCEryy-Iy",
        "outputId": "4f7c5ad4-2881-48da-8a15-4b5a3134ca73"
      },
      "execution_count": 14,
      "outputs": [
        {
          "output_type": "execute_result",
          "data": {
            "text/plain": [
              "{'dessert': 'pancake', 'entree': 'rioja', 'wine': 'egg'}"
            ]
          },
          "metadata": {},
          "execution_count": 14
        }
      ]
    },
    {
      "cell_type": "code",
      "source": [
        "# 3. 디폴트 인수(default argument)\n",
        "def menu2(wine, entree, dessert = 'scone'):  \n",
        "  # 정의할 때 값 정해주는 것 -> dessert값은 default값으로 'scone'이 들어가게 됨\n",
        "  return {'wine': wine, 'entree': entree, 'dessert': dessert}\n",
        "\n",
        "menu('rioja', 'cake', 'egg')"
      ],
      "metadata": {
        "colab": {
          "base_uri": "https://localhost:8080/"
        },
        "id": "S6cPQnjVyXel",
        "outputId": "aea5ebf9-19d8-4b13-a4df-3d2519cfe108"
      },
      "execution_count": 34,
      "outputs": [
        {
          "output_type": "execute_result",
          "data": {
            "text/plain": [
              "{'dessert': 'egg', 'entree': 'cake', 'wine': 'rioja'}"
            ]
          },
          "metadata": {},
          "execution_count": 34
        }
      ]
    },
    {
      "cell_type": "code",
      "source": [
        "menu2('merlot', 'egg')  # 디폴트 인수 사용하면 값을 2개만 지정해도 됨"
      ],
      "metadata": {
        "colab": {
          "base_uri": "https://localhost:8080/"
        },
        "id": "jxPoEYrMyzsd",
        "outputId": "f432499d-e0c6-4620-bed7-7b42f41e09e4"
      },
      "execution_count": 35,
      "outputs": [
        {
          "output_type": "execute_result",
          "data": {
            "text/plain": [
              "{'dessert': 'scone', 'entree': 'egg', 'wine': 'merlot'}"
            ]
          },
          "metadata": {},
          "execution_count": 35
        }
      ]
    },
    {
      "cell_type": "markdown",
      "source": [
        "#### Quiz1.\n",
        "- 나이 -> 연도\n",
        "def f(x):\n",
        "   입력값 = 나이\n",
        "   반환값 = 출생연도\n",
        "- input 입력 받아서 함수 사용해서 출력하기"
      ],
      "metadata": {
        "id": "9OqxbpakztF4"
      }
    },
    {
      "cell_type": "code",
      "source": [
        "# 1. \n",
        "def born_year(age):    # 변수이름 bad\n",
        "  return 2022 - age + 1\n",
        "\n",
        "born_year(int(input()))"
      ],
      "metadata": {
        "colab": {
          "base_uri": "https://localhost:8080/"
        },
        "id": "hIvGpZYfz8aB",
        "outputId": "5ca80740-721b-42c5-922e-7ae15d3efd23"
      },
      "execution_count": 36,
      "outputs": [
        {
          "name": "stdout",
          "output_type": "stream",
          "text": [
            "21\n"
          ]
        },
        {
          "output_type": "execute_result",
          "data": {
            "text/plain": [
              "2002"
            ]
          },
          "metadata": {},
          "execution_count": 36
        }
      ]
    },
    {
      "cell_type": "code",
      "source": [
        "# 함수이름 - 동사위주의 이름(동사 + 명사)!!\n",
        "# def year_find(age):  # find_year\n",
        "# def year_calc(age):  # calc_y\n",
        "# def birth_year(age):   # 명사 + 명사 (x)\n",
        "# def ageCal():      # 카멜 말고 언더바\n",
        "# def calc_birth_year():    # best(calc는 많이쓰는 줄임말)"
      ],
      "metadata": {
        "id": "ZP_Y4yq605tQ"
      },
      "execution_count": 37,
      "outputs": []
    },
    {
      "cell_type": "code",
      "source": [
        "# 1번 정답\n",
        "def calc_birth_year(years_old):\n",
        "  this_year = 2022    # 변수로 올해 연도 가져오는 게 best\n",
        "  return (this_year - years_old + 1)\n",
        "  \n",
        "age = int(input())   # 호출할 때 age 가져오고, 변수로 받을 것\n",
        "calc_birth_year(age)"
      ],
      "metadata": {
        "colab": {
          "base_uri": "https://localhost:8080/"
        },
        "id": "J2LB06uY1Y-G",
        "outputId": "81a3ad0b-2487-400e-d9bb-2bb50e0004aa"
      },
      "execution_count": 38,
      "outputs": [
        {
          "name": "stdout",
          "output_type": "stream",
          "text": [
            "21\n"
          ]
        },
        {
          "output_type": "execute_result",
          "data": {
            "text/plain": [
              "2002"
            ]
          },
          "metadata": {},
          "execution_count": 38
        }
      ]
    },
    {
      "cell_type": "markdown",
      "source": [
        "#### Quiz2.\n",
        "- 사각형 너비 구하기\n",
        "    - 입력: 두 변 길이\n",
        "    - 반환: string = 'xx cm'\n",
        "\n",
        "def ####:"
      ],
      "metadata": {
        "id": "IvL2V3wp1rOk"
      }
    },
    {
      "cell_type": "code",
      "source": [
        "def calc_square_area(width, height):\n",
        "  area = width * height\n",
        "  return f'{area} cm^2'\n",
        "\n",
        "width = float(input(\"가로 길이 입력: \"))\n",
        "height = float(input(\"세로 길이 입력: \"))\n",
        "calc_square_area(width, height)"
      ],
      "metadata": {
        "colab": {
          "base_uri": "https://localhost:8080/",
          "height": 73
        },
        "id": "EcsYAn_F10nc",
        "outputId": "fb22e8bf-c771-4ee4-8cc1-2dcd5da2438f"
      },
      "execution_count": 39,
      "outputs": [
        {
          "name": "stdout",
          "output_type": "stream",
          "text": [
            "가로 길이 입력: 12\n",
            "세로 길이 입력: 13\n"
          ]
        },
        {
          "output_type": "execute_result",
          "data": {
            "text/plain": [
              "'156.0 cm^2'"
            ],
            "application/vnd.google.colaboratory.intrinsic+json": {
              "type": "string"
            }
          },
          "metadata": {},
          "execution_count": 39
        }
      ]
    },
    {
      "cell_type": "markdown",
      "source": [
        "- 5. 호출 방식:\n",
        "    - 정의된 부분이 메모리에 업로드되지만 실행은 안 된다.\n",
        "    - 실행은 호출 시\n",
        "    - 값을 넘기는 방식: 참조에 의한 호출(call by reference)  메모리 주소\n",
        "    - 메모리 주소가 복사되기 때문에 가변 객체가 매개변수로 들어갈 때 주의할 것\n",
        "     "
      ],
      "metadata": {
        "id": "7-G8Ly2I6NUi"
      }
    },
    {
      "cell_type": "code",
      "source": [
        "# 순서 보기\n",
        "def calc_area(length, width):   # default\n",
        "  print('1')\n",
        "  return length * width\n",
        "\n",
        "print('2')\n",
        "garo = 2\n",
        "sero = 43\n",
        "print('3')\n",
        "calc_area(garo, sero)  # call\n",
        "print('4')"
      ],
      "metadata": {
        "colab": {
          "base_uri": "https://localhost:8080/"
        },
        "id": "4N4sRrN25tnn",
        "outputId": "ce122d57-c148-49a4-aeaf-3b333c9fadf1"
      },
      "execution_count": 40,
      "outputs": [
        {
          "output_type": "stream",
          "name": "stdout",
          "text": [
            "2\n",
            "3\n",
            "1\n",
            "4\n"
          ]
        }
      ]
    },
    {
      "cell_type": "code",
      "source": [
        "def buggy(arg, result = []):\n",
        "  result = []   # 비운 뒤\n",
        "  result.append(arg)\n",
        "  print(result)\n",
        "\n",
        "buggy('a')  # [a]\n",
        "buggy('b')  # [b]"
      ],
      "metadata": {
        "colab": {
          "base_uri": "https://localhost:8080/"
        },
        "id": "QFMy8mQ87tKd",
        "outputId": "d0f0f52f-4364-47e2-f7bf-5b7adf2036c2"
      },
      "execution_count": 41,
      "outputs": [
        {
          "output_type": "stream",
          "name": "stdout",
          "text": [
            "['a']\n",
            "['b']\n"
          ]
        }
      ]
    },
    {
      "cell_type": "code",
      "source": [
        "# 메모리 주소\n",
        "    # length = garo  # list copy\n",
        "\n",
        "def spam(eggs):\n",
        "  eggs.append(1)\n",
        "  eggs = [2, 3]\n",
        "  print(eggs, 'eggs')\n",
        "\n",
        "ham = [0]\n",
        "spam(ham)\n",
        "print(ham, 'ham')"
      ],
      "metadata": {
        "colab": {
          "base_uri": "https://localhost:8080/"
        },
        "id": "O4j1V2dt7Eph",
        "outputId": "309be982-11ac-4b14-8830-85b6b8e17227"
      },
      "execution_count": 42,
      "outputs": [
        {
          "output_type": "stream",
          "name": "stdout",
          "text": [
            "[2, 3] eggs\n",
            "[0, 1] ham\n"
          ]
        }
      ]
    },
    {
      "cell_type": "code",
      "source": [
        "# None - True, False 랑 다름. 비어있는 객체 타입\n",
        "# True로 만들고 싶다 -> is None\n",
        "thing = None\n",
        "if thing:\n",
        "  print('a')   # True\n",
        "else:\n",
        "  print('b')   # False"
      ],
      "metadata": {
        "colab": {
          "base_uri": "https://localhost:8080/"
        },
        "id": "KTL3LVke7U66",
        "outputId": "aa4bdc10-43e2-4ece-ed0b-874efce12599"
      },
      "execution_count": 43,
      "outputs": [
        {
          "output_type": "stream",
          "name": "stdout",
          "text": [
            "b\n"
          ]
        }
      ]
    },
    {
      "cell_type": "code",
      "source": [
        "if thing is None:\n",
        "  print('a') \n",
        "elif thing:\n",
        "  print('b')   # True\n",
        "else:\n",
        "  print('c')   # False"
      ],
      "metadata": {
        "colab": {
          "base_uri": "https://localhost:8080/"
        },
        "id": "Gx4aaF3r8on4",
        "outputId": "419c1aa9-d26c-4166-bdf4-402326b5f1b5"
      },
      "execution_count": 44,
      "outputs": [
        {
          "output_type": "stream",
          "name": "stdout",
          "text": [
            "a\n"
          ]
        }
      ]
    },
    {
      "cell_type": "code",
      "source": [
        "def nonbuggy(arg, result = None):\n",
        "  # 목표: 리스트 쌓이거나 비우는 옵션 모두 설정하도록 None 사용해서 함수 재정의하기\n",
        "  # result is None, 빈 리스트\n",
        "  # 아니면 코드 그대로\n",
        "  if result is None:\n",
        "    result = []\n",
        "  result.append(arg)\n",
        "  print(result)\n",
        "\n",
        "list_a = []  \n",
        "nonbuggy('a', list_a)\n",
        "nonbuggy('b', list_a)"
      ],
      "metadata": {
        "colab": {
          "base_uri": "https://localhost:8080/"
        },
        "id": "-eBr2aW68yuL",
        "outputId": "d8f3573d-cb53-47fb-c2c2-3c0142b287bc"
      },
      "execution_count": 45,
      "outputs": [
        {
          "output_type": "stream",
          "name": "stdout",
          "text": [
            "['a']\n",
            "['a', 'b']\n"
          ]
        }
      ]
    },
    {
      "cell_type": "markdown",
      "source": [
        "- 6. 전역변수 vs 지역변수\n",
        "   - 지역변수: 함수 내에서만 사용가능, 개념적으로 다른 카테고리에 있음. (매개변수)\n",
        "   - 전역변수: 프로그램 전체에서 사용 가능  -> global 키워드 사용"
      ],
      "metadata": {
        "id": "vvHl_k9N-04V"
      }
    },
    {
      "cell_type": "code",
      "source": [
        "def fx():    \n",
        "  # 독스트링\n",
        "  '''\n",
        "  docs string : 함수에 대한 설명 \n",
        "  매개변수에 대한 설명, 타입, 함수의 의도\n",
        "  '''\n",
        "  global city  # -> city는 몇 개\n",
        "  city = 'london'\n",
        "  print(city)\n",
        "\n",
        "city = 'paris'\n",
        "fx()    # 함수 여기서 선언  # city = london? -> global 쓴 다음에 \n",
        "print(city)"
      ],
      "metadata": {
        "colab": {
          "base_uri": "https://localhost:8080/"
        },
        "id": "e8bjgZ37_I7x",
        "outputId": "4ac7ce1e-32c0-4ec5-f9f5-5da041d2ed35"
      },
      "execution_count": 84,
      "outputs": [
        {
          "output_type": "stream",
          "name": "stdout",
          "text": [
            "london\n",
            "london\n"
          ]
        }
      ]
    },
    {
      "cell_type": "code",
      "source": [
        "city"
      ],
      "metadata": {
        "colab": {
          "base_uri": "https://localhost:8080/",
          "height": 36
        },
        "id": "TahT439C_zRN",
        "outputId": "bf77799b-00a4-46f7-9db6-b167e8939977"
      },
      "execution_count": 47,
      "outputs": [
        {
          "output_type": "execute_result",
          "data": {
            "text/plain": [
              "'london'"
            ],
            "application/vnd.google.colaboratory.intrinsic+json": {
              "type": "string"
            }
          },
          "metadata": {},
          "execution_count": 47
        }
      ]
    },
    {
      "cell_type": "code",
      "source": [
        "help(fx)"
      ],
      "metadata": {
        "colab": {
          "base_uri": "https://localhost:8080/"
        },
        "id": "dDnZ0tHw_zI4",
        "outputId": "4407b62b-2f15-49c3-c4a7-f39e75a488bd"
      },
      "execution_count": 48,
      "outputs": [
        {
          "output_type": "stream",
          "name": "stdout",
          "text": [
            "Help on function fx in module __main__:\n",
            "\n",
            "fx()\n",
            "    docs string : 함수에 대한 설명 \n",
            "    매개변수에 대한 설명, 타입, 함수의 의도\n",
            "\n"
          ]
        }
      ]
    },
    {
      "cell_type": "code",
      "source": [
        "fx.__doc__"
      ],
      "metadata": {
        "colab": {
          "base_uri": "https://localhost:8080/",
          "height": 36
        },
        "id": "Bua5Dc1aABef",
        "outputId": "ccd2efc6-943c-41a9-d894-7850fcc6c76a"
      },
      "execution_count": 49,
      "outputs": [
        {
          "output_type": "execute_result",
          "data": {
            "text/plain": [
              "'\\n  docs string : 함수에 대한 설명 \\n  매개변수에 대한 설명, 타입, 함수의 의도\\n  '"
            ],
            "application/vnd.google.colaboratory.intrinsic+json": {
              "type": "string"
            }
          },
          "metadata": {},
          "execution_count": 49
        }
      ]
    },
    {
      "cell_type": "markdown",
      "source": [
        "##### 질문\n",
        "- city = 'paris'가 global 선언 시 영향 못 주나요?\n",
        "   -> 다시 city = 'paris' 선언하면 영향을 줌. 하지만 선언하지 않으면 'london'으로 출력됨"
      ],
      "metadata": {
        "id": "ExjNdq6EAJVs"
      }
    },
    {
      "cell_type": "markdown",
      "source": [
        "### brown 코퍼스 정제하기\n",
        "#### 숙제_교수님과 살펴보기\n",
        "- 브라운코퍼스에서 romance 장르 raw 앞에서 5000개 선택\n",
        "   - 문장 분철 있는 토큰 리스트로 만들기\n",
        "   - 리스트컴프리핸션, for문 사용해서 불필요한 것을 제거하기\n",
        "   - 문장부호도 모두 제거\n",
        "\n",
        "   `\\n\\n\\tThey/ppss neither/cc liked/vbd`\n",
        "   [\n",
        "   ['They', 'neither','liked'],\n",
        "   [],\n",
        "   [],\n",
        "   []\n",
        "   ]"
      ],
      "metadata": {
        "id": "5HjaxtUSAdU8"
      }
    },
    {
      "cell_type": "code",
      "source": [
        "import nltk\n",
        "nltk.download('brown')\n",
        "\n",
        "# 1. 데이터셋 가져오기\n",
        "brown = nltk.corpus.brown\n",
        "tromance = brown.raw(categories = 'romance')[:5000]"
      ],
      "metadata": {
        "colab": {
          "base_uri": "https://localhost:8080/"
        },
        "id": "8tH1ylyFAmhe",
        "outputId": "65ffb291-b94c-442c-8342-b5a39cc5eaa5"
      },
      "execution_count": 50,
      "outputs": [
        {
          "output_type": "stream",
          "name": "stdout",
          "text": [
            "[nltk_data] Downloading package brown to /root/nltk_data...\n",
            "[nltk_data]   Unzipping corpora/brown.zip.\n"
          ]
        }
      ]
    },
    {
      "cell_type": "code",
      "source": [
        "tromance  \n",
        "## 문장 분절 기준\n",
        "# .\n",
        "# ./. -> 문장 기준\n",
        "# \\n\\n\\n\\t -> 문단 기준\n",
        "# ?, !끝나는 문장은 이 문제에서 제외함"
      ],
      "metadata": {
        "colab": {
          "base_uri": "https://localhost:8080/",
          "height": 111
        },
        "id": "R_JL_xNYBGDb",
        "outputId": "2f67fa2b-9928-4eed-9ccd-e8674164c683"
      },
      "execution_count": 51,
      "outputs": [
        {
          "output_type": "execute_result",
          "data": {
            "text/plain": [
              "\"\\n\\n\\tThey/ppss neither/cc liked/vbd nor/cc disliked/vbd the/at Old/jj-tl Man/nn-tl ./.\\nTo/in them/ppo he/pps could/md have/hv been/ben the/at broken/vbn bell/nn in/in the/at church/nn tower/nn which/wdt rang/vbd before/in and/cc after/in Mass/nn-tl ,/, and/cc at/in noon/nn ,/, and/cc at/in six/cd each/dt evening/nn --/-- its/pp$ tone/nn ,/, repetitive/jj ,/, monotonous/jj ,/, never/rb breaking/vbg the/at boredom/nn of/in the/at streets/nns ./.\\nThe/at Old/jj-tl Man/nn-tl was/bedz unimportant/jj ./.\\n\\n\\n\\tYet/rb if/cs he/pps were/bed not/* there/rb ,/, they/ppss would/md have/hv missed/vbn him/ppo ,/, as/cs they/ppss would/md have/hv missed/vbn the/at sounds/nns of/in bees/nns buzzing/vbg against/in the/at screen/nn door/nn in/in early/jj June/np ;/. ;/.\\nor/cc the/at smell/nn of/in thick/jj tomato/nn paste/nn --/-- the/at ripe/jj smell/nn that/wps was/bedz both/abx sweet/jj and/cc sour/jj --/-- rising/vbg up/rp from/in aluminum/nn trays/nns wrapped/vbn in/in fly-dotted/jj cheesecloth/nn ./.\\nOr/cc the/at surging/vbg whirling/vbg sounds/nns of/in bats/nns at/in night/nn ,/, when/wrb their/pp$ black/jj bodies/nns dived/vbd into/in the/at blackness/nn above/in and/cc below/in the/at amber/jj street/nn lights/nns ./.\\nOr/cc the/at bay/nn of/in female/nn dogs/nns in/in heat/nn ./.\\n\\n\\n\\tThey/ppss never/rb called/vbd him/ppo by/in name/nn ,/, although/cs he/pps had/hvd one/pn ./.\\nFilippo/np Rossi/np ,/, that's/dt+bez what/wdt he/pps was/bedz called/vbn in/in the/at old/jj country/nn ;/. ;/.\\nbut/cc here/rb he/pps was/bedz just/rb Signore/np or/cc the/at Old/jj-tl Man/nn-tl ./.\\nBut/cc this/dt was/bedz not/* unusual/jj ,/, because/cs youth/nn in/in these/dts quarters/nns was/bedz always/rb pushed/vbn at/in a/at distance/nn from/in its/pp$ elders/nns ./.\\nYouth/nn obeyed/vbd when/wrb commanded/vbn ./.\\nIt/pps went/vbd to/in church/nn on/in Sunday/nr and/cc one/cd Saturday/nr a/at month/nn went/vbd to/in confession/nn ./.\\nBut/cc youth/nn asked/vbd nothing/pn of/in its/pp$ parents/nns --/-- not/* a/at touch/nn of/in the/at hand/nn or/cc a/at kiss/nn given/vbn in/in passing/vbg ./.\\n\\n\\n\\tThe/at only/ap thing/nn unusual/jj about/in the/at Old/jj-tl Man/nn-tl had/hvd long/jj since/rb happened/vbn ./.\\nBut/cc the/at past/nn was/bedz dead/jj here/rb as/cs the/at present/jj was/bedz dead/jj ./.\\nOnce/cs the/at Old/jj-tl Man/nn-tl had/hvd had/hvn a/at wife/nn ./.\\nAnd/cc once/cs she/pps ,/, too/rb ,/, ignored/vbd him/ppo ./.\\nWith/in a/at tiny/jj fur-piece/nn wrapped/vbd around/in her/pp$ shoulders/nns ,/, she/pps wiggled/vbd her/pp$ satin-covered/jj buttocks/nns down/in the/at street/nn before/in him/ppo and/cc didn't/dod* stop/vb ./.\\nIn/in one/cd hand/nn she/pps clutched/vbd a/at hundred/cd dollar/nn bill/nn and/cc in/in the/at other/ap a/at straw/nn suitcase/nn ./.\\nThe/at way/nn she/pps strutted/vbd down/in the/at street/nn ,/, the/at Old/jj-tl Man/nn-tl would/md have/hv been/ben blind/jj not/* to/to have/hv noticed/vbn both/abx ./.\\nWithout/in looking/vbg at/in him/ppo ,/, without/in looking/vbg at/in anything/pn except/in Drexel/np-tl Street/nn-tl directly/rb in/in front/nn of/in her/ppo ,/, she/pps climbed/vbd up/rp into/in one/cd of/in those/dts orange/jj streetcars/nns ,/, rode/vbd away/rb in/in it/ppo ,/, and/cc never/rb came/vbd back/rb ./.\\n\\n\\n\\t``/`` But/cc she/pps shouldn't/md* have/hv come/vbn here/rb in/in the/at first/od place/nn ''/'' ,/, the/at women/nns had/hvd said/vbn ./.\\n\\n\\n\\t``/`` No/rb ,/, no/rb ./.\\nNot/* that/dt one/pn ./.\\nShe/pps thought/vbd she/pps was/bedz bigger/jjr than/cs we/ppss are/ber because/cs she/pps came/vbd from/in Torino/np ''/'' ./.\\n\\n\\n\\t``/`` Eh/uh ,/, Torino/np !/. !/.\\nShe/pps gave/vbd herself/ppl fancy/jj airs/nns !/. !/.\\nJust/rb because/cs she/pps had/hvd a/at part/nn on/in the/at stage/nn in/in the/at old/jj country/nn ,/, she/pps thought/vbd she/pps could/md carry/vb her/pp$ head/nn higher/rbr than/cs ours/pp$$ ''/'' ./.\\nThey/ppss had/hvd slapped/vbn their/pp$ thighs/nns ./.\\n\\n\\n\\t``/`` It's/pps+bez not/* for/in making/vbg pretty/jj speeches/nns about/in Dante/np those/dts actresses/nns get/vb paid/vbn so/ql good/rb ''/'' ./.\\n\\n\\n\\t``/`` Henh/uh ''/'' !/. !/.\\nCalloused/vbn fingers/nns ,/, caressed/vbn only/rb by/in the/at smoothness/nn of/in polished/vbn rosaries/nns ,/, had/hvd swayed/vbn excitedly/rb beneath/in puckered/vbn chins/nns where/wrb tiny/jj black/jj hairs/nns sprouted/vbd ,/, never/rb to/to be/be tweezed/vbn away/rb ./.\\nMauve-colored/jj mouths/nns that/wps had/hvd never/rb known/vbn anything/pn sweeter/jjr than/cs the/at taste/nn of/in new/jj wine/nn and/cc the/at passion/nn of/in man's/nn$ tongue/nn had/hvd not/* smiled/vbn ,/, but/cc had/hvd condemned/vbn again/rb and/cc again/rb ./.\\n``/`` Puttana/fw-nn ''/'' !/. !/.\\n\\n\\n\\tBut/cc if/cs the/at Old/jj-tl Man/nn-tl even/rb thought/vbd about/in his/pp$ wife/nn now/rb ,/, nobody/pn cared/vbd a/at fig/nn ./.\\nIt/pps was/bedz enough/ap for/in people/nns to/to know/vb that/cs at/in one/cd time/nn he/pps had/hvd looked/vbn down/in the/at street/nn at/in the/at f\""
            ],
            "application/vnd.google.colaboratory.intrinsic+json": {
              "type": "string"
            }
          },
          "metadata": {},
          "execution_count": 51
        }
      ]
    },
    {
      "cell_type": "code",
      "source": [
        "# My code\n",
        "punctuation = [\"'\",',','/','?','$',';',':','-','_','*','%','&','`','\\n','\\t']\n",
        "to_wordlist = [word.strip(' ').split('/') for word in tromance.split()]  # 공백 기준으로 자르기\n",
        "remove_pos = ' '.join([word[0] for word in to_wordlist]).replace('! !','.').replace('-',' ').replace('\\'s',' is').replace('n\\'t',' not')\n",
        "remove_punc = ''.join([punc for punc in remove_pos if punc not in punctuation]).replace('  ',' ').replace(' . ','.').replace(' .','.')\n",
        "sent = [sent.replace('  ',' ').split(' ') for sent in remove_punc.split('.')]\n",
        "sent[:2]"
      ],
      "metadata": {
        "colab": {
          "base_uri": "https://localhost:8080/"
        },
        "id": "J0oOQEtKTt0m",
        "outputId": "1351a869-c70e-4e5e-cffc-641fe0c6fe75"
      },
      "execution_count": 80,
      "outputs": [
        {
          "output_type": "execute_result",
          "data": {
            "text/plain": [
              "[['They', 'neither', 'liked', 'nor', 'disliked', 'the', 'Old', 'Man'],\n",
              " ['To',\n",
              "  'them',\n",
              "  'he',\n",
              "  'could',\n",
              "  'have',\n",
              "  'been',\n",
              "  'the',\n",
              "  'broken',\n",
              "  'bell',\n",
              "  'in',\n",
              "  'the',\n",
              "  'church',\n",
              "  'tower',\n",
              "  'which',\n",
              "  'rang',\n",
              "  'before',\n",
              "  'and',\n",
              "  'after',\n",
              "  'Mass',\n",
              "  'and',\n",
              "  'at',\n",
              "  'noon',\n",
              "  'and',\n",
              "  'at',\n",
              "  'six',\n",
              "  'each',\n",
              "  'evening',\n",
              "  'its',\n",
              "  'tone',\n",
              "  'repetitive',\n",
              "  'monotonous',\n",
              "  'never',\n",
              "  'breaking',\n",
              "  'the',\n",
              "  'boredom',\n",
              "  'of',\n",
              "  'the',\n",
              "  'streets']]"
            ]
          },
          "metadata": {},
          "execution_count": 80
        }
      ]
    },
    {
      "cell_type": "code",
      "source": [
        "# with professor\n",
        "sentence = [sentence.strip() for sentence in tromance.split('./.')]   # best option -> ./."
      ],
      "metadata": {
        "id": "DJr9PRsYBZSZ"
      },
      "execution_count": 53,
      "outputs": []
    },
    {
      "cell_type": "code",
      "source": [
        "sentence[0]"
      ],
      "metadata": {
        "colab": {
          "base_uri": "https://localhost:8080/",
          "height": 36
        },
        "id": "8ROXC6hiDEP8",
        "outputId": "f38c1bef-3d8f-4e73-db69-5d1db01c3853"
      },
      "execution_count": 54,
      "outputs": [
        {
          "output_type": "execute_result",
          "data": {
            "text/plain": [
              "'They/ppss neither/cc liked/vbd nor/cc disliked/vbd the/at Old/jj-tl Man/nn-tl'"
            ],
            "application/vnd.google.colaboratory.intrinsic+json": {
              "type": "string"
            }
          },
          "metadata": {},
          "execution_count": 54
        }
      ]
    },
    {
      "cell_type": "code",
      "source": [
        "# 단어 분절\n",
        "# 1. \n",
        "example = sentence[0]\n",
        "[word.split('/')[0] for word in example.split(' ')]  "
      ],
      "metadata": {
        "colab": {
          "base_uri": "https://localhost:8080/"
        },
        "id": "SgQHAuXbDJ1o",
        "outputId": "b1ada1ba-2ce4-48e8-e566-0da0e9cbc899"
      },
      "execution_count": 55,
      "outputs": [
        {
          "output_type": "execute_result",
          "data": {
            "text/plain": [
              "['They', 'neither', 'liked', 'nor', 'disliked', 'the', 'Old', 'Man']"
            ]
          },
          "metadata": {},
          "execution_count": 55
        }
      ]
    },
    {
      "cell_type": "code",
      "source": [
        "# 2.\n",
        "[word[:word.find('/')] for word in example.split(' ') if word.find('/')]  "
      ],
      "metadata": {
        "colab": {
          "base_uri": "https://localhost:8080/"
        },
        "id": "Ta1ymX20DxmB",
        "outputId": "04f90c1b-a468-450f-d091-465e1260ca4a"
      },
      "execution_count": 56,
      "outputs": [
        {
          "output_type": "execute_result",
          "data": {
            "text/plain": [
              "['They', 'neither', 'liked', 'nor', 'disliked', 'the', 'Old', 'Man']"
            ]
          },
          "metadata": {},
          "execution_count": 56
        }
      ]
    },
    {
      "cell_type": "code",
      "source": [
        "sentence_tokens = [[word.split('/')[0] for word in s.split(' ')] for s in sentence]\n",
        "sentence_tokens[:1]"
      ],
      "metadata": {
        "colab": {
          "base_uri": "https://localhost:8080/"
        },
        "id": "VEE_CkCgEMBc",
        "outputId": "4ac38e1e-2c36-4f3b-81cd-5805b29f07ba"
      },
      "execution_count": 79,
      "outputs": [
        {
          "output_type": "execute_result",
          "data": {
            "text/plain": [
              "[['They', 'neither', 'liked', 'nor', 'disliked', 'the', 'Old', 'Man']]"
            ]
          },
          "metadata": {},
          "execution_count": 79
        }
      ]
    },
    {
      "cell_type": "code",
      "source": [
        "# 문장부호 제외 -> 단어 분절 시 동시에 가능함\n",
        "import string\n",
        "punctuations = list(string.punctuation)\n",
        "punctuations[:5]"
      ],
      "metadata": {
        "id": "M6QScVugED27",
        "outputId": "2e327ea2-ed6c-4300-e397-10c64940abfa",
        "colab": {
          "base_uri": "https://localhost:8080/"
        }
      },
      "execution_count": 78,
      "outputs": [
        {
          "output_type": "execute_result",
          "data": {
            "text/plain": [
              "['!', '\"', '#', '$', '%']"
            ]
          },
          "metadata": {},
          "execution_count": 78
        }
      ]
    },
    {
      "cell_type": "code",
      "source": [
        "'%' in punctuations   # fur-passed"
      ],
      "metadata": {
        "colab": {
          "base_uri": "https://localhost:8080/"
        },
        "id": "ptGSW9F4GFvM",
        "outputId": "87a7c619-6c9d-4a9b-c243-29819f9b4e44"
      },
      "execution_count": 60,
      "outputs": [
        {
          "output_type": "execute_result",
          "data": {
            "text/plain": [
              "True"
            ]
          },
          "metadata": {},
          "execution_count": 60
        }
      ]
    },
    {
      "cell_type": "code",
      "source": [
        "# sentence_tokens에서 punctuation출력\n",
        "sentence_tokens = [[word.split('/')[0] for word in s.split(' ') \\\n",
        "                    if word.split('/')[0] not in punctuations] for s in sentence]\n",
        "sentence_tokens[:1]"
      ],
      "metadata": {
        "colab": {
          "base_uri": "https://localhost:8080/"
        },
        "id": "hJpGUWS9JTJg",
        "outputId": "f7e012f2-9b83-489e-bdd8-7dc682e54c27"
      },
      "execution_count": 76,
      "outputs": [
        {
          "output_type": "execute_result",
          "data": {
            "text/plain": [
              "[['They', 'neither', 'liked', 'nor', 'disliked', 'the', 'Old', 'Man']]"
            ]
          },
          "metadata": {},
          "execution_count": 76
        }
      ]
    },
    {
      "cell_type": "code",
      "source": [
        "# 1. 전체 텍스트에서 punctuations에 없는 punctuation 찾아서 리스트 추가하는 방법(v)\n",
        "# 2. 내가 손수 추가 : [\"'\", '--','``']"
      ],
      "metadata": {
        "id": "Dyq__dyJGZr0"
      },
      "execution_count": 62,
      "outputs": []
    },
    {
      "cell_type": "code",
      "source": [
        "# 문장 부호 먼저 찾고 -> punctuations 리스트 업데이트 -> 37라인에 적용하기 user_punc\n",
        "marks = []\n",
        "for sent in sentence_tokens:\n",
        "  for word in sent:\n",
        "    if not word.isdigit() and word.isalpha():\n",
        "      marks.append(word)\n",
        "set(marks)"
      ],
      "metadata": {
        "colab": {
          "base_uri": "https://localhost:8080/"
        },
        "id": "9-oxESBDGnfS",
        "outputId": "7a5977d0-2f32-4623-9ea9-d2d2fd9edf73"
      },
      "execution_count": 82,
      "outputs": [
        {
          "output_type": "execute_result",
          "data": {
            "text/plain": [
              "{'And',\n",
              " 'But',\n",
              " 'Dante',\n",
              " 'Drexel',\n",
              " 'Eh',\n",
              " 'Filippo',\n",
              " 'Henh',\n",
              " 'In',\n",
              " 'It',\n",
              " 'June',\n",
              " 'Man',\n",
              " 'Mass',\n",
              " 'No',\n",
              " 'Not',\n",
              " 'Old',\n",
              " 'Once',\n",
              " 'Or',\n",
              " 'Puttana',\n",
              " 'Rossi',\n",
              " 'Saturday',\n",
              " 'She',\n",
              " 'Signore',\n",
              " 'Street',\n",
              " 'Sunday',\n",
              " 'The',\n",
              " 'They',\n",
              " 'To',\n",
              " 'Torino',\n",
              " 'With',\n",
              " 'Without',\n",
              " 'Yet',\n",
              " 'Youth',\n",
              " 'a',\n",
              " 'about',\n",
              " 'above',\n",
              " 'actresses',\n",
              " 'after',\n",
              " 'again',\n",
              " 'against',\n",
              " 'airs',\n",
              " 'although',\n",
              " 'aluminum',\n",
              " 'always',\n",
              " 'amber',\n",
              " 'and',\n",
              " 'anything',\n",
              " 'are',\n",
              " 'around',\n",
              " 'as',\n",
              " 'asked',\n",
              " 'at',\n",
              " 'away',\n",
              " 'back',\n",
              " 'bats',\n",
              " 'bay',\n",
              " 'be',\n",
              " 'because',\n",
              " 'been',\n",
              " 'bees',\n",
              " 'before',\n",
              " 'bell',\n",
              " 'below',\n",
              " 'beneath',\n",
              " 'bigger',\n",
              " 'bill',\n",
              " 'black',\n",
              " 'blackness',\n",
              " 'blind',\n",
              " 'bodies',\n",
              " 'boredom',\n",
              " 'both',\n",
              " 'breaking',\n",
              " 'broken',\n",
              " 'but',\n",
              " 'buttocks',\n",
              " 'buzzing',\n",
              " 'by',\n",
              " 'called',\n",
              " 'came',\n",
              " 'cared',\n",
              " 'caressed',\n",
              " 'carry',\n",
              " 'cheesecloth',\n",
              " 'chins',\n",
              " 'church',\n",
              " 'climbed',\n",
              " 'clutched',\n",
              " 'come',\n",
              " 'commanded',\n",
              " 'condemned',\n",
              " 'confession',\n",
              " 'could',\n",
              " 'country',\n",
              " 'dead',\n",
              " 'directly',\n",
              " 'disliked',\n",
              " 'distance',\n",
              " 'dived',\n",
              " 'dogs',\n",
              " 'dollar',\n",
              " 'door',\n",
              " 'down',\n",
              " 'each',\n",
              " 'early',\n",
              " 'elders',\n",
              " 'enough',\n",
              " 'even',\n",
              " 'evening',\n",
              " 'except',\n",
              " 'excitedly',\n",
              " 'f',\n",
              " 'fancy',\n",
              " 'female',\n",
              " 'fig',\n",
              " 'fingers',\n",
              " 'first',\n",
              " 'for',\n",
              " 'from',\n",
              " 'front',\n",
              " 'gave',\n",
              " 'get',\n",
              " 'given',\n",
              " 'good',\n",
              " 'had',\n",
              " 'hairs',\n",
              " 'hand',\n",
              " 'happened',\n",
              " 'have',\n",
              " 'he',\n",
              " 'head',\n",
              " 'heat',\n",
              " 'her',\n",
              " 'here',\n",
              " 'herself',\n",
              " 'higher',\n",
              " 'him',\n",
              " 'his',\n",
              " 'hundred',\n",
              " 'if',\n",
              " 'ignored',\n",
              " 'in',\n",
              " 'into',\n",
              " 'it',\n",
              " 'its',\n",
              " 'just',\n",
              " 'kiss',\n",
              " 'know',\n",
              " 'known',\n",
              " 'lights',\n",
              " 'liked',\n",
              " 'long',\n",
              " 'looked',\n",
              " 'looking',\n",
              " 'making',\n",
              " 'missed',\n",
              " 'monotonous',\n",
              " 'month',\n",
              " 'mouths',\n",
              " 'name',\n",
              " 'neither',\n",
              " 'never',\n",
              " 'new',\n",
              " 'night',\n",
              " 'no',\n",
              " 'nobody',\n",
              " 'noon',\n",
              " 'nor',\n",
              " 'not',\n",
              " 'nothing',\n",
              " 'noticed',\n",
              " 'now',\n",
              " 'obeyed',\n",
              " 'of',\n",
              " 'old',\n",
              " 'on',\n",
              " 'once',\n",
              " 'one',\n",
              " 'only',\n",
              " 'or',\n",
              " 'orange',\n",
              " 'other',\n",
              " 'ours',\n",
              " 'paid',\n",
              " 'parents',\n",
              " 'part',\n",
              " 'passing',\n",
              " 'passion',\n",
              " 'past',\n",
              " 'paste',\n",
              " 'people',\n",
              " 'place',\n",
              " 'polished',\n",
              " 'present',\n",
              " 'pretty',\n",
              " 'puckered',\n",
              " 'pushed',\n",
              " 'quarters',\n",
              " 'rang',\n",
              " 'repetitive',\n",
              " 'ripe',\n",
              " 'rising',\n",
              " 'rode',\n",
              " 'rosaries',\n",
              " 'said',\n",
              " 'screen',\n",
              " 'she',\n",
              " 'shoulders',\n",
              " 'since',\n",
              " 'six',\n",
              " 'slapped',\n",
              " 'smell',\n",
              " 'smiled',\n",
              " 'smoothness',\n",
              " 'so',\n",
              " 'sounds',\n",
              " 'sour',\n",
              " 'speeches',\n",
              " 'sprouted',\n",
              " 'stage',\n",
              " 'stop',\n",
              " 'straw',\n",
              " 'street',\n",
              " 'streetcars',\n",
              " 'streets',\n",
              " 'strutted',\n",
              " 'suitcase',\n",
              " 'surging',\n",
              " 'swayed',\n",
              " 'sweet',\n",
              " 'sweeter',\n",
              " 'taste',\n",
              " 'than',\n",
              " 'that',\n",
              " 'the',\n",
              " 'their',\n",
              " 'them',\n",
              " 'there',\n",
              " 'these',\n",
              " 'they',\n",
              " 'thick',\n",
              " 'thighs',\n",
              " 'thing',\n",
              " 'this',\n",
              " 'those',\n",
              " 'thought',\n",
              " 'time',\n",
              " 'tiny',\n",
              " 'to',\n",
              " 'tomato',\n",
              " 'tone',\n",
              " 'tongue',\n",
              " 'too',\n",
              " 'touch',\n",
              " 'tower',\n",
              " 'trays',\n",
              " 'tweezed',\n",
              " 'unimportant',\n",
              " 'unusual',\n",
              " 'up',\n",
              " 'was',\n",
              " 'way',\n",
              " 'we',\n",
              " 'went',\n",
              " 'were',\n",
              " 'what',\n",
              " 'when',\n",
              " 'where',\n",
              " 'which',\n",
              " 'whirling',\n",
              " 'wife',\n",
              " 'wiggled',\n",
              " 'wine',\n",
              " 'without',\n",
              " 'women',\n",
              " 'would',\n",
              " 'wrapped',\n",
              " 'youth'}"
            ]
          },
          "metadata": {},
          "execution_count": 82
        }
      ]
    },
    {
      "cell_type": "code",
      "source": [
        "text_punc = set([word for sent in sentence_tokens for word in sent if not word[0].isalnum()])\n",
        "punctuations.extend(list(text_punc))"
      ],
      "metadata": {
        "id": "uwrDI9DoMwHi"
      },
      "execution_count": 64,
      "outputs": []
    },
    {
      "cell_type": "code",
      "source": [
        "# hyphen\n",
        "# fur-piece => fur, piece\n",
        "\n",
        "# apostrophe => she's, don't\n",
        "# she is/ she 's"
      ],
      "metadata": {
        "id": "tKOtmfb_NoXh"
      },
      "execution_count": 65,
      "outputs": []
    },
    {
      "cell_type": "code",
      "source": [
        "'fur-piece'.split('-')   # -> list extend"
      ],
      "metadata": {
        "colab": {
          "base_uri": "https://localhost:8080/"
        },
        "id": "6fjN3btaOL2C",
        "outputId": "edb2f848-b37e-43ff-9604-78acff9795ff"
      },
      "execution_count": 66,
      "outputs": [
        {
          "output_type": "execute_result",
          "data": {
            "text/plain": [
              "['fur', 'piece']"
            ]
          },
          "metadata": {},
          "execution_count": 66
        }
      ]
    },
    {
      "cell_type": "code",
      "source": [
        "word  = 'she\\'s'\n",
        "index = word.find(\"\\'\")\n",
        "word[:index], word[index:]"
      ],
      "metadata": {
        "colab": {
          "base_uri": "https://localhost:8080/"
        },
        "id": "UYZWOcEoPUOk",
        "outputId": "37a45a96-5bf2-4d78-c467-521613d68614"
      },
      "execution_count": 67,
      "outputs": [
        {
          "output_type": "execute_result",
          "data": {
            "text/plain": [
              "('she', \"'s\")"
            ]
          },
          "metadata": {},
          "execution_count": 67
        }
      ]
    },
    {
      "cell_type": "code",
      "source": [
        "a = [1, 2]\n",
        "b = [3, 4]\n",
        "a.extend(b)\n",
        "a"
      ],
      "metadata": {
        "colab": {
          "base_uri": "https://localhost:8080/"
        },
        "id": "yoMPz_HUORoq",
        "outputId": "c6b6955e-23f7-4a49-e2b9-2aa0eab97b52"
      },
      "execution_count": 68,
      "outputs": [
        {
          "output_type": "execute_result",
          "data": {
            "text/plain": [
              "[1, 2, 3, 4]"
            ]
          },
          "metadata": {},
          "execution_count": 68
        }
      ]
    },
    {
      "cell_type": "code",
      "source": [
        "#[word for sent in sentence_toekens for word in sent]   # x\n",
        "[[word for word in sent] for sent in sentence_tokens][:3]"
      ],
      "metadata": {
        "colab": {
          "base_uri": "https://localhost:8080/"
        },
        "id": "3tFq19ecOt5R",
        "outputId": "10baab5f-0777-4e01-b84d-1d025dcb5e98"
      },
      "execution_count": 74,
      "outputs": [
        {
          "output_type": "execute_result",
          "data": {
            "text/plain": [
              "[['They', 'neither', 'liked', 'nor', 'disliked', 'the', 'Old', 'Man'],\n",
              " ['To',\n",
              "  'them',\n",
              "  'he',\n",
              "  'could',\n",
              "  'have',\n",
              "  'been',\n",
              "  'the',\n",
              "  'broken',\n",
              "  'bell',\n",
              "  'in',\n",
              "  'the',\n",
              "  'church',\n",
              "  'tower',\n",
              "  'which',\n",
              "  'rang',\n",
              "  'before',\n",
              "  'and',\n",
              "  'after',\n",
              "  'Mass',\n",
              "  'and',\n",
              "  'at',\n",
              "  'noon',\n",
              "  'and',\n",
              "  'at',\n",
              "  'six',\n",
              "  'each',\n",
              "  'evening',\n",
              "  '--',\n",
              "  'its',\n",
              "  'tone',\n",
              "  'repetitive',\n",
              "  'monotonous',\n",
              "  'never',\n",
              "  'breaking',\n",
              "  'the',\n",
              "  'boredom',\n",
              "  'of',\n",
              "  'the',\n",
              "  'streets'],\n",
              " ['The', 'Old', 'Man', 'was', 'unimportant']]"
            ]
          },
          "metadata": {},
          "execution_count": 74
        }
      ]
    },
    {
      "cell_type": "code",
      "source": [
        "# for loop:\n",
        "#  if index:\n",
        "    # hyphen\n",
        "    # 's\n",
        "\n",
        "  # fur-piece's"
      ],
      "metadata": {
        "id": "ZmuNG-u4Phf4"
      },
      "execution_count": 70,
      "outputs": []
    },
    {
      "cell_type": "code",
      "source": [
        "import nltk\n",
        "nltk.download('stopwords')"
      ],
      "metadata": {
        "colab": {
          "base_uri": "https://localhost:8080/"
        },
        "id": "YxzB7MziP8Y-",
        "outputId": "1bbbe921-b5a7-4d56-8733-0882d8e625b5"
      },
      "execution_count": 71,
      "outputs": [
        {
          "output_type": "stream",
          "name": "stdout",
          "text": [
            "[nltk_data] Downloading package stopwords to /root/nltk_data...\n",
            "[nltk_data]   Unzipping corpora/stopwords.zip.\n"
          ]
        },
        {
          "output_type": "execute_result",
          "data": {
            "text/plain": [
              "True"
            ]
          },
          "metadata": {},
          "execution_count": 71
        }
      ]
    },
    {
      "cell_type": "code",
      "source": [
        "stopwords = nltk.corpus.stopwords.words('english')  # 불용어: 빈도수, 의미없는\n",
        "[word not in stopwords]"
      ],
      "metadata": {
        "id": "Xtk_caj6Q-fk",
        "colab": {
          "base_uri": "https://localhost:8080/"
        },
        "outputId": "3ab388f4-2083-40b3-8ada-90d98d4b6279"
      },
      "execution_count": 73,
      "outputs": [
        {
          "output_type": "execute_result",
          "data": {
            "text/plain": [
              "[False]"
            ]
          },
          "metadata": {},
          "execution_count": 73
        }
      ]
    }
  ]
}