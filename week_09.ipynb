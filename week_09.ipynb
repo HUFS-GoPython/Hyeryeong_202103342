{
  "nbformat": 4,
  "nbformat_minor": 0,
  "metadata": {
    "colab": {
      "name": "week_09.ipynb",
      "provenance": [],
      "collapsed_sections": [],
      "authorship_tag": "ABX9TyNjvRvuDIiUlhXea24p2gwl",
      "include_colab_link": true
    },
    "kernelspec": {
      "name": "python3",
      "display_name": "Python 3"
    },
    "language_info": {
      "name": "python"
    }
  },
  "cells": [
    {
      "cell_type": "markdown",
      "metadata": {
        "id": "view-in-github",
        "colab_type": "text"
      },
      "source": [
        "<a href=\"https://colab.research.google.com/github/HUFS-Programming-2022/Hyeryeong_202103342/blob/main/week_09.ipynb\" target=\"_parent\"><img src=\"https://colab.research.google.com/assets/colab-badge.svg\" alt=\"Open In Colab\"/></a>"
      ]
    },
    {
      "cell_type": "markdown",
      "source": [
        "# 고급파이썬프로그래밍_9주차(0429)\n",
        "\n",
        "- 중간고사 채점 중\n",
        "- 채점 후 점수 공유\n",
        "- 휴강(5/27) -> 보강(추후 재공지)\n",
        "- 다음주부터는 퀴즈 x => 프로젝트"
      ],
      "metadata": {
        "id": "lqpMeb-Ym2kR"
      }
    },
    {
      "cell_type": "markdown",
      "source": [
        "# CH08. 딕셔너리와 셋\n",
        "\n",
        "## 1. Dictionary(딕트 dict)\n",
        "- 가장 많이 사용하는 기능\n",
        "- 영어사전이라고 생각하면, 단어: 뜻\n",
        "- 키: 값 **\n",
        "   - 값에 대응하는 key는 고유해야 한다 -> 키가 중복되면 안 된다.\n",
        "- 키를 가지고 값을 찾기 때문에 순서가 없음 => 오프셋으로 항목 선택 불가 **\n",
        "- 가변 객체 (수정, 추가, 삭제 가능)\n",
        "- 타입: dict, dict()\n",
        "- key는 대부분 str, 불변하는 파이썬의 어떤 타입될 수 있음(불리언,정수, 부동소수점, 튜플, 문자열 등)\n",
        "- value에는 리스트, 튜플, 딕셔너리도 들어갈 수 있음.(다양한 자료가 들어갈 수 있음)\n",
        "\n"
      ],
      "metadata": {
        "id": "fNPA6eZVob6-"
      }
    },
    {
      "cell_type": "markdown",
      "source": [
        "### 1-1. 생성\n",
        "- 1. {key1: value1, key2: value2,...}\n",
        "      - 중괄호 안에 콤마로 구분한 키:값 쌍을 지정\n",
        "- 2. dict()\n",
        "      - 인수와 값을 dict() 함수에 전달하여 생성\n",
        "      - 인수 이름이 유효한 변수 이름이어야 함(공백, 예약어 x)\n",
        "      - 콜론 사용 x\n"
      ],
      "metadata": {
        "id": "riCaZXyp2xhp"
      }
    },
    {
      "cell_type": "code",
      "source": [
        "# dictionary 생성 - 중괄호 or dict()\n",
        "empty_dict = dict()\n",
        "empty_dict2 = {}\n",
        "empty_dict, empty_dict2"
      ],
      "metadata": {
        "colab": {
          "base_uri": "https://localhost:8080/"
        },
        "id": "N4UQjKCD4M0w",
        "outputId": "035e8e31-2212-4c09-d46c-8b57001a84f2"
      },
      "execution_count": 49,
      "outputs": [
        {
          "output_type": "execute_result",
          "data": {
            "text/plain": [
              "({}, {})"
            ]
          },
          "metadata": {},
          "execution_count": 49
        }
      ]
    },
    {
      "cell_type": "code",
      "source": [
        "# dictionary 생성 차이(교재 예시)\n",
        "# 일반적인 방법\n",
        "acme_customer = {'first': 'Wile', 'middle': 'E', 'last': 'Coyote'}\n",
        "acme_customer"
      ],
      "metadata": {
        "colab": {
          "base_uri": "https://localhost:8080/"
        },
        "id": "yjusqA905ucc",
        "outputId": "e262b652-972e-4c0a-a021-710c33414d6d"
      },
      "execution_count": 50,
      "outputs": [
        {
          "output_type": "execute_result",
          "data": {
            "text/plain": [
              "{'first': 'Wile', 'last': 'Coyote', 'middle': 'E'}"
            ]
          },
          "metadata": {},
          "execution_count": 50
        }
      ]
    },
    {
      "cell_type": "code",
      "source": [
        "acme_customer['first']"
      ],
      "metadata": {
        "colab": {
          "base_uri": "https://localhost:8080/",
          "height": 36
        },
        "id": "wAbb6z-x7522",
        "outputId": "07a8f76b-4093-4715-b672-1d2b84b53c69"
      },
      "execution_count": 51,
      "outputs": [
        {
          "output_type": "execute_result",
          "data": {
            "text/plain": [
              "'Wile'"
            ],
            "application/vnd.google.colaboratory.intrinsic+json": {
              "type": "string"
            }
          },
          "metadata": {},
          "execution_count": 51
        }
      ]
    },
    {
      "cell_type": "code",
      "source": [
        "# dict() 함수 사용 방법 - dict() 사용 시 인수 이름은 유효한 변수명이어야 함\n",
        "acme_customer2 = dict(first = 'Wile', middle = 'E', last = 'Coyote')\n",
        "acme_customer2"
      ],
      "metadata": {
        "colab": {
          "base_uri": "https://localhost:8080/"
        },
        "id": "oPIRJIsx6Io7",
        "outputId": "4b202bdb-71ec-481c-ef6c-58c695b3b2d7"
      },
      "execution_count": 52,
      "outputs": [
        {
          "output_type": "execute_result",
          "data": {
            "text/plain": [
              "{'first': 'Wile', 'last': 'Coyote', 'middle': 'E'}"
            ]
          },
          "metadata": {},
          "execution_count": 52
        }
      ]
    },
    {
      "cell_type": "code",
      "source": [
        "# dictionary와의 비교 - set: key만 남은 dictionary\n",
        "a = [1, 2, 3]\n",
        "set(a) "
      ],
      "metadata": {
        "colab": {
          "base_uri": "https://localhost:8080/"
        },
        "id": "uatODmVa3vBL",
        "outputId": "1dcac486-341b-4605-c57b-98a1a6ab431b"
      },
      "execution_count": 53,
      "outputs": [
        {
          "output_type": "execute_result",
          "data": {
            "text/plain": [
              "{1, 2, 3}"
            ]
          },
          "metadata": {},
          "execution_count": 53
        }
      ]
    },
    {
      "cell_type": "code",
      "source": [
        "# set은 set()으로만 생성가능\n",
        "b = set()\n",
        "b"
      ],
      "metadata": {
        "colab": {
          "base_uri": "https://localhost:8080/"
        },
        "id": "cYwtd_yA5OLL",
        "outputId": "7570df07-05e2-4011-8dd0-e1efdf9b2d7b"
      },
      "execution_count": 54,
      "outputs": [
        {
          "output_type": "execute_result",
          "data": {
            "text/plain": [
              "set()"
            ]
          },
          "metadata": {},
          "execution_count": 54
        }
      ]
    },
    {
      "cell_type": "code",
      "execution_count": 55,
      "metadata": {
        "id": "qvH-gY7bkPSA",
        "colab": {
          "base_uri": "https://localhost:8080/"
        },
        "outputId": "d4be8415-359a-4575-e1d7-12b81a1694b3"
      },
      "outputs": [
        {
          "output_type": "execute_result",
          "data": {
            "text/plain": [
              "1"
            ]
          },
          "metadata": {},
          "execution_count": 55
        }
      ],
      "source": [
        "# dictionary의 특징1: 순서 없음 -> 인덱스 없음\n",
        "a = [1, 2, 3]\n",
        "a[0] "
      ]
    },
    {
      "cell_type": "markdown",
      "source": [
        "#### Quiz1. 출석부 딕셔너리로 만들기\n",
        "[이름, 학번, 학과\n",
        "제임스 202201 경영학과\n",
        "줄리엣 202202 아랍어과\n",
        "로버트 202203 ELLT과]"
      ],
      "metadata": {
        "id": "ffTHG8sQqE9e"
      }
    },
    {
      "cell_type": "code",
      "source": [
        "# my answer\n",
        "student_info = {'제임스': (202201, '경영학과'), '줄리엣': (202202, '아랍어과'), '로버트': (202203, 'ELLT학과')}\n",
        "student_info"
      ],
      "metadata": {
        "colab": {
          "base_uri": "https://localhost:8080/"
        },
        "id": "84FTj-RdqOSS",
        "outputId": "26d52454-7375-4f36-b940-6fca7e8a11a8"
      },
      "execution_count": 56,
      "outputs": [
        {
          "output_type": "execute_result",
          "data": {
            "text/plain": [
              "{'로버트': (202203, 'ELLT학과'), '제임스': (202201, '경영학과'), '줄리엣': (202202, '아랍어과')}"
            ]
          },
          "metadata": {},
          "execution_count": 56
        }
      ]
    },
    {
      "cell_type": "code",
      "source": [
        "student_info['제임스']"
      ],
      "metadata": {
        "colab": {
          "base_uri": "https://localhost:8080/"
        },
        "id": "hqn04IPL7s0e",
        "outputId": "40972db2-2d0f-4551-8d69-9bf77268521b"
      },
      "execution_count": 57,
      "outputs": [
        {
          "output_type": "execute_result",
          "data": {
            "text/plain": [
              "(202201, '경영학과')"
            ]
          },
          "metadata": {},
          "execution_count": 57
        }
      ]
    },
    {
      "cell_type": "code",
      "source": [
        "# another answer\n",
        "attendance = dict(제임스 = [202201, '경영학과'], 줄리엣 = [202202, '아랍어과'], 로버트 = [202203, 'ELLT학과'])\n",
        "attendance['제임스']"
      ],
      "metadata": {
        "id": "LUtmafpgrV1Z",
        "colab": {
          "base_uri": "https://localhost:8080/"
        },
        "outputId": "07b42611-6574-4e5f-acca-416c44071313"
      },
      "execution_count": 58,
      "outputs": [
        {
          "output_type": "execute_result",
          "data": {
            "text/plain": [
              "[202201, '경영학과']"
            ]
          },
          "metadata": {},
          "execution_count": 58
        }
      ]
    },
    {
      "cell_type": "markdown",
      "source": [
        "### 1-2. 형변환\n",
        "- dict() 함수 -> 두 값으로 이루어진 시퀀스를 딕셔너리로 변환"
      ],
      "metadata": {
        "id": "dRySRqPrsh08"
      }
    },
    {
      "cell_type": "code",
      "source": [
        "# 두 항목의 리스트로 구성된 리스트 ex1을 딕셔너리로 변환\n",
        "ex1 = [[20221, []], [3, 4], [5, 6]]\n",
        "dict(ex1)"
      ],
      "metadata": {
        "colab": {
          "base_uri": "https://localhost:8080/"
        },
        "id": "TBo82pD9sDij",
        "outputId": "b1d9cd94-2c93-46de-b229-9438b79871f3"
      },
      "execution_count": 59,
      "outputs": [
        {
          "output_type": "execute_result",
          "data": {
            "text/plain": [
              "{3: 4, 5: 6, 20221: []}"
            ]
          },
          "metadata": {},
          "execution_count": 59
        }
      ]
    },
    {
      "cell_type": "code",
      "source": [
        "# 두 항목의 튜플로 구성된 리스트 ex2를 딕셔너리로 변환\n",
        "ex2 = [(1, 2), (3, 4), (5, 6)]\n",
        "dict(ex2)"
      ],
      "metadata": {
        "colab": {
          "base_uri": "https://localhost:8080/"
        },
        "id": "Qpehqg1Ksr-r",
        "outputId": "2d653ede-0ea5-4426-fda2-c13e623d5e07"
      },
      "execution_count": 60,
      "outputs": [
        {
          "output_type": "execute_result",
          "data": {
            "text/plain": [
              "{1: 2, 3: 4, 5: 6}"
            ]
          },
          "metadata": {},
          "execution_count": 60
        }
      ]
    },
    {
      "cell_type": "code",
      "source": [
        "# 두 항목의 리스트로 구성된 튜플도 딕셔너리로 변환 가능\n",
        "ex3 = (['car', 'kia'], ['fruit', 'apple'], ['color', 'white'])\n",
        "dict(ex3)"
      ],
      "metadata": {
        "colab": {
          "base_uri": "https://localhost:8080/"
        },
        "id": "k6qCnWruGXJ_",
        "outputId": "ef4b0f89-3713-43d0-fc65-937b69ba92b6"
      },
      "execution_count": 61,
      "outputs": [
        {
          "output_type": "execute_result",
          "data": {
            "text/plain": [
              "{'car': 'kia', 'color': 'white', 'fruit': 'apple'}"
            ]
          },
          "metadata": {},
          "execution_count": 61
        }
      ]
    },
    {
      "cell_type": "code",
      "source": [
        "# 두 문자열로 구성된 리스트, 튜플도 딕셔너리로 변환 가능\n",
        "ex4 = [ 'aA', 'bB', 'cC' ]\n",
        "dict(ex4)"
      ],
      "metadata": {
        "colab": {
          "base_uri": "https://localhost:8080/"
        },
        "id": "NqTFY3UKGpf3",
        "outputId": "bc5e0548-b1b0-426d-ad8a-5bd5ebd0718c"
      },
      "execution_count": 62,
      "outputs": [
        {
          "output_type": "execute_result",
          "data": {
            "text/plain": [
              "{'a': 'A', 'b': 'B', 'c': 'C'}"
            ]
          },
          "metadata": {},
          "execution_count": 62
        }
      ]
    },
    {
      "cell_type": "code",
      "source": [
        "# 두 문자열 아니므로 불가\n",
        "ex3 = ['abdd','bcdd','cddd']\n",
        "dict(ex3)    "
      ],
      "metadata": {
        "colab": {
          "base_uri": "https://localhost:8080/",
          "height": 213
        },
        "id": "6F8J3WserVvr",
        "outputId": "c0648c04-e465-4d52-ce67-0cf01c5efcd7"
      },
      "execution_count": null,
      "outputs": [
        {
          "output_type": "error",
          "ename": "ValueError",
          "evalue": "ignored",
          "traceback": [
            "\u001b[0;31m---------------------------------------------------------------------------\u001b[0m",
            "\u001b[0;31mValueError\u001b[0m                                Traceback (most recent call last)",
            "\u001b[0;32m<ipython-input-34-b092257f24fb>\u001b[0m in \u001b[0;36m<module>\u001b[0;34m()\u001b[0m\n\u001b[1;32m      1\u001b[0m \u001b[0;31m# 두 문자열 아니므로 불가\u001b[0m\u001b[0;34m\u001b[0m\u001b[0;34m\u001b[0m\u001b[0;34m\u001b[0m\u001b[0m\n\u001b[1;32m      2\u001b[0m \u001b[0mex3\u001b[0m \u001b[0;34m=\u001b[0m \u001b[0;34m[\u001b[0m\u001b[0;34m'abdd'\u001b[0m\u001b[0;34m,\u001b[0m\u001b[0;34m'bcdd'\u001b[0m\u001b[0;34m,\u001b[0m\u001b[0;34m'cddd'\u001b[0m\u001b[0;34m]\u001b[0m\u001b[0;34m\u001b[0m\u001b[0;34m\u001b[0m\u001b[0m\n\u001b[0;32m----> 3\u001b[0;31m \u001b[0mdict\u001b[0m\u001b[0;34m(\u001b[0m\u001b[0mex3\u001b[0m\u001b[0;34m)\u001b[0m\u001b[0;34m\u001b[0m\u001b[0;34m\u001b[0m\u001b[0m\n\u001b[0m",
            "\u001b[0;31mValueError\u001b[0m: dictionary update sequence element #0 has length 4; 2 is required"
          ]
        }
      ]
    },
    {
      "cell_type": "markdown",
      "source": [
        "### 1-3. 항목 조회 & 변경\n",
        "- 항목 조회\n",
        "   - 1. 딕셔너리명[key]\n",
        "      - 딕셔너리에 키가 없으면 오류 발생 -> in 이용하여 멤버십 테스트 먼저 해보기\n",
        "   - 2. get()\n",
        "      - 딕셔너리, 키, 옵션값 사용\n",
        "      - 키 존재하면 그 값 얻음\n",
        "      - 키 존재하지 않으면, None\n",
        "      - 이때, 옵션값을 설정하여 출력할 수 있음\n",
        "- 항목 변경\n",
        "   - 키에 참조되는 항목에 값을 할당\n",
        "       - 이미 존재하는 키 -> 값을 변경\n",
        "       - 존재하지 않는 키 -> 새 값과 키가 dictionary에 추가됨\n",
        "\n",
        "** 딕셔너리의 키들은 반드시 고유해야 함 -> 같은 키 두 번 저장하면 마지막 값으로 저장"
      ],
      "metadata": {
        "id": "OrUBkcVes6bn"
      }
    },
    {
      "cell_type": "code",
      "source": [
        "# 영국의 희극단 몬티 파이튼 멤버의 성을 key, 이름을 value로 하는 딕셔너리\n",
        "\n",
        "pythons = {\n",
        "    'Chapman': 'Graham',\n",
        "    'Cleese': 'John',\n",
        "    'Idle': 'Eric',\n",
        "    'Jones': 'Terry',\n",
        "    'Palin': 'Michael'\n",
        "    }"
      ],
      "metadata": {
        "id": "LIi5JEA2s8xp"
      },
      "execution_count": 63,
      "outputs": []
    },
    {
      "cell_type": "code",
      "source": [
        "# 항목 조회 - Idle에 해당하는 value 검색\n",
        "pythons['Idle']"
      ],
      "metadata": {
        "colab": {
          "base_uri": "https://localhost:8080/",
          "height": 36
        },
        "id": "OpwoB4FRtRrU",
        "outputId": "245843d7-e628-41c3-b86a-1bb93f437371"
      },
      "execution_count": 64,
      "outputs": [
        {
          "output_type": "execute_result",
          "data": {
            "text/plain": [
              "'Eric'"
            ],
            "application/vnd.google.colaboratory.intrinsic+json": {
              "type": "string"
            }
          },
          "metadata": {},
          "execution_count": 64
        }
      ]
    },
    {
      "cell_type": "code",
      "source": [
        "# index 안됨\n",
        "# pythons[0]"
      ],
      "metadata": {
        "id": "5w3GPqd4tVTU"
      },
      "execution_count": 65,
      "outputs": []
    },
    {
      "cell_type": "code",
      "source": [
        "# 항목 변경 - 키에 값을 할당\n",
        "pythons['Idle'] = 'Erica' \n",
        "pythons\n",
        "# 이미 존재하는 키에 값을 할당했기 때문에 이전 값은 사라지고 새 값으로 대체됨"
      ],
      "metadata": {
        "colab": {
          "base_uri": "https://localhost:8080/"
        },
        "id": "AzqC8HyYtZ6b",
        "outputId": "8f3500ce-5b93-4531-f222-7464a4e7d3b3"
      },
      "execution_count": 66,
      "outputs": [
        {
          "output_type": "execute_result",
          "data": {
            "text/plain": [
              "{'Chapman': 'Graham',\n",
              " 'Cleese': 'John',\n",
              " 'Idle': 'Erica',\n",
              " 'Jones': 'Terry',\n",
              " 'Palin': 'Michael'}"
            ]
          },
          "metadata": {},
          "execution_count": 66
        }
      ]
    },
    {
      "cell_type": "code",
      "source": [
        "pythons['Palin'] = 'Josh'\n",
        "pythons"
      ],
      "metadata": {
        "colab": {
          "base_uri": "https://localhost:8080/"
        },
        "id": "Ed7TkdRitoJE",
        "outputId": "59cc6c38-34c5-4386-c1df-4f6a769774e8"
      },
      "execution_count": 67,
      "outputs": [
        {
          "output_type": "execute_result",
          "data": {
            "text/plain": [
              "{'Chapman': 'Graham',\n",
              " 'Cleese': 'John',\n",
              " 'Idle': 'Erica',\n",
              " 'Jones': 'Terry',\n",
              " 'Palin': 'Josh'}"
            ]
          },
          "metadata": {},
          "execution_count": 67
        }
      ]
    },
    {
      "cell_type": "code",
      "source": [
        "# 항목 추가 \n",
        "pythons['Kim'] = 'Laura'\n",
        "pythons"
      ],
      "metadata": {
        "colab": {
          "base_uri": "https://localhost:8080/"
        },
        "id": "bhKt7xUTtvWL",
        "outputId": "d769bc16-a61f-4f9e-bc5a-c1a1fc7f9aa2"
      },
      "execution_count": 68,
      "outputs": [
        {
          "output_type": "execute_result",
          "data": {
            "text/plain": [
              "{'Chapman': 'Graham',\n",
              " 'Cleese': 'John',\n",
              " 'Idle': 'Erica',\n",
              " 'Jones': 'Terry',\n",
              " 'Kim': 'Laura',\n",
              " 'Palin': 'Josh'}"
            ]
          },
          "metadata": {},
          "execution_count": 68
        }
      ]
    },
    {
      "cell_type": "code",
      "source": [
        "# pythons['Lee']   # 코드 안에서 찾기 불가 -> 멤버십 연산자 사용하기"
      ],
      "metadata": {
        "id": "RRaEOtJZt0S5"
      },
      "execution_count": 69,
      "outputs": []
    },
    {
      "cell_type": "code",
      "source": [
        "# 멤버십 연산자 사용하여 True,False 확인 후 항목 조회\n",
        "'Lee' in pythons"
      ],
      "metadata": {
        "colab": {
          "base_uri": "https://localhost:8080/"
        },
        "id": "tYQgFX0kt4C_",
        "outputId": "a6a78585-efe3-4f89-b1d7-81b6cbb81f18"
      },
      "execution_count": 70,
      "outputs": [
        {
          "output_type": "execute_result",
          "data": {
            "text/plain": [
              "False"
            ]
          },
          "metadata": {},
          "execution_count": 70
        }
      ]
    },
    {
      "cell_type": "code",
      "source": [
        "# get()함수 사용했을 때, 없는 값이면 None(대화식 인터프리터는 아무것도 출력하지 않음)\n",
        "pythons.get('Lee')"
      ],
      "metadata": {
        "id": "p7y5cpkgt6--"
      },
      "execution_count": 71,
      "outputs": []
    },
    {
      "cell_type": "code",
      "source": [
        " # 있는 값이면, 해당 값 반환\n",
        "pythons.get('Kim', 0)"
      ],
      "metadata": {
        "colab": {
          "base_uri": "https://localhost:8080/",
          "height": 36
        },
        "id": "B2S0g0Kqt-pP",
        "outputId": "2dd1103c-ce20-4d3d-ca5f-fc403f61740c"
      },
      "execution_count": 72,
      "outputs": [
        {
          "output_type": "execute_result",
          "data": {
            "text/plain": [
              "'Laura'"
            ],
            "application/vnd.google.colaboratory.intrinsic+json": {
              "type": "string"
            }
          },
          "metadata": {},
          "execution_count": 72
        }
      ]
    },
    {
      "cell_type": "code",
      "source": [
        "# 없는 값이기 때문에 옵션값인 0 반환\n",
        "pythons.get('Choi', 0)"
      ],
      "metadata": {
        "colab": {
          "base_uri": "https://localhost:8080/"
        },
        "id": "4zsnjJDZQdya",
        "outputId": "5c014e41-9bf8-4e67-b21f-b404488db3de"
      },
      "execution_count": 73,
      "outputs": [
        {
          "output_type": "execute_result",
          "data": {
            "text/plain": [
              "0"
            ]
          },
          "metadata": {},
          "execution_count": 73
        }
      ]
    },
    {
      "cell_type": "markdown",
      "source": [
        "### 1-4. keys(), values(), items()\n",
        "- keys(): 모든 키 얻기\n",
        "- values(): 모든 값 얻기\n",
        "- items(): 모든 키, 값 얻기"
      ],
      "metadata": {
        "id": "vLl0GET7uPXT"
      }
    },
    {
      "cell_type": "code",
      "source": [
        "# keys() : 모든 키 얻기\n",
        "pythons.keys()   \n",
        "# 리스트 형식 아님(dict_keys()라는 형식) -> list()로 형변환\n",
        "# list(pythons.keys())"
      ],
      "metadata": {
        "colab": {
          "base_uri": "https://localhost:8080/"
        },
        "id": "lBKErKFFuOgE",
        "outputId": "0992078a-7e83-46d9-d186-ab9bd11bdc25"
      },
      "execution_count": 74,
      "outputs": [
        {
          "output_type": "execute_result",
          "data": {
            "text/plain": [
              "dict_keys(['Chapman', 'Cleese', 'Idle', 'Jones', 'Palin', 'Kim'])"
            ]
          },
          "metadata": {},
          "execution_count": 74
        }
      ]
    },
    {
      "cell_type": "code",
      "source": [
        "# values() : 모든 값 얻기\n",
        "pythons.values()"
      ],
      "metadata": {
        "colab": {
          "base_uri": "https://localhost:8080/"
        },
        "id": "Axati2soucAU",
        "outputId": "b3a2d063-70d4-4fca-adef-6dc4a9de29b5"
      },
      "execution_count": 75,
      "outputs": [
        {
          "output_type": "execute_result",
          "data": {
            "text/plain": [
              "dict_values(['Graham', 'John', 'Erica', 'Terry', 'Josh', 'Laura'])"
            ]
          },
          "metadata": {},
          "execution_count": 75
        }
      ]
    },
    {
      "cell_type": "code",
      "source": [
        "# items() : 모든 키, 값 얻기\n",
        "# 리스트 컴프리헨션 이용해 딕셔너리 순회 시 사용\n",
        "pythons.items()"
      ],
      "metadata": {
        "colab": {
          "base_uri": "https://localhost:8080/"
        },
        "id": "OdABd6tyueMo",
        "outputId": "4b4112cb-3d9e-4e21-9972-01bec7d71072"
      },
      "execution_count": 76,
      "outputs": [
        {
          "output_type": "execute_result",
          "data": {
            "text/plain": [
              "dict_items([('Chapman', 'Graham'), ('Cleese', 'John'), ('Idle', 'Erica'), ('Jones', 'Terry'), ('Palin', 'Josh'), ('Kim', 'Laura')])"
            ]
          },
          "metadata": {},
          "execution_count": 76
        }
      ]
    },
    {
      "cell_type": "code",
      "source": [
        "# 인덱싱 지정 가능\n",
        "[x[0] for x in pythons.items()]"
      ],
      "metadata": {
        "colab": {
          "base_uri": "https://localhost:8080/"
        },
        "id": "F4aKclARuwhs",
        "outputId": "977e3a7d-45b2-4bde-b29e-bcb5ec21e9e9"
      },
      "execution_count": 77,
      "outputs": [
        {
          "output_type": "execute_result",
          "data": {
            "text/plain": [
              "['Chapman', 'Cleese', 'Idle', 'Jones', 'Palin', 'Kim']"
            ]
          },
          "metadata": {},
          "execution_count": 77
        }
      ]
    },
    {
      "cell_type": "markdown",
      "source": [
        "#### Quiz2. \n",
        "- for loop 이용해서 animla:legs로 이루어진 딕셔너리 만들기\n",
        "\n",
        "#### Quiz3.\n",
        "- pythons에서 성: 이름 => 리스트컴프리헨션 이용해서 [(성 앞글자, 이름의 글자수)]"
      ],
      "metadata": {
        "id": "uTaArJ9KTGPX"
      }
    },
    {
      "cell_type": "code",
      "source": [
        "# Quiz2.\n",
        "animal =  'cat snake monkey ant spider'.split()\n",
        "legs = 4, 0, 2, 4, 8\n",
        "empty = []\n",
        "\n",
        "# my answer\n",
        "for i in range(len(animal)):\n",
        "  animal_dict = {animal[i] : legs[i]}\n",
        "  empty.append(animal_dict)\n",
        "\n",
        "empty"
      ],
      "metadata": {
        "colab": {
          "base_uri": "https://localhost:8080/"
        },
        "id": "bHXBc5Z_u9C3",
        "outputId": "d8d249be-5aa2-4ba3-d6d5-931d4baa341a"
      },
      "execution_count": 78,
      "outputs": [
        {
          "output_type": "execute_result",
          "data": {
            "text/plain": [
              "[{'cat': 4}, {'snake': 0}, {'monkey': 2}, {'ant': 4}, {'spider': 8}]"
            ]
          },
          "metadata": {},
          "execution_count": 78
        }
      ]
    },
    {
      "cell_type": "code",
      "source": [
        "# Correct answer\n",
        "animal_dic = {}\n",
        "for k, v in zip(animal, legs):\n",
        "  animal_dic[k] = v\n",
        "\n",
        "animal_dic"
      ],
      "metadata": {
        "colab": {
          "base_uri": "https://localhost:8080/"
        },
        "id": "04XAmwHZypx2",
        "outputId": "964a26ba-1f3e-4a4e-80a1-05a2172afd6a"
      },
      "execution_count": 79,
      "outputs": [
        {
          "output_type": "execute_result",
          "data": {
            "text/plain": [
              "{'ant': 4, 'cat': 4, 'monkey': 2, 'snake': 0, 'spider': 8}"
            ]
          },
          "metadata": {},
          "execution_count": 79
        }
      ]
    },
    {
      "cell_type": "code",
      "source": [
        "# Quiz3.\n",
        "# len(): 길이 얻기(딕셔너리에 있는 키-값 쌍의 개수 구하기)\n",
        "\n",
        "[(k[0], len(v)) for (k, v) in pythons.items()]  # (k, v)"
      ],
      "metadata": {
        "colab": {
          "base_uri": "https://localhost:8080/"
        },
        "id": "QoCE2Ggx3Hae",
        "outputId": "6ad66ca4-9df9-4c23-9f01-e494b9f77bf3"
      },
      "execution_count": 80,
      "outputs": [
        {
          "output_type": "execute_result",
          "data": {
            "text/plain": [
              "[('C', 6), ('C', 4), ('I', 5), ('J', 5), ('P', 4), ('K', 5)]"
            ]
          },
          "metadata": {},
          "execution_count": 80
        }
      ]
    },
    {
      "cell_type": "markdown",
      "source": [
        "### 1-5. 값 수정, 삭제, 복제\n",
        "- 1. 결합하기\n",
        "   - ** : 얕은 복사 수행, 딕셔너리 두 개 이상 결합 가능\n",
        "   - update(): 한 딕셔너리의 기와 값들을 복사해 다른 딕셔너리에 결합\n",
        "- 2. 삭제하기\n",
        "   - del 딕셔너리명[key]\n",
        "   - pop() 함수: 키로 항목 가져온 뒤 삭제\n",
        "   - clear(): 모든 항목 삭제\n",
        "   - 빈 딕셔너리 : 모든 항목 삭제\n",
        "- 3. 복제하기\n",
        "   - 할당: 딕셔너리 할당 -> 딕셔너리 참조하는 모든 이름에 변경된 딕셔너리 반영 \n",
        "   - 얕은 복사|copy(): 딕셔너리 값 불변이면 작동\n",
        "   - 깊은 복사|deepcopy()\n",
        "- 4. 딕셔너리 비교\n",
        "   - 비교 연산자(==, !=) 사용하여 딕셔너리 비교"
      ],
      "metadata": {
        "id": "17KgwXgY38MP"
      }
    },
    {
      "cell_type": "code",
      "source": [
        "# pythons 딕셔너리의 멤버 정의\n",
        "pythons"
      ],
      "metadata": {
        "colab": {
          "base_uri": "https://localhost:8080/"
        },
        "id": "ng-zd13rzVjr",
        "outputId": "d79f7272-22a7-46e4-b203-3e88890ed4cc"
      },
      "execution_count": 81,
      "outputs": [
        {
          "output_type": "execute_result",
          "data": {
            "text/plain": [
              "{'Chapman': 'Graham',\n",
              " 'Cleese': 'John',\n",
              " 'Idle': 'Erica',\n",
              " 'Jones': 'Terry',\n",
              " 'Kim': 'Laura',\n",
              " 'Palin': 'Josh'}"
            ]
          },
          "metadata": {},
          "execution_count": 81
        }
      ]
    },
    {
      "cell_type": "code",
      "source": [
        "# 다른 사람들을 딕셔너리 others에 넣기\n",
        "others = {\n",
        "    'Marx' : 'Groucho',\n",
        "    'Howard' : 'Moe'\n",
        "}"
      ],
      "metadata": {
        "id": "a0kZ36Jh4DRD"
      },
      "execution_count": 82,
      "outputs": []
    },
    {
      "cell_type": "code",
      "source": [
        "# pythons와 others 결합\n",
        "pythons.update(others)"
      ],
      "metadata": {
        "id": "cHhKIBDa4DNZ"
      },
      "execution_count": 83,
      "outputs": []
    },
    {
      "cell_type": "code",
      "source": [
        "pythons"
      ],
      "metadata": {
        "colab": {
          "base_uri": "https://localhost:8080/"
        },
        "id": "VcuW6EB34DK-",
        "outputId": "8ff90d0b-34e6-4959-f6f1-a339e0564fe0"
      },
      "execution_count": 84,
      "outputs": [
        {
          "output_type": "execute_result",
          "data": {
            "text/plain": [
              "{'Chapman': 'Graham',\n",
              " 'Cleese': 'John',\n",
              " 'Howard': 'Moe',\n",
              " 'Idle': 'Erica',\n",
              " 'Jones': 'Terry',\n",
              " 'Kim': 'Laura',\n",
              " 'Marx': 'Groucho',\n",
              " 'Palin': 'Josh'}"
            ]
          },
          "metadata": {},
          "execution_count": 84
        }
      ]
    },
    {
      "cell_type": "code",
      "source": [
        "{**others, **pythons}  # pythons3 가능"
      ],
      "metadata": {
        "colab": {
          "base_uri": "https://localhost:8080/"
        },
        "id": "76yl44-I4C-8",
        "outputId": "bd5a0487-d975-4db7-986f-00f63e9983e5"
      },
      "execution_count": 85,
      "outputs": [
        {
          "output_type": "execute_result",
          "data": {
            "text/plain": [
              "{'Chapman': 'Graham',\n",
              " 'Cleese': 'John',\n",
              " 'Howard': 'Moe',\n",
              " 'Idle': 'Erica',\n",
              " 'Jones': 'Terry',\n",
              " 'Kim': 'Laura',\n",
              " 'Marx': 'Groucho',\n",
              " 'Palin': 'Josh'}"
            ]
          },
          "metadata": {},
          "execution_count": 85
        }
      ]
    },
    {
      "cell_type": "code",
      "source": [
        "# 딕셔너리 두 개를 병합할 때, 두 딕셔너리에 같은 키:값 있다면 \n",
        "# -> 두 번째 딕셔너리 값으로 병합됨\n",
        "first = {'a': 'associate', 'b': 'break'}\n",
        "second = {'b': 'born', 'c': 'circulate'}\n",
        "first.update(second)\n",
        "first"
      ],
      "metadata": {
        "colab": {
          "base_uri": "https://localhost:8080/"
        },
        "id": "J1xlPCdQV0HA",
        "outputId": "386129c7-7b3d-4745-ccc1-69f466095d40"
      },
      "execution_count": null,
      "outputs": [
        {
          "output_type": "execute_result",
          "data": {
            "text/plain": [
              "{'a': 'associate', 'b': 'born', 'c': 'circulate'}"
            ]
          },
          "metadata": {},
          "execution_count": 120
        }
      ]
    },
    {
      "cell_type": "code",
      "source": [
        "# 삭제\n",
        "# del dictionary[key]\n",
        "del pythons['Kim']\n",
        "pythons"
      ],
      "metadata": {
        "colab": {
          "base_uri": "https://localhost:8080/"
        },
        "id": "_0pxHLhb4aYg",
        "outputId": "53935039-6a45-41b8-c930-4514bdaa0f99"
      },
      "execution_count": 86,
      "outputs": [
        {
          "output_type": "execute_result",
          "data": {
            "text/plain": [
              "{'Chapman': 'Graham',\n",
              " 'Cleese': 'John',\n",
              " 'Howard': 'Moe',\n",
              " 'Idle': 'Erica',\n",
              " 'Jones': 'Terry',\n",
              " 'Marx': 'Groucho',\n",
              " 'Palin': 'Josh'}"
            ]
          },
          "metadata": {},
          "execution_count": 86
        }
      ]
    },
    {
      "cell_type": "code",
      "source": [
        "# pop(): 없는 값에 대한 값 설정 가능, get()과 비슷한 성질\n",
        "pythons.pop('Marx', 0) "
      ],
      "metadata": {
        "colab": {
          "base_uri": "https://localhost:8080/",
          "height": 36
        },
        "id": "rzp3_L8N4hRY",
        "outputId": "141a4e9d-2bc7-4087-c93b-ed9638f133d8"
      },
      "execution_count": 87,
      "outputs": [
        {
          "output_type": "execute_result",
          "data": {
            "text/plain": [
              "'Groucho'"
            ],
            "application/vnd.google.colaboratory.intrinsic+json": {
              "type": "string"
            }
          },
          "metadata": {},
          "execution_count": 87
        }
      ]
    },
    {
      "cell_type": "code",
      "source": [
        "pythons"
      ],
      "metadata": {
        "colab": {
          "base_uri": "https://localhost:8080/"
        },
        "id": "1sNX0lyoXIS3",
        "outputId": "b3639ee4-9c01-49ba-dd16-6e691b7126ed"
      },
      "execution_count": 88,
      "outputs": [
        {
          "output_type": "execute_result",
          "data": {
            "text/plain": [
              "{'Chapman': 'Graham',\n",
              " 'Cleese': 'John',\n",
              " 'Howard': 'Moe',\n",
              " 'Idle': 'Erica',\n",
              " 'Jones': 'Terry',\n",
              " 'Palin': 'Josh'}"
            ]
          },
          "metadata": {},
          "execution_count": 88
        }
      ]
    },
    {
      "cell_type": "code",
      "source": [
        "# clear() : 전체 삭제\n",
        "pythons.clear()"
      ],
      "metadata": {
        "id": "KXktLg824hN6"
      },
      "execution_count": 89,
      "outputs": []
    },
    {
      "cell_type": "code",
      "source": [
        "# 빈 딕셔너리 선언을 통해 전체 삭제\n",
        "pythons = {}"
      ],
      "metadata": {
        "id": "6Es75V3c4hLk"
      },
      "execution_count": 90,
      "outputs": []
    },
    {
      "cell_type": "code",
      "source": [
        "pythons"
      ],
      "metadata": {
        "colab": {
          "base_uri": "https://localhost:8080/"
        },
        "id": "rb8rNRmB4hJQ",
        "outputId": "40bc1aad-1f9a-449d-af65-960c8f59ca10"
      },
      "execution_count": 91,
      "outputs": [
        {
          "output_type": "execute_result",
          "data": {
            "text/plain": [
              "{}"
            ]
          },
          "metadata": {},
          "execution_count": 91
        }
      ]
    },
    {
      "cell_type": "code",
      "source": [
        "# copy\n",
        "# 1. 할당\n",
        "# 2. 얕은 복사\n",
        "# 3. 깊은 복사"
      ],
      "metadata": {
        "id": "aJx-eZaC45Gd"
      },
      "execution_count": 92,
      "outputs": []
    },
    {
      "cell_type": "code",
      "source": [
        "# 1. 할당\n",
        "a = {1:2, 2:3, 3:4}\n",
        "b = a\n",
        "a[1] = 10\n",
        "a, b"
      ],
      "metadata": {
        "colab": {
          "base_uri": "https://localhost:8080/"
        },
        "id": "e6BSVm0v4hG8",
        "outputId": "43be6b57-7070-4c03-851b-234a9b6bcbdc"
      },
      "execution_count": 93,
      "outputs": [
        {
          "output_type": "execute_result",
          "data": {
            "text/plain": [
              "({1: 10, 2: 3, 3: 4}, {1: 10, 2: 3, 3: 4})"
            ]
          },
          "metadata": {},
          "execution_count": 93
        }
      ]
    },
    {
      "cell_type": "code",
      "source": [
        "# 2. 얕은 복사\n",
        "b = a.copy()\n",
        "a[1] = 100\n",
        "a, b"
      ],
      "metadata": {
        "colab": {
          "base_uri": "https://localhost:8080/"
        },
        "id": "P7oJGvTr5GmL",
        "outputId": "cccd0250-5e8d-483b-fafd-e6947b000938"
      },
      "execution_count": 94,
      "outputs": [
        {
          "output_type": "execute_result",
          "data": {
            "text/plain": [
              "({1: 100, 2: 3, 3: 4}, {1: 10, 2: 3, 3: 4})"
            ]
          },
          "metadata": {},
          "execution_count": 94
        }
      ]
    },
    {
      "cell_type": "code",
      "source": [
        "a = {1: [2, 2, 2], 2: [1, 1, 1]}\n",
        "b = a.copy()\n",
        "a[1][0] = 100\n",
        "a, b"
      ],
      "metadata": {
        "colab": {
          "base_uri": "https://localhost:8080/"
        },
        "id": "ZXtBwY2m5MVt",
        "outputId": "051bea22-c607-414a-de28-1b01ffab10da"
      },
      "execution_count": 95,
      "outputs": [
        {
          "output_type": "execute_result",
          "data": {
            "text/plain": [
              "({1: [100, 2, 2], 2: [1, 1, 1]}, {1: [100, 2, 2], 2: [1, 1, 1]})"
            ]
          },
          "metadata": {},
          "execution_count": 95
        }
      ]
    },
    {
      "cell_type": "code",
      "source": [
        "# 깊은 복사\n",
        "import copy\n",
        "b = copy.deepcopy(a)\n",
        "a[1][0] = 9\n",
        "a, b"
      ],
      "metadata": {
        "colab": {
          "base_uri": "https://localhost:8080/"
        },
        "id": "1vLFrWSl5MSQ",
        "outputId": "a53437fe-b332-41e8-81c8-d6b69fb3ae73"
      },
      "execution_count": 96,
      "outputs": [
        {
          "output_type": "execute_result",
          "data": {
            "text/plain": [
              "({1: [9, 2, 2], 2: [1, 1, 1]}, {1: [100, 2, 2], 2: [1, 1, 1]})"
            ]
          },
          "metadata": {},
          "execution_count": 96
        }
      ]
    },
    {
      "cell_type": "code",
      "source": [
        "# 값 비교 : 크다 작다(x), 같다 다르다(o)\n",
        "a != b"
      ],
      "metadata": {
        "colab": {
          "base_uri": "https://localhost:8080/"
        },
        "id": "GW16bPN15MPq",
        "outputId": "e0f3f88e-0e6d-455f-8109-4edec8ddc25b"
      },
      "execution_count": 97,
      "outputs": [
        {
          "output_type": "execute_result",
          "data": {
            "text/plain": [
              "True"
            ]
          },
          "metadata": {},
          "execution_count": 97
        }
      ]
    },
    {
      "cell_type": "markdown",
      "source": [
        "#### Quiz4\n",
        "- 두 개 리스트를 딕셔너리로 만든다. {한국어: 영어}\n",
        "- 명왕성 pluto 추가하기\n",
        "- '성'으로 끝나지 않은 단어 삭제하기\n",
        "    - del sdict['태양'] => 하드코딩 안됨\n",
        "- sorted i) kor ii) eng"
      ],
      "metadata": {
        "id": "RAk1TmT95wq0"
      }
    },
    {
      "cell_type": "code",
      "source": [
        "solar_kor = '태양 수성 금성 지구 화성 목성 토성 천왕성 해왕성'.split()\n",
        "solar_eng = 'sun mercury venus earth mars jupiter saturn uranus neptune'.split()"
      ],
      "metadata": {
        "id": "xKpEJYRz5MM0"
      },
      "execution_count": 98,
      "outputs": []
    },
    {
      "cell_type": "code",
      "source": [
        "# correct answer1\n",
        "solar_dict = dict()\n",
        "for kor, eng in zip(solar_kor, solar_eng):\n",
        "  solar_dict[kor] = eng\n",
        "\n",
        "solar_dict['명왕성'] = 'pluto'\n",
        "\n",
        "solar_system = {k:solar_dict[k] for k in solar_dict if k.endswith('성')}\n",
        "sorted(solar_system.items(), key = lambda x: x[1])"
      ],
      "metadata": {
        "colab": {
          "base_uri": "https://localhost:8080/"
        },
        "id": "gmxPOE-cJA2j",
        "outputId": "3604453a-77d5-4b60-90cd-9227d3525785"
      },
      "execution_count": 99,
      "outputs": [
        {
          "output_type": "execute_result",
          "data": {
            "text/plain": [
              "[('목성', 'jupiter'),\n",
              " ('화성', 'mars'),\n",
              " ('수성', 'mercury'),\n",
              " ('해왕성', 'neptune'),\n",
              " ('명왕성', 'pluto'),\n",
              " ('토성', 'saturn'),\n",
              " ('천왕성', 'uranus'),\n",
              " ('금성', 'venus')]"
            ]
          },
          "metadata": {},
          "execution_count": 99
        }
      ]
    },
    {
      "cell_type": "code",
      "source": [
        "# correct answer2\n",
        "solar_dict = dict()\n",
        "for kor, eng in zip(solar_kor, solar_eng):\n",
        "  solar_dict[kor] = eng\n",
        "\n",
        "solar_dict['명왕성'] = 'pluto'\n",
        "\n",
        "# 여기만 다름\n",
        "solar = {k:v for k, v in solar_dict.items() if k.endswith('성')}\n",
        "sorted(solar.items(), key = lambda x: x[1])"
      ],
      "metadata": {
        "colab": {
          "base_uri": "https://localhost:8080/"
        },
        "id": "xQ2PFfII6Wq5",
        "outputId": "6af04e1d-4a05-4c21-d152-49565037c44a"
      },
      "execution_count": 100,
      "outputs": [
        {
          "output_type": "execute_result",
          "data": {
            "text/plain": [
              "[('목성', 'jupiter'),\n",
              " ('화성', 'mars'),\n",
              " ('수성', 'mercury'),\n",
              " ('해왕성', 'neptune'),\n",
              " ('명왕성', 'pluto'),\n",
              " ('토성', 'saturn'),\n",
              " ('천왕성', 'uranus'),\n",
              " ('금성', 'venus')]"
            ]
          },
          "metadata": {},
          "execution_count": 100
        }
      ]
    },
    {
      "cell_type": "markdown",
      "source": [
        "### 1-6. 딕셔너리 컴프리헨션\n",
        "- {키_표현식:값_표현식 for 표현식 in 순회 가능한 객체}\n",
        "- 정렬된 딕셔너리 순회 -> set() 사용\n",
        "- 조건 추가 -> 기존 리스트컴프리헨션과 같이 if 사용"
      ],
      "metadata": {
        "id": "Cvl9i7QNMXj4"
      }
    },
    {
      "cell_type": "code",
      "source": [
        "accusation = {'room': 'ballroom', 'weapon' : 'lead pipe', 'person': 'Col.Mustard'}\n",
        "\n",
        "for k, v in accusation.items():\n",
        "  print(f'{k} has the contents {v}')"
      ],
      "metadata": {
        "colab": {
          "base_uri": "https://localhost:8080/"
        },
        "id": "RsIOEzvHAmRS",
        "outputId": "ba42f4ed-feb5-4609-cba5-1704f460db3c"
      },
      "execution_count": 101,
      "outputs": [
        {
          "output_type": "stream",
          "name": "stdout",
          "text": [
            "room has the contents ballroom\n",
            "weapon has the contents lead pipe\n",
            "person has the contents Col.Mustard\n"
          ]
        }
      ]
    },
    {
      "cell_type": "code",
      "source": [
        "letter = 'apple'\n",
        "# {a: 1, p: 2,...}\n",
        "{ch: letter. count(ch) for ch in set(letter)}  \n",
        "# set()으로 중복요소 제거 및 정렬"
      ],
      "metadata": {
        "colab": {
          "base_uri": "https://localhost:8080/"
        },
        "id": "dtx2GIVMDMeh",
        "outputId": "04d27e19-fb37-4041-d1f8-c79fb79bc353"
      },
      "execution_count": 102,
      "outputs": [
        {
          "output_type": "execute_result",
          "data": {
            "text/plain": [
              "{'a': 1, 'e': 1, 'l': 1, 'p': 2}"
            ]
          },
          "metadata": {},
          "execution_count": 102
        }
      ]
    },
    {
      "cell_type": "code",
      "source": [
        "vowels = 'aeiou'\n",
        "word = 'onomatopoeia'\n",
        "\n",
        "# 주어진 단어의 모음 세기\n",
        "# vowels -> word 각각 기준 잡아서 dic compre 이용해서 만들기\n",
        "\n",
        "#1. vowels 순회\n",
        "vowels_count = {v: word.count(v) for v in vowels}\n",
        "print(vowels_count)"
      ],
      "metadata": {
        "colab": {
          "base_uri": "https://localhost:8080/"
        },
        "id": "qj1bzYTBDMa0",
        "outputId": "2630aebb-ecb3-4aa9-c166-1bf53fb04c1b"
      },
      "execution_count": 103,
      "outputs": [
        {
          "output_type": "stream",
          "name": "stdout",
          "text": [
            "{'a': 2, 'e': 1, 'i': 1, 'o': 4, 'u': 0}\n"
          ]
        }
      ]
    },
    {
      "cell_type": "code",
      "source": [
        "#2. word 순회 -> 자음 빼기   \n",
        "word_list = {ch: word.count(ch) for ch in set(word) if ch in vowels}\n",
        "print(word_list)"
      ],
      "metadata": {
        "colab": {
          "base_uri": "https://localhost:8080/"
        },
        "id": "uVLPpAFE29m6",
        "outputId": "7bd41a15-0d27-4dc8-898b-aef5a63bddba"
      },
      "execution_count": 104,
      "outputs": [
        {
          "output_type": "stream",
          "name": "stdout",
          "text": [
            "{'e': 1, 'o': 4, 'a': 2, 'i': 1}\n"
          ]
        }
      ]
    },
    {
      "cell_type": "markdown",
      "source": [
        "## 2. Set\n",
        "- ***딕셔너리의 키만 모아놓음 => 중복없음!(딕셔너리와 마찬가지로 각 키는 고유함)\n",
        "- 수학의 집합 개념 => 교집합, 차집합, 합집합, ...\n",
        "- 데이터 자료\n",
        "- 순서없고, 인덱싱 없음"
      ],
      "metadata": {
        "id": "IIIdX7vrG8I7"
      }
    },
    {
      "cell_type": "markdown",
      "source": [
        "### 2-1. 셋 생성하기\n",
        "- set() 함수 사용하거나 중괄호 안에 콤마로 구분된 값 넣기\n",
        "- 셋은 순서와 상관없이 저장됨\n",
        "\n",
        "**{}은 빈 딕셔너리를 생성, set 생성은 set()으로만 가능*"
      ],
      "metadata": {
        "id": "G8D_-QK2VCvl"
      }
    },
    {
      "cell_type": "code",
      "source": [
        "# set 생성하기 - set()\n",
        "empty = set()\n",
        "empty1 = {}  # dict\n",
        "empty, empty1"
      ],
      "metadata": {
        "colab": {
          "base_uri": "https://localhost:8080/"
        },
        "id": "ubkZ6b0oHNWF",
        "outputId": "b1f01326-1683-4aa6-ff76-7bad43e43d4d"
      },
      "execution_count": 105,
      "outputs": [
        {
          "output_type": "execute_result",
          "data": {
            "text/plain": [
              "(set(), {})"
            ]
          },
          "metadata": {},
          "execution_count": 105
        }
      ]
    },
    {
      "cell_type": "code",
      "source": [
        "# set 생성 - 중괄호 안에 콤마로 구분된 값 넣기\n",
        "a = {1, 2, 3}\n",
        "type(a)"
      ],
      "metadata": {
        "colab": {
          "base_uri": "https://localhost:8080/"
        },
        "id": "PITCFsauHUom",
        "outputId": "782a530b-ad3b-4720-a4a8-5639b3edffb9"
      },
      "execution_count": 106,
      "outputs": [
        {
          "output_type": "execute_result",
          "data": {
            "text/plain": [
              "set"
            ]
          },
          "metadata": {},
          "execution_count": 106
        }
      ]
    },
    {
      "cell_type": "markdown",
      "source": [
        "### 2-2. 변환하기\n",
        "- 리스트, 문자열, 튜플, 딕셔너리에서 중복된 값 삭제하여 셋 생성 가능\n"
      ],
      "metadata": {
        "id": "Uy3YKW03WAkn"
      }
    },
    {
      "cell_type": "code",
      "source": [
        "# 리스트를 셋으로 변환\n",
        "hero_set = set(['Thor', 'Ironman', 'Hurk', 'Hurk', 'Captain America', 'Thor'])\n",
        "hero_set"
      ],
      "metadata": {
        "colab": {
          "base_uri": "https://localhost:8080/"
        },
        "id": "yI8bx6pGHfkR",
        "outputId": "1e9afaaf-8142-4895-b21f-ca49d9229941"
      },
      "execution_count": 107,
      "outputs": [
        {
          "output_type": "execute_result",
          "data": {
            "text/plain": [
              "{'Captain America', 'Hurk', 'Ironman', 'Thor'}"
            ]
          },
          "metadata": {},
          "execution_count": 107
        }
      ]
    },
    {
      "cell_type": "code",
      "source": [
        "# 문자열을 셋으로 변환\n",
        "str_set = set( 'character' )\n",
        "str_set"
      ],
      "metadata": {
        "colab": {
          "base_uri": "https://localhost:8080/"
        },
        "id": "_UfMH03kXGBU",
        "outputId": "11f10fec-2c5a-4fdf-fa21-db1caf4f2d97"
      },
      "execution_count": 108,
      "outputs": [
        {
          "output_type": "execute_result",
          "data": {
            "text/plain": [
              "{'a', 'c', 'e', 'h', 'r', 't'}"
            ]
          },
          "metadata": {},
          "execution_count": 108
        }
      ]
    },
    {
      "cell_type": "code",
      "source": [
        "# 튜플을 셋으로 변환\n",
        "color_set = set(('blue', 'yellow', 'green', 'red', 'blue', 'pupple', 'pupple', 'red'))\n",
        "color_set"
      ],
      "metadata": {
        "colab": {
          "base_uri": "https://localhost:8080/"
        },
        "id": "nKi2UWeVHX7a",
        "outputId": "f24f9935-0772-40b1-f038-5f08cc742aa5"
      },
      "execution_count": 109,
      "outputs": [
        {
          "output_type": "execute_result",
          "data": {
            "text/plain": [
              "{'blue', 'green', 'pupple', 'red', 'yellow'}"
            ]
          },
          "metadata": {},
          "execution_count": 109
        }
      ]
    },
    {
      "cell_type": "code",
      "source": [
        "# 딕셔너리에 set() 사용 -> 키만 사용\n",
        "fruit_color_set = set({'bananna': 'yellow', 'grape': 'pupple', 'mango': 'yellow', 'durian': 'green'})\n",
        "fruit_color_set"
      ],
      "metadata": {
        "colab": {
          "base_uri": "https://localhost:8080/"
        },
        "id": "4uq_c75RW9uD",
        "outputId": "dd340f94-a47a-49d5-860a-2ad833cb132d"
      },
      "execution_count": 110,
      "outputs": [
        {
          "output_type": "execute_result",
          "data": {
            "text/plain": [
              "{'bananna', 'durian', 'grape', 'mango'}"
            ]
          },
          "metadata": {},
          "execution_count": 110
        }
      ]
    },
    {
      "cell_type": "markdown",
      "source": [
        "### 2-3. 추가하기\n",
        "- add() 활용하여 셋에 항목 추가"
      ],
      "metadata": {
        "id": "Ry82qnPjYAct"
      }
    },
    {
      "cell_type": "code",
      "source": [
        "# add()로 셋에 항목 추가하기\n",
        "hero_set.add('Black Widow')\n",
        "hero_set"
      ],
      "metadata": {
        "colab": {
          "base_uri": "https://localhost:8080/"
        },
        "id": "qgVKgZzwHlqj",
        "outputId": "df574157-ddfe-4254-c083-b194e16478ad"
      },
      "execution_count": 111,
      "outputs": [
        {
          "output_type": "execute_result",
          "data": {
            "text/plain": [
              "{'Black Widow', 'Captain America', 'Hurk', 'Ironman', 'Thor'}"
            ]
          },
          "metadata": {},
          "execution_count": 111
        }
      ]
    },
    {
      "cell_type": "markdown",
      "source": [
        "### 2-4. 삭제하기\n",
        "- remove() 활용하여 값으로 항목 삭제"
      ],
      "metadata": {
        "id": "h8kZPXEgYhAX"
      }
    },
    {
      "cell_type": "code",
      "source": [
        "# remove()로 셋에서 항목 삭제\n",
        "color_set.remove('pupple')\n",
        "color_set"
      ],
      "metadata": {
        "colab": {
          "base_uri": "https://localhost:8080/"
        },
        "id": "zKthXZYWHpXX",
        "outputId": "2135f23c-d694-49fe-a2af-98505df7ec49"
      },
      "execution_count": 112,
      "outputs": [
        {
          "output_type": "execute_result",
          "data": {
            "text/plain": [
              "{'blue', 'green', 'red', 'yellow'}"
            ]
          },
          "metadata": {},
          "execution_count": 112
        }
      ]
    },
    {
      "cell_type": "code",
      "source": [
        "# discard() 활용하여 항목 삭제\n",
        "color_set.discard('red')\n",
        "color_set"
      ],
      "metadata": {
        "colab": {
          "base_uri": "https://localhost:8080/"
        },
        "id": "o0_2xI75Hs4D",
        "outputId": "4bac97b6-a04f-42db-eaf3-517991d10bf2"
      },
      "execution_count": 113,
      "outputs": [
        {
          "output_type": "execute_result",
          "data": {
            "text/plain": [
              "{'blue', 'green', 'yellow'}"
            ]
          },
          "metadata": {},
          "execution_count": 113
        }
      ]
    },
    {
      "cell_type": "code",
      "source": [
        "drinks = {\n",
        "    'martini': {'vodka', 'vermouth'},\n",
        "    'black russian': {'vodka', 'kahlua'},\n",
        "    'white russian': {'cream', 'kahlua', 'vodka'},\n",
        "    'mahatten': {'rye', 'vermouth', 'bitters'},\n",
        "    'screwdriver': {'orange juice', 'vodka'}\n",
        "}\n",
        "\n",
        "#1. vodka가 포함된 음료 골라내기\n",
        "for k,v in drinks.items():\n",
        "  if 'vodka' in v:\n",
        "    print(k)"
      ],
      "metadata": {
        "colab": {
          "base_uri": "https://localhost:8080/"
        },
        "id": "Dh7qQvr3HvYw",
        "outputId": "e28eece8-4037-4eac-e687-a9594dc3e5da"
      },
      "execution_count": 114,
      "outputs": [
        {
          "output_type": "stream",
          "name": "stdout",
          "text": [
            "martini\n",
            "black russian\n",
            "white russian\n",
            "screwdriver\n"
          ]
        }
      ]
    },
    {
      "cell_type": "code",
      "source": [
        "#2. 보드카는 있는데 크림이나 버무스가 있으면 프린트하지 않기\n",
        "{k for k,v in drinks.items() if 'vodka' in v and 'cream' not in v and 'vermouth' not in v}"
      ],
      "metadata": {
        "colab": {
          "base_uri": "https://localhost:8080/"
        },
        "id": "GZBFuE-NZS7B",
        "outputId": "580c1f23-7283-4423-e915-ea2f6bde9108"
      },
      "execution_count": 115,
      "outputs": [
        {
          "output_type": "execute_result",
          "data": {
            "text/plain": [
              "{'black russian', 'screwdriver'}"
            ]
          },
          "metadata": {},
          "execution_count": 115
        }
      ]
    },
    {
      "cell_type": "code",
      "source": [
        "#2에 대한 교재 예시(for문 사용)\n",
        "for k, v in drinks.items():\n",
        "  if 'vodka' in v and not ('vermouth' in v or 'cream' in v):\n",
        "    print(k)"
      ],
      "metadata": {
        "colab": {
          "base_uri": "https://localhost:8080/"
        },
        "id": "eTZk645jJhvh",
        "outputId": "0e6093ab-2c1f-4bc8-cc9e-b1d58466e91d"
      },
      "execution_count": 116,
      "outputs": [
        {
          "output_type": "stream",
          "name": "stdout",
          "text": [
            "black russian\n",
            "screwdriver\n"
          ]
        }
      ]
    },
    {
      "cell_type": "markdown",
      "source": [
        "### 2-5. 콤비네이션과 연산자\n",
        "- 교집합 | intersection\n",
        "    - `&` 연산자와 intersection() 메서드 사용\n",
        "- 합집합 | union\n",
        "    - `|` 연산자와 union() 메서드 사용\n",
        "- 차집합 | difference\n",
        "    - `-` 연산자와 difference() 메서드 사용"
      ],
      "metadata": {
        "id": "14priQXOaj4P"
      }
    },
    {
      "cell_type": "code",
      "source": [
        "a = {1, 2, 3}\n",
        "b = {2, 3, 4}\n",
        "\n",
        "# 교집합: intersection\n",
        "a.intersection(b)   # a & b"
      ],
      "metadata": {
        "colab": {
          "base_uri": "https://localhost:8080/"
        },
        "id": "_14gMjAeJz3o",
        "outputId": "654aeb75-c7c4-430a-94d1-e0476cafa67f"
      },
      "execution_count": 117,
      "outputs": [
        {
          "output_type": "execute_result",
          "data": {
            "text/plain": [
              "{2, 3}"
            ]
          },
          "metadata": {},
          "execution_count": 117
        }
      ]
    },
    {
      "cell_type": "code",
      "source": [
        "# 합집합: union\n",
        "a.union(b)   # a|b"
      ],
      "metadata": {
        "colab": {
          "base_uri": "https://localhost:8080/"
        },
        "id": "C6GRmK8hbwBF",
        "outputId": "a1b2ddf6-791a-4676-ab8e-b85d9b21c8b0"
      },
      "execution_count": 118,
      "outputs": [
        {
          "output_type": "execute_result",
          "data": {
            "text/plain": [
              "{1, 2, 3, 4}"
            ]
          },
          "metadata": {},
          "execution_count": 118
        }
      ]
    },
    {
      "cell_type": "code",
      "source": [
        "# 차집합: difference\n",
        "a.difference(b)   # a - b"
      ],
      "metadata": {
        "colab": {
          "base_uri": "https://localhost:8080/"
        },
        "id": "yZO3dP3cb2re",
        "outputId": "e06abd9b-0281-4a1a-fc68-79b0ebe2a9fa"
      },
      "execution_count": 119,
      "outputs": [
        {
          "output_type": "execute_result",
          "data": {
            "text/plain": [
              "{1}"
            ]
          },
          "metadata": {},
          "execution_count": 119
        }
      ]
    },
    {
      "cell_type": "code",
      "source": [
        "b.difference(a)    # b - a"
      ],
      "metadata": {
        "colab": {
          "base_uri": "https://localhost:8080/"
        },
        "id": "nxHNyCHRb8Py",
        "outputId": "6554a312-e37a-489b-d990-b57753cd42c7"
      },
      "execution_count": 120,
      "outputs": [
        {
          "output_type": "execute_result",
          "data": {
            "text/plain": [
              "{4}"
            ]
          },
          "metadata": {},
          "execution_count": 120
        }
      ]
    },
    {
      "cell_type": "code",
      "source": [
        "'''\n",
        "#2에 대한 교재 예시(for문 사용)\n",
        "for k, v in drinks.items():\n",
        "  if 'vodka' in v and not ('vermouth' in v or 'cream' in v):\n",
        "    print(k)\n",
        "'''\n",
        "# 위 코드를 교집합 이용해서 바꾸기\n",
        "for k, v in drinks.items():\n",
        "  if 'vodka' in v and not v & {'vermouth', 'cream'}:\n",
        "    print(k)"
      ],
      "metadata": {
        "colab": {
          "base_uri": "https://localhost:8080/"
        },
        "id": "HCawp5IucPth",
        "outputId": "86e5bdcb-d0ff-4185-bf2c-466750f2019f"
      },
      "execution_count": 121,
      "outputs": [
        {
          "output_type": "stream",
          "name": "stdout",
          "text": [
            "black russian\n",
            "screwdriver\n"
          ]
        }
      ]
    },
    {
      "cell_type": "markdown",
      "source": [
        "### 2-6. set comprehension\n",
        "- 리스트, 딕셔너리 컴프리헨션과 같은 모양\n",
        "- `{표현식 for 표현식 in 순회 가능한 객체}`\n",
        "- for문, if문 사용 가능\n",
        "    - `{표현식 for 표현식 in 순회 가능한 객체 if 테스트}`"
      ],
      "metadata": {
        "id": "hZV53ZEZdjam"
      }
    },
    {
      "cell_type": "code",
      "source": [
        "# comprehension\n",
        "{s for s in str_set}"
      ],
      "metadata": {
        "colab": {
          "base_uri": "https://localhost:8080/"
        },
        "id": "HZef1pXoLJyL",
        "outputId": "e7d4016f-6d9b-46b0-e81d-f2590dbd6e45"
      },
      "execution_count": 122,
      "outputs": [
        {
          "output_type": "execute_result",
          "data": {
            "text/plain": [
              "{'a', 'c', 'e', 'h', 'r', 't'}"
            ]
          },
          "metadata": {},
          "execution_count": 122
        }
      ]
    },
    {
      "cell_type": "markdown",
      "source": [
        "### 2-7. 불변 셋 생성하기\n",
        "- frozenset() 함수와 인수로 순회 가능한 객체 사용"
      ],
      "metadata": {
        "id": "Ua3X6LTXeLP0"
      }
    },
    {
      "cell_type": "code",
      "source": [
        "# frozenset (참고)\n",
        "fs = frozenset([1, 2, 3])\n",
        "fs"
      ],
      "metadata": {
        "colab": {
          "base_uri": "https://localhost:8080/"
        },
        "id": "yrX4M32LeSa_",
        "outputId": "bd124da4-c27e-4b9b-f2d7-8fa8e5ed4492"
      },
      "execution_count": 123,
      "outputs": [
        {
          "output_type": "execute_result",
          "data": {
            "text/plain": [
              "frozenset({1, 2, 3})"
            ]
          },
          "metadata": {},
          "execution_count": 123
        }
      ]
    },
    {
      "cell_type": "markdown",
      "source": [
        "#### task\n",
        "- 팀 단위로 task \n",
        "- 기한은 수요일 자정까지\n",
        "- 100점, 70점, 50점,...\n"
      ],
      "metadata": {
        "id": "aBYaa2BkLf_n"
      }
    },
    {
      "cell_type": "code",
      "source": [
        "# pylint -> \n",
        "# pydocstyle -> style"
      ],
      "metadata": {
        "id": "JYpi3BWvMGFv"
      },
      "execution_count": 124,
      "outputs": []
    },
    {
      "cell_type": "code",
      "source": [
        "!pip install pylint\n",
        "!pylint example.py  # 3 / 10\n",
        "\n",
        "!pip install pydocstyle\n",
        "!pydocstyle exampla.py"
      ],
      "metadata": {
        "colab": {
          "base_uri": "https://localhost:8080/"
        },
        "id": "F6tV6PrPL4JJ",
        "outputId": "8a6c873f-8a86-43d6-ea52-373aff13a006"
      },
      "execution_count": 125,
      "outputs": [
        {
          "output_type": "stream",
          "name": "stdout",
          "text": [
            "Collecting pylint\n",
            "  Downloading pylint-2.13.8-py3-none-any.whl (438 kB)\n",
            "\u001b[K     |████████████████████████████████| 438 kB 5.3 MB/s \n",
            "\u001b[?25hRequirement already satisfied: dill>=0.2 in /usr/local/lib/python3.7/dist-packages (from pylint) (0.3.4)\n",
            "Collecting isort<6,>=4.2.5\n",
            "  Downloading isort-5.10.1-py3-none-any.whl (103 kB)\n",
            "\u001b[K     |████████████████████████████████| 103 kB 66.0 MB/s \n",
            "\u001b[?25hCollecting astroid<=2.12.0-dev0,>=2.11.3\n",
            "  Downloading astroid-2.11.4-py3-none-any.whl (250 kB)\n",
            "\u001b[K     |████████████████████████████████| 250 kB 59.2 MB/s \n",
            "\u001b[?25hRequirement already satisfied: typing-extensions>=3.10.0 in /usr/local/lib/python3.7/dist-packages (from pylint) (4.2.0)\n",
            "Requirement already satisfied: tomli>=1.1.0 in /usr/local/lib/python3.7/dist-packages (from pylint) (2.0.1)\n",
            "Collecting platformdirs>=2.2.0\n",
            "  Downloading platformdirs-2.5.2-py3-none-any.whl (14 kB)\n",
            "Collecting mccabe<0.8,>=0.6\n",
            "  Downloading mccabe-0.7.0-py2.py3-none-any.whl (7.3 kB)\n",
            "Requirement already satisfied: setuptools>=20.0 in /usr/local/lib/python3.7/dist-packages (from astroid<=2.12.0-dev0,>=2.11.3->pylint) (57.4.0)\n",
            "Collecting typed-ast<2.0,>=1.4.0\n",
            "  Downloading typed_ast-1.5.3-cp37-cp37m-manylinux_2_5_x86_64.manylinux1_x86_64.manylinux_2_12_x86_64.manylinux2010_x86_64.whl (843 kB)\n",
            "\u001b[K     |████████████████████████████████| 843 kB 56.1 MB/s \n",
            "\u001b[?25hRequirement already satisfied: wrapt<2,>=1.11 in /usr/local/lib/python3.7/dist-packages (from astroid<=2.12.0-dev0,>=2.11.3->pylint) (1.14.0)\n",
            "Collecting lazy-object-proxy>=1.4.0\n",
            "  Downloading lazy_object_proxy-1.7.1-cp37-cp37m-manylinux_2_5_x86_64.manylinux1_x86_64.manylinux_2_17_x86_64.manylinux2014_x86_64.whl (57 kB)\n",
            "\u001b[K     |████████████████████████████████| 57 kB 6.0 MB/s \n",
            "\u001b[?25hInstalling collected packages: typed-ast, lazy-object-proxy, platformdirs, mccabe, isort, astroid, pylint\n",
            "Successfully installed astroid-2.11.4 isort-5.10.1 lazy-object-proxy-1.7.1 mccabe-0.7.0 platformdirs-2.5.2 pylint-2.13.8 typed-ast-1.5.3\n",
            "************* Module example.py\n",
            "example.py:1:0: F0001: No module named example.py (fatal)\n",
            "Collecting pydocstyle\n",
            "  Downloading pydocstyle-6.1.1-py3-none-any.whl (37 kB)\n",
            "Requirement already satisfied: snowballstemmer in /usr/local/lib/python3.7/dist-packages (from pydocstyle) (2.2.0)\n",
            "Installing collected packages: pydocstyle\n",
            "Successfully installed pydocstyle-6.1.1\n",
            "WARNING: Error in file exampla.py: [Errno 2] No such file or directory: 'exampla.py'\n"
          ]
        }
      ]
    },
    {
      "cell_type": "markdown",
      "source": [
        "#### 교재 Quiz\n",
        "- 1. 영어-프랑스어 사전을 의미하는 e2f 딕셔너리를 만들어 출력하기(영어 dog는 프랑스어 chien이고, cat은 chat, walrus는 morse이다.\n",
        "- 2. e2f 딕셔너리에서 영어 walrus를 프랑스어로 출력하기\n",
        "- 3. e2f 딕셔너리에서 f2e 딕셔너리라는 영어-프랑스어 사전을 만들기(items 메서드 사용)\n",
        "- 4. e2f 딕셔너리를 사용해서 프랑스어 chien을 영어로 출력하기\n",
        "- 5. e2f 딕셔너리의 영어 단어 키들을 출력하기\n",
        "- 6. 딕셔너리 컴프리헨션으로 squares 딕셔너리 생성. range(10)을 키로 하고, 각 키의 제곱을 값으로 한다\n",
        "- 7. 셋 컴프리헨션을 이용하여 range(10)에서 홀수 셋 만들기\n",
        "- 8. zip() 사용해서 딕셔너리 생성. 키로('optimist', 'pessimist', 'troll') 튜플을 사용, 값으로 ('The glass is half full', 'The glass is half empty', 'How did you get a glass?') 튜플 사용\n",
        "- 9. zip() 사용하여 다음 두 리스트를 짝으로 하는 movies 딕셔너리 만들기\n",
        " `titles = ['Creature of Habit', 'Crewel Fate']`\n",
        " `plots = ['A nun turns into a mon ster', 'A haunted yarn shop']`"
      ],
      "metadata": {
        "id": "yW3wSkkoeixo"
      }
    },
    {
      "cell_type": "code",
      "source": [
        "# 1. \n",
        "e2f = dict(dog = 'chien', cat = 'chat', walrus = 'morse')\n",
        "e2f"
      ],
      "metadata": {
        "colab": {
          "base_uri": "https://localhost:8080/"
        },
        "id": "3O9nNiGYeiXZ",
        "outputId": "ea81158d-9d45-496e-b380-32e8abbb7dcf"
      },
      "execution_count": 126,
      "outputs": [
        {
          "output_type": "execute_result",
          "data": {
            "text/plain": [
              "{'cat': 'chat', 'dog': 'chien', 'walrus': 'morse'}"
            ]
          },
          "metadata": {},
          "execution_count": 126
        }
      ]
    },
    {
      "cell_type": "code",
      "source": [
        "# 2.\n",
        "e2f['walrus']"
      ],
      "metadata": {
        "colab": {
          "base_uri": "https://localhost:8080/",
          "height": 36
        },
        "id": "5RbW8lMDhHWI",
        "outputId": "6fbf251a-d5f6-4b8b-c48a-3cae406bb360"
      },
      "execution_count": 127,
      "outputs": [
        {
          "output_type": "execute_result",
          "data": {
            "text/plain": [
              "'morse'"
            ],
            "application/vnd.google.colaboratory.intrinsic+json": {
              "type": "string"
            }
          },
          "metadata": {},
          "execution_count": 127
        }
      ]
    },
    {
      "cell_type": "code",
      "source": [
        "# 3.\n",
        "f2e = {}\n",
        "\n",
        "for k, v in e2f.items():\n",
        "  f2e[v] = k\n",
        "\n",
        "f2e"
      ],
      "metadata": {
        "colab": {
          "base_uri": "https://localhost:8080/"
        },
        "id": "M5lNyLutnZrc",
        "outputId": "d5e92144-87e9-4af1-b83f-904ce914ce43"
      },
      "execution_count": 128,
      "outputs": [
        {
          "output_type": "execute_result",
          "data": {
            "text/plain": [
              "{'chat': 'cat', 'chien': 'dog', 'morse': 'walrus'}"
            ]
          },
          "metadata": {},
          "execution_count": 128
        }
      ]
    },
    {
      "cell_type": "code",
      "source": [
        "# 4.\n",
        "for k in e2f:\n",
        "  if e2f[k] == 'chien':\n",
        "    print(k)"
      ],
      "metadata": {
        "colab": {
          "base_uri": "https://localhost:8080/"
        },
        "id": "QXqVZOYgjjAF",
        "outputId": "64d67403-4876-4d92-b9eb-f33c963b4e02"
      },
      "execution_count": 130,
      "outputs": [
        {
          "output_type": "stream",
          "name": "stdout",
          "text": [
            "dog\n"
          ]
        }
      ]
    },
    {
      "cell_type": "code",
      "source": [
        "# 5.\n",
        "e2f.keys()"
      ],
      "metadata": {
        "colab": {
          "base_uri": "https://localhost:8080/"
        },
        "id": "RtROKED5l3kc",
        "outputId": "8219a368-ec7b-4d3e-a252-de7feab6b196"
      },
      "execution_count": 129,
      "outputs": [
        {
          "output_type": "execute_result",
          "data": {
            "text/plain": [
              "dict_keys(['dog', 'cat', 'walrus'])"
            ]
          },
          "metadata": {},
          "execution_count": 129
        }
      ]
    },
    {
      "cell_type": "code",
      "source": [
        "# 6.\n",
        "squares = {k: k ** 2 for k in range(10)}\n",
        "squares"
      ],
      "metadata": {
        "colab": {
          "base_uri": "https://localhost:8080/"
        },
        "id": "oYLG-0yyl9HL",
        "outputId": "e376a9e0-dc60-4510-82cb-7a993177bfc1"
      },
      "execution_count": 131,
      "outputs": [
        {
          "output_type": "execute_result",
          "data": {
            "text/plain": [
              "{0: 0, 1: 1, 2: 4, 3: 9, 4: 16, 5: 25, 6: 36, 7: 49, 8: 64, 9: 81}"
            ]
          },
          "metadata": {},
          "execution_count": 131
        }
      ]
    },
    {
      "cell_type": "code",
      "source": [
        "# 7.\n",
        "odd_set = {num for num in range(10) if num % 2 == 1}\n",
        "odd_set"
      ],
      "metadata": {
        "colab": {
          "base_uri": "https://localhost:8080/"
        },
        "id": "XKn2Ko9-mfO2",
        "outputId": "9c24564d-defa-428d-8e3a-ab4d524cac05"
      },
      "execution_count": 38,
      "outputs": [
        {
          "output_type": "execute_result",
          "data": {
            "text/plain": [
              "{1, 3, 5, 7, 9}"
            ]
          },
          "metadata": {},
          "execution_count": 38
        }
      ]
    },
    {
      "cell_type": "code",
      "source": [
        "# 8.\n",
        "character = ('optimist', 'pessimist', 'troll')\n",
        "judgement = ('The glass is half full', 'The glass is half empty', 'How did you get a glass?')\n",
        "\n",
        "ch_judge = {}\n",
        "for key, value in zip(character, judgement):\n",
        "  ch_judge[key] = value\n",
        "\n",
        "ch_judge"
      ],
      "metadata": {
        "colab": {
          "base_uri": "https://localhost:8080/"
        },
        "id": "9l5De6PQm1lc",
        "outputId": "9fa13359-a1b6-454f-8221-fa5df19b6f2c"
      },
      "execution_count": 132,
      "outputs": [
        {
          "output_type": "execute_result",
          "data": {
            "text/plain": [
              "{'optimist': 'The glass is half full',\n",
              " 'pessimist': 'The glass is half empty',\n",
              " 'troll': 'How did you get a glass?'}"
            ]
          },
          "metadata": {},
          "execution_count": 132
        }
      ]
    },
    {
      "cell_type": "code",
      "source": [
        "# 9.\n",
        "titles = ['Creature of Habit', 'Crewel Fate']\n",
        "plots = ['A nun turns into a mon ster', 'A haunted yarn shop']\n",
        "\n",
        "movies = dict()\n",
        "\n",
        "for k, v in zip(titles, plots):\n",
        "  movies[k] = v\n",
        "\n",
        "movies"
      ],
      "metadata": {
        "colab": {
          "base_uri": "https://localhost:8080/"
        },
        "id": "g3NFhpSMm9uk",
        "outputId": "a3f2ad68-37fb-43c7-e8c8-b43451a81f86"
      },
      "execution_count": 133,
      "outputs": [
        {
          "output_type": "execute_result",
          "data": {
            "text/plain": [
              "{'Creature of Habit': 'A nun turns into a mon ster',\n",
              " 'Crewel Fate': 'A haunted yarn shop'}"
            ]
          },
          "metadata": {},
          "execution_count": 133
        }
      ]
    }
  ]
}