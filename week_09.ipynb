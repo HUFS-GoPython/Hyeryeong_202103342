{
  "nbformat": 4,
  "nbformat_minor": 0,
  "metadata": {
    "colab": {
      "name": "week_09.ipynb",
      "provenance": [],
      "collapsed_sections": [],
      "authorship_tag": "ABX9TyNjvRvuDIiUlhXea24p2gwl",
      "include_colab_link": true
    },
    "kernelspec": {
      "name": "python3",
      "display_name": "Python 3"
    },
    "language_info": {
      "name": "python"
    }
  },
  "cells": [
    {
      "cell_type": "markdown",
      "metadata": {
        "id": "view-in-github",
        "colab_type": "text"
      },
      "source": [
        "<a href=\"https://colab.research.google.com/github/HUFS-Programming-2022/Hyeryeong_202103342/blob/main/week_09.ipynb\" target=\"_parent\"><img src=\"https://colab.research.google.com/assets/colab-badge.svg\" alt=\"Open In Colab\"/></a>"
      ]
    },
    {
      "cell_type": "markdown",
      "source": [
        "# 고급파이썬프로그래밍_9주차(0429)\n",
        "\n",
        "- 중간고사 채점 중\n",
        "- 채점 후 점수 공유\n",
        "- 휴강(5/27) -> 보강(추후 재공지)\n",
        "- 다음주부터는 퀴즈 x => 프로젝트"
      ],
      "metadata": {
        "id": "lqpMeb-Ym2kR"
      }
    },
    {
      "cell_type": "markdown",
      "source": [
        "# CH08. 딕셔너리와 셋\n",
        "\n",
        "## 1. Dictionary(딕트 dict)\n",
        "- 가장 많이 사용하는 기능\n",
        "- 영어사전이라고 생각하면, 단어: 뜻\n",
        "- 키: 값 **\n",
        "   - 값에 대응하는 key는 고유해야 한다 -> 키가 중복되면 안 된다.\n",
        "- 키를 가지고 값을 찾기 때문에 순서가 없음 => 오프셋으로 항목 선택 불가 **\n",
        "- 가변 객체 (수정, 추가, 삭제 가능)\n",
        "- 타입: dict, dict()\n",
        "- key는 대부분 str, 불변하는 파이썬의 어떤 타입될 수 있음(불리언,정수, 부동소수점, 튜플, 문자열 등)\n",
        "- value에는 리스트, 튜플, 딕셔너리도 들어갈 수 있음.(다양한 자료가 들어갈 수 있음)\n",
        "\n"
      ],
      "metadata": {
        "id": "fNPA6eZVob6-"
      }
    },
    {
      "cell_type": "markdown",
      "source": [
        "### 1-1. 생성\n",
        "- 1. {key1: value1, key2: value2,...}\n",
        "      - 중괄호 안에 콤마로 구분한 키:값 쌍을 지정\n",
        "- 2. dict()\n",
        "      - 인수와 값을 dict() 함수에 전달하여 생성\n",
        "      - 인수 이름이 유효한 변수 이름이어야 함(공백, 예약어 x)\n",
        "      - 콜론 사용 x\n"
      ],
      "metadata": {
        "id": "riCaZXyp2xhp"
      }
    },
    {
      "cell_type": "code",
      "source": [
        "# dictionary 생성 - 중괄호 or dict()\n",
        "empty_dict = dict()\n",
        "empty_dict2 = {}\n",
        "empty_dict, empty_dict2"
      ],
      "metadata": {
        "colab": {
          "base_uri": "https://localhost:8080/"
        },
        "id": "N4UQjKCD4M0w",
        "outputId": "ce86d041-7b6c-4c77-90bd-191c216d278a"
      },
      "execution_count": null,
      "outputs": [
        {
          "output_type": "execute_result",
          "data": {
            "text/plain": [
              "({}, {})"
            ]
          },
          "metadata": {},
          "execution_count": 10
        }
      ]
    },
    {
      "cell_type": "code",
      "source": [
        "# dictionary 생성 차이(교재 예시)\n",
        "# 일반적인 방법\n",
        "acme_customer = {'first': 'Wile', 'middle': 'E', 'last': 'Coyote'}\n",
        "acme_customer"
      ],
      "metadata": {
        "colab": {
          "base_uri": "https://localhost:8080/"
        },
        "id": "yjusqA905ucc",
        "outputId": "4427b5cf-06a6-460d-b9b4-828224cb1239"
      },
      "execution_count": null,
      "outputs": [
        {
          "output_type": "execute_result",
          "data": {
            "text/plain": [
              "{'first': 'Wile', 'last': 'Coyote', 'middle': 'E'}"
            ]
          },
          "metadata": {},
          "execution_count": 15
        }
      ]
    },
    {
      "cell_type": "code",
      "source": [
        "acme_customer['first']"
      ],
      "metadata": {
        "colab": {
          "base_uri": "https://localhost:8080/",
          "height": 36
        },
        "id": "wAbb6z-x7522",
        "outputId": "c09a2c71-b842-4267-9322-bcca847cbfbe"
      },
      "execution_count": null,
      "outputs": [
        {
          "output_type": "execute_result",
          "data": {
            "text/plain": [
              "'Wile'"
            ],
            "application/vnd.google.colaboratory.intrinsic+json": {
              "type": "string"
            }
          },
          "metadata": {},
          "execution_count": 23
        }
      ]
    },
    {
      "cell_type": "code",
      "source": [
        "# dict() 함수 사용 방법 - dict() 사용 시 인수 이름은 유효한 변수명이어야 함\n",
        "acme_customer2 = dict(first = 'Wile', middle = 'E', last = 'Coyote')\n",
        "acme_customer2"
      ],
      "metadata": {
        "colab": {
          "base_uri": "https://localhost:8080/"
        },
        "id": "oPIRJIsx6Io7",
        "outputId": "73d0087e-4229-4584-b3fe-df9da5a22694"
      },
      "execution_count": null,
      "outputs": [
        {
          "output_type": "execute_result",
          "data": {
            "text/plain": [
              "{'first': 'Wile', 'last': 'Coyote', 'middle': 'E'}"
            ]
          },
          "metadata": {},
          "execution_count": 16
        }
      ]
    },
    {
      "cell_type": "code",
      "source": [
        "# dictionary와의 비교 - set: key만 남은 dictionary\n",
        "a = [1, 2, 3]\n",
        "set(a) "
      ],
      "metadata": {
        "colab": {
          "base_uri": "https://localhost:8080/"
        },
        "id": "uatODmVa3vBL",
        "outputId": "3d1fa304-3a4b-4de1-c902-3d1cb801ae09"
      },
      "execution_count": null,
      "outputs": [
        {
          "output_type": "execute_result",
          "data": {
            "text/plain": [
              "{1, 2, 3}"
            ]
          },
          "metadata": {},
          "execution_count": 11
        }
      ]
    },
    {
      "cell_type": "code",
      "source": [
        "# set은 set()으로만 생성가능\n",
        "b = set()\n",
        "b"
      ],
      "metadata": {
        "colab": {
          "base_uri": "https://localhost:8080/"
        },
        "id": "cYwtd_yA5OLL",
        "outputId": "9f7beb04-32fc-4b86-ab42-f37442af7849"
      },
      "execution_count": null,
      "outputs": [
        {
          "output_type": "execute_result",
          "data": {
            "text/plain": [
              "set()"
            ]
          },
          "metadata": {},
          "execution_count": 14
        }
      ]
    },
    {
      "cell_type": "code",
      "execution_count": null,
      "metadata": {
        "id": "qvH-gY7bkPSA",
        "colab": {
          "base_uri": "https://localhost:8080/"
        },
        "outputId": "c07069a7-28a2-454d-ebe9-062125fcda6e"
      },
      "outputs": [
        {
          "output_type": "execute_result",
          "data": {
            "text/plain": [
              "1"
            ]
          },
          "metadata": {},
          "execution_count": 12
        }
      ],
      "source": [
        "# dictionary의 특징1: 순서 없음 -> 인덱스 없음\n",
        "a = [1, 2, 3]\n",
        "a[0] "
      ]
    },
    {
      "cell_type": "markdown",
      "source": [
        "#### Quiz1. 출석부 딕셔너리로 만들기\n",
        "[이름, 학번, 학과\n",
        "제임스 202201 경영학과\n",
        "줄리엣 202202 아랍어과\n",
        "로버트 202203 ELLT과]"
      ],
      "metadata": {
        "id": "ffTHG8sQqE9e"
      }
    },
    {
      "cell_type": "code",
      "source": [
        "# my answer\n",
        "student_info = {'제임스': (202201, '경영학과'), '줄리엣': (202202, '아랍어과'), '로버트': (202203, 'ELLT학과')}\n",
        "student_info"
      ],
      "metadata": {
        "colab": {
          "base_uri": "https://localhost:8080/"
        },
        "id": "84FTj-RdqOSS",
        "outputId": "77173f42-04be-48a9-8846-65cfb125bf88"
      },
      "execution_count": null,
      "outputs": [
        {
          "output_type": "execute_result",
          "data": {
            "text/plain": [
              "{'로버트': (202203, 'ELLT학과'), '제임스': (202201, '경영학과'), '줄리엣': (202202, '아랍어과')}"
            ]
          },
          "metadata": {},
          "execution_count": 26
        }
      ]
    },
    {
      "cell_type": "code",
      "source": [
        "student_info['제임스']"
      ],
      "metadata": {
        "colab": {
          "base_uri": "https://localhost:8080/"
        },
        "id": "hqn04IPL7s0e",
        "outputId": "dd0b179e-77de-4ecc-e473-a008aa200542"
      },
      "execution_count": null,
      "outputs": [
        {
          "output_type": "execute_result",
          "data": {
            "text/plain": [
              "(202201, '경영학과')"
            ]
          },
          "metadata": {},
          "execution_count": 27
        }
      ]
    },
    {
      "cell_type": "code",
      "source": [
        "# another answer\n",
        "attendance = dict(제임스 = [202201, '경영학과'], 줄리엣 = [202202, '아랍어과'], 로버트 = [202203, 'ELLT학과'])\n",
        "attendance['제임스']"
      ],
      "metadata": {
        "id": "LUtmafpgrV1Z",
        "colab": {
          "base_uri": "https://localhost:8080/"
        },
        "outputId": "321716ef-08ab-44ea-ed3d-68cf31e34f81"
      },
      "execution_count": null,
      "outputs": [
        {
          "output_type": "execute_result",
          "data": {
            "text/plain": [
              "[202201, '경영학과']"
            ]
          },
          "metadata": {},
          "execution_count": 25
        }
      ]
    },
    {
      "cell_type": "markdown",
      "source": [
        "### 1-2. 형변환\n",
        "- dict() 함수 -> 두 값으로 이루어진 시퀀스를 딕셔너리로 변환"
      ],
      "metadata": {
        "id": "dRySRqPrsh08"
      }
    },
    {
      "cell_type": "code",
      "source": [
        "# 두 항목의 리스트로 구성된 리스트 ex1을 딕셔너리로 변환\n",
        "ex1 = [[20221, []], [3, 4], [5, 6]]\n",
        "dict(ex1)"
      ],
      "metadata": {
        "colab": {
          "base_uri": "https://localhost:8080/"
        },
        "id": "TBo82pD9sDij",
        "outputId": "cfb1f4f7-45a2-40ef-b672-5cdbbb35282f"
      },
      "execution_count": null,
      "outputs": [
        {
          "output_type": "execute_result",
          "data": {
            "text/plain": [
              "{3: 4, 5: 6, 20221: []}"
            ]
          },
          "metadata": {},
          "execution_count": 28
        }
      ]
    },
    {
      "cell_type": "code",
      "source": [
        "# 두 항목의 튜플로 구성된 리스트 ex2를 딕셔너리로 변환\n",
        "ex2 = [(1, 2), (3, 4), (5, 6)]\n",
        "dict(ex2)"
      ],
      "metadata": {
        "colab": {
          "base_uri": "https://localhost:8080/"
        },
        "id": "Qpehqg1Ksr-r",
        "outputId": "9801d726-3e52-43d6-adf9-9eb69c42276e"
      },
      "execution_count": null,
      "outputs": [
        {
          "output_type": "execute_result",
          "data": {
            "text/plain": [
              "{1: 2, 3: 4, 5: 6}"
            ]
          },
          "metadata": {},
          "execution_count": 30
        }
      ]
    },
    {
      "cell_type": "code",
      "source": [
        "# 두 항목의 리스트로 구성된 튜플도 딕셔너리로 변환 가능\n",
        "ex3 = (['car', 'kia'], ['fruit', 'apple'], ['color', 'white'])\n",
        "dict(ex3)"
      ],
      "metadata": {
        "colab": {
          "base_uri": "https://localhost:8080/"
        },
        "id": "k6qCnWruGXJ_",
        "outputId": "2f602c9a-eaca-41a0-ac4a-16b6ca2cf1ed"
      },
      "execution_count": null,
      "outputs": [
        {
          "output_type": "execute_result",
          "data": {
            "text/plain": [
              "{'car': 'kia', 'color': 'white', 'fruit': 'apple'}"
            ]
          },
          "metadata": {},
          "execution_count": 31
        }
      ]
    },
    {
      "cell_type": "code",
      "source": [
        "# 두 문자열로 구성된 리스트, 튜플도 딕셔너리로 변환 가능\n",
        "ex4 = [ 'aA', 'bB', 'cC' ]\n",
        "dict(ex4)"
      ],
      "metadata": {
        "colab": {
          "base_uri": "https://localhost:8080/"
        },
        "id": "NqTFY3UKGpf3",
        "outputId": "c0e4def4-0758-4825-f174-89e1aa47d339"
      },
      "execution_count": null,
      "outputs": [
        {
          "output_type": "execute_result",
          "data": {
            "text/plain": [
              "{'a': 'A', 'b': 'B', 'c': 'C'}"
            ]
          },
          "metadata": {},
          "execution_count": 33
        }
      ]
    },
    {
      "cell_type": "code",
      "source": [
        "# 두 문자열 아니므로 불가\n",
        "ex3 = ['abdd','bcdd','cddd']\n",
        "dict(ex3)    "
      ],
      "metadata": {
        "colab": {
          "base_uri": "https://localhost:8080/",
          "height": 213
        },
        "id": "6F8J3WserVvr",
        "outputId": "c0648c04-e465-4d52-ce67-0cf01c5efcd7"
      },
      "execution_count": null,
      "outputs": [
        {
          "output_type": "error",
          "ename": "ValueError",
          "evalue": "ignored",
          "traceback": [
            "\u001b[0;31m---------------------------------------------------------------------------\u001b[0m",
            "\u001b[0;31mValueError\u001b[0m                                Traceback (most recent call last)",
            "\u001b[0;32m<ipython-input-34-b092257f24fb>\u001b[0m in \u001b[0;36m<module>\u001b[0;34m()\u001b[0m\n\u001b[1;32m      1\u001b[0m \u001b[0;31m# 두 문자열 아니므로 불가\u001b[0m\u001b[0;34m\u001b[0m\u001b[0;34m\u001b[0m\u001b[0;34m\u001b[0m\u001b[0m\n\u001b[1;32m      2\u001b[0m \u001b[0mex3\u001b[0m \u001b[0;34m=\u001b[0m \u001b[0;34m[\u001b[0m\u001b[0;34m'abdd'\u001b[0m\u001b[0;34m,\u001b[0m\u001b[0;34m'bcdd'\u001b[0m\u001b[0;34m,\u001b[0m\u001b[0;34m'cddd'\u001b[0m\u001b[0;34m]\u001b[0m\u001b[0;34m\u001b[0m\u001b[0;34m\u001b[0m\u001b[0m\n\u001b[0;32m----> 3\u001b[0;31m \u001b[0mdict\u001b[0m\u001b[0;34m(\u001b[0m\u001b[0mex3\u001b[0m\u001b[0;34m)\u001b[0m\u001b[0;34m\u001b[0m\u001b[0;34m\u001b[0m\u001b[0m\n\u001b[0m",
            "\u001b[0;31mValueError\u001b[0m: dictionary update sequence element #0 has length 4; 2 is required"
          ]
        }
      ]
    },
    {
      "cell_type": "markdown",
      "source": [
        "### 1-3. 항목 조회 & 변경\n",
        "- 항목 조회\n",
        "   - 1. 딕셔너리명[key]\n",
        "      - 딕셔너리에 키가 없으면 오류 발생 -> in 이용하여 멤버십 테스트 먼저 해보기\n",
        "   - 2. get()\n",
        "      - 딕셔너리, 키, 옵션값 사용\n",
        "      - 키 존재하면 그 값 얻음\n",
        "      - 키 존재하지 않으면, None\n",
        "      - 이때, 옵션값을 설정하여 출력할 수 있음\n",
        "- 항목 변경\n",
        "   - 키에 참조되는 항목에 값을 할당\n",
        "       - 이미 존재하는 키 -> 값을 변경\n",
        "       - 존재하지 않는 키 -> 새 값과 키가 dictionary에 추가됨\n",
        "\n",
        "** 딕셔너리의 키들은 반드시 고유해야 함 -> 같은 키 두 번 저장하면 마지막 값으로 저장"
      ],
      "metadata": {
        "id": "OrUBkcVes6bn"
      }
    },
    {
      "cell_type": "code",
      "source": [
        "# 영국의 희극단 몬티 파이튼 멤버의 성을 key, 이름을 value로 하는 딕셔너리\n",
        "\n",
        "pythons = {\n",
        "    'Chapman': 'Graham',\n",
        "    'Cleese': 'John',\n",
        "    'Idle': 'Eric',\n",
        "    'Jones': 'Terry',\n",
        "    'Palin': 'Michael'\n",
        "    }"
      ],
      "metadata": {
        "id": "LIi5JEA2s8xp"
      },
      "execution_count": null,
      "outputs": []
    },
    {
      "cell_type": "code",
      "source": [
        "# 항목 조회 - Idle에 해당하는 value 검색\n",
        "pythons['Idle']"
      ],
      "metadata": {
        "colab": {
          "base_uri": "https://localhost:8080/",
          "height": 36
        },
        "id": "OpwoB4FRtRrU",
        "outputId": "1c07246b-d080-4ef5-f519-b4b7ce6c2764"
      },
      "execution_count": null,
      "outputs": [
        {
          "output_type": "execute_result",
          "data": {
            "text/plain": [
              "'Eric'"
            ],
            "application/vnd.google.colaboratory.intrinsic+json": {
              "type": "string"
            }
          },
          "metadata": {},
          "execution_count": 106
        }
      ]
    },
    {
      "cell_type": "code",
      "source": [
        "# index 안됨\n",
        "# pythons[0]"
      ],
      "metadata": {
        "id": "5w3GPqd4tVTU"
      },
      "execution_count": null,
      "outputs": []
    },
    {
      "cell_type": "code",
      "source": [
        "# 항목 변경 - 키에 값을 할당\n",
        "pythons['Idle'] = 'Erica' \n",
        "pythons\n",
        "# 이미 존재하는 키에 값을 할당했기 때문에 이전 값은 사라지고 새 값으로 대체됨"
      ],
      "metadata": {
        "colab": {
          "base_uri": "https://localhost:8080/"
        },
        "id": "AzqC8HyYtZ6b",
        "outputId": "0d6a393c-0a69-44a2-87bc-e15603a1aa00"
      },
      "execution_count": null,
      "outputs": [
        {
          "output_type": "execute_result",
          "data": {
            "text/plain": [
              "{'Chapman': 'Graham',\n",
              " 'Cleese': 'John',\n",
              " 'Idle': 'Erica',\n",
              " 'Jones': 'Terry',\n",
              " 'Palin': 'Michael'}"
            ]
          },
          "metadata": {},
          "execution_count": 108
        }
      ]
    },
    {
      "cell_type": "code",
      "source": [
        "pythons['Palin'] = 'Josh'\n",
        "pythons"
      ],
      "metadata": {
        "colab": {
          "base_uri": "https://localhost:8080/"
        },
        "id": "Ed7TkdRitoJE",
        "outputId": "a85bf6d3-8f7f-4dfa-c605-4551da1ed8f5"
      },
      "execution_count": null,
      "outputs": [
        {
          "output_type": "execute_result",
          "data": {
            "text/plain": [
              "{'Chapman': 'Graham',\n",
              " 'Cleese': 'John',\n",
              " 'Idle': 'Erica',\n",
              " 'Jones': 'Terry',\n",
              " 'Palin': 'Josh'}"
            ]
          },
          "metadata": {},
          "execution_count": 109
        }
      ]
    },
    {
      "cell_type": "code",
      "source": [
        "# 항목 추가 \n",
        "pythons['Kim'] = 'Laura'\n",
        "pythons"
      ],
      "metadata": {
        "colab": {
          "base_uri": "https://localhost:8080/"
        },
        "id": "bhKt7xUTtvWL",
        "outputId": "513406a0-7ac8-4815-f59c-036718c881ac"
      },
      "execution_count": null,
      "outputs": [
        {
          "output_type": "execute_result",
          "data": {
            "text/plain": [
              "{'Chapman': 'Graham',\n",
              " 'Cleese': 'John',\n",
              " 'Idle': 'Eric',\n",
              " 'Jones': 'Terry',\n",
              " 'Kim': 'Laura',\n",
              " 'Palin': 'Josh'}"
            ]
          },
          "metadata": {},
          "execution_count": 89
        }
      ]
    },
    {
      "cell_type": "code",
      "source": [
        "# pythons['Lee']   # 코드 안에서 찾기 불가 -> 멤버십 연산자 사용하기"
      ],
      "metadata": {
        "id": "RRaEOtJZt0S5"
      },
      "execution_count": null,
      "outputs": []
    },
    {
      "cell_type": "code",
      "source": [
        "# 멤버십 연산자 사용하여 True,False 확인 후 항목 조회\n",
        "'Lee' in pythons"
      ],
      "metadata": {
        "colab": {
          "base_uri": "https://localhost:8080/"
        },
        "id": "tYQgFX0kt4C_",
        "outputId": "d291e736-70f9-450f-a691-e56a0eb51b71"
      },
      "execution_count": null,
      "outputs": [
        {
          "output_type": "execute_result",
          "data": {
            "text/plain": [
              "False"
            ]
          },
          "metadata": {},
          "execution_count": 111
        }
      ]
    },
    {
      "cell_type": "code",
      "source": [
        "# get()함수 사용했을 때, 없는 값이면 None(대화식 인터프리터는 아무것도 출력하지 않음)\n",
        "pythons.get('Lee')"
      ],
      "metadata": {
        "id": "p7y5cpkgt6--"
      },
      "execution_count": null,
      "outputs": []
    },
    {
      "cell_type": "code",
      "source": [
        " # 있는 값이면, 해당 값 반환\n",
        "pythons.get('Kim', 0)"
      ],
      "metadata": {
        "colab": {
          "base_uri": "https://localhost:8080/"
        },
        "id": "B2S0g0Kqt-pP",
        "outputId": "d2bea0fd-40db-4512-fa9d-49657414f65f"
      },
      "execution_count": null,
      "outputs": [
        {
          "output_type": "execute_result",
          "data": {
            "text/plain": [
              "0"
            ]
          },
          "metadata": {},
          "execution_count": 113
        }
      ]
    },
    {
      "cell_type": "code",
      "source": [
        "# 없는 값이기 때문에 옵션값인 0 반환\n",
        "pythons.get('Choi', 0)"
      ],
      "metadata": {
        "colab": {
          "base_uri": "https://localhost:8080/"
        },
        "id": "4zsnjJDZQdya",
        "outputId": "ba5917de-6899-412e-c3b5-0a0f2d03e877"
      },
      "execution_count": null,
      "outputs": [
        {
          "output_type": "execute_result",
          "data": {
            "text/plain": [
              "0"
            ]
          },
          "metadata": {},
          "execution_count": 114
        }
      ]
    },
    {
      "cell_type": "markdown",
      "source": [
        "### 1-4. keys(), values(), items()\n",
        "- keys(): 모든 키 얻기\n",
        "- values(): 모든 값 얻기\n",
        "- items(): 모든 키, 값 얻기"
      ],
      "metadata": {
        "id": "vLl0GET7uPXT"
      }
    },
    {
      "cell_type": "code",
      "source": [
        "# keys() : 모든 키 얻기\n",
        "pythons.keys()   \n",
        "# 리스트 형식 아님(dict_keys()라는 형식) -> list()로 형변환\n",
        "# list(pythons.keys())"
      ],
      "metadata": {
        "colab": {
          "base_uri": "https://localhost:8080/"
        },
        "id": "lBKErKFFuOgE",
        "outputId": "8cc3b935-134a-4f54-b859-43d430d99c4d"
      },
      "execution_count": null,
      "outputs": [
        {
          "output_type": "execute_result",
          "data": {
            "text/plain": [
              "dict_keys(['Chapman', 'Cleese', 'Idle', 'Jones', 'Palin', 'Kim'])"
            ]
          },
          "metadata": {},
          "execution_count": 56
        }
      ]
    },
    {
      "cell_type": "code",
      "source": [
        "# values() : 모든 값 얻기\n",
        "pythons.values()"
      ],
      "metadata": {
        "colab": {
          "base_uri": "https://localhost:8080/"
        },
        "id": "Axati2soucAU",
        "outputId": "be02adca-e9f5-49a0-c5fd-2d26645589c9"
      },
      "execution_count": null,
      "outputs": [
        {
          "output_type": "execute_result",
          "data": {
            "text/plain": [
              "dict_values(['Graham', 'John', 'Erica', 'Terry', 'Josh', 'Laura'])"
            ]
          },
          "metadata": {},
          "execution_count": 57
        }
      ]
    },
    {
      "cell_type": "code",
      "source": [
        "# items() : 모든 키, 값 얻기\n",
        "# 리스트 컴프리헨션 이용해 딕셔너리 순회 시 사용\n",
        "pythons.items()"
      ],
      "metadata": {
        "colab": {
          "base_uri": "https://localhost:8080/"
        },
        "id": "OdABd6tyueMo",
        "outputId": "57fa7b00-3bdf-4f1e-d697-6d8340a68a6e"
      },
      "execution_count": null,
      "outputs": [
        {
          "output_type": "execute_result",
          "data": {
            "text/plain": [
              "dict_items([('Chapman', 'Graham'), ('Cleese', 'John'), ('Idle', 'Erica'), ('Jones', 'Terry'), ('Palin', 'Josh'), ('Kim', 'Laura')])"
            ]
          },
          "metadata": {},
          "execution_count": 59
        }
      ]
    },
    {
      "cell_type": "code",
      "source": [
        "# 인덱싱 지정 가능\n",
        "[x[0] for x in pythons.items()]"
      ],
      "metadata": {
        "colab": {
          "base_uri": "https://localhost:8080/"
        },
        "id": "F4aKclARuwhs",
        "outputId": "d0bb4267-8097-4c3d-f58d-20a782235dda"
      },
      "execution_count": null,
      "outputs": [
        {
          "output_type": "execute_result",
          "data": {
            "text/plain": [
              "['Chapman', 'Cleese', 'Idle', 'Jones', 'Palin', 'Kim']"
            ]
          },
          "metadata": {},
          "execution_count": 32
        }
      ]
    },
    {
      "cell_type": "markdown",
      "source": [
        "#### Quiz2. \n",
        "- for loop 이용해서 animla:legs로 이루어진 딕셔너리 만들기\n",
        "\n",
        "#### Quiz3.\n",
        "- pythons에서 성: 이름 => 리스트컴프리헨션 이용해서 [(성 앞글자, 이름의 글자수)]"
      ],
      "metadata": {
        "id": "uTaArJ9KTGPX"
      }
    },
    {
      "cell_type": "code",
      "source": [
        "# Quiz2.\n",
        "animal =  'cat snake monkey ant spider'.split()\n",
        "legs = 4, 0, 2, 4, 8\n",
        "empty = []\n",
        "\n",
        "# my answer\n",
        "for i in range(len(animal)):\n",
        "  animal_dict = {animal[i] : legs[i]}\n",
        "  empty.append(animal_dict)\n",
        "\n",
        "empty"
      ],
      "metadata": {
        "colab": {
          "base_uri": "https://localhost:8080/"
        },
        "id": "bHXBc5Z_u9C3",
        "outputId": "114ab177-a1f9-4fde-9c04-4640e6251031"
      },
      "execution_count": null,
      "outputs": [
        {
          "output_type": "execute_result",
          "data": {
            "text/plain": [
              "[{'cat': 4}, {'snake': 0}, {'monkey': 2}, {'ant': 4}, {'spider': 8}]"
            ]
          },
          "metadata": {},
          "execution_count": 60
        }
      ]
    },
    {
      "cell_type": "code",
      "source": [
        "# Correct answer\n",
        "animal_dic = {}\n",
        "for k, v in zip(animal, legs):\n",
        "  animal_dic[k] = v\n",
        "\n",
        "animal_dic"
      ],
      "metadata": {
        "colab": {
          "base_uri": "https://localhost:8080/"
        },
        "id": "04XAmwHZypx2",
        "outputId": "4578c076-fb34-432c-d453-30e910c84050"
      },
      "execution_count": null,
      "outputs": [
        {
          "output_type": "execute_result",
          "data": {
            "text/plain": [
              "{'ant': 4, 'cat': 4, 'monkey': 2, 'snake': 0, 'spider': 8}"
            ]
          },
          "metadata": {},
          "execution_count": 61
        }
      ]
    },
    {
      "cell_type": "code",
      "source": [
        "# Quiz3.\n",
        "# len(): 길이 얻기(딕셔너리에 있는 키-값 쌍의 개수 구하기)\n",
        "\n",
        "[(k[0], len(v)) for (k, v) in pythons.items()]  # (k, v)"
      ],
      "metadata": {
        "colab": {
          "base_uri": "https://localhost:8080/"
        },
        "id": "QoCE2Ggx3Hae",
        "outputId": "ef67faca-3226-4cb3-cf0a-e670c01b9bf4"
      },
      "execution_count": null,
      "outputs": [
        {
          "output_type": "execute_result",
          "data": {
            "text/plain": [
              "[('C', 6), ('C', 4), ('I', 5), ('J', 5), ('P', 4), ('K', 5)]"
            ]
          },
          "metadata": {},
          "execution_count": 63
        }
      ]
    },
    {
      "cell_type": "markdown",
      "source": [
        "### 1-5. 값 수정, 삭제, 복제\n",
        "- 1. 결합하기\n",
        "   - ** : 얕은 복사 수행, 딕셔너리 두 개 이상 결합 가능\n",
        "   - update(): 한 딕셔너리의 기와 값들을 복사해 다른 딕셔너리에 결합\n",
        "- 2. 삭제하기\n",
        "   - del 딕셔너리명[key]\n",
        "   - pop() 함수: 키로 항목 가져온 뒤 삭제\n",
        "   - clear(): 모든 항목 삭제\n",
        "   - 빈 딕셔너리 : 모든 항목 삭제\n",
        "- 3. 복제하기\n",
        "   - 할당: 딕셔너리 할당 -> 딕셔너리 참조하는 모든 이름에 변경된 딕셔너리 반영 \n",
        "   - 얕은 복사|copy(): 딕셔너리 값 불변이면 작동\n",
        "   - 깊은 복사|deepcopy()\n",
        "- 4. 딕셔너리 비교\n",
        "   - 비교 연산자(==, !=) 사용하여 딕셔너리 비교"
      ],
      "metadata": {
        "id": "17KgwXgY38MP"
      }
    },
    {
      "cell_type": "code",
      "source": [
        "# pythons 딕셔너리의 멤버 정의\n",
        "pythons"
      ],
      "metadata": {
        "colab": {
          "base_uri": "https://localhost:8080/"
        },
        "id": "ng-zd13rzVjr",
        "outputId": "36feb56a-96a0-43fe-b3a7-95bec2c044fa"
      },
      "execution_count": null,
      "outputs": [
        {
          "output_type": "execute_result",
          "data": {
            "text/plain": [
              "{'Chapman': 'Graham',\n",
              " 'Cleese': 'John',\n",
              " 'Idle': 'Erica',\n",
              " 'Jones': 'Terry',\n",
              " 'Palin': 'Josh'}"
            ]
          },
          "metadata": {},
          "execution_count": 115
        }
      ]
    },
    {
      "cell_type": "code",
      "source": [
        "# 다른 사람들을 딕셔너리 others에 넣기\n",
        "others = {\n",
        "    'Marx' : 'Groucho',\n",
        "    'Howard' : 'Moe'\n",
        "}"
      ],
      "metadata": {
        "id": "a0kZ36Jh4DRD"
      },
      "execution_count": null,
      "outputs": []
    },
    {
      "cell_type": "code",
      "source": [
        "# pythons와 others 결합\n",
        "pythons.update(others)"
      ],
      "metadata": {
        "id": "cHhKIBDa4DNZ"
      },
      "execution_count": null,
      "outputs": []
    },
    {
      "cell_type": "code",
      "source": [
        "pythons"
      ],
      "metadata": {
        "colab": {
          "base_uri": "https://localhost:8080/"
        },
        "id": "VcuW6EB34DK-",
        "outputId": "2d2c7d5f-bc64-4634-a659-1675fe89946e"
      },
      "execution_count": null,
      "outputs": [
        {
          "output_type": "execute_result",
          "data": {
            "text/plain": [
              "{'Chapman': 'Graham',\n",
              " 'Cleese': 'John',\n",
              " 'Howard': 'Moe',\n",
              " 'Idle': 'Erica',\n",
              " 'Jones': 'Terry',\n",
              " 'Marx': 'Groucho',\n",
              " 'Palin': 'Josh'}"
            ]
          },
          "metadata": {},
          "execution_count": 118
        }
      ]
    },
    {
      "cell_type": "code",
      "source": [
        "{**others, **pythons}  # pythons3 가능"
      ],
      "metadata": {
        "colab": {
          "base_uri": "https://localhost:8080/"
        },
        "id": "76yl44-I4C-8",
        "outputId": "9571a87e-c1bf-435f-b823-a19005275994"
      },
      "execution_count": null,
      "outputs": [
        {
          "output_type": "execute_result",
          "data": {
            "text/plain": [
              "{'Chapman': 'Graham',\n",
              " 'Cleese': 'John',\n",
              " 'Howard': 'Moe',\n",
              " 'Idle': 'Erica',\n",
              " 'Jones': 'Terry',\n",
              " 'Marx': 'Groucho',\n",
              " 'Palin': 'Josh'}"
            ]
          },
          "metadata": {},
          "execution_count": 119
        }
      ]
    },
    {
      "cell_type": "code",
      "source": [
        "# 딕셔너리 두 개를 병합할 때, 두 딕셔너리에 같은 키:값 있다면 \n",
        "# -> 두 번째 딕셔너리 값으로 병합됨\n",
        "first = {'a': 'associate', 'b': 'break'}\n",
        "second = {'b': 'born', 'c': 'circulate'}\n",
        "first.update(second)\n",
        "first"
      ],
      "metadata": {
        "colab": {
          "base_uri": "https://localhost:8080/"
        },
        "id": "J1xlPCdQV0HA",
        "outputId": "386129c7-7b3d-4745-ccc1-69f466095d40"
      },
      "execution_count": null,
      "outputs": [
        {
          "output_type": "execute_result",
          "data": {
            "text/plain": [
              "{'a': 'associate', 'b': 'born', 'c': 'circulate'}"
            ]
          },
          "metadata": {},
          "execution_count": 120
        }
      ]
    },
    {
      "cell_type": "code",
      "source": [
        "# 삭제\n",
        "# del dictionary[key]\n",
        "del pythons['Kim']\n",
        "pythons"
      ],
      "metadata": {
        "colab": {
          "base_uri": "https://localhost:8080/",
          "height": 232
        },
        "id": "_0pxHLhb4aYg",
        "outputId": "2d2dc1d4-e4a7-4113-e484-3a5da7349702"
      },
      "execution_count": null,
      "outputs": [
        {
          "output_type": "error",
          "ename": "KeyError",
          "evalue": "ignored",
          "traceback": [
            "\u001b[0;31m---------------------------------------------------------------------------\u001b[0m",
            "\u001b[0;31mKeyError\u001b[0m                                  Traceback (most recent call last)",
            "\u001b[0;32m<ipython-input-122-783df4f1f7e8>\u001b[0m in \u001b[0;36m<module>\u001b[0;34m()\u001b[0m\n\u001b[1;32m      1\u001b[0m \u001b[0;31m# 삭제\u001b[0m\u001b[0;34m\u001b[0m\u001b[0;34m\u001b[0m\u001b[0;34m\u001b[0m\u001b[0m\n\u001b[1;32m      2\u001b[0m \u001b[0;31m# del dictionary[key]\u001b[0m\u001b[0;34m\u001b[0m\u001b[0;34m\u001b[0m\u001b[0;34m\u001b[0m\u001b[0m\n\u001b[0;32m----> 3\u001b[0;31m \u001b[0;32mdel\u001b[0m \u001b[0mpythons\u001b[0m\u001b[0;34m[\u001b[0m\u001b[0;34m'Kim'\u001b[0m\u001b[0;34m]\u001b[0m\u001b[0;34m\u001b[0m\u001b[0;34m\u001b[0m\u001b[0m\n\u001b[0m\u001b[1;32m      4\u001b[0m \u001b[0mpythons\u001b[0m\u001b[0;34m\u001b[0m\u001b[0;34m\u001b[0m\u001b[0m\n",
            "\u001b[0;31mKeyError\u001b[0m: 'Kim'"
          ]
        }
      ]
    },
    {
      "cell_type": "code",
      "source": [
        "# pop(): 없는 값에 대한 값 설정 가능, get()과 비슷한 성질\n",
        "pythons.pop('Marx', 0) "
      ],
      "metadata": {
        "colab": {
          "base_uri": "https://localhost:8080/"
        },
        "id": "rzp3_L8N4hRY",
        "outputId": "f0c2fac4-9acf-4e6a-b7af-1218222a2bf1"
      },
      "execution_count": null,
      "outputs": [
        {
          "output_type": "execute_result",
          "data": {
            "text/plain": [
              "0"
            ]
          },
          "metadata": {},
          "execution_count": 103
        }
      ]
    },
    {
      "cell_type": "code",
      "source": [
        "pythons"
      ],
      "metadata": {
        "colab": {
          "base_uri": "https://localhost:8080/"
        },
        "id": "1sNX0lyoXIS3",
        "outputId": "51dce6db-ecae-4d06-d079-bc42ae52b586"
      },
      "execution_count": null,
      "outputs": [
        {
          "output_type": "execute_result",
          "data": {
            "text/plain": [
              "{'Chapman': 'Graham',\n",
              " 'Cleese': 'John',\n",
              " 'Howard': 'Moe',\n",
              " 'Idle': 'Eric',\n",
              " 'Jones': 'Terry',\n",
              " 'Palin': 'Josh'}"
            ]
          },
          "metadata": {},
          "execution_count": 102
        }
      ]
    },
    {
      "cell_type": "code",
      "source": [
        "# clear() : 전체 삭제\n",
        "pythons.clear()"
      ],
      "metadata": {
        "id": "KXktLg824hN6"
      },
      "execution_count": null,
      "outputs": []
    },
    {
      "cell_type": "code",
      "source": [
        "# 빈 딕셔너리 선언을 통해 전체 삭제\n",
        "pythons = {}"
      ],
      "metadata": {
        "id": "6Es75V3c4hLk"
      },
      "execution_count": null,
      "outputs": []
    },
    {
      "cell_type": "code",
      "source": [
        "pythons"
      ],
      "metadata": {
        "colab": {
          "base_uri": "https://localhost:8080/"
        },
        "id": "rb8rNRmB4hJQ",
        "outputId": "f930f0b4-1899-4079-ee91-cb4f73c15626"
      },
      "execution_count": null,
      "outputs": [
        {
          "output_type": "execute_result",
          "data": {
            "text/plain": [
              "{}"
            ]
          },
          "metadata": {},
          "execution_count": 76
        }
      ]
    },
    {
      "cell_type": "code",
      "source": [
        "# copy\n",
        "# 1. 할당\n",
        "# 2. 얕은 복사\n",
        "# 3. 깊은 복사"
      ],
      "metadata": {
        "id": "aJx-eZaC45Gd"
      },
      "execution_count": null,
      "outputs": []
    },
    {
      "cell_type": "code",
      "source": [
        "# 1. 할당\n",
        "a = {1:2, 2:3, 3:4}\n",
        "b = a\n",
        "a[1] = 10\n",
        "a, b"
      ],
      "metadata": {
        "colab": {
          "base_uri": "https://localhost:8080/"
        },
        "id": "e6BSVm0v4hG8",
        "outputId": "6468277c-1deb-4a2d-b0a4-e6a83003f094"
      },
      "execution_count": null,
      "outputs": [
        {
          "output_type": "execute_result",
          "data": {
            "text/plain": [
              "({1: 10, 2: 3, 3: 4}, {1: 10, 2: 3, 3: 4})"
            ]
          },
          "metadata": {},
          "execution_count": 77
        }
      ]
    },
    {
      "cell_type": "code",
      "source": [
        "# 2. 얕은 복사\n",
        "b = a.copy()\n",
        "a[1] = 100\n",
        "a, b"
      ],
      "metadata": {
        "colab": {
          "base_uri": "https://localhost:8080/"
        },
        "id": "P7oJGvTr5GmL",
        "outputId": "19ba1d25-e14d-4dd4-da44-8bf61772fea1"
      },
      "execution_count": null,
      "outputs": [
        {
          "output_type": "execute_result",
          "data": {
            "text/plain": [
              "({1: 100, 2: 3, 3: 4}, {1: 10, 2: 3, 3: 4})"
            ]
          },
          "metadata": {},
          "execution_count": 78
        }
      ]
    },
    {
      "cell_type": "code",
      "source": [
        "a = {1: [2, 2, 2], 2: [1, 1, 1]}\n",
        "b = a.copy()\n",
        "a[1][0] = 100\n",
        "a, b"
      ],
      "metadata": {
        "colab": {
          "base_uri": "https://localhost:8080/"
        },
        "id": "ZXtBwY2m5MVt",
        "outputId": "3f2d5fb2-368d-4885-c45a-d9d0c91f9604"
      },
      "execution_count": null,
      "outputs": [
        {
          "output_type": "execute_result",
          "data": {
            "text/plain": [
              "({1: [100, 2, 2], 2: [1, 1, 1]}, {1: [100, 2, 2], 2: [1, 1, 1]})"
            ]
          },
          "metadata": {},
          "execution_count": 79
        }
      ]
    },
    {
      "cell_type": "code",
      "source": [
        "# 깊은 복사\n",
        "import copy\n",
        "b = copy.deepcopy(a)\n",
        "a[1][0] = 9\n",
        "a, b"
      ],
      "metadata": {
        "colab": {
          "base_uri": "https://localhost:8080/"
        },
        "id": "1vLFrWSl5MSQ",
        "outputId": "3b19d157-6fa6-4452-de79-3255a3fb5286"
      },
      "execution_count": null,
      "outputs": [
        {
          "output_type": "execute_result",
          "data": {
            "text/plain": [
              "({1: [9, 2, 2], 2: [1, 1, 1]}, {1: [100, 2, 2], 2: [1, 1, 1]})"
            ]
          },
          "metadata": {},
          "execution_count": 81
        }
      ]
    },
    {
      "cell_type": "code",
      "source": [
        "# 값 비교 : 크다 작다(x), 같다 다르다(o)\n",
        "a != b"
      ],
      "metadata": {
        "colab": {
          "base_uri": "https://localhost:8080/"
        },
        "id": "GW16bPN15MPq",
        "outputId": "ee845f1b-3af9-4551-e183-388c4135cca6"
      },
      "execution_count": null,
      "outputs": [
        {
          "output_type": "execute_result",
          "data": {
            "text/plain": [
              "True"
            ]
          },
          "metadata": {},
          "execution_count": 83
        }
      ]
    },
    {
      "cell_type": "markdown",
      "source": [
        "#### Quiz4\n",
        "- 두 개 리스트를 딕셔너리로 만든다. {한국어: 영어}\n",
        "- 명왕성 pluto 추가하기\n",
        "- '성'으로 끝나지 않은 단어 삭제하기\n",
        "    - del sdict['태양'] => 하드코딩 안됨\n",
        "- sorted i) kor ii) eng"
      ],
      "metadata": {
        "id": "RAk1TmT95wq0"
      }
    },
    {
      "cell_type": "code",
      "source": [
        "solar_kor = '태양 수성 금성 지구 화성 목성 토성 천왕성 해왕성'.split()\n",
        "solar_eng = 'sun mercury venus earth mars jupiter saturn uranus neptune'.split()"
      ],
      "metadata": {
        "id": "xKpEJYRz5MM0"
      },
      "execution_count": null,
      "outputs": []
    },
    {
      "cell_type": "code",
      "source": [
        "# correct answer1\n",
        "solar_dict = dict()\n",
        "for kor, eng in zip(solar_kor, solar_eng):\n",
        "  solar_dict[kor] = eng\n",
        "\n",
        "solar_dict['명왕성'] = 'pluto'\n",
        "\n",
        "solar_system = {k:solar_dict[k] for k in solar_dict if k.endswith('성')}\n",
        "sorted(solar_system.items(), key = lambda x: x[1])"
      ],
      "metadata": {
        "colab": {
          "base_uri": "https://localhost:8080/"
        },
        "id": "gmxPOE-cJA2j",
        "outputId": "a2b65bcd-8fd3-4897-d1de-d74e459ad941"
      },
      "execution_count": null,
      "outputs": [
        {
          "output_type": "execute_result",
          "data": {
            "text/plain": [
              "[('목성', 'jupiter'),\n",
              " ('화성', 'mars'),\n",
              " ('수성', 'mercury'),\n",
              " ('해왕성', 'neptune'),\n",
              " ('명왕성', 'pluto'),\n",
              " ('토성', 'saturn'),\n",
              " ('천왕성', 'uranus'),\n",
              " ('금성', 'venus')]"
            ]
          },
          "metadata": {},
          "execution_count": 18
        }
      ]
    },
    {
      "cell_type": "code",
      "source": [
        "# correct answer2\n",
        "solar_dict = dict()\n",
        "for kor, eng in zip(solar_kor, solar_eng):\n",
        "  solar_dict[kor] = eng\n",
        "\n",
        "solar_dict['명왕성'] = 'pluto'\n",
        "\n",
        "# 여기만 다름\n",
        "solar = {k:v for k, v in solar_dict.items() if k.endswith('성')}\n",
        "sorted(solar.items(), key = lambda x: x[1])"
      ],
      "metadata": {
        "colab": {
          "base_uri": "https://localhost:8080/"
        },
        "id": "xQ2PFfII6Wq5",
        "outputId": "f07352ec-6c1e-4040-ca96-96eb4357fca2"
      },
      "execution_count": null,
      "outputs": [
        {
          "output_type": "execute_result",
          "data": {
            "text/plain": [
              "[('목성', 'jupiter'),\n",
              " ('화성', 'mars'),\n",
              " ('수성', 'mercury'),\n",
              " ('해왕성', 'neptune'),\n",
              " ('명왕성', 'pluto'),\n",
              " ('토성', 'saturn'),\n",
              " ('천왕성', 'uranus'),\n",
              " ('금성', 'venus')]"
            ]
          },
          "metadata": {},
          "execution_count": 19
        }
      ]
    },
    {
      "cell_type": "markdown",
      "source": [
        "### 1-6. 딕셔너리 컴프리헨션\n",
        "- {키_표현식:값_표현식 for 표현식 in 순회 가능한 객체}\n",
        "- 정렬된 딕셔너리 순회 -> set() 사용\n",
        "- 조건 추가 -> 기존 리스트컴프리헨션과 같이 if 사용"
      ],
      "metadata": {
        "id": "Cvl9i7QNMXj4"
      }
    },
    {
      "cell_type": "code",
      "source": [
        "accusation = {'room': 'ballroom', 'weapon' : 'lead pipe', 'person': 'Col.Mustard'}\n",
        "\n",
        "for k, v in accusation.items():\n",
        "  print(f'{k} has the contents {v}')"
      ],
      "metadata": {
        "colab": {
          "base_uri": "https://localhost:8080/"
        },
        "id": "RsIOEzvHAmRS",
        "outputId": "f0c666ba-39c2-4223-f76d-af6b51716ebc"
      },
      "execution_count": null,
      "outputs": [
        {
          "output_type": "stream",
          "name": "stdout",
          "text": [
            "room has the contents ballroom\n",
            "weapon has the contents lead pipe\n",
            "person has the contents Col.Mustard\n"
          ]
        }
      ]
    },
    {
      "cell_type": "code",
      "source": [
        "letter = 'apple'\n",
        "# {a: 1, p: 2,...}\n",
        "{ch: letter. count(ch) for ch in set(letter)}  \n",
        "# set()으로 중복요소 제거 및 정렬"
      ],
      "metadata": {
        "colab": {
          "base_uri": "https://localhost:8080/"
        },
        "id": "dtx2GIVMDMeh",
        "outputId": "87b9a8a9-3a0a-4797-8fa6-630be0ee4152"
      },
      "execution_count": null,
      "outputs": [
        {
          "output_type": "execute_result",
          "data": {
            "text/plain": [
              "{'a': 1, 'e': 1, 'l': 1, 'p': 2}"
            ]
          },
          "metadata": {},
          "execution_count": 8
        }
      ]
    },
    {
      "cell_type": "code",
      "source": [
        "vowels = 'aeiou'\n",
        "word = 'onomatopoeia'\n",
        "\n",
        "# 주어진 단어의 모음 세기\n",
        "# vowels -> word 각각 기준 잡아서 dic compre 이용해서 만들기\n",
        "\n",
        "#1. vowels 순회\n",
        "vowels_count = {v: word.count(v) for v in vowels}\n",
        "print(vowels_count)"
      ],
      "metadata": {
        "colab": {
          "base_uri": "https://localhost:8080/"
        },
        "id": "qj1bzYTBDMa0",
        "outputId": "1ee3aff6-c656-41ee-cc16-5ec8dc68914d"
      },
      "execution_count": null,
      "outputs": [
        {
          "output_type": "stream",
          "name": "stdout",
          "text": [
            "{'a': 2, 'e': 1, 'i': 1, 'o': 4, 'u': 0}\n"
          ]
        }
      ]
    },
    {
      "cell_type": "code",
      "source": [
        "#2. word 순회 -> 자음 빼기   \n",
        "word_list = {ch: word.count(ch) for ch in set(word) if ch in vowels}\n",
        "print(word_list)"
      ],
      "metadata": {
        "colab": {
          "base_uri": "https://localhost:8080/"
        },
        "id": "uVLPpAFE29m6",
        "outputId": "ca6acfc7-c792-4c0e-f56e-0f56ec58cebd"
      },
      "execution_count": null,
      "outputs": [
        {
          "output_type": "stream",
          "name": "stdout",
          "text": [
            "{'e': 1, 'a': 2, 'o': 4, 'i': 1}\n"
          ]
        }
      ]
    },
    {
      "cell_type": "markdown",
      "source": [
        "## 2. Set\n",
        "- ***딕셔너리의 키만 모아놓음 => 중복없음!(딕셔너리와 마찬가지로 각 키는 고유함)\n",
        "- 수학의 집합 개념 => 교집합, 차집합, 합집합, ...\n",
        "- 데이터 자료\n",
        "- 순서없고, 인덱싱 없음"
      ],
      "metadata": {
        "id": "IIIdX7vrG8I7"
      }
    },
    {
      "cell_type": "markdown",
      "source": [
        "### 2-1. 셋 생성하기\n",
        "- set() 함수 사용하거나 중괄호 안에 콤마로 구분된 값 넣기\n",
        "- 셋은 순서와 상관없이 저장됨\n",
        "\n",
        "**{}은 빈 딕셔너리를 생성, set 생성은 set()으로만 가능*"
      ],
      "metadata": {
        "id": "G8D_-QK2VCvl"
      }
    },
    {
      "cell_type": "code",
      "source": [
        "# set 생성하기 - set()\n",
        "empty = set()\n",
        "empty1 = {}  # dict\n",
        "empty, empty1"
      ],
      "metadata": {
        "colab": {
          "base_uri": "https://localhost:8080/"
        },
        "id": "ubkZ6b0oHNWF",
        "outputId": "fe731dc5-82d2-4377-ef48-9e4e4b9abaf9"
      },
      "execution_count": null,
      "outputs": [
        {
          "output_type": "execute_result",
          "data": {
            "text/plain": [
              "(set(), {})"
            ]
          },
          "metadata": {},
          "execution_count": 102
        }
      ]
    },
    {
      "cell_type": "code",
      "source": [
        "# set 생성 - 중괄호 안에 콤마로 구분된 값 넣기\n",
        "a = {1, 2, 3}\n",
        "type(a)"
      ],
      "metadata": {
        "colab": {
          "base_uri": "https://localhost:8080/"
        },
        "id": "PITCFsauHUom",
        "outputId": "323ab875-a6a8-455b-c97b-dcdfa265b8d3"
      },
      "execution_count": null,
      "outputs": [
        {
          "output_type": "execute_result",
          "data": {
            "text/plain": [
              "set"
            ]
          },
          "metadata": {},
          "execution_count": 103
        }
      ]
    },
    {
      "cell_type": "markdown",
      "source": [
        "### 2-2. 변환하기\n",
        "- 리스트, 문자열, 튜플, 딕셔너리에서 중복된 값 삭제하여 셋 생성 가능\n"
      ],
      "metadata": {
        "id": "Uy3YKW03WAkn"
      }
    },
    {
      "cell_type": "code",
      "source": [
        "# 리스트를 셋으로 변환\n",
        "hero_set = set(['Thor', 'Ironman', 'Hurk', 'Hurk', 'Captain America', 'Thor'])\n",
        "hero_set"
      ],
      "metadata": {
        "colab": {
          "base_uri": "https://localhost:8080/"
        },
        "id": "yI8bx6pGHfkR",
        "outputId": "d3843883-c977-474a-e92a-86db6f1821ef"
      },
      "execution_count": 3,
      "outputs": [
        {
          "output_type": "execute_result",
          "data": {
            "text/plain": [
              "{'Captain America', 'Hurk', 'Ironman', 'Thor'}"
            ]
          },
          "metadata": {},
          "execution_count": 3
        }
      ]
    },
    {
      "cell_type": "code",
      "source": [
        "# 문자열을 셋으로 변환\n",
        "str_set = set( 'character' )\n",
        "str_set"
      ],
      "metadata": {
        "colab": {
          "base_uri": "https://localhost:8080/"
        },
        "id": "_UfMH03kXGBU",
        "outputId": "67ab9907-4a2a-479c-bda1-d9310642c09a"
      },
      "execution_count": 5,
      "outputs": [
        {
          "output_type": "execute_result",
          "data": {
            "text/plain": [
              "{'a', 'c', 'e', 'h', 'r', 't'}"
            ]
          },
          "metadata": {},
          "execution_count": 5
        }
      ]
    },
    {
      "cell_type": "code",
      "source": [
        "# 튜플을 셋으로 변환\n",
        "color_set = set(('blue', 'yellow', 'green', 'red', 'blue', 'pupple', 'pupple', 'red'))\n",
        "color_set"
      ],
      "metadata": {
        "colab": {
          "base_uri": "https://localhost:8080/"
        },
        "id": "nKi2UWeVHX7a",
        "outputId": "bc4504ff-cabb-4418-c371-f974b724e6ca"
      },
      "execution_count": 2,
      "outputs": [
        {
          "output_type": "execute_result",
          "data": {
            "text/plain": [
              "{'blue', 'green', 'pupple', 'red', 'yellow'}"
            ]
          },
          "metadata": {},
          "execution_count": 2
        }
      ]
    },
    {
      "cell_type": "code",
      "source": [
        "# 딕셔너리에 set() 사용 -> 키만 사용\n",
        "fruit_color_set = set({'bananna': 'yellow', 'grape': 'pupple', 'mango': 'yellow', 'durian': 'green'})\n",
        "fruit_color_set"
      ],
      "metadata": {
        "colab": {
          "base_uri": "https://localhost:8080/"
        },
        "id": "4uq_c75RW9uD",
        "outputId": "a9c54691-0481-434a-de43-6b1eb6ce9c48"
      },
      "execution_count": 6,
      "outputs": [
        {
          "output_type": "execute_result",
          "data": {
            "text/plain": [
              "{'bananna', 'durian', 'grape', 'mango'}"
            ]
          },
          "metadata": {},
          "execution_count": 6
        }
      ]
    },
    {
      "cell_type": "markdown",
      "source": [
        "### 2-3. 추가하기\n",
        "- add() 활용하여 셋에 항목 추가"
      ],
      "metadata": {
        "id": "Ry82qnPjYAct"
      }
    },
    {
      "cell_type": "code",
      "source": [
        "# add()로 셋에 항목 추가하기\n",
        "hero_set.add('Black Widow')\n",
        "hero_set"
      ],
      "metadata": {
        "colab": {
          "base_uri": "https://localhost:8080/"
        },
        "id": "qgVKgZzwHlqj",
        "outputId": "0516036b-76b8-46c3-d7b2-a4e909502e85"
      },
      "execution_count": 7,
      "outputs": [
        {
          "output_type": "execute_result",
          "data": {
            "text/plain": [
              "{'Black Widow', 'Captain America', 'Hurk', 'Ironman', 'Thor'}"
            ]
          },
          "metadata": {},
          "execution_count": 7
        }
      ]
    },
    {
      "cell_type": "markdown",
      "source": [
        "### 2-4. 삭제하기\n",
        "- remove() 활용하여 값으로 항목 삭제"
      ],
      "metadata": {
        "id": "h8kZPXEgYhAX"
      }
    },
    {
      "cell_type": "code",
      "source": [
        "# remove()로 셋에서 항목 삭제\n",
        "color_set.remove('pupple')\n",
        "color_set"
      ],
      "metadata": {
        "colab": {
          "base_uri": "https://localhost:8080/"
        },
        "id": "zKthXZYWHpXX",
        "outputId": "a2dfe921-87da-4d1e-d755-5090e6411152"
      },
      "execution_count": 8,
      "outputs": [
        {
          "output_type": "execute_result",
          "data": {
            "text/plain": [
              "{'blue', 'green', 'red', 'yellow'}"
            ]
          },
          "metadata": {},
          "execution_count": 8
        }
      ]
    },
    {
      "cell_type": "code",
      "source": [
        "# discard() 활용하여 항목 삭제\n",
        "color_set.discard('red')\n",
        "color_set"
      ],
      "metadata": {
        "colab": {
          "base_uri": "https://localhost:8080/"
        },
        "id": "o0_2xI75Hs4D",
        "outputId": "e9e627b3-2ff6-4e51-ed09-7175a383f1ef"
      },
      "execution_count": 9,
      "outputs": [
        {
          "output_type": "execute_result",
          "data": {
            "text/plain": [
              "{'blue', 'green', 'yellow'}"
            ]
          },
          "metadata": {},
          "execution_count": 9
        }
      ]
    },
    {
      "cell_type": "code",
      "source": [
        "drinks = {\n",
        "    'martini': {'vodka', 'vermouth'},\n",
        "    'black russian': {'vodka', 'kahlua'},\n",
        "    'white russian': {'cream', 'kahlua', 'vodka'},\n",
        "    'mahatten': {'rye', 'vermouth', 'bitters'},\n",
        "    'screwdriver': {'orange juice', 'vodka'}\n",
        "}\n",
        "\n",
        "#1. vodka가 포함된 음료 골라내기\n",
        "for k,v in drinks.items():\n",
        "  if 'vodka' in v:\n",
        "    print(k)"
      ],
      "metadata": {
        "colab": {
          "base_uri": "https://localhost:8080/"
        },
        "id": "Dh7qQvr3HvYw",
        "outputId": "3c1d7b6f-c0e5-438b-f798-94f3c94f6ba0"
      },
      "execution_count": 10,
      "outputs": [
        {
          "output_type": "stream",
          "name": "stdout",
          "text": [
            "martini\n",
            "black russian\n",
            "white russian\n",
            "screwdriver\n"
          ]
        }
      ]
    },
    {
      "cell_type": "code",
      "source": [
        "#2. 보드카는 있는데 크림이나 버무스가 있으면 프린트하지 않기\n",
        "{k for k,v in drinks.items() if 'vodka' in v and 'cream' not in v and 'vermouth' not in v}"
      ],
      "metadata": {
        "colab": {
          "base_uri": "https://localhost:8080/"
        },
        "id": "GZBFuE-NZS7B",
        "outputId": "ab5b897d-3072-40af-840f-80eb824c3412"
      },
      "execution_count": 11,
      "outputs": [
        {
          "output_type": "execute_result",
          "data": {
            "text/plain": [
              "{'black russian', 'screwdriver'}"
            ]
          },
          "metadata": {},
          "execution_count": 11
        }
      ]
    },
    {
      "cell_type": "code",
      "source": [
        "#2에 대한 교재 예시(for문 사용)\n",
        "for k, v in drinks.items():\n",
        "  if 'vodka' in v and not ('vermouth' in v or 'cream' in v):\n",
        "    print(k)"
      ],
      "metadata": {
        "colab": {
          "base_uri": "https://localhost:8080/"
        },
        "id": "eTZk645jJhvh",
        "outputId": "e053a355-093a-4762-95b8-dc5543c45285"
      },
      "execution_count": 14,
      "outputs": [
        {
          "output_type": "stream",
          "name": "stdout",
          "text": [
            "black russian\n",
            "screwdriver\n"
          ]
        }
      ]
    },
    {
      "cell_type": "markdown",
      "source": [
        "### 2-5. 콤비네이션과 연산자\n",
        "- 교집합 | intersection\n",
        "    - `&` 연산자와 intersection() 메서드 사용\n",
        "- 합집합 | union\n",
        "    - `|` 연산자와 union() 메서드 사용\n",
        "- 차집합 | difference\n",
        "    - `-` 연산자와 difference() 메서드 사용"
      ],
      "metadata": {
        "id": "14priQXOaj4P"
      }
    },
    {
      "cell_type": "code",
      "source": [
        "a = {1, 2, 3}\n",
        "b = {2, 3, 4}\n",
        "\n",
        "# 교집합: intersection\n",
        "a.intersection(b)   # a & b"
      ],
      "metadata": {
        "colab": {
          "base_uri": "https://localhost:8080/"
        },
        "id": "_14gMjAeJz3o",
        "outputId": "d6afbd13-2207-4b69-92bf-013a023e28a4"
      },
      "execution_count": 15,
      "outputs": [
        {
          "output_type": "execute_result",
          "data": {
            "text/plain": [
              "{2, 3}"
            ]
          },
          "metadata": {},
          "execution_count": 15
        }
      ]
    },
    {
      "cell_type": "code",
      "source": [
        "# 합집합: union\n",
        "a.union(b)   # a|b"
      ],
      "metadata": {
        "colab": {
          "base_uri": "https://localhost:8080/"
        },
        "id": "C6GRmK8hbwBF",
        "outputId": "2afa025b-466d-44fc-a73c-22335de4b30f"
      },
      "execution_count": 16,
      "outputs": [
        {
          "output_type": "execute_result",
          "data": {
            "text/plain": [
              "{1, 2, 3, 4}"
            ]
          },
          "metadata": {},
          "execution_count": 16
        }
      ]
    },
    {
      "cell_type": "code",
      "source": [
        "# 차집합: difference\n",
        "a.difference(b)   # a - b"
      ],
      "metadata": {
        "colab": {
          "base_uri": "https://localhost:8080/"
        },
        "id": "yZO3dP3cb2re",
        "outputId": "d4ef54a9-321f-4c4d-e3b1-592b0e824e63"
      },
      "execution_count": 17,
      "outputs": [
        {
          "output_type": "execute_result",
          "data": {
            "text/plain": [
              "{1}"
            ]
          },
          "metadata": {},
          "execution_count": 17
        }
      ]
    },
    {
      "cell_type": "code",
      "source": [
        "b.difference(a)    # b - a"
      ],
      "metadata": {
        "colab": {
          "base_uri": "https://localhost:8080/"
        },
        "id": "nxHNyCHRb8Py",
        "outputId": "37479491-0949-4e52-83d4-7f40b577a46b"
      },
      "execution_count": 19,
      "outputs": [
        {
          "output_type": "execute_result",
          "data": {
            "text/plain": [
              "{4}"
            ]
          },
          "metadata": {},
          "execution_count": 19
        }
      ]
    },
    {
      "cell_type": "code",
      "source": [
        "'''\n",
        "#2에 대한 교재 예시(for문 사용)\n",
        "for k, v in drinks.items():\n",
        "  if 'vodka' in v and not ('vermouth' in v or 'cream' in v):\n",
        "    print(k)\n",
        "'''\n",
        "# 위 코드를 교집합 이용해서 바꾸기\n",
        "for k, v in drinks.items():\n",
        "  if 'vodka' in v and not v & {'vermouth', 'cream'}:\n",
        "    print(k)"
      ],
      "metadata": {
        "colab": {
          "base_uri": "https://localhost:8080/"
        },
        "id": "HCawp5IucPth",
        "outputId": "33ca2712-d18f-4c28-9416-ef6d1dfc5130"
      },
      "execution_count": 20,
      "outputs": [
        {
          "output_type": "stream",
          "name": "stdout",
          "text": [
            "black russian\n",
            "screwdriver\n"
          ]
        }
      ]
    },
    {
      "cell_type": "markdown",
      "source": [
        "### 2-6. set comprehension\n",
        "- 리스트, 딕셔너리 컴프리헨션과 같은 모양\n",
        "- `{표현식 for 표현식 in 순회 가능한 객체}`\n",
        "- for문, if문 사용 가능\n",
        "    - `{표현식 for 표현식 in 순회 가능한 객체 if 테스트}`"
      ],
      "metadata": {
        "id": "hZV53ZEZdjam"
      }
    },
    {
      "cell_type": "code",
      "source": [
        "# comprehension\n",
        "{s for s in str_set}"
      ],
      "metadata": {
        "colab": {
          "base_uri": "https://localhost:8080/"
        },
        "id": "HZef1pXoLJyL",
        "outputId": "e07278bb-db2a-403b-df33-b09f8a0f77f8"
      },
      "execution_count": 23,
      "outputs": [
        {
          "output_type": "execute_result",
          "data": {
            "text/plain": [
              "{'a', 'c', 'e', 'h', 'r', 't'}"
            ]
          },
          "metadata": {},
          "execution_count": 23
        }
      ]
    },
    {
      "cell_type": "markdown",
      "source": [
        "### 2-7. 불변 셋 생성하기\n",
        "- frozenset() 함수와 인수로 순회 가능한 객체 사용"
      ],
      "metadata": {
        "id": "Ua3X6LTXeLP0"
      }
    },
    {
      "cell_type": "code",
      "source": [
        "# frozenset (참고)\n",
        "fs = frozenset([1, 2, 3])\n",
        "fs"
      ],
      "metadata": {
        "colab": {
          "base_uri": "https://localhost:8080/"
        },
        "id": "yrX4M32LeSa_",
        "outputId": "f35d5079-ae54-4ba4-fdb8-57fcb502c181"
      },
      "execution_count": 24,
      "outputs": [
        {
          "output_type": "execute_result",
          "data": {
            "text/plain": [
              "frozenset({1, 2, 3})"
            ]
          },
          "metadata": {},
          "execution_count": 24
        }
      ]
    },
    {
      "cell_type": "markdown",
      "source": [
        "#### task\n",
        "- 팀 단위로 task \n",
        "- 기한은 수요일 자정까지\n",
        "- 100점, 70점, 50점,...\n"
      ],
      "metadata": {
        "id": "aBYaa2BkLf_n"
      }
    },
    {
      "cell_type": "code",
      "source": [
        "# pylint -> \n",
        "# pydocstyle -> style"
      ],
      "metadata": {
        "id": "JYpi3BWvMGFv"
      },
      "execution_count": null,
      "outputs": []
    },
    {
      "cell_type": "code",
      "source": [
        "!pip install pylint\n",
        "!pylint example.py  # 3 / 10\n",
        "\n",
        "!pip install pydocstyle\n",
        "!pydocstyle exampla.py"
      ],
      "metadata": {
        "colab": {
          "base_uri": "https://localhost:8080/"
        },
        "id": "F6tV6PrPL4JJ",
        "outputId": "7920bd3a-f505-4c79-9277-bca4f1095e5c"
      },
      "execution_count": null,
      "outputs": [
        {
          "output_type": "stream",
          "name": "stdout",
          "text": [
            "Collecting pylint\n",
            "  Downloading pylint-2.13.7-py3-none-any.whl (437 kB)\n",
            "\u001b[?25l\r\u001b[K     |▊                               | 10 kB 24.4 MB/s eta 0:00:01\r\u001b[K     |█▌                              | 20 kB 30.9 MB/s eta 0:00:01\r\u001b[K     |██▎                             | 30 kB 22.8 MB/s eta 0:00:01\r\u001b[K     |███                             | 40 kB 9.2 MB/s eta 0:00:01\r\u001b[K     |███▊                            | 51 kB 8.9 MB/s eta 0:00:01\r\u001b[K     |████▌                           | 61 kB 10.4 MB/s eta 0:00:01\r\u001b[K     |█████▎                          | 71 kB 9.7 MB/s eta 0:00:01\r\u001b[K     |██████                          | 81 kB 9.8 MB/s eta 0:00:01\r\u001b[K     |██████▊                         | 92 kB 10.8 MB/s eta 0:00:01\r\u001b[K     |███████▌                        | 102 kB 9.4 MB/s eta 0:00:01\r\u001b[K     |████████▎                       | 112 kB 9.4 MB/s eta 0:00:01\r\u001b[K     |█████████                       | 122 kB 9.4 MB/s eta 0:00:01\r\u001b[K     |█████████▊                      | 133 kB 9.4 MB/s eta 0:00:01\r\u001b[K     |██████████▌                     | 143 kB 9.4 MB/s eta 0:00:01\r\u001b[K     |███████████▎                    | 153 kB 9.4 MB/s eta 0:00:01\r\u001b[K     |████████████                    | 163 kB 9.4 MB/s eta 0:00:01\r\u001b[K     |████████████▊                   | 174 kB 9.4 MB/s eta 0:00:01\r\u001b[K     |█████████████▌                  | 184 kB 9.4 MB/s eta 0:00:01\r\u001b[K     |██████████████▏                 | 194 kB 9.4 MB/s eta 0:00:01\r\u001b[K     |███████████████                 | 204 kB 9.4 MB/s eta 0:00:01\r\u001b[K     |███████████████▊                | 215 kB 9.4 MB/s eta 0:00:01\r\u001b[K     |████████████████▌               | 225 kB 9.4 MB/s eta 0:00:01\r\u001b[K     |█████████████████▏              | 235 kB 9.4 MB/s eta 0:00:01\r\u001b[K     |██████████████████              | 245 kB 9.4 MB/s eta 0:00:01\r\u001b[K     |██████████████████▊             | 256 kB 9.4 MB/s eta 0:00:01\r\u001b[K     |███████████████████▌            | 266 kB 9.4 MB/s eta 0:00:01\r\u001b[K     |████████████████████▏           | 276 kB 9.4 MB/s eta 0:00:01\r\u001b[K     |█████████████████████           | 286 kB 9.4 MB/s eta 0:00:01\r\u001b[K     |█████████████████████▊          | 296 kB 9.4 MB/s eta 0:00:01\r\u001b[K     |██████████████████████▌         | 307 kB 9.4 MB/s eta 0:00:01\r\u001b[K     |███████████████████████▏        | 317 kB 9.4 MB/s eta 0:00:01\r\u001b[K     |████████████████████████        | 327 kB 9.4 MB/s eta 0:00:01\r\u001b[K     |████████████████████████▊       | 337 kB 9.4 MB/s eta 0:00:01\r\u001b[K     |█████████████████████████▍      | 348 kB 9.4 MB/s eta 0:00:01\r\u001b[K     |██████████████████████████▏     | 358 kB 9.4 MB/s eta 0:00:01\r\u001b[K     |███████████████████████████     | 368 kB 9.4 MB/s eta 0:00:01\r\u001b[K     |███████████████████████████▊    | 378 kB 9.4 MB/s eta 0:00:01\r\u001b[K     |████████████████████████████▍   | 389 kB 9.4 MB/s eta 0:00:01\r\u001b[K     |█████████████████████████████▏  | 399 kB 9.4 MB/s eta 0:00:01\r\u001b[K     |██████████████████████████████  | 409 kB 9.4 MB/s eta 0:00:01\r\u001b[K     |██████████████████████████████▊ | 419 kB 9.4 MB/s eta 0:00:01\r\u001b[K     |███████████████████████████████▍| 430 kB 9.4 MB/s eta 0:00:01\r\u001b[K     |████████████████████████████████| 437 kB 9.4 MB/s \n",
            "\u001b[?25hCollecting platformdirs>=2.2.0\n",
            "  Downloading platformdirs-2.5.2-py3-none-any.whl (14 kB)\n",
            "Collecting isort<6,>=4.2.5\n",
            "  Downloading isort-5.10.1-py3-none-any.whl (103 kB)\n",
            "\u001b[K     |████████████████████████████████| 103 kB 52.7 MB/s \n",
            "\u001b[?25hRequirement already satisfied: tomli>=1.1.0 in /usr/local/lib/python3.7/dist-packages (from pylint) (2.0.1)\n",
            "Requirement already satisfied: typing-extensions>=3.10.0 in /usr/local/lib/python3.7/dist-packages (from pylint) (4.2.0)\n",
            "Requirement already satisfied: dill>=0.2 in /usr/local/lib/python3.7/dist-packages (from pylint) (0.3.4)\n",
            "Collecting astroid<=2.12.0-dev0,>=2.11.3\n",
            "  Downloading astroid-2.11.3-py3-none-any.whl (250 kB)\n",
            "\u001b[K     |████████████████████████████████| 250 kB 56.1 MB/s \n",
            "\u001b[?25hCollecting mccabe<0.8,>=0.6\n",
            "  Downloading mccabe-0.7.0-py2.py3-none-any.whl (7.3 kB)\n",
            "Collecting typed-ast<2.0,>=1.4.0\n",
            "  Downloading typed_ast-1.5.3-cp37-cp37m-manylinux_2_5_x86_64.manylinux1_x86_64.manylinux_2_12_x86_64.manylinux2010_x86_64.whl (843 kB)\n",
            "\u001b[K     |████████████████████████████████| 843 kB 46.3 MB/s \n",
            "\u001b[?25hCollecting lazy-object-proxy>=1.4.0\n",
            "  Downloading lazy_object_proxy-1.7.1-cp37-cp37m-manylinux_2_5_x86_64.manylinux1_x86_64.manylinux_2_17_x86_64.manylinux2014_x86_64.whl (57 kB)\n",
            "\u001b[K     |████████████████████████████████| 57 kB 5.0 MB/s \n",
            "\u001b[?25hRequirement already satisfied: setuptools>=20.0 in /usr/local/lib/python3.7/dist-packages (from astroid<=2.12.0-dev0,>=2.11.3->pylint) (57.4.0)\n",
            "Requirement already satisfied: wrapt<2,>=1.11 in /usr/local/lib/python3.7/dist-packages (from astroid<=2.12.0-dev0,>=2.11.3->pylint) (1.14.0)\n",
            "Installing collected packages: typed-ast, lazy-object-proxy, platformdirs, mccabe, isort, astroid, pylint\n",
            "Successfully installed astroid-2.11.3 isort-5.10.1 lazy-object-proxy-1.7.1 mccabe-0.7.0 platformdirs-2.5.2 pylint-2.13.7 typed-ast-1.5.3\n",
            "************* Module example.py\n",
            "example.py:1:0: F0001: No module named example.py (fatal)\n",
            "Collecting pydocstyle\n",
            "  Downloading pydocstyle-6.1.1-py3-none-any.whl (37 kB)\n",
            "Requirement already satisfied: snowballstemmer in /usr/local/lib/python3.7/dist-packages (from pydocstyle) (2.2.0)\n",
            "Installing collected packages: pydocstyle\n",
            "Successfully installed pydocstyle-6.1.1\n",
            "WARNING: Error in file exampla.py: [Errno 2] No such file or directory: 'exampla.py'\n"
          ]
        }
      ]
    },
    {
      "cell_type": "markdown",
      "source": [
        "#### 교재 Quiz\n",
        "- 1. 영어-프랑스어 사전을 의미하는 e2f 딕셔너리를 만들어 출력하기(영어 dog는 프랑스어 chien이고, cat은 chat, walrus는 morse이다.\n",
        "- 2. e2f 딕셔너리에서 영어 walrus를 프랑스어로 출력하기\n",
        "- 3. e2f 딕셔너리에서 f2e 딕셔너리라는 영어-프랑스어 사전을 만들기(items 메서드 사용)\n",
        "- 4. e2f 딕셔너리를 사용해서 프랑스어 chien을 영어로 출력하기\n",
        "- 5. e2f 딕셔너리의 영어 단어 키들을 출력하기\n",
        "- 6. 딕셔너리 컴프리헨션으로 squares 딕셔너리 생성. range(10)을 키로 하고, 각 키의 제곱을 값으로 한다\n",
        "- 7. 셋 컴프리헨션을 이용하여 range(10)에서 홀수 셋 만들기\n",
        "- 8. zip() 사용해서 딕셔너리 생성. 키로('optimist', 'pessimist', 'troll') 튜플을 사용, 값으로 ('The glass is half full', 'The glass is half empty', 'How did you get a glass?') 튜플 사용\n",
        "- 9. zip() 사용하여 다음 두 리스트를 짝으로 하는 movies 딕셔너리 만들기\n",
        " `titles = ['Creature of Habit', 'Crewel Fate']`\n",
        " `plots = ['A nun turns into a mon ster', 'A haunted yarn shop']`"
      ],
      "metadata": {
        "id": "yW3wSkkoeixo"
      }
    },
    {
      "cell_type": "code",
      "source": [
        "# 1. \n",
        "e2f = dict(dog = 'chien', cat = 'chat', walrus = 'morse')\n",
        "e2f"
      ],
      "metadata": {
        "colab": {
          "base_uri": "https://localhost:8080/"
        },
        "id": "3O9nNiGYeiXZ",
        "outputId": "350c0349-fd56-4ccb-d314-9fbea481d340"
      },
      "execution_count": 25,
      "outputs": [
        {
          "output_type": "execute_result",
          "data": {
            "text/plain": [
              "{'cat': 'chat', 'dog': 'chien', 'walrus': 'morse'}"
            ]
          },
          "metadata": {},
          "execution_count": 25
        }
      ]
    },
    {
      "cell_type": "code",
      "source": [
        "# 2.\n",
        "e2f['walrus']"
      ],
      "metadata": {
        "colab": {
          "base_uri": "https://localhost:8080/",
          "height": 36
        },
        "id": "5RbW8lMDhHWI",
        "outputId": "6e55db0b-12af-4b18-a969-7b0990a217e7"
      },
      "execution_count": 26,
      "outputs": [
        {
          "output_type": "execute_result",
          "data": {
            "text/plain": [
              "'morse'"
            ],
            "application/vnd.google.colaboratory.intrinsic+json": {
              "type": "string"
            }
          },
          "metadata": {},
          "execution_count": 26
        }
      ]
    },
    {
      "cell_type": "code",
      "source": [
        "# 3.\n",
        "f2e = {}\n",
        "\n",
        "for k, v in e2f.items():\n",
        "  f2e[v] = k\n",
        "\n",
        "f2e"
      ],
      "metadata": {
        "colab": {
          "base_uri": "https://localhost:8080/"
        },
        "id": "M5lNyLutnZrc",
        "outputId": "00edcafb-df49-4602-db46-f0b149933b1a"
      },
      "execution_count": 40,
      "outputs": [
        {
          "output_type": "execute_result",
          "data": {
            "text/plain": [
              "{'chat': 'cat', 'chien': 'dog', 'morse': 'walrus'}"
            ]
          },
          "metadata": {},
          "execution_count": 40
        }
      ]
    },
    {
      "cell_type": "code",
      "source": [
        "# 4.\n",
        "for k in e2f:\n",
        "  if e2f[k] == 'chien':\n",
        "    print(k)"
      ],
      "metadata": {
        "colab": {
          "base_uri": "https://localhost:8080/"
        },
        "id": "QXqVZOYgjjAF",
        "outputId": "581ca086-8932-45d5-9746-9fc6dbc41a50"
      },
      "execution_count": 47,
      "outputs": [
        {
          "output_type": "stream",
          "name": "stdout",
          "text": [
            "dog\n"
          ]
        }
      ]
    },
    {
      "cell_type": "code",
      "source": [
        "# 5.\n",
        "e2f.keys()"
      ],
      "metadata": {
        "colab": {
          "base_uri": "https://localhost:8080/"
        },
        "id": "RtROKED5l3kc",
        "outputId": "272d6389-5d2e-4af3-a1f1-28cb3f179050"
      },
      "execution_count": 35,
      "outputs": [
        {
          "output_type": "execute_result",
          "data": {
            "text/plain": [
              "dict_keys(['dog', 'cat', 'walrus'])"
            ]
          },
          "metadata": {},
          "execution_count": 35
        }
      ]
    },
    {
      "cell_type": "code",
      "source": [
        "# 6.\n",
        "squares = {k: k ** 2 for k in range(10)}\n",
        "squares"
      ],
      "metadata": {
        "colab": {
          "base_uri": "https://localhost:8080/"
        },
        "id": "oYLG-0yyl9HL",
        "outputId": "ee2c79ac-d1c5-45f6-f26d-1bc032bd0595"
      },
      "execution_count": 36,
      "outputs": [
        {
          "output_type": "execute_result",
          "data": {
            "text/plain": [
              "{0: 0, 1: 1, 2: 4, 3: 9, 4: 16, 5: 25, 6: 36, 7: 49, 8: 64, 9: 81}"
            ]
          },
          "metadata": {},
          "execution_count": 36
        }
      ]
    },
    {
      "cell_type": "code",
      "source": [
        "# 7.\n",
        "odd_set = {num for num in range(10) if num % 2 == 1}\n",
        "odd_set"
      ],
      "metadata": {
        "colab": {
          "base_uri": "https://localhost:8080/"
        },
        "id": "XKn2Ko9-mfO2",
        "outputId": "9c24564d-defa-428d-8e3a-ab4d524cac05"
      },
      "execution_count": 38,
      "outputs": [
        {
          "output_type": "execute_result",
          "data": {
            "text/plain": [
              "{1, 3, 5, 7, 9}"
            ]
          },
          "metadata": {},
          "execution_count": 38
        }
      ]
    },
    {
      "cell_type": "code",
      "source": [
        "# 8.\n",
        "character = ('optimist', 'pessimist', 'troll')\n",
        "judgement = ('The glass is half full', 'The glass is half empty', 'How did you get a glass?')\n",
        "\n",
        "ch_judge = {}\n",
        "for key, value in zip(character, judgement):\n",
        "  ch_judge[key] = value\n",
        "\n",
        "ch_judge"
      ],
      "metadata": {
        "colab": {
          "base_uri": "https://localhost:8080/"
        },
        "id": "9l5De6PQm1lc",
        "outputId": "45ed56ae-79cf-43cc-9153-fe31529ec7bf"
      },
      "execution_count": 48,
      "outputs": [
        {
          "output_type": "execute_result",
          "data": {
            "text/plain": [
              "{'optimist': 'The glass is half full',\n",
              " 'pessimist': 'The glass is half empty',\n",
              " 'troll': 'How did you get a glass?'}"
            ]
          },
          "metadata": {},
          "execution_count": 48
        }
      ]
    },
    {
      "cell_type": "code",
      "source": [
        "# 9.\n",
        "titles = ['Creature of Habit', 'Crewel Fate']\n",
        "plots = ['A nun turns into a mon ster', 'A haunted yarn shop']\n",
        "\n",
        "movies = dict()\n",
        "\n",
        "for k, v in zip(titles, plots):\n",
        "  movies[k] = v\n",
        "\n",
        "movies"
      ],
      "metadata": {
        "colab": {
          "base_uri": "https://localhost:8080/"
        },
        "id": "g3NFhpSMm9uk",
        "outputId": "734a56b1-e05e-4bf8-edb3-5b1605dba212"
      },
      "execution_count": 41,
      "outputs": [
        {
          "output_type": "execute_result",
          "data": {
            "text/plain": [
              "{'Creature of Habit': 'A nun turns into a mon ster',\n",
              " 'Crewel Fate': 'A haunted yarn shop'}"
            ]
          },
          "metadata": {},
          "execution_count": 41
        }
      ]
    }
  ]
}