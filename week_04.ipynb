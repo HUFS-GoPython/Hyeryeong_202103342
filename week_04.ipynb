{
  "nbformat": 4,
  "nbformat_minor": 0,
  "metadata": {
    "colab": {
      "name": "3/25-Ch05",
      "provenance": [],
      "authorship_tag": "ABX9TyMrPHJnhFWjjboUvJV0IRHq",
      "include_colab_link": true
    },
    "kernelspec": {
      "name": "python3",
      "display_name": "Python 3"
    },
    "language_info": {
      "name": "python"
    }
  },
  "cells": [
    {
      "cell_type": "markdown",
      "metadata": {
        "id": "view-in-github",
        "colab_type": "text"
      },
      "source": [
        "<a href=\"https://colab.research.google.com/github/HUFS-Programming-2022/Hyeryeong_202103342/blob/main/week_04.ipynb\" target=\"_parent\"><img src=\"https://colab.research.google.com/assets/colab-badge.svg\" alt=\"Open In Colab\"/></a>"
      ]
    },
    {
      "cell_type": "markdown",
      "source": [
        "# 고급파이썬프로그래밍_4주차(3/25)"
      ],
      "metadata": {
        "id": "Qmt01RRNJN9j"
      }
    },
    {
      "cell_type": "markdown",
      "source": [
        "## 저번 시간 문제\n",
        "- 2번 문제는 배우지 않은 게 많음(이번 시간에 할 것) -> 못한 사람은 오늘 수업 듣고 다시 하기\n",
        "- 주민등록번호 문제 -> 어렵진 않은데 이슈가 있음"
      ],
      "metadata": {
        "id": "VvfmTnWqTVvQ"
      }
    },
    {
      "cell_type": "code",
      "execution_count": 75,
      "metadata": {
        "id": "74NnULqlTKWi",
        "colab": {
          "base_uri": "https://localhost:8080/"
        },
        "outputId": "00155e57-e854-4196-cbc8-68c582c01859"
      },
      "outputs": [
        {
          "output_type": "stream",
          "name": "stdout",
          "text": [
            "주민등록번호를 입력해주세요(숫자만 입력): 010405123547\n",
            "휴대폰 번호를 입력해주세요(숫자만 입력): 01045698794\n",
            "이메일을 입력해주세요(아이디 부분만 입력): damfk14\n",
            "\n",
            "당신은 01년 04월 05일 출생의 남성입니다.\n",
            "휴대폰 번호: 010-4569-8794\n",
            "이메일 주소: damfk14@gmail.com\n"
          ]
        }
      ],
      "source": [
        "# 주민등록번호 문제(저번 시간에 푼 것)\n",
        "resident_number = (input(\"주민등록번호를 입력해주세요(숫자만 입력): \"))\n",
        "phone_number = (input(\"휴대폰 번호를 입력해주세요(숫자만 입력): \"))\n",
        "e_mail = (input(\"이메일을 입력해주세요(아이디 부분만 입력): \"))\n",
        "print()\n",
        "\n",
        "if resident_number[6:7] == '1' or resident_number[6:7] == '3' :\n",
        "  print(f'당신은 {resident_number[:2]}년 {resident_number[2:4]}월 {resident_number[4:6]}일 출생의 남성입니다.')\n",
        "elif resident_number[6:7] == '2' or resident_number[6:7] == '4':\n",
        "   print(f'당신은 {resident_number[:2]}년 {resident_number[2:4]}월 {resident_number[4:6]}일 출생의 여성입니다.')\n",
        "else:\n",
        "  print(\"잘못된 주민등록번호입니다.\")\n",
        "\n",
        "print(f'휴대폰 번호: {phone_number[:3]}-{phone_number[3:7]}-{phone_number[7:11]}')\n",
        "print(f'이메일 주소: {e_mail}@gmail.com')"
      ]
    },
    {
      "cell_type": "code",
      "source": [
        "# 주민번호 문제(retry)\n",
        "resident_num = input(\"주민등록번호를 입력하세요: \")\n",
        "phone_num = input(\"휴대폰 번호를 입력하세요: \")\n",
        "e_mail = input(\"이메일을 입력하세요(아이디만): \")\n",
        "print()\n",
        "\n",
        "month = resident_num[2:4]\n",
        "date = resident_num[4:6]\n",
        "\n",
        "if resident_num[0] == '0' or resident_num[0] == '1' or resident_num[0] == '2':\n",
        "  year = '20' + resident_num[:2]\n",
        "else:\n",
        "  year = '19' + resident_num[:2]\n",
        "\n",
        "if resident_num[6] == '2' or resident_num[6] == '4':    # 1,2,3,4 이외 다른 숫자를 입력할 수도 있으므로\n",
        "  gender = '여성'\n",
        "elif resident_num[6] == '1' or resident_num[6] == '3':\n",
        "  gender = '남성'\n",
        "else:\n",
        "  print(\"잘못 입력\")\n",
        "\n",
        "print(f'당신은 {year}년도 {month}월 {date}일 출생의 {gender}입니다.')\n",
        "print(f'휴대폰 번호: {phone_number[:3]}-{phone_number[3:7]}-{phone_number[7:11]}')\n",
        "print(f'이메일 주소: {e_mail}@gmail.com')"
      ],
      "metadata": {
        "colab": {
          "base_uri": "https://localhost:8080/"
        },
        "id": "fnc8xINmUqMM",
        "outputId": "8e6cea68-af89-43a6-8877-75e531a5dd25"
      },
      "execution_count": 14,
      "outputs": [
        {
          "output_type": "stream",
          "name": "stdout",
          "text": [
            "주민등록번호를 입력하세요: 0010234213659\n",
            "휴대폰 번호를 입력하세요: 01045623214\n",
            "이메일을 입력하세요(아이디만): qewr123\n",
            "\n",
            "당신은 2000년도 10월 23일 출생의 여성입니다.\n",
            "휴대폰 번호: 010-2365-4562\n",
            "이메일 주소: qewr123@gmail.com\n"
          ]
        }
      ]
    },
    {
      "cell_type": "markdown",
      "source": [
        "# Ch05\n",
        "\n",
        "## 1. NLTK"
      ],
      "metadata": {
        "id": "3IrjivzVaPTf"
      }
    },
    {
      "cell_type": "code",
      "source": [
        "# nltk book import\n",
        "import nltk\n",
        "nltk.download('book', quiet = True)\n",
        "from nltk import book\n",
        "# from nltk.book import"
      ],
      "metadata": {
        "id": "c9caNTaPaUoz"
      },
      "execution_count": 15,
      "outputs": []
    },
    {
      "cell_type": "markdown",
      "source": [
        "## 2. 함수 I\n",
        "- y = 3x + 1 -> x,y 에 어떤 값을 넣어도 식을 구현할 수 있도록 하는 것\n",
        "- '<str>'.fx(<요소>)\n",
        "   - count(): 텍스트에 어떤 요소의 개수를 세는 \n",
        "   - replace(): A -> B\n",
        "   - strip(): 불필요한 공백 등 원하는 요소 제거\n",
        "      - rstrip: 문자열 기준 오른쪽 공백 사라짐\n",
        "      - lstrip: 문자열 기준 왼쪽 공백 사라짐\n",
        "   - find(): 원하는 문자열 찾기\n",
        "   - index(): 원하는 문자열 인덱스 반환\n",
        "    \n",
        "    *find와 index 모두 어떠한 값을 찾는 함수지만, 없는 값을 입력했을 때, find()함수는 -1을, index()함수는 오류를 출력한다는 점에서 차이가 있음."
      ],
      "metadata": {
        "id": "3Ud_IRU5bMx1"
      }
    },
    {
      "cell_type": "code",
      "source": [
        "# count() 함수\n",
        "btxt1 = book.text1\n",
        "btxt1.count('the')   # The, THE는 세지 않음. -> 대소문자 구분한다."
      ],
      "metadata": {
        "colab": {
          "base_uri": "https://localhost:8080/"
        },
        "id": "hBA-3HUkcT1C",
        "outputId": "d8957d77-78b6-44fc-f20f-c091d0c9d1c2"
      },
      "execution_count": 16,
      "outputs": [
        {
          "output_type": "execute_result",
          "data": {
            "text/plain": [
              "13721"
            ]
          },
          "metadata": {},
          "execution_count": 16
        }
      ]
    },
    {
      "cell_type": "code",
      "source": [
        "btxt2 = book.text2\n",
        "btxt2.count('the')"
      ],
      "metadata": {
        "colab": {
          "base_uri": "https://localhost:8080/"
        },
        "id": "Ip-kkUMjc06x",
        "outputId": "2f43d484-9004-4732-ff0f-226bd4ee0b85"
      },
      "execution_count": 17,
      "outputs": [
        {
          "output_type": "execute_result",
          "data": {
            "text/plain": [
              "3861"
            ]
          },
          "metadata": {},
          "execution_count": 17
        }
      ]
    },
    {
      "cell_type": "code",
      "source": [
        "# replace(A, B)\n",
        "# 'the'.replace('t', 'T')\n",
        "word = 'the'\n",
        "word.replace('t','T')  # word는 변하지 않음. -> 바꾼 값을 변수에 다시 넣고 출력해줘야 함."
      ],
      "metadata": {
        "colab": {
          "base_uri": "https://localhost:8080/",
          "height": 36
        },
        "id": "gPlyVBH6c_m-",
        "outputId": "601270f5-c934-4f35-aee9-9ba50054542d"
      },
      "execution_count": 18,
      "outputs": [
        {
          "output_type": "execute_result",
          "data": {
            "text/plain": [
              "'The'"
            ],
            "application/vnd.google.colaboratory.intrinsic+json": {
              "type": "string"
            }
          },
          "metadata": {},
          "execution_count": 18
        }
      ]
    },
    {
      "cell_type": "code",
      "source": [
        "word = word.replace('t', 'T')\n",
        "word"
      ],
      "metadata": {
        "colab": {
          "base_uri": "https://localhost:8080/",
          "height": 36
        },
        "id": "EHrR9m3Jdj5I",
        "outputId": "c8164fea-b42e-4d0f-d95d-3da86a563ca3"
      },
      "execution_count": 19,
      "outputs": [
        {
          "output_type": "execute_result",
          "data": {
            "text/plain": [
              "'The'"
            ],
            "application/vnd.google.colaboratory.intrinsic+json": {
              "type": "string"
            }
          },
          "metadata": {},
          "execution_count": 19
        }
      ]
    },
    {
      "cell_type": "code",
      "source": [
        "# strip(), rstrip(), lstrip()\n",
        "word = '        word'\n",
        "word.strip()"
      ],
      "metadata": {
        "colab": {
          "base_uri": "https://localhost:8080/",
          "height": 36
        },
        "id": "lSaR4i4gdu9X",
        "outputId": "082417cb-c3ef-4815-9a2c-069771a185d4"
      },
      "execution_count": 20,
      "outputs": [
        {
          "output_type": "execute_result",
          "data": {
            "text/plain": [
              "'word'"
            ],
            "application/vnd.google.colaboratory.intrinsic+json": {
              "type": "string"
            }
          },
          "metadata": {},
          "execution_count": 20
        }
      ]
    },
    {
      "cell_type": "code",
      "source": [
        "color = '       \\t  pink'    # 왼쪽에만 공백이 있기 때문에 lstrip() 이용하면 왼쪽 공백 지울 수 있음\n",
        "color.lstrip()"
      ],
      "metadata": {
        "colab": {
          "base_uri": "https://localhost:8080/",
          "height": 36
        },
        "id": "FqMQPw5JeqGd",
        "outputId": "1c2efc64-f1e7-4e54-eea3-0ae9082410e0"
      },
      "execution_count": 21,
      "outputs": [
        {
          "output_type": "execute_result",
          "data": {
            "text/plain": [
              "'pink'"
            ],
            "application/vnd.google.colaboratory.intrinsic+json": {
              "type": "string"
            }
          },
          "metadata": {},
          "execution_count": 21
        }
      ]
    },
    {
      "cell_type": "code",
      "source": [
        "color.lstrip().replace('p', 'm').replace('k', 't')  \n",
        "# dot(.)을 이용하여 문자열에 연속적으로 함수를 쓸 수 있음"
      ],
      "metadata": {
        "colab": {
          "base_uri": "https://localhost:8080/",
          "height": 36
        },
        "id": "m5ite_laeuX1",
        "outputId": "fe1d81b0-591f-4fff-f8f0-3a73ceea59bf"
      },
      "execution_count": 22,
      "outputs": [
        {
          "output_type": "execute_result",
          "data": {
            "text/plain": [
              "'mint'"
            ],
            "application/vnd.google.colaboratory.intrinsic+json": {
              "type": "string"
            }
          },
          "metadata": {},
          "execution_count": 22
        }
      ]
    },
    {
      "cell_type": "code",
      "source": [
        "# find()함수 : 첫 번째로 발견한 인덱스를 반환, 공백도 모두 셈\n",
        "# lfind(): 왼쪽에서 시작하여 값을 찾음 (= find())\n",
        "# rfind(): 오른쪽에서부터 값을 찾음.\n",
        "word.find('r')"
      ],
      "metadata": {
        "colab": {
          "base_uri": "https://localhost:8080/"
        },
        "id": "wQDzsFZxlmEZ",
        "outputId": "fb1a01ba-018f-41e1-fde9-57d7de1e60b5"
      },
      "execution_count": 23,
      "outputs": [
        {
          "output_type": "execute_result",
          "data": {
            "text/plain": [
              "10"
            ]
          },
          "metadata": {},
          "execution_count": 23
        }
      ]
    },
    {
      "cell_type": "code",
      "source": [
        "food = \"My favorite food is pineapple\"\n",
        "food.find('i')    # 가장 먼저 발견되는 i의 위치를 반환"
      ],
      "metadata": {
        "colab": {
          "base_uri": "https://localhost:8080/"
        },
        "id": "ATMqZMx7l2ub",
        "outputId": "7ebfdbf1-b80e-411f-9a65-c4d131161141"
      },
      "execution_count": 24,
      "outputs": [
        {
          "output_type": "execute_result",
          "data": {
            "text/plain": [
              "8"
            ]
          },
          "metadata": {},
          "execution_count": 24
        }
      ]
    },
    {
      "cell_type": "code",
      "source": [
        "food.rfind('i')"
      ],
      "metadata": {
        "colab": {
          "base_uri": "https://localhost:8080/"
        },
        "id": "2eI_DAGloG2d",
        "outputId": "9e5f44b8-4699-4ef7-fc54-f92f32a525d4"
      },
      "execution_count": 25,
      "outputs": [
        {
          "output_type": "execute_result",
          "data": {
            "text/plain": [
              "21"
            ]
          },
          "metadata": {},
          "execution_count": 25
        }
      ]
    },
    {
      "cell_type": "code",
      "source": [
        "# index()함수: find()함수와 마찬가지로, 첫 번째로 발견된 인덱스의 위치 반환\n",
        "food.index('i')  "
      ],
      "metadata": {
        "colab": {
          "base_uri": "https://localhost:8080/"
        },
        "id": "By-iU7IMmxJA",
        "outputId": "53ab2e2c-c98c-4b05-bf88-01d4eebbe369"
      },
      "execution_count": 26,
      "outputs": [
        {
          "output_type": "execute_result",
          "data": {
            "text/plain": [
              "8"
            ]
          },
          "metadata": {},
          "execution_count": 26
        }
      ]
    },
    {
      "cell_type": "code",
      "source": [
        "# find()함수와 index()함수의 차이점\n",
        "# find()함수는 문자열에 존재하지 않는 값을 입력하면 '-1'을 반환\n",
        "food.find('g')"
      ],
      "metadata": {
        "colab": {
          "base_uri": "https://localhost:8080/"
        },
        "id": "D8ZBdg_vnD5q",
        "outputId": "471f4cb1-d891-44b7-e5b5-819ca6b915be"
      },
      "execution_count": 27,
      "outputs": [
        {
          "output_type": "execute_result",
          "data": {
            "text/plain": [
              "-1"
            ]
          },
          "metadata": {},
          "execution_count": 27
        }
      ]
    },
    {
      "cell_type": "code",
      "source": [
        "# index()함수는 문자열에 존재하지 않는 값 입력하면 'error'\n",
        "food.index('g')"
      ],
      "metadata": {
        "colab": {
          "base_uri": "https://localhost:8080/",
          "height": 195
        },
        "id": "MFe4JJoKnryW",
        "outputId": "d493c079-f339-4ee7-9aea-3f113b3e5b2b"
      },
      "execution_count": 28,
      "outputs": [
        {
          "output_type": "error",
          "ename": "ValueError",
          "evalue": "ignored",
          "traceback": [
            "\u001b[0;31m---------------------------------------------------------------------------\u001b[0m",
            "\u001b[0;31mValueError\u001b[0m                                Traceback (most recent call last)",
            "\u001b[0;32m<ipython-input-28-4fb6d7d73562>\u001b[0m in \u001b[0;36m<module>\u001b[0;34m()\u001b[0m\n\u001b[1;32m      1\u001b[0m \u001b[0;31m# index()함수는 문자열에 존재하지 않는 값 입력하면 'error'\u001b[0m\u001b[0;34m\u001b[0m\u001b[0;34m\u001b[0m\u001b[0;34m\u001b[0m\u001b[0m\n\u001b[0;32m----> 2\u001b[0;31m \u001b[0mfood\u001b[0m\u001b[0;34m.\u001b[0m\u001b[0mindex\u001b[0m\u001b[0;34m(\u001b[0m\u001b[0;34m'g'\u001b[0m\u001b[0;34m)\u001b[0m\u001b[0;34m\u001b[0m\u001b[0;34m\u001b[0m\u001b[0m\n\u001b[0m",
            "\u001b[0;31mValueError\u001b[0m: substring not found"
          ]
        }
      ]
    },
    {
      "cell_type": "markdown",
      "source": [
        "## 3. 함수 II\n",
        "- NLTK 전용\n",
        "- concordance(): 특정 문자열이 어떤 문맥에서 쓰이는지 알려줌\n",
        "- similar(): 주어진 스트링과 비슷한 문맥에서 쓰이는 단어들 보여줌\n",
        "- common_context(리스트): 주어진 스트링들이 공유하는 문맥을 보여줌\n",
        "- dispersion_plot(리스트): 주어진 스트링들이 텍스트의 어느 위치에 분배되어 있는지 이미지로 보여줌 "
      ],
      "metadata": {
        "id": "EDTrpoVvpc4l"
      }
    },
    {
      "cell_type": "code",
      "source": [
        "btxt1.concordance('whale')"
      ],
      "metadata": {
        "colab": {
          "base_uri": "https://localhost:8080/"
        },
        "id": "dD6UwJyGpwBj",
        "outputId": "20a31356-80e7-4454-fc75-82dbc15bc757"
      },
      "execution_count": 30,
      "outputs": [
        {
          "output_type": "stream",
          "name": "stdout",
          "text": [
            "Displaying 25 of 1226 matches:\n",
            "s , and to teach them by what name a whale - fish is to be called in our tongue\n",
            "t which is not true .\" -- HACKLUYT \" WHALE . ... Sw . and Dan . HVAL . This ani\n",
            "ulted .\" -- WEBSTER ' S DICTIONARY \" WHALE . ... It is more immediately from th\n",
            "ISH . WAL , DUTCH . HWAL , SWEDISH . WHALE , ICELANDIC . WHALE , ENGLISH . BALE\n",
            "HWAL , SWEDISH . WHALE , ICELANDIC . WHALE , ENGLISH . BALEINE , FRENCH . BALLE\n",
            "least , take the higgledy - piggledy whale statements , however authentic , in \n",
            " dreadful gulf of this monster ' s ( whale ' s ) mouth , are immediately lost a\n",
            " patient Job .\" -- RABELAIS . \" This whale ' s liver was two cartloads .\" -- ST\n",
            " Touching that monstrous bulk of the whale or ork we have received nothing cert\n",
            " of oil will be extracted out of one whale .\" -- IBID . \" HISTORY OF LIFE AND D\n",
            "ise .\" -- KING HENRY . \" Very like a whale .\" -- HAMLET . \" Which to secure , n\n",
            "restless paine , Like as the wounded whale to shore flies thro ' the maine .\" -\n",
            ". OF SPERMA CETI AND THE SPERMA CETI WHALE . VIDE HIS V . E . \" Like Spencer ' \n",
            "t had been a sprat in the mouth of a whale .\" -- PILGRIM ' S PROGRESS . \" That \n",
            "EN ' S ANNUS MIRABILIS . \" While the whale is floating at the stern of the ship\n",
            "e ship called The Jonas - in - the - Whale . ... Some say the whale can ' t ope\n",
            " in - the - Whale . ... Some say the whale can ' t open his mouth , but that is\n",
            " masts to see whether they can see a whale , for the first discoverer has a duc\n",
            " for his pains . ... I was told of a whale taken near Shetland , that had above\n",
            "oneers told me that he caught once a whale in Spitzbergen that was white all ov\n",
            "2 , one eighty feet in length of the whale - bone kind came in , which ( as I w\n",
            "n master and kill this Sperma - ceti whale , for I could never hear of any of t\n",
            " . 1729 . \"... and the breath of the whale is frequendy attended with such an i\n",
            "ed with hoops and armed with ribs of whale .\" -- RAPE OF THE LOCK . \" If we com\n",
            "contemptible in the comparison . The whale is doubtless the largest animal in c\n"
          ]
        }
      ]
    },
    {
      "cell_type": "code",
      "source": [
        "btxt1.similar('whale')\n",
        "# simliar()함수 -> NONE 타입: 변수에 할당하여 사용할 수 없음"
      ],
      "metadata": {
        "colab": {
          "base_uri": "https://localhost:8080/"
        },
        "id": "WmYJ90_LqHjY",
        "outputId": "c68cc255-9bc9-4135-81af-0cf8da4212a1"
      },
      "execution_count": 31,
      "outputs": [
        {
          "output_type": "stream",
          "name": "stdout",
          "text": [
            "ship boat sea time captain world man deck pequod other whales air\n",
            "water head crew line thing side way body\n"
          ]
        }
      ]
    },
    {
      "cell_type": "code",
      "source": [
        "btxt2.common_contexts(['monstrous', 'very'])"
      ],
      "metadata": {
        "colab": {
          "base_uri": "https://localhost:8080/"
        },
        "id": "-VzhRVveqoQS",
        "outputId": "c3a625c0-9c23-4fb6-c6d7-69d6613c6af6"
      },
      "execution_count": 32,
      "outputs": [
        {
          "output_type": "stream",
          "name": "stdout",
          "text": [
            "a_pretty am_glad a_lucky is_pretty be_glad\n"
          ]
        }
      ]
    },
    {
      "cell_type": "code",
      "source": [
        "btxt4 = book.text4\n",
        "btxt4.dispersion_plot(['citizens', 'democracy', 'America'])"
      ],
      "metadata": {
        "colab": {
          "base_uri": "https://localhost:8080/",
          "height": 295
        },
        "id": "Z0hyVA5KrjQC",
        "outputId": "c89fb986-8267-47b6-be9f-7502d5c4b445"
      },
      "execution_count": 33,
      "outputs": [
        {
          "output_type": "display_data",
          "data": {
            "text/plain": [
              "<Figure size 432x288 with 1 Axes>"
            ],
            "image/png": "[encoded data removed]"
          },
          "metadata": {
            "needs_background": "light"
          }
        }
      ]
    },
    {
      "cell_type": "markdown",
      "source": [
        "## 4. 리스트 & 리스트컴프리핸션\n",
        "### 4-1. 리스트\n",
        "\n",
        "- 리스트: 프로그래밍에서 '배열'에 해당, 리스트라고 부른다.\n",
        "- 하나의 변수에 여러 값을 할당하는 자료형\n",
        "   - example = [1,2,3,4]\n",
        "- 대괄호를 사용한다.\n",
        "- 내부 요소들의 자료형은 같을 필요가 없다.\n",
        "   - example = [1,'yes',True]\n",
        "- 순서가 있다 -> 슬라이싱, 인덱싱 가능\n",
        "- 빈 리스트 선언: set(), []"
      ],
      "metadata": {
        "id": "tOjfGB2LsIMP"
      }
    },
    {
      "cell_type": "code",
      "source": [
        "empty = []   # 빈 리스트"
      ],
      "metadata": {
        "id": "EDe7zmYhszNZ"
      },
      "execution_count": 34,
      "outputs": []
    },
    {
      "cell_type": "code",
      "source": [
        "region = ['busan', 'seoul', 'incheon']\n",
        "region[0]"
      ],
      "metadata": {
        "id": "i_FeUWKGs3MK"
      },
      "execution_count": null,
      "outputs": []
    },
    {
      "cell_type": "code",
      "source": [
        "# region[02] -> 0을 쓰는 것은 안됨"
      ],
      "metadata": {
        "id": "pa3riTB1tIgO"
      },
      "execution_count": 36,
      "outputs": []
    },
    {
      "cell_type": "code",
      "source": [
        "# 거꾸로 출력\n",
        "region[::-1]"
      ],
      "metadata": {
        "colab": {
          "base_uri": "https://localhost:8080/"
        },
        "id": "sen6YCNKti2Y",
        "outputId": "fe80b10e-4469-4881-8157-285e66cd49a1"
      },
      "execution_count": 37,
      "outputs": [
        {
          "output_type": "execute_result",
          "data": {
            "text/plain": [
              "['incheon', 'seoul', 'busan']"
            ]
          },
          "metadata": {},
          "execution_count": 37
        }
      ]
    },
    {
      "cell_type": "code",
      "source": [
        "# 리스트 안 특정 스트링의 위치 반환하고 싶다면 -> index()\n",
        "region.index('seoul')"
      ],
      "metadata": {
        "colab": {
          "base_uri": "https://localhost:8080/"
        },
        "id": "fvInJaFT2r-U",
        "outputId": "a31bb2a3-9c53-4c6f-9508-b93a34cccba0"
      },
      "execution_count": 38,
      "outputs": [
        {
          "output_type": "execute_result",
          "data": {
            "text/plain": [
              "1"
            ]
          },
          "metadata": {},
          "execution_count": 38
        }
      ]
    },
    {
      "cell_type": "markdown",
      "source": [
        "### 4-2. 리스트 컴프리핸션\n",
        "- 포함형/지능형/축약형 리스트\n",
        "- 하나의 리스트에서 그 리스트를 포함하여 다른 리스트를 만든다.\n",
        "- list + for loop\n",
        "- [A for A' in C]\n",
        "  - C에 있는 A'에서 A를 가져온다 => 리스트에 담아서 반환\n",
        "   - A: 내가 원하는 출력 형태\n",
        "   - A': C의 형태\n",
        "   - C: 반복가능한 자료형 (리스트)\n",
        "\n",
        "- 조건 추가 : [A for A' in C if ....]"
      ],
      "metadata": {
        "id": "DL7g0M8vtusO"
      }
    },
    {
      "cell_type": "code",
      "source": [
        "[city[0] for city in region]   # 리스트 region에 있는 city에서 각각의 0번째 인덱스 가져옴"
      ],
      "metadata": {
        "colab": {
          "base_uri": "https://localhost:8080/"
        },
        "id": "TF9QUPRkumwG",
        "outputId": "47e94396-06a9-46dd-d7f0-24adc2998a05"
      },
      "execution_count": 39,
      "outputs": [
        {
          "output_type": "execute_result",
          "data": {
            "text/plain": [
              "['b', 's', 'i']"
            ]
          },
          "metadata": {},
          "execution_count": 39
        }
      ]
    },
    {
      "cell_type": "code",
      "source": [
        "[city for city in region]"
      ],
      "metadata": {
        "colab": {
          "base_uri": "https://localhost:8080/"
        },
        "id": "l1QwOd2NunPE",
        "outputId": "7482bd9b-cbdb-48a4-df2e-dbaab8a194e5"
      },
      "execution_count": 40,
      "outputs": [
        {
          "output_type": "execute_result",
          "data": {
            "text/plain": [
              "['busan', 'seoul', 'incheon']"
            ]
          },
          "metadata": {},
          "execution_count": 40
        }
      ]
    },
    {
      "cell_type": "code",
      "source": [
        "# text1의 토큰 중 처음 10개 단어에서 마지막 알파벳 반환\n",
        "[word[-1] for word in btxt1.tokens[:10]]   \n",
        "# 10개의 단어를 먼저 추출 -> 마지막 알파벳 반환"
      ],
      "metadata": {
        "colab": {
          "base_uri": "https://localhost:8080/"
        },
        "id": "-RvSESptvtVr",
        "outputId": "4677a0fe-0039-4f10-9e41-5ff0ae3f5a67"
      },
      "execution_count": 41,
      "outputs": [
        {
          "output_type": "execute_result",
          "data": {
            "text/plain": [
              "['[', 'y', 'k', 'y', 'n', 'e', '1', ']', 'Y', '.']"
            ]
          },
          "metadata": {},
          "execution_count": 41
        }
      ]
    },
    {
      "cell_type": "code",
      "source": [
        "[word[-1] for word in btxt1.tokens][:10]\n",
        "# 마지막 알파벳들 반환 -> 10개의 단어 추출 : 위의 방법보다 시간이 더 많이 걸림/위의 방법 권장"
      ],
      "metadata": {
        "colab": {
          "base_uri": "https://localhost:8080/"
        },
        "id": "eITy_Wv8x1N8",
        "outputId": "c57a17e5-5382-499d-83d1-ecffa4c3be75"
      },
      "execution_count": 42,
      "outputs": [
        {
          "output_type": "execute_result",
          "data": {
            "text/plain": [
              "['[', 'y', 'k', 'y', 'n', 'e', '1', ']', 'Y', '.']"
            ]
          },
          "metadata": {},
          "execution_count": 42
        }
      ]
    },
    {
      "cell_type": "code",
      "source": [
        "# 조건 추가 if\n",
        "[word for word in btxt1.tokens[:10] if len(word) < 3] "
      ],
      "metadata": {
        "colab": {
          "base_uri": "https://localhost:8080/"
        },
        "id": "XjiSJfYhyPbi",
        "outputId": "6cbda4b1-40c6-4f32-fb66-daa284db040c"
      },
      "execution_count": 43,
      "outputs": [
        {
          "output_type": "execute_result",
          "data": {
            "text/plain": [
              "['[', 'by', ']', '.']"
            ]
          },
          "metadata": {},
          "execution_count": 43
        }
      ]
    },
    {
      "cell_type": "code",
      "source": [
        "# 논리연산자를 통해서 조건을 여러 개 생성\n",
        "[word for word in btxt1.tokens[:10] if (len(word) < 3) and (word == '.')] "
      ],
      "metadata": {
        "colab": {
          "base_uri": "https://localhost:8080/"
        },
        "id": "5rLW-VBpzAxd",
        "outputId": "c4e91446-df0c-4732-db94-676bfd247441"
      },
      "execution_count": 46,
      "outputs": [
        {
          "output_type": "execute_result",
          "data": {
            "text/plain": [
              "['.']"
            ]
          },
          "metadata": {},
          "execution_count": 46
        }
      ]
    },
    {
      "cell_type": "code",
      "source": [
        "# 1. text5에서 길이가 15 이상인 단어 추출하기\n",
        "btxt5 = book.text5\n",
        "[words for words in btxt5 if len(words) >= 15]"
      ],
      "metadata": {
        "colab": {
          "base_uri": "https://localhost:8080/"
        },
        "id": "oo_dO7TU13VR",
        "outputId": "011641b3-cf13-4f9c-ccd4-09e07feb8630"
      },
      "execution_count": 45,
      "outputs": [
        {
          "output_type": "execute_result",
          "data": {
            "text/plain": [
              "['iamahotniplickme',\n",
              " '!!!!!!!!!!!!!!!!',\n",
              " 'iamahotnipwithpics',\n",
              " 'iamahotnipwithhotnippics',\n",
              " '--------------------',\n",
              " '..............................',\n",
              " '!!!!!!!!!!!!!!!!',\n",
              " 'mikeeeeeeeeeeeeeeeeeeeeeeeeee',\n",
              " 'oooooooooooooonnnnnnnnnnnneeeeeeeeeeeeeeesssssssss',\n",
              " 'WEEEEEEEEEEEEEEEEEE',\n",
              " '!!!!!!!!!!!!!!!!!!!!!!!',\n",
              " 'niteeeeeeeeeeeeeeeeeee',\n",
              " '#talkcity_adults',\n",
              " 'http://forums.talkcity.com/tc-adults/start ',\n",
              " '#talkcity_adults',\n",
              " 'http://www.shadowbots.com',\n",
              " '(((((((((((((((((((((',\n",
              " ')))))))))))))))))))))',\n",
              " 'huuuuuuuuuuuuuuuuuuuuuuuuuuuuuuuuuuugZ',\n",
              " ')))))))))))))))',\n",
              " 'wooooooooooooohoooooooooooooooo',\n",
              " 'www.Wunderground.com',\n",
              " '//www.wunderground.com/cgi-bin/findweather/getForecast?query=95953#FIR',\n",
              " 'www.Wunderground.com',\n",
              " 'www.Wunderground.com',\n",
              " '#talkcity_adults',\n",
              " 'whoaaaaaaaaaaaa',\n",
              " '((((((((((((((((((((',\n",
              " ')))))))))))))))))))',\n",
              " '((((((((((((((((((',\n",
              " ')))))))))))))))))))',\n",
              " '(((((((((((((((((',\n",
              " ')))))))))))))))))))))',\n",
              " 'ohhhhhhhhhhhhhhhh',\n",
              " '((((((((((((((((((((',\n",
              " ')))))))))))))))))))))))))))))))',\n",
              " '((((((((((((((((((((((((((',\n",
              " ')))))))))))))))))))))',\n",
              " '(((((((((((((((',\n",
              " ')))))))))))))))))))',\n",
              " 'grrrrrrrrrrrrrrrrr',\n",
              " '(((((((((((((((((',\n",
              " '))))))))))))))))))))))',\n",
              " '.(..(.vMp3 v1.7.4.).)',\n",
              " 'technologically',\n",
              " '.A.n.a.c.?.n.?.a.',\n",
              " '#talkcity_adults',\n",
              " 'http://forums.talkcity.com/tc-adults/start ',\n",
              " '#talkcity_adults',\n",
              " 'http://www.shadowbots.com',\n",
              " 'Nooooooooooooooo',\n",
              " '#talkcity_adults',\n",
              " '#talkcity_adults',\n",
              " 'hearthechatters',\n",
              " 'bwahahahahahahahahahaha',\n",
              " '[[[[[[[[[[[[[[[[[[',\n",
              " ']]]]]]]]]]]]]]]]]]]]]',\n",
              " 'noooooooooooooo',\n",
              " '#talkcity_adults',\n",
              " '#talkcity_adults',\n",
              " '<3333333333333333',\n",
              " '<33333333333333333',\n",
              " 'heeheeheeheeheehee',\n",
              " '))))))))))))))))))))))))))))',\n",
              " 'agurlwithbigguns',\n",
              " 'agurlwithbigguns',\n",
              " 'anyyyyyyyyyyyyyyyyy',\n",
              " 'muahsssssssssssssssssss',\n",
              " '(((((((((((((((',\n",
              " 'muahssssssssssssssss',\n",
              " '((((((((((((((((((((((((',\n",
              " ')))))))))))))))))',\n",
              " '(((((((((((((((((((((((',\n",
              " ')))))))))))))))',\n",
              " '(((((((((((((((((((((((((',\n",
              " '(((((((((((((((',\n",
              " '#talkcity_adults',\n",
              " '#talkcity_adults',\n",
              " 'http://www.shadowbots.com',\n",
              " 'antidepressants',\n",
              " 'antidepressants',\n",
              " 'antidepressants',\n",
              " 'heyyyyyyyyyyyyyy',\n",
              " '!!!!!!!!!!!!!!!!!!!!!!!!!!!',\n",
              " 'miiiiiinnnnnnnnnneeeeeeee',\n",
              " '....................',\n",
              " '...................',\n",
              " '..................',\n",
              " 'lllllllliiiiiiiiiikeee',\n",
              " 'miiiiiiiiiiiiinnnnnnnnnnneeeeeeeeee',\n",
              " 'aiiiiiiiiiiiiiiiiiiiiiiii',\n",
              " 'mmmmmmmmiiiiiiiiinnnnnnnnneeeeeeee',\n",
              " 'woooooooooaaaahhhhhhhhhhhh',\n",
              " 'backfrontsidewaysandallaroundtheworld',\n",
              " 'ahhhhhhhhhhhhhh',\n",
              " '#talkcity_adults',\n",
              " 'tatatatnanaantatat',\n",
              " '#talkcity_adults',\n",
              " '#talkcity_adults',\n",
              " 'weeeeeeeeeeeeeeeeeeeeeeeeed',\n",
              " '#talkcity_adults',\n",
              " 'hahahahahahahahahahahahahahahaha',\n",
              " '!!!!!!!!!!!!!!!!',\n",
              " 'eeeeeeeeewwwwwwww',\n",
              " '.(..(.vMp3 vi.p.t.)..).',\n",
              " '.(..(.vMp3 vi.p.t.)..).',\n",
              " 'cooooooooookiiiiiiiiiiiieeeeeeeeeeee',\n",
              " 'yuuuuuuuuuuuummmmmmmmmmmm',\n",
              " 'aaaaaaaaaaaaaaaaa',\n",
              " 'raaaaaaaaaaaaaaaaaaaaaaaaaaaaa',\n",
              " 'weeeeeeeeeeeeeeee',\n",
              " 'oooooooooooglyyyyyyyy',\n",
              " 'boooooooooooglyyyyyy',\n",
              " 'HHEEYYYYYYYYYYYYYYYYYYYYYYYYYYYYYYYYYYYYYYYYYYYYYYY',\n",
              " 'llloooozzzzeeerrrrzzzzzzzzzzzzzzzzzzzzzzzzzzzzzzzzzzzzzzzzzzzzzzzzz',\n",
              " '!!!!!!!!!!!!!!!!!!!!!!!!!!!!',\n",
              " '................',\n",
              " '........................',\n",
              " '!!!!!!!!!!!!!!!!!!!!!!',\n",
              " '!!!!!!!!!!!!!!!!!!!!!!',\n",
              " 'byeeeeeeeeeeeee',\n",
              " 'peace-and-quiet',\n",
              " '#talkcity_adults',\n",
              " 'http://forums.talkcity.com/tc-adults/start ',\n",
              " '#talkcity_adults',\n",
              " 'http://www.shadowbots.com',\n",
              " 'Mooooooooooooooooooooooooooo',\n",
              " 'wheeeeeeeeeeeeeeeeeeeeeeeeeeeeeeeeee',\n",
              " 'bbbbbyyyyyyyeeeeeeeee',\n",
              " '!!!!!!!!!!!!!!!!!!!!!!!!!!!!!!!!!!!!!!!!!!!!!!!!!!!!!!',\n",
              " 'HolocaustYourMom',\n",
              " 'Bloooooooooooood',\n",
              " 'BAAAAALLLLLLLLIIIIIIINNNNNNNNNNN']"
            ]
          },
          "metadata": {},
          "execution_count": 45
        }
      ]
    },
    {
      "cell_type": "code",
      "source": [
        "# 2. text3에서 대문자인 단어를 소문자로 반환 : isupper(), lower()\n",
        "btxt3 = book.text3\n",
        "[palabra.lower() for palabra in btxt3 if palabra.isupper()]"
      ],
      "metadata": {
        "colab": {
          "base_uri": "https://localhost:8080/"
        },
        "id": "r-PkjUOU2U88",
        "outputId": "5f549ef7-c839-489f-9c53-127d9500a3c0"
      },
      "execution_count": 47,
      "outputs": [
        {
          "output_type": "execute_result",
          "data": {
            "text/plain": [
              "['i',\n",
              " 'i',\n",
              " 'lord',\n",
              " 'lord',\n",
              " 'lord',\n",
              " 'lord',\n",
              " 'lord',\n",
              " 'lord',\n",
              " 'lord',\n",
              " 'lord',\n",
              " 'i',\n",
              " 'lord',\n",
              " 'lord',\n",
              " 'lord',\n",
              " 'lord',\n",
              " 'lord',\n",
              " 'lord',\n",
              " 'lord',\n",
              " 'i',\n",
              " 'i',\n",
              " 'i',\n",
              " 'i',\n",
              " 'i',\n",
              " 'i',\n",
              " 'lord',\n",
              " 'i',\n",
              " 'lord',\n",
              " 'i',\n",
              " 'i',\n",
              " 'i',\n",
              " 'lord',\n",
              " 'lord',\n",
              " 'lord',\n",
              " 'i',\n",
              " 'lord',\n",
              " 'lord',\n",
              " 'lord',\n",
              " 'lord',\n",
              " 'lord',\n",
              " 'i',\n",
              " 'i',\n",
              " 'lord',\n",
              " 'i',\n",
              " 'i',\n",
              " 'i',\n",
              " 'lord',\n",
              " 'lord',\n",
              " 'lord',\n",
              " 'i',\n",
              " 'lord',\n",
              " 'lord',\n",
              " 'lord',\n",
              " 'lord',\n",
              " 'lord',\n",
              " 'i',\n",
              " 'i',\n",
              " 'i',\n",
              " 'lord',\n",
              " 'i',\n",
              " 'a',\n",
              " 'i',\n",
              " 'i',\n",
              " 'i',\n",
              " 'lord',\n",
              " 'i',\n",
              " 'i',\n",
              " 'i',\n",
              " 'i',\n",
              " 'lord',\n",
              " 'lord',\n",
              " 'lord',\n",
              " 'lord',\n",
              " 'lord',\n",
              " 'i',\n",
              " 'i',\n",
              " 'i',\n",
              " 'i',\n",
              " 'i',\n",
              " 'i',\n",
              " 'i',\n",
              " 'i',\n",
              " 'i',\n",
              " 'i',\n",
              " 'i',\n",
              " 'i',\n",
              " 'i',\n",
              " 'i',\n",
              " 'i',\n",
              " 'i',\n",
              " 'i',\n",
              " 'lord',\n",
              " 'lord',\n",
              " 'lord',\n",
              " 'lord',\n",
              " 'lord',\n",
              " 'lord',\n",
              " 'lord',\n",
              " 'lord',\n",
              " 'lord',\n",
              " 'i',\n",
              " 'i',\n",
              " 'i',\n",
              " 'i',\n",
              " 'lord',\n",
              " 'lord',\n",
              " 'i',\n",
              " 'lord',\n",
              " 'lord',\n",
              " 'lord',\n",
              " 'i',\n",
              " 'i',\n",
              " 'lord',\n",
              " 'i',\n",
              " 'lord',\n",
              " 'i',\n",
              " 'i',\n",
              " 'i',\n",
              " 'i',\n",
              " 'lord',\n",
              " 'lord',\n",
              " 'lord',\n",
              " 'lord',\n",
              " 'i',\n",
              " 'i',\n",
              " 'i',\n",
              " 'lord',\n",
              " 'i',\n",
              " 'lord',\n",
              " 'i',\n",
              " 'i',\n",
              " 'i',\n",
              " 'lord',\n",
              " 'i',\n",
              " 'lord',\n",
              " 'i',\n",
              " 'lord',\n",
              " 'lord',\n",
              " 'i',\n",
              " 'lord',\n",
              " 'lord',\n",
              " 'i',\n",
              " 'i',\n",
              " 'i',\n",
              " 'lord',\n",
              " 'i',\n",
              " 'lord',\n",
              " 'i',\n",
              " 'i',\n",
              " 'i',\n",
              " 'i',\n",
              " 'lord',\n",
              " 'lord',\n",
              " 'i',\n",
              " 'lord',\n",
              " 'lord',\n",
              " 'i',\n",
              " 'lord',\n",
              " 'lord',\n",
              " 'lord',\n",
              " 'i',\n",
              " 'lord',\n",
              " 'i',\n",
              " 'i',\n",
              " 'i',\n",
              " 'i',\n",
              " 'i',\n",
              " 'i',\n",
              " 'i',\n",
              " 'i',\n",
              " 'i',\n",
              " 'i',\n",
              " 'o',\n",
              " 'i',\n",
              " 'i',\n",
              " 'i',\n",
              " 'i',\n",
              " 'i',\n",
              " 'lord',\n",
              " 'lord',\n",
              " 'i',\n",
              " 'i',\n",
              " 'i',\n",
              " 'i',\n",
              " 'i',\n",
              " 'i',\n",
              " 'i',\n",
              " 'lord',\n",
              " 'i',\n",
              " 'lord',\n",
              " 'i',\n",
              " 'i',\n",
              " 'lord',\n",
              " 'i',\n",
              " 'i',\n",
              " 'i',\n",
              " 'lord',\n",
              " 'lord',\n",
              " 'lord',\n",
              " 'i',\n",
              " 'i',\n",
              " 'lord',\n",
              " 'lord',\n",
              " 'i',\n",
              " 'i',\n",
              " 'i',\n",
              " 'lord',\n",
              " 'i',\n",
              " 'i',\n",
              " 'i',\n",
              " 'lord',\n",
              " 'i',\n",
              " 'i',\n",
              " 'i',\n",
              " 'i',\n",
              " 'lo',\n",
              " 'i',\n",
              " 'lord',\n",
              " 'i',\n",
              " 'i',\n",
              " 'lord',\n",
              " 'i',\n",
              " 'i',\n",
              " 'i',\n",
              " 'i',\n",
              " 'lord',\n",
              " 'lord',\n",
              " 'lord',\n",
              " 'lord',\n",
              " 'lord',\n",
              " 'i',\n",
              " 'i',\n",
              " 'i',\n",
              " 'i',\n",
              " 'i',\n",
              " 'lord',\n",
              " 'lord',\n",
              " 'lo',\n",
              " 'i',\n",
              " 'lord',\n",
              " 'i',\n",
              " 'i',\n",
              " 'i',\n",
              " 'i',\n",
              " 'i',\n",
              " 'i',\n",
              " 'i',\n",
              " 'i',\n",
              " 'lord',\n",
              " 'lord',\n",
              " 'lord',\n",
              " 'i',\n",
              " 'i',\n",
              " 'i',\n",
              " 'i',\n",
              " 'i',\n",
              " 'i',\n",
              " 'i',\n",
              " 'i',\n",
              " 'lord',\n",
              " 'i',\n",
              " 'i',\n",
              " 'i',\n",
              " 'i',\n",
              " 'lord',\n",
              " 'i',\n",
              " 'i',\n",
              " 'lord',\n",
              " 'lord',\n",
              " 'i',\n",
              " 'lord',\n",
              " 'i',\n",
              " 'i',\n",
              " 'i',\n",
              " 'i',\n",
              " 'i',\n",
              " 'i',\n",
              " 'i',\n",
              " 'i',\n",
              " 'i',\n",
              " 'i',\n",
              " 'i',\n",
              " 'lord',\n",
              " 'i',\n",
              " 'i',\n",
              " 'lord',\n",
              " 'i',\n",
              " 'i',\n",
              " 'lord',\n",
              " 'i',\n",
              " 'o',\n",
              " 'lord',\n",
              " 'i',\n",
              " 'i',\n",
              " 'i',\n",
              " 'i',\n",
              " 'i',\n",
              " 'i',\n",
              " 'i',\n",
              " 'i',\n",
              " 'i',\n",
              " 'lord',\n",
              " 'i',\n",
              " 'i',\n",
              " 'lord',\n",
              " 'lord',\n",
              " 'i',\n",
              " 'lord',\n",
              " 'lord',\n",
              " 'i',\n",
              " 'i',\n",
              " 'i',\n",
              " 'i',\n",
              " 'lord',\n",
              " 'i',\n",
              " 'i',\n",
              " 'lord',\n",
              " 'i',\n",
              " 'i',\n",
              " 'o',\n",
              " 'lord',\n",
              " 'i',\n",
              " 'i',\n",
              " 'i',\n",
              " 'i',\n",
              " 'i',\n",
              " 'lord',\n",
              " 'i',\n",
              " 'i',\n",
              " 'i',\n",
              " 'i',\n",
              " 'i',\n",
              " 'i',\n",
              " 'i',\n",
              " 'i',\n",
              " 'lord',\n",
              " 'lord',\n",
              " 'i',\n",
              " 'lo',\n",
              " 'lord',\n",
              " 'lord',\n",
              " 'lord',\n",
              " 'i',\n",
              " 'i',\n",
              " 'lord',\n",
              " 'lord',\n",
              " 'i',\n",
              " 'lord',\n",
              " 'lord',\n",
              " 'i',\n",
              " 'i',\n",
              " 'i',\n",
              " 'lord',\n",
              " 'i',\n",
              " 'i',\n",
              " 'i',\n",
              " 'i',\n",
              " 'i',\n",
              " 'i',\n",
              " 'i',\n",
              " 'i',\n",
              " 'lord',\n",
              " 'lord',\n",
              " 'lord',\n",
              " 'i',\n",
              " 'i',\n",
              " 'lord',\n",
              " 'lord',\n",
              " 'lord',\n",
              " 'i',\n",
              " 'i',\n",
              " 'i',\n",
              " 'i',\n",
              " 'i',\n",
              " 'i',\n",
              " 'i',\n",
              " 'i',\n",
              " 'i',\n",
              " 'lord',\n",
              " 'i',\n",
              " 'i',\n",
              " 'i',\n",
              " 'i',\n",
              " 'i',\n",
              " 'i',\n",
              " 'i',\n",
              " 'i',\n",
              " 'i',\n",
              " 'lord',\n",
              " 'i',\n",
              " 'i',\n",
              " 'i',\n",
              " 'i',\n",
              " 'lord',\n",
              " 'i',\n",
              " 'i',\n",
              " 'o',\n",
              " 'i',\n",
              " 'i',\n",
              " 'i',\n",
              " 'i',\n",
              " 'o',\n",
              " 'i',\n",
              " 'i',\n",
              " 'i',\n",
              " 'i',\n",
              " 'lord',\n",
              " 'i',\n",
              " 'lord',\n",
              " 'i',\n",
              " 'i',\n",
              " 'i',\n",
              " 'i',\n",
              " 'i',\n",
              " 'lord',\n",
              " 'i',\n",
              " 'i',\n",
              " 'i',\n",
              " 'lord',\n",
              " 'g',\n",
              " 'i',\n",
              " 'i',\n",
              " 'i',\n",
              " 'i',\n",
              " 'i',\n",
              " 'i',\n",
              " 'i',\n",
              " 'lord',\n",
              " 'lord',\n",
              " 'lord',\n",
              " 'i',\n",
              " 'i',\n",
              " 'i',\n",
              " 'lo',\n",
              " 'i',\n",
              " 'i',\n",
              " 'i',\n",
              " 'i',\n",
              " 'i',\n",
              " 'a',\n",
              " 'i',\n",
              " 'i',\n",
              " 'i',\n",
              " 'i',\n",
              " 'i',\n",
              " 'lord',\n",
              " 'i',\n",
              " 'i',\n",
              " 'i',\n",
              " 'i',\n",
              " 'i',\n",
              " 'i',\n",
              " 'lord',\n",
              " 'i',\n",
              " 'i',\n",
              " 'i',\n",
              " 'lord',\n",
              " 'i',\n",
              " 'i',\n",
              " 'i',\n",
              " 'i',\n",
              " 'i',\n",
              " 'lord',\n",
              " 'i',\n",
              " 'i',\n",
              " 'i',\n",
              " 'i',\n",
              " 'i',\n",
              " 'i',\n",
              " 'i',\n",
              " 'i',\n",
              " 'i',\n",
              " 'i',\n",
              " 'i',\n",
              " 'i',\n",
              " 'i',\n",
              " 'i',\n",
              " 'i',\n",
              " 'i',\n",
              " 'i',\n",
              " 'i',\n",
              " 'i',\n",
              " 'i',\n",
              " 'i',\n",
              " 'lord',\n",
              " 'i',\n",
              " 'i',\n",
              " 'i',\n",
              " 'i',\n",
              " 'i',\n",
              " 'i',\n",
              " 'o',\n",
              " 'lord',\n",
              " 'i',\n",
              " 'i',\n",
              " 'i',\n",
              " 'i',\n",
              " 'i',\n",
              " 'i',\n",
              " 'i',\n",
              " 'i',\n",
              " 'i',\n",
              " 'i',\n",
              " 'i',\n",
              " 'i',\n",
              " 'i',\n",
              " 'i',\n",
              " 'i',\n",
              " 'i',\n",
              " 'i',\n",
              " 'i',\n",
              " 'i',\n",
              " 'i',\n",
              " 'i',\n",
              " 'i',\n",
              " 'i',\n",
              " 'i',\n",
              " 'i',\n",
              " 'i',\n",
              " 'i',\n",
              " 'i',\n",
              " 'i',\n",
              " 'i',\n",
              " 'i',\n",
              " 'i',\n",
              " 'i',\n",
              " 'i',\n",
              " 'i',\n",
              " 'i',\n",
              " 'i',\n",
              " 'i',\n",
              " 'i',\n",
              " 'i',\n",
              " 'i',\n",
              " 'i',\n",
              " 'i',\n",
              " 'i',\n",
              " 'i',\n",
              " 'i',\n",
              " 'i',\n",
              " 'i',\n",
              " 'i',\n",
              " 'lord',\n",
              " 'lord',\n",
              " 'lord',\n",
              " 'i',\n",
              " 'i',\n",
              " 'i',\n",
              " 'i',\n",
              " 'i',\n",
              " 'i',\n",
              " 'i',\n",
              " 'i',\n",
              " 'i',\n",
              " 'lord',\n",
              " 'lord',\n",
              " 'lord',\n",
              " 'lord',\n",
              " 'lord',\n",
              " 'i',\n",
              " 'i',\n",
              " 'i',\n",
              " 'i',\n",
              " 'i',\n",
              " 'lord',\n",
              " 'lord',\n",
              " 'lord',\n",
              " 'i',\n",
              " 'i',\n",
              " 'i',\n",
              " 'i',\n",
              " 'i',\n",
              " 'i',\n",
              " 'i',\n",
              " 'i',\n",
              " 'i',\n",
              " 'i',\n",
              " 'i',\n",
              " 'i',\n",
              " 'i',\n",
              " 'i',\n",
              " 'i',\n",
              " 'i',\n",
              " 'i',\n",
              " 'i',\n",
              " 'i',\n",
              " 'i',\n",
              " 'i',\n",
              " 'i',\n",
              " 'i',\n",
              " 'i',\n",
              " 'g',\n",
              " 'i',\n",
              " 'i',\n",
              " 'i',\n",
              " 'i',\n",
              " 'i',\n",
              " 'i',\n",
              " 'i',\n",
              " 'i',\n",
              " 'i',\n",
              " 'i',\n",
              " 'o',\n",
              " 'i',\n",
              " 'i',\n",
              " 'i',\n",
              " 'i',\n",
              " 'i',\n",
              " 'i',\n",
              " 'i',\n",
              " 'i',\n",
              " 'i',\n",
              " 'i',\n",
              " 'i',\n",
              " 'i',\n",
              " 'i',\n",
              " 'i',\n",
              " 'i',\n",
              " 'i',\n",
              " 'i',\n",
              " 'i',\n",
              " 'i',\n",
              " 'i',\n",
              " 'i',\n",
              " 'i',\n",
              " 'i',\n",
              " 'i',\n",
              " 'i',\n",
              " 'i',\n",
              " 'i',\n",
              " 'i',\n",
              " 'i',\n",
              " 'i',\n",
              " 'i',\n",
              " 'i',\n",
              " 'i',\n",
              " 'i',\n",
              " 'i',\n",
              " 'i',\n",
              " 'i',\n",
              " 'i',\n",
              " 'i',\n",
              " 'i',\n",
              " 'i',\n",
              " 'i',\n",
              " 'i',\n",
              " 'i',\n",
              " 'i',\n",
              " 'i',\n",
              " 'i',\n",
              " 'i',\n",
              " 'o',\n",
              " 'i',\n",
              " 'i',\n",
              " 'o',\n",
              " 'lord',\n",
              " 'i',\n",
              " 'i',\n",
              " 'i',\n",
              " 'i',\n",
              " 'i',\n",
              " 'i',\n",
              " 'i',\n",
              " 'i',\n",
              " 'i',\n",
              " 'i',\n",
              " 'i',\n",
              " 'i']"
            ]
          },
          "metadata": {},
          "execution_count": 47
        }
      ]
    },
    {
      "cell_type": "code",
      "source": [
        "'hey'.isupper()    # 대문자이면 True, 소문자이면 False 반환"
      ],
      "metadata": {
        "colab": {
          "base_uri": "https://localhost:8080/"
        },
        "id": "pnMfcbRAzlTg",
        "outputId": "84be8263-b5c5-4106-fb8c-5eab794e170b"
      },
      "execution_count": 49,
      "outputs": [
        {
          "output_type": "execute_result",
          "data": {
            "text/plain": [
              "False"
            ]
          },
          "metadata": {},
          "execution_count": 49
        }
      ]
    },
    {
      "cell_type": "code",
      "source": [
        "'HELLO'.lower()    # 대문자를 소문자로 전환"
      ],
      "metadata": {
        "colab": {
          "base_uri": "https://localhost:8080/",
          "height": 36
        },
        "id": "fbNRF9zyzypP",
        "outputId": "c197844f-2485-4936-c9ef-3afc0d02bded"
      },
      "execution_count": 50,
      "outputs": [
        {
          "output_type": "execute_result",
          "data": {
            "text/plain": [
              "'hello'"
            ],
            "application/vnd.google.colaboratory.intrinsic+json": {
              "type": "string"
            }
          },
          "metadata": {},
          "execution_count": 50
        }
      ]
    },
    {
      "cell_type": "markdown",
      "source": [
        "### * cased, uncased\n",
        "- 변환하는 함수\n",
        "  - upper(): 대문자화\n",
        "  - lower(): 소문자화\n",
        "  - title(): 첫 글자만 대문자화\n",
        "  - swapcase(): 대문자는 소문자화, 소문자는 대문자화\n",
        "- 형태 체크\n",
        "  - isupper(): 대문자인지 확인\n",
        "  - islower(): 소문자인지 확인\n",
        "  - istitle(): 첫 글자가 대문자인지 확인\n",
        "  - endswith(`<string>`): 괄호 안에서 언급한 스트링으로 끝나는지 확인\n",
        "  - startswith(`<string>`): 특정 스트링으로 시작하는지 확인\n",
        "  - isalpha(): 다양한 자료형 중 스트링인지 확인\n",
        "- 'string'.upper/ 'string'.endswith()"
      ],
      "metadata": {
        "id": "f3Z9t-DQ2-TV"
      }
    },
    {
      "cell_type": "code",
      "source": [
        "# text1에서 'ableness'로 끝나는 단어를 중복없이, 정렬해서(오름차순, 내림차순 무관)\n",
        " # list -> list : 어떤 요소를 포함하여 또다른 리스트 형성\n",
        "sorted(set([voca for voca in btxt1 if voca.endswith('ableness')]))"
      ],
      "metadata": {
        "colab": {
          "base_uri": "https://localhost:8080/"
        },
        "id": "FRmucBhV41qc",
        "outputId": "379aac39-8b69-4782-d237-ad9c0f1b649a"
      },
      "execution_count": 51,
      "outputs": [
        {
          "output_type": "execute_result",
          "data": {
            "text/plain": [
              "['comfortableness',\n",
              " 'honourableness',\n",
              " 'immutableness',\n",
              " 'indispensableness',\n",
              " 'indomitableness',\n",
              " 'intolerableness',\n",
              " 'palpableness',\n",
              " 'reasonableness',\n",
              " 'uncomfortableness']"
            ]
          },
          "metadata": {},
          "execution_count": 51
        }
      ]
    },
    {
      "cell_type": "code",
      "source": [
        "# text4에서 단어에 'gnt'가 포함된 단어들을 소문자로 리스트 반환\n",
        " # set(btxt4): 중복되는 단어를 삭제 -> 'gnt'가 포함된 단어를 찾고 소문자로 반환\n",
        " # set[~]: 'gnt'가 포함된 단어를 찾고 소문자로 반환 ->  중복되는 단어 삭제\n",
        "\n",
        "set_with_btxt4 = [word.lower() for word in set(btxt4) if 'gnt' in word]  # 대소문자 구분(cased): America, america\n",
        "set_with_list = set([word.lower() for word in btxt4 if 'gnt' in word]) "
      ],
      "metadata": {
        "id": "2de1t-wta752"
      },
      "execution_count": 52,
      "outputs": []
    },
    {
      "cell_type": "code",
      "source": [
        "print(set_with_btxt4, set_with_list)"
      ],
      "metadata": {
        "colab": {
          "base_uri": "https://localhost:8080/"
        },
        "id": "Vd4J2WVNhdzJ",
        "outputId": "90b786a7-2340-4d60-ad73-f6f9c322d9fc"
      },
      "execution_count": 53,
      "outputs": [
        {
          "output_type": "stream",
          "name": "stdout",
          "text": [
            "['sovereignty', 'sovereignties', 'sovereignty'] {'sovereignty', 'sovereignties'}\n"
          ]
        }
      ]
    },
    {
      "cell_type": "code",
      "source": [
        "len(set_with_btxt4), len(set_with_list)"
      ],
      "metadata": {
        "colab": {
          "base_uri": "https://localhost:8080/"
        },
        "id": "By2EDQJMf5QJ",
        "outputId": "68247581-f3ce-4d07-c3fb-f0a486c095c5"
      },
      "execution_count": 54,
      "outputs": [
        {
          "output_type": "execute_result",
          "data": {
            "text/plain": [
              "(3, 2)"
            ]
          },
          "metadata": {},
          "execution_count": 54
        }
      ]
    },
    {
      "cell_type": "markdown",
      "source": [
        "### 5. NLTK - Frequency Distribution\n",
        "- Frequency Distribution: 단어가 몇 번 출현했는지를 알게 해줌(빈도수)\n",
        "- 텍스트의 성질 알기 위해 가장 기본적으로 하는 것\n",
        "  - 단어 개수\n",
        "  - 단어 빈도수(가장 많이 나오는 단어가 그 텍스트의 핵심이기 때문)"
      ],
      "metadata": {
        "id": "9TaSfRvjhq3H"
      }
    },
    {
      "cell_type": "code",
      "source": [
        "from nltk.probability import FreqDist\n",
        "fdist = FreqDist(btxt1)    # cased(대소문자 구분)"
      ],
      "metadata": {
        "id": "YQ_Smec5iaVf"
      },
      "execution_count": 55,
      "outputs": []
    },
    {
      "cell_type": "code",
      "source": [
        "fdist.most_common(10)  \n",
        "# most_common() -> 가장 빈번하게 나오는 문자열, 그 문자열이 나오는 횟수"
      ],
      "metadata": {
        "colab": {
          "base_uri": "https://localhost:8080/"
        },
        "id": "nh7ROZxhi3Do",
        "outputId": "03322827-5b34-4d92-a2ce-754990277e80"
      },
      "execution_count": 56,
      "outputs": [
        {
          "output_type": "execute_result",
          "data": {
            "text/plain": [
              "[(',', 18713),\n",
              " ('the', 13721),\n",
              " ('.', 6862),\n",
              " ('of', 6536),\n",
              " ('and', 6024),\n",
              " ('a', 4569),\n",
              " ('to', 4542),\n",
              " (';', 4072),\n",
              " ('in', 3916),\n",
              " ('that', 2982)]"
            ]
          },
          "metadata": {},
          "execution_count": 56
        }
      ]
    },
    {
      "cell_type": "code",
      "source": [
        "fdist['that'], btxt1.count('that')"
      ],
      "metadata": {
        "colab": {
          "base_uri": "https://localhost:8080/"
        },
        "id": "xkY1ukwsllpB",
        "outputId": "3b50aef5-f53c-4f31-ee95-5f7c90a2d0fd"
      },
      "execution_count": 57,
      "outputs": [
        {
          "output_type": "execute_result",
          "data": {
            "text/plain": [
              "(2982, 2982)"
            ]
          },
          "metadata": {},
          "execution_count": 57
        }
      ]
    },
    {
      "cell_type": "code",
      "source": [
        "fdist.freq('that')"
      ],
      "metadata": {
        "colab": {
          "base_uri": "https://localhost:8080/"
        },
        "id": "vfak86BPlyeb",
        "outputId": "d08e9f19-6c56-4465-fe6b-174026d4cfd7"
      },
      "execution_count": 58,
      "outputs": [
        {
          "output_type": "execute_result",
          "data": {
            "text/plain": [
              "0.011433216138394826"
            ]
          },
          "metadata": {},
          "execution_count": 58
        }
      ]
    },
    {
      "cell_type": "code",
      "source": [
        "fdist.plot(50, cumulative = True)"
      ],
      "metadata": {
        "colab": {
          "base_uri": "https://localhost:8080/",
          "height": 299
        },
        "id": "asFbJ9Dzl2EU",
        "outputId": "132fd2ef-cf5b-4ded-e97b-ff9822774113"
      },
      "execution_count": 59,
      "outputs": [
        {
          "output_type": "display_data",
          "data": {
            "text/plain": [
              "<Figure size 432x288 with 1 Axes>"
            ],
            "image/png": "[encoded data removed]"
          },
          "metadata": {
            "needs_background": "light"
          }
        }
      ]
    },
    {
      "cell_type": "code",
      "source": [
        "# 대소문자 구분 없이 freq dist 만드려면? the 15,000 The 600 => the 21,000\n",
        "  # 리스트 -> 리스트 컴프리핸션\n",
        "  # set 사용 x -> 중복 삭제 -> 빈도수가 모두 1이 됨\n",
        "fdist2 = FreqDist([word.lower() for word in btxt1])\n",
        "fdist2['the']"
      ],
      "metadata": {
        "colab": {
          "base_uri": "https://localhost:8080/"
        },
        "id": "A7TeICHX-KQM",
        "outputId": "f992783f-9d1b-4d53-8b82-95600c0f948a"
      },
      "execution_count": 60,
      "outputs": [
        {
          "output_type": "execute_result",
          "data": {
            "text/plain": [
              "14431"
            ]
          },
          "metadata": {},
          "execution_count": 60
        }
      ]
    },
    {
      "cell_type": "code",
      "source": [
        "fdist2['The']"
      ],
      "metadata": {
        "colab": {
          "base_uri": "https://localhost:8080/"
        },
        "id": "618ifFQDB414",
        "outputId": "1edbade2-78b0-469a-f035-61e5a1095d7a"
      },
      "execution_count": 61,
      "outputs": [
        {
          "output_type": "execute_result",
          "data": {
            "text/plain": [
              "0"
            ]
          },
          "metadata": {},
          "execution_count": 61
        }
      ]
    },
    {
      "cell_type": "code",
      "source": [
        "# hapaxes(): 가장 빈번하지 않은 단어 -> 1번 나타나는 단어들\n",
        "len(fdist.hapaxes())"
      ],
      "metadata": {
        "colab": {
          "base_uri": "https://localhost:8080/"
        },
        "id": "9YCOyOy3l-FH",
        "outputId": "29ed3b6c-a339-4835-a137-6c8a1f4ce577"
      },
      "execution_count": 62,
      "outputs": [
        {
          "output_type": "execute_result",
          "data": {
            "text/plain": [
              "9002"
            ]
          },
          "metadata": {},
          "execution_count": 62
        }
      ]
    },
    {
      "cell_type": "code",
      "source": [
        "# 알파벳만 중복없이 리스트에 담아보기\n",
        "[w for w in fdist.hapaxes() if w.isalpha()]"
      ],
      "metadata": {
        "colab": {
          "base_uri": "https://localhost:8080/"
        },
        "id": "snWpB0u4oYOa",
        "outputId": "aed913bb-5769-4160-fbdd-bcf8b138a066"
      },
      "execution_count": 63,
      "outputs": [
        {
          "output_type": "execute_result",
          "data": {
            "text/plain": [
              "['Herman',\n",
              " 'Melville',\n",
              " 'ETYMOLOGY',\n",
              " 'Late',\n",
              " 'Consumptive',\n",
              " 'School',\n",
              " 'threadbare',\n",
              " 'lexicons',\n",
              " 'mockingly',\n",
              " 'flags',\n",
              " 'mortality',\n",
              " 'signification',\n",
              " 'HACKLUYT',\n",
              " 'Sw',\n",
              " 'HVAL',\n",
              " 'roundness',\n",
              " 'Dut',\n",
              " 'Ger',\n",
              " 'WALLEN',\n",
              " 'WALW',\n",
              " 'IAN',\n",
              " 'RICHARDSON',\n",
              " 'KETOS',\n",
              " 'GREEK',\n",
              " 'CETUS',\n",
              " 'LATIN',\n",
              " 'WHOEL',\n",
              " 'ANGLO',\n",
              " 'SAXON',\n",
              " 'WAL',\n",
              " 'HWAL',\n",
              " 'SWEDISH',\n",
              " 'ICELANDIC',\n",
              " 'BALEINE',\n",
              " 'BALLENA',\n",
              " 'FEGEE',\n",
              " 'ERROMANGOAN',\n",
              " 'Librarian',\n",
              " 'painstaking',\n",
              " 'burrower',\n",
              " 'grub',\n",
              " 'Vaticans',\n",
              " 'stalls',\n",
              " 'higgledy',\n",
              " 'piggledy',\n",
              " 'gospel',\n",
              " 'promiscuously',\n",
              " 'commentator',\n",
              " 'belongest',\n",
              " 'sallow',\n",
              " 'Pale',\n",
              " 'Sherry',\n",
              " 'loves',\n",
              " 'bluntly',\n",
              " 'Subs',\n",
              " 'thankless',\n",
              " 'Hampton',\n",
              " 'Court',\n",
              " 'hie',\n",
              " 'refugees',\n",
              " 'pampered',\n",
              " 'Michael',\n",
              " 'Raphael',\n",
              " 'unsplinterable',\n",
              " 'GENESIS',\n",
              " 'JOB',\n",
              " 'JONAH',\n",
              " 'punish',\n",
              " 'ISAIAH',\n",
              " 'soever',\n",
              " 'cometh',\n",
              " 'incontinently',\n",
              " 'perisheth',\n",
              " 'PLUTARCH',\n",
              " 'MORALS',\n",
              " 'breedeth',\n",
              " 'Whirlpooles',\n",
              " 'Balaene',\n",
              " 'arpens',\n",
              " 'PLINY',\n",
              " 'Scarcely',\n",
              " 'TOOKE',\n",
              " 'LUCIAN',\n",
              " 'TRUE',\n",
              " 'catched',\n",
              " 'OCTHER',\n",
              " 'VERBAL',\n",
              " 'TAKEN',\n",
              " 'MOUTH',\n",
              " 'ALFRED',\n",
              " 'gudgeon',\n",
              " 'retires',\n",
              " 'MONTAIGNE',\n",
              " 'APOLOGY',\n",
              " 'RAIMOND',\n",
              " 'SEBOND',\n",
              " 'Nick',\n",
              " 'RABELAIS',\n",
              " 'cartloads',\n",
              " 'STOWE',\n",
              " 'ANNALS',\n",
              " 'LORD',\n",
              " 'BACON',\n",
              " 'Touching',\n",
              " 'ork',\n",
              " 'DEATH',\n",
              " 'sovereignest',\n",
              " 'bruise',\n",
              " 'HAMLET',\n",
              " 'leach',\n",
              " 'Mote',\n",
              " 'availle',\n",
              " 'returne',\n",
              " 'againe',\n",
              " 'worker',\n",
              " 'Dinting',\n",
              " 'paine',\n",
              " 'thro',\n",
              " 'maine',\n",
              " 'FAERIE',\n",
              " 'Immense',\n",
              " 'til',\n",
              " 'DAVENANT',\n",
              " 'PREFACE',\n",
              " 'GONDIBERT',\n",
              " 'spermacetti',\n",
              " 'Hosmannus',\n",
              " 'Nescio',\n",
              " 'VIDE',\n",
              " 'Spencer',\n",
              " 'Talus',\n",
              " 'flail',\n",
              " 'threatens',\n",
              " 'jav',\n",
              " 'lins',\n",
              " 'WALLER',\n",
              " 'SUMMER',\n",
              " 'ISLANDS',\n",
              " 'Commonwealth',\n",
              " 'Civitas',\n",
              " 'OPENING',\n",
              " 'SENTENCE',\n",
              " 'HOBBES',\n",
              " 'LEVIATHAN',\n",
              " 'Silly',\n",
              " 'Mansoul',\n",
              " 'chewing',\n",
              " 'sprat',\n",
              " 'PILGRIM',\n",
              " 'PROGRESS',\n",
              " 'Created',\n",
              " 'PARADISE',\n",
              " 'LOST',\n",
              " 'Hugest',\n",
              " 'Stretched',\n",
              " 'Draws',\n",
              " 'FULLLER',\n",
              " 'PROFANE',\n",
              " 'HOLY',\n",
              " 'STATE',\n",
              " 'DRYDEN',\n",
              " 'ANNUS',\n",
              " 'MIRABILIS',\n",
              " 'aground',\n",
              " 'EDGE',\n",
              " 'TEN',\n",
              " 'SPITZBERGEN',\n",
              " 'PURCHAS',\n",
              " 'wantonness',\n",
              " 'fuzzing',\n",
              " 'vents',\n",
              " 'HERBERT',\n",
              " 'INTO',\n",
              " 'ASIA',\n",
              " 'AFRICA',\n",
              " 'SCHOUTEN',\n",
              " 'SIXTH',\n",
              " 'CIRCUMNAVIGATION',\n",
              " 'Elbe',\n",
              " 'ducat',\n",
              " 'herrings',\n",
              " 'GREENLAND',\n",
              " 'Several',\n",
              " 'Fife',\n",
              " 'Anno',\n",
              " 'Pitferren',\n",
              " 'SIBBALD',\n",
              " 'FIFE',\n",
              " 'KINROSS',\n",
              " 'Myself',\n",
              " 'Sperma',\n",
              " 'ceti',\n",
              " 'fierceness',\n",
              " 'RICHARD',\n",
              " 'STRAFFORD',\n",
              " 'LETTER',\n",
              " 'BERMUDAS',\n",
              " 'PHIL',\n",
              " 'TRANS',\n",
              " 'PRIMER',\n",
              " 'COWLEY',\n",
              " 'frequendy',\n",
              " 'insupportable',\n",
              " 'disorder',\n",
              " 'ULLOA',\n",
              " 'SOUTH',\n",
              " 'AMERICA',\n",
              " 'sylphs',\n",
              " 'petticoat',\n",
              " 'Oft',\n",
              " 'Tho',\n",
              " 'RAPE',\n",
              " 'LOCK',\n",
              " 'NAT',\n",
              " 'wales',\n",
              " 'JOHNSON',\n",
              " 'COOK',\n",
              " 'dung',\n",
              " 'lime',\n",
              " 'juniper',\n",
              " 'UNO',\n",
              " 'VON',\n",
              " 'TROIL',\n",
              " 'LETTERS',\n",
              " 'BANKS',\n",
              " 'SOLANDER',\n",
              " 'Nantuckois',\n",
              " 'JEFFERSON',\n",
              " 'MEMORIAL',\n",
              " 'MINISTER',\n",
              " 'REFERENCE',\n",
              " 'PARLIAMENT',\n",
              " 'SOMEWHERE',\n",
              " 'guarding',\n",
              " 'protecting',\n",
              " 'robbers',\n",
              " 'BLACKSTONE',\n",
              " 'Rodmond',\n",
              " 'suspends',\n",
              " 'attends',\n",
              " 'FALCONER',\n",
              " 'Bright',\n",
              " 'roofs',\n",
              " 'domes',\n",
              " 'rockets',\n",
              " 'Around',\n",
              " 'unwieldy',\n",
              " 'COWPER',\n",
              " 'VISIT',\n",
              " 'LONDON',\n",
              " 'HUNTER',\n",
              " 'DISSECTION',\n",
              " 'SMALL',\n",
              " 'SIZED',\n",
              " 'aorta',\n",
              " 'gushing',\n",
              " 'PALEY',\n",
              " 'THEOLOGY',\n",
              " 'mammiferous',\n",
              " 'hind',\n",
              " 'BARON',\n",
              " 'CUVIER',\n",
              " 'COLNETT',\n",
              " 'PURPOSE',\n",
              " 'EXTENDING',\n",
              " 'SPERMACETI',\n",
              " 'Floundered',\n",
              " 'chace',\n",
              " 'peopling',\n",
              " 'Gather',\n",
              " 'Led',\n",
              " 'instincts',\n",
              " 'trackless',\n",
              " 'Assaulted',\n",
              " 'voracious',\n",
              " 'spiral',\n",
              " 'MONTGOMERY',\n",
              " 'WORLD',\n",
              " 'FLOOD',\n",
              " 'Paean',\n",
              " 'fatter',\n",
              " 'Flounders',\n",
              " 'CHARLES',\n",
              " 'LAMB',\n",
              " 'TRIUMPH',\n",
              " 'OBED',\n",
              " 'Susan',\n",
              " 'HAWTHORNE',\n",
              " 'TWICE',\n",
              " 'bespeak',\n",
              " 'raal',\n",
              " 'COOPER',\n",
              " 'PILOT',\n",
              " 'Berlin',\n",
              " 'Gazette',\n",
              " 'ECKERMANN',\n",
              " 'CONVERSATIONS',\n",
              " 'GOETHE',\n",
              " 'ESSEX',\n",
              " 'WAS',\n",
              " 'ATTACKED',\n",
              " 'FINALLY',\n",
              " 'DESTROYED',\n",
              " 'OWEN',\n",
              " 'CHACE',\n",
              " 'FIRST',\n",
              " 'SAID',\n",
              " 'VESSEL',\n",
              " 'YORK',\n",
              " 'piping',\n",
              " 'dimmed',\n",
              " 'phospher',\n",
              " 'ELIZABETH',\n",
              " 'OAKES',\n",
              " 'SMITH',\n",
              " 'amounted',\n",
              " 'SCORESBY',\n",
              " 'Mad',\n",
              " 'agonies',\n",
              " 'endures',\n",
              " 'infuriated',\n",
              " 'rears',\n",
              " 'snaps',\n",
              " 'propelled',\n",
              " 'observers',\n",
              " 'opportunities',\n",
              " 'habitudes',\n",
              " 'BEALE',\n",
              " 'offensively',\n",
              " 'artful',\n",
              " 'mischievous',\n",
              " 'FREDERICK',\n",
              " 'DEBELL',\n",
              " 'October',\n",
              " 'Raise',\n",
              " 'ay',\n",
              " 'THAR',\n",
              " 'bowes',\n",
              " 'os',\n",
              " 'ROSS',\n",
              " 'ETCHINGS',\n",
              " 'CRUIZE',\n",
              " 'Globe',\n",
              " 'transactions',\n",
              " 'relate',\n",
              " 'HUSSEY',\n",
              " 'SURVIVORS',\n",
              " 'parried',\n",
              " 'MISSIONARY',\n",
              " 'JOURNAL',\n",
              " 'TYERMAN',\n",
              " 'boldest',\n",
              " 'persevering',\n",
              " 'REPORT',\n",
              " 'DANIEL',\n",
              " 'SPEECH',\n",
              " 'SENATE',\n",
              " 'APPLICATION',\n",
              " 'ERECTION',\n",
              " 'BREAKWATER',\n",
              " 'CAPTORS',\n",
              " 'WHALEMAN',\n",
              " 'ADVENTURES',\n",
              " 'BIOGRAPHY',\n",
              " 'GATHERED',\n",
              " 'HOMEWARD',\n",
              " 'COMMODORE',\n",
              " 'PREBLE',\n",
              " 'REV',\n",
              " 'CHEEVER',\n",
              " 'MUTINEER',\n",
              " 'BROTHER',\n",
              " 'ANOTHER',\n",
              " 'MCCULLOCH',\n",
              " 'COMMERCIAL',\n",
              " 'reciprocal',\n",
              " 'clews',\n",
              " 'SOMETHING',\n",
              " 'UNPUBLISHED',\n",
              " 'CURRENTS',\n",
              " 'Pedestrians',\n",
              " 'recollect',\n",
              " 'gateways',\n",
              " 'VOYAGER',\n",
              " 'ARCTIC',\n",
              " 'NEWSPAPER',\n",
              " 'TAKING',\n",
              " 'RETAKING',\n",
              " 'HOBOMACK',\n",
              " 'MIRIAM',\n",
              " 'FISHERMAN',\n",
              " 'appliance',\n",
              " 'RIBS',\n",
              " 'TRUCKS',\n",
              " 'Terra',\n",
              " 'Del',\n",
              " 'Fuego',\n",
              " 'DARWIN',\n",
              " 'NATURALIST',\n",
              " 'WHARTON',\n",
              " 'Loomings',\n",
              " 'spleen',\n",
              " 'regulating',\n",
              " 'circulation',\n",
              " 'Whenever',\n",
              " 'drizzly',\n",
              " 'hypos',\n",
              " 'philosophical',\n",
              " 'Cato',\n",
              " 'Manhattoes',\n",
              " 'reefs',\n",
              " 'downtown',\n",
              " 'gazers',\n",
              " 'Circumambulate',\n",
              " 'Corlears',\n",
              " 'Coenties',\n",
              " 'Slip',\n",
              " 'Whitehall',\n",
              " 'Posted',\n",
              " 'sentinels',\n",
              " 'spiles',\n",
              " 'pier',\n",
              " 'lath',\n",
              " 'counters',\n",
              " 'desks',\n",
              " 'loitering',\n",
              " 'shady',\n",
              " 'Inlanders',\n",
              " 'lanes',\n",
              " 'alleys',\n",
              " 'attract',\n",
              " 'dale',\n",
              " 'dreamiest',\n",
              " 'shadiest',\n",
              " 'quietest',\n",
              " 'enchanting',\n",
              " 'Saco',\n",
              " 'crucifix',\n",
              " 'Deep',\n",
              " 'mazy',\n",
              " 'Tiger',\n",
              " 'Tennessee',\n",
              " 'Rockaway',\n",
              " 'Persians',\n",
              " 'deity',\n",
              " 'Narcissus',\n",
              " 'ungraspable',\n",
              " 'hazy',\n",
              " 'quarrelsome',\n",
              " 'offices',\n",
              " 'abominate',\n",
              " 'toils',\n",
              " 'trials',\n",
              " 'barques',\n",
              " 'schooners',\n",
              " 'broiling',\n",
              " 'buttered',\n",
              " 'judgmatically',\n",
              " 'peppered',\n",
              " 'reverentially',\n",
              " 'idolatrous',\n",
              " 'dotings',\n",
              " 'ibis',\n",
              " 'roasted',\n",
              " 'bake',\n",
              " 'plumb',\n",
              " 'Van',\n",
              " 'Rensselaers',\n",
              " 'Randolphs',\n",
              " 'Hardicanutes',\n",
              " 'lording',\n",
              " 'tallest',\n",
              " 'decoction',\n",
              " 'Seneca',\n",
              " 'Stoics',\n",
              " 'Testament',\n",
              " 'promptly',\n",
              " 'rub',\n",
              " 'infliction',\n",
              " 'BEING',\n",
              " 'PAID',\n",
              " 'urbane',\n",
              " 'ills',\n",
              " 'monied',\n",
              " 'consign',\n",
              " 'prevalent',\n",
              " 'violate',\n",
              " 'Pythagorean',\n",
              " 'commonalty',\n",
              " 'police',\n",
              " 'surveillance',\n",
              " 'programme',\n",
              " 'solo',\n",
              " 'CONTESTED',\n",
              " 'ELECTION',\n",
              " 'PRESIDENCY',\n",
              " 'UNITED',\n",
              " 'STATES',\n",
              " 'ISHMAEL',\n",
              " 'BLOODY',\n",
              " 'AFFGHANISTAN',\n",
              " 'managers',\n",
              " 'genteel',\n",
              " 'comedies',\n",
              " 'farces',\n",
              " 'cunningly',\n",
              " 'disguises',\n",
              " 'cajoling',\n",
              " 'unbiased',\n",
              " 'freewill',\n",
              " 'discriminating',\n",
              " 'overwhelming',\n",
              " 'undeliverable',\n",
              " 'itch',\n",
              " 'forbidden',\n",
              " 'ignoring',\n",
              " 'lodges',\n",
              " 'Carpet',\n",
              " 'Bag',\n",
              " 'Manhatto',\n",
              " 'candidates',\n",
              " 'penalties',\n",
              " 'Tyre',\n",
              " 'Carthage',\n",
              " 'imported',\n",
              " 'cobblestones',\n",
              " 'bitingly',\n",
              " 'shouldering',\n",
              " 'price',\n",
              " 'fervent',\n",
              " 'asphaltic',\n",
              " 'pavement',\n",
              " 'flinty',\n",
              " 'projections',\n",
              " 'soles',\n",
              " 'Too',\n",
              " 'cheapest',\n",
              " 'cheeriest',\n",
              " 'invitingly',\n",
              " 'particles',\n",
              " 'peer',\n",
              " 'Angel',\n",
              " 'Doom',\n",
              " 'wailing',\n",
              " 'gnashing',\n",
              " 'Wretched',\n",
              " 'entertainment',\n",
              " 'Moving',\n",
              " 'emigrant',\n",
              " 'poverty',\n",
              " 'creak',\n",
              " 'lodgings',\n",
              " 'zephyr',\n",
              " 'hob',\n",
              " 'toasting',\n",
              " 'observest',\n",
              " 'sashless',\n",
              " 'glazier',\n",
              " 'reasonest',\n",
              " 'chinks',\n",
              " 'crannies',\n",
              " 'lint',\n",
              " 'chattering',\n",
              " 'shiverings',\n",
              " 'cob',\n",
              " 'redder',\n",
              " 'Orion',\n",
              " 'glitters',\n",
              " 'conservatories',\n",
              " 'president',\n",
              " 'temperance',\n",
              " 'blubbering',\n",
              " 'straggling',\n",
              " 'wainscots',\n",
              " 'reminding',\n",
              " 'oilpainting',\n",
              " 'besmoked',\n",
              " 'defaced',\n",
              " 'unequal',\n",
              " 'crosslights',\n",
              " 'hags',\n",
              " 'delineate',\n",
              " 'bewitched',\n",
              " 'ponderings',\n",
              " 'boggy',\n",
              " 'soggy',\n",
              " 'squitchy',\n",
              " 'froze',\n",
              " 'heath',\n",
              " 'icebound',\n",
              " 'represents',\n",
              " 'Horner',\n",
              " 'foundered',\n",
              " 'clubs',\n",
              " 'harvesting',\n",
              " 'hacking',\n",
              " 'horrifying',\n",
              " 'Mixed',\n",
              " 'Nathan',\n",
              " 'Swain',\n",
              " 'corkscrew',\n",
              " 'Blanco',\n",
              " 'sojourning',\n",
              " 'fireplaces',\n",
              " 'duskier',\n",
              " 'cockpits',\n",
              " 'rarities',\n",
              " 'Projecting',\n",
              " 'Within',\n",
              " 'shelves',\n",
              " 'flasks',\n",
              " 'bustles',\n",
              " 'deliriums',\n",
              " 'Abominable',\n",
              " 'tumblers',\n",
              " 'cylinders',\n",
              " 'goggling',\n",
              " 'deceitfully',\n",
              " 'tapered',\n",
              " 'Parallel',\n",
              " 'pecked',\n",
              " 'footpads',\n",
              " 'Fill',\n",
              " 'shilling',\n",
              " 'examining',\n",
              " 'SKRIMSHANDER',\n",
              " 'accommodated',\n",
              " 'unoccupied',\n",
              " 'haint',\n",
              " 'pose',\n",
              " 'whalin',\n",
              " 'decidedly',\n",
              " 'objectionable',\n",
              " 'wander',\n",
              " 'Battery',\n",
              " 'ruminating',\n",
              " 'adorning',\n",
              " 'potatoes',\n",
              " 'sartainty',\n",
              " 'diabolically',\n",
              " 'steaks',\n",
              " 'undress',\n",
              " 'looker',\n",
              " 'rioting',\n",
              " 'Grampus',\n",
              " 'seed',\n",
              " 'Feegees',\n",
              " 'tramping',\n",
              " 'Enveloped',\n",
              " 'bedarned',\n",
              " 'eruption',\n",
              " 'officiating',\n",
              " 'brimmers',\n",
              " 'complained',\n",
              " 'potion',\n",
              " 'colds',\n",
              " 'catarrhs',\n",
              " 'liquor',\n",
              " 'arrantest',\n",
              " 'topers',\n",
              " 'obstreperously',\n",
              " 'aloof',\n",
              " 'desirous',\n",
              " 'hilarity',\n",
              " 'coffer',\n",
              " 'Southerner',\n",
              " 'mountaineers',\n",
              " 'Alleghanian',\n",
              " 'missed',\n",
              " 'supernaturally',\n",
              " 'congratulate',\n",
              " 'multiply',\n",
              " 'bachelor',\n",
              " 'abominated',\n",
              " 'tidiest',\n",
              " 'bedwards',\n",
              " 'shan',\n",
              " 'tablecloth',\n",
              " 'Skrimshander',\n",
              " 'bump',\n",
              " 'spraining',\n",
              " 'eider',\n",
              " 'yoking',\n",
              " 'rickety',\n",
              " 'whirlwinds',\n",
              " 'knockings',\n",
              " 'dismissed',\n",
              " 'popped',\n",
              " 'cherishing',\n",
              " 'chuckled',\n",
              " 'chuckle',\n",
              " 'mightily',\n",
              " 'catches',\n",
              " 'bamboozingly',\n",
              " 'overstocked',\n",
              " 'toothpick',\n",
              " 'rayther',\n",
              " 'BROWN',\n",
              " 'slanderin',\n",
              " 'farrago',\n",
              " 'BROKE',\n",
              " 'Sartain',\n",
              " 'Mt',\n",
              " 'Hecla',\n",
              " 'persist',\n",
              " 'mystifying',\n",
              " 'unsay',\n",
              " 'criminal',\n",
              " 'Wall',\n",
              " 'purty',\n",
              " 'sarmon',\n",
              " 'rips',\n",
              " 'tellin',\n",
              " 'bought',\n",
              " 'balmed',\n",
              " 'curios',\n",
              " 'sellin',\n",
              " 'inions',\n",
              " 'fooling',\n",
              " 'idolators',\n",
              " 'Depend',\n",
              " 'reg',\n",
              " 'lar',\n",
              " 'spliced',\n",
              " 'Johnny',\n",
              " 'sprawling',\n",
              " 'Arter',\n",
              " 'glim',\n",
              " 'jiffy',\n",
              " 'irresolute',\n",
              " 'vum',\n",
              " 'WON',\n",
              " 'Folding',\n",
              " 'scrutiny',\n",
              " 'porcupine',\n",
              " 'moccasin',\n",
              " 'ponchos',\n",
              " 'parade',\n",
              " 'rainy',\n",
              " 'remembering',\n",
              " 'commended',\n",
              " 'cobs',\n",
              " 'Nod',\n",
              " 'footfall',\n",
              " 'unlacing',\n",
              " 'blackish',\n",
              " 'plasters',\n",
              " 'inkling',\n",
              " 'Placing',\n",
              " 'crammed',\n",
              " 'scalp',\n",
              " 'mildewed',\n",
              " 'Ignorance',\n",
              " 'parent',\n",
              " 'nonplussed',\n",
              " 'undressing',\n",
              " 'checkered',\n",
              " 'Thirty',\n",
              " 'frogs',\n",
              " 'quaked',\n",
              " 'wrapall',\n",
              " 'dreadnaught',\n",
              " 'fumbled',\n",
              " 'Remembering',\n",
              " 'manikin',\n",
              " 'tenpin',\n",
              " 'andirons',\n",
              " 'jambs',\n",
              " 'bricks',\n",
              " 'appropriate',\n",
              " 'applying',\n",
              " 'hastier',\n",
              " 'withdrawals',\n",
              " 'antics',\n",
              " 'devotee',\n",
              " 'extinguishing',\n",
              " 'unceremoniously',\n",
              " 'bagged',\n",
              " 'sportsman',\n",
              " 'woodcock',\n",
              " 'uncomfortableness',\n",
              " 'deliberating',\n",
              " 'puffed',\n",
              " 'sang',\n",
              " 'Stammering',\n",
              " 'conjured',\n",
              " 'responses',\n",
              " 'debel',\n",
              " 'flourishing',\n",
              " 'Angels',\n",
              " 'flourishings',\n",
              " 'peddlin',\n",
              " 'sleepe',\n",
              " 'grunted',\n",
              " 'gettee',\n",
              " 'motioning',\n",
              " 'comely',\n",
              " 'insured',\n",
              " 'Counterpane',\n",
              " 'parti',\n",
              " 'triangles',\n",
              " 'interminable',\n",
              " 'caper',\n",
              " 'supperless',\n",
              " 'hemisphere',\n",
              " 'sigh',\n",
              " 'Sixteen',\n",
              " 'ached',\n",
              " 'coaches',\n",
              " 'stockinged',\n",
              " 'slippering',\n",
              " 'misbehaviour',\n",
              " 'unendurable',\n",
              " 'stepmothers',\n",
              " 'misfortunes',\n",
              " 'steeped',\n",
              " 'shudderingly',\n",
              " 'confounding',\n",
              " 'soberly',\n",
              " 'recurred',\n",
              " 'predicament',\n",
              " 'unlock',\n",
              " 'bridegroom',\n",
              " 'clasp',\n",
              " 'hugged',\n",
              " 'rouse',\n",
              " 'snore',\n",
              " 'scratch',\n",
              " 'Throwing',\n",
              " 'expostulations',\n",
              " 'unbecomingness',\n",
              " 'matrimonial',\n",
              " 'dawning',\n",
              " 'overture',\n",
              " 'innate',\n",
              " 'compliment',\n",
              " 'civility',\n",
              " 'rudeness',\n",
              " 'toilette',\n",
              " 'dressing',\n",
              " 'donning',\n",
              " 'gaspings',\n",
              " 'booting',\n",
              " 'caterpillar',\n",
              " 'outlandishness',\n",
              " 'manners',\n",
              " 'education',\n",
              " 'undergraduate',\n",
              " 'dreamt',\n",
              " 'cowhide',\n",
              " 'pinched',\n",
              " 'curtains',\n",
              " 'indecorous',\n",
              " 'contented',\n",
              " 'restricting',\n",
              " 'donned',\n",
              " 'lathering',\n",
              " 'unsheathes',\n",
              " 'whets',\n",
              " 'Rogers',\n",
              " 'cutlery',\n",
              " 'Afterwards',\n",
              " 'baton',\n",
              " 'Breakfast',\n",
              " 'pleasantly',\n",
              " 'bountifully',\n",
              " 'laughable',\n",
              " 'bosky',\n",
              " 'unshorn',\n",
              " 'gowns',\n",
              " 'toasted',\n",
              " 'lingers',\n",
              " 'tarried',\n",
              " 'barred',\n",
              " 'Grub',\n",
              " 'Park',\n",
              " 'assurance',\n",
              " 'polish',\n",
              " 'occasioned',\n",
              " 'embarrassed',\n",
              " 'bashfulness',\n",
              " 'duelled',\n",
              " 'winking',\n",
              " 'tastes',\n",
              " 'sheepishly',\n",
              " 'bashful',\n",
              " 'icicle',\n",
              " 'admirer',\n",
              " 'cordially',\n",
              " 'grappling',\n",
              " 'genteelly',\n",
              " 'eschewed',\n",
              " 'undivided',\n",
              " 'circulating',\n",
              " 'nondescripts',\n",
              " 'Chestnut',\n",
              " 'jostle',\n",
              " 'Regent',\n",
              " 'Lascars',\n",
              " 'Bombay',\n",
              " 'Apollo',\n",
              " 'Feegeeans',\n",
              " 'Tongatobooarrs',\n",
              " 'Erromanggoans',\n",
              " 'Pannangians',\n",
              " 'Brighggians',\n",
              " 'weekly',\n",
              " 'Vermonters',\n",
              " 'stalwart',\n",
              " 'frames',\n",
              " 'felled',\n",
              " 'strutting',\n",
              " 'wester',\n",
              " 'bombazine',\n",
              " 'cloak',\n",
              " 'mow',\n",
              " 'gloves',\n",
              " 'joins',\n",
              " 'outfit',\n",
              " 'waistcoats',\n",
              " 'Hay',\n",
              " 'Seed',\n",
              " 'tract',\n",
              " 'dearest',\n",
              " 'pave',\n",
              " 'eggs',\n",
              " 'patrician',\n",
              " 'parks',\n",
              " 'scraggy',\n",
              " 'scoria',\n",
              " 'Herr',\n",
              " 'dowers',\n",
              " 'nieces',\n",
              " 'reservoirs',\n",
              " 'maples',\n",
              " 'bountiful',\n",
              " 'proffer',\n",
              " 'passer',\n",
              " 'cones',\n",
              " 'blossoms',\n",
              " 'superinduced',\n",
              " 'carnation',\n",
              " 'Salem',\n",
              " 'sweethearts',\n",
              " 'Puritanic',\n",
              " 'Whaleman',\n",
              " 'Wrapping',\n",
              " 'Each',\n",
              " 'quote',\n",
              " 'TALBOT',\n",
              " 'Near',\n",
              " 'Desolation',\n",
              " 'SISTER',\n",
              " 'ROBERT',\n",
              " 'WILLIS',\n",
              " 'ELLERY',\n",
              " 'NATHAN',\n",
              " 'COLEMAN',\n",
              " 'WALTER',\n",
              " 'CANNY',\n",
              " 'SETH',\n",
              " 'GLEIG',\n",
              " 'Forming',\n",
              " 'ELIZA',\n",
              " 'MARBLE',\n",
              " 'SHIPMATES',\n",
              " 'EZEKIEL',\n",
              " 'HARDY',\n",
              " 'AUGUST',\n",
              " 'WIDOW',\n",
              " 'Shaking',\n",
              " 'glazed',\n",
              " 'Affected',\n",
              " 'relatives',\n",
              " 'unhealing',\n",
              " 'sympathetically',\n",
              " 'wounds',\n",
              " 'bleed',\n",
              " 'blanks',\n",
              " 'bordered',\n",
              " 'infidelities',\n",
              " 'gnaw',\n",
              " 'resurrections',\n",
              " 'placelessly',\n",
              " 'Goodwin',\n",
              " 'Sands',\n",
              " 'prefix',\n",
              " 'entitle',\n",
              " 'embarks',\n",
              " 'Companies',\n",
              " 'forfeitures',\n",
              " 'immortals',\n",
              " 'unstirring',\n",
              " 'paralysis',\n",
              " 'comforted',\n",
              " 'strive',\n",
              " 'rumor',\n",
              " 'tombs',\n",
              " 'Delightful',\n",
              " 'brevet',\n",
              " ...]"
            ]
          },
          "metadata": {},
          "execution_count": 63
        }
      ]
    },
    {
      "cell_type": "code",
      "source": [
        "# text2에서 길이가 3자 이상이고, 빈도수가 5 이상인 단어 추출\n",
        "[voca for (voca, count) in FreqDist(btxt2).items()\\\n",
        " if (len(voca) == 3) and (count >= 5)]   # dictionary"
      ],
      "metadata": {
        "colab": {
          "base_uri": "https://localhost:8080/"
        },
        "id": "yGbAsx4n-Gjs",
        "outputId": "a438aa29-0c6f-4a58-a0ba-43bd3c1fe9dc"
      },
      "execution_count": 64,
      "outputs": [
        {
          "output_type": "execute_result",
          "data": {
            "text/plain": [
              "['and',\n",
              " 'The',\n",
              " 'had',\n",
              " 'was',\n",
              " 'the',\n",
              " 'for',\n",
              " 'man',\n",
              " 'who',\n",
              " 'age',\n",
              " 'his',\n",
              " 'But',\n",
              " 'her',\n",
              " 'ten',\n",
              " 'own',\n",
              " 'old',\n",
              " 'His',\n",
              " 'all',\n",
              " 'Mrs',\n",
              " 'not',\n",
              " 'but',\n",
              " 'him',\n",
              " 'one',\n",
              " 'son',\n",
              " 'nor',\n",
              " ';--',\n",
              " 'way',\n",
              " 'any',\n",
              " 'its',\n",
              " 'far',\n",
              " 'are',\n",
              " 'two',\n",
              " 'lay',\n",
              " 'sum',\n",
              " 'law',\n",
              " 'how',\n",
              " 'ill',\n",
              " 'Had',\n",
              " ':--',\n",
              " '.--',\n",
              " 'Yes',\n",
              " 'day',\n",
              " 'did',\n",
              " 'HER',\n",
              " 'she',\n",
              " 'act',\n",
              " 'led',\n",
              " 'She',\n",
              " 'yet',\n",
              " 'saw',\n",
              " 'now',\n",
              " 'too',\n",
              " 'boy',\n",
              " 'How',\n",
              " 'And',\n",
              " 'why',\n",
              " 'say',\n",
              " 'you',\n",
              " 'new',\n",
              " 'can',\n",
              " 'our',\n",
              " '--\"',\n",
              " 'Why',\n",
              " 'may',\n",
              " '!--',\n",
              " 'One',\n",
              " 'You',\n",
              " 'out',\n",
              " 'Her',\n",
              " 'has',\n",
              " 'NOT',\n",
              " 'end',\n",
              " 'pay',\n",
              " '?--',\n",
              " 'YOU',\n",
              " 'ONE',\n",
              " 'set',\n",
              " 'owe',\n",
              " 'For',\n",
              " 'see',\n",
              " 'get',\n",
              " 'men',\n",
              " 'All',\n",
              " 'few',\n",
              " 'SHE',\n",
              " 'Yet',\n",
              " 'Nay',\n",
              " 'HIM',\n",
              " 'Sir',\n",
              " 'Are',\n",
              " 'off',\n",
              " 'Now',\n",
              " 'six',\n",
              " 'bed',\n",
              " 'joy',\n",
              " 'add',\n",
              " 'ask',\n",
              " 'eat',\n",
              " 'sex',\n",
              " 'met',\n",
              " 'gay',\n",
              " 'put',\n",
              " 'wit',\n",
              " 'use',\n",
              " 'Did',\n",
              " 'eye',\n",
              " 'try',\n",
              " 'air',\n",
              " 'ran',\n",
              " 'got',\n",
              " 'Was',\n",
              " 'Has',\n",
              " 'yes',\n",
              " 'let',\n",
              " 'Aye',\n",
              " 'aye',\n",
              " 'ago',\n",
              " 'Who',\n",
              " 'HIS',\n",
              " 'buy',\n",
              " ',--',\n",
              " '\"--',\n",
              " 'low',\n",
              " 'cut',\n",
              " 'tea',\n",
              " 'red',\n",
              " 'sit',\n",
              " 'bad',\n",
              " 'won',\n",
              " 'Can',\n",
              " 'sat',\n",
              " 'WAS',\n",
              " 'bye',\n",
              " 'NOW',\n",
              " 'Not',\n",
              " 'Our',\n",
              " 'due',\n",
              " 'odd',\n",
              " 'fix',\n",
              " 'run',\n",
              " 'bow',\n",
              " 'don',\n",
              " 'Don',\n",
              " 'fit',\n",
              " 'DID',\n",
              " 'beg',\n",
              " 'ear',\n",
              " 'tis',\n",
              " 'God',\n",
              " 'CAN',\n",
              " 'Two',\n",
              " 'sir']"
            ]
          },
          "metadata": {},
          "execution_count": 64
        }
      ]
    },
    {
      "cell_type": "markdown",
      "source": [
        "### 6. 리스트 <-> 스트링\n",
        "- split(): string.split(separator)\n",
        "    - default = ' '(공백)\n",
        "- join(): separator.join(string)"
      ],
      "metadata": {
        "id": "nwsT1JrSHIf6"
      }
    },
    {
      "cell_type": "code",
      "source": [
        "sent = 'I have a car'\n",
        "# ['I', 'have', 'a', 'car'] : tokens\n",
        "# sent를 리스트로 바꾸기 -> split()\n",
        "sent.split()"
      ],
      "metadata": {
        "colab": {
          "base_uri": "https://localhost:8080/"
        },
        "id": "HgbTzDZ5Fckd",
        "outputId": "d651e6c4-a3bc-4c68-8517-82694f5285f3"
      },
      "execution_count": 65,
      "outputs": [
        {
          "output_type": "execute_result",
          "data": {
            "text/plain": [
              "['I', 'have', 'a', 'car']"
            ]
          },
          "metadata": {},
          "execution_count": 65
        }
      ]
    },
    {
      "cell_type": "code",
      "source": [
        "sent = 'I, have, a, car'\n",
        "sent.split(',')\n",
        "\n",
        "# 만들어진 리스트에서 공백을 없애려면?\n",
        " # .strip()을 못 쓰는 이유 -> string.split()이기 때문"
      ],
      "metadata": {
        "colab": {
          "base_uri": "https://localhost:8080/"
        },
        "id": "8-dPEUogH64k",
        "outputId": "cec0cb60-6775-406b-fa67-085f83cd08af"
      },
      "execution_count": 66,
      "outputs": [
        {
          "output_type": "execute_result",
          "data": {
            "text/plain": [
              "['I', ' have', ' a', ' car']"
            ]
          },
          "metadata": {},
          "execution_count": 66
        }
      ]
    },
    {
      "cell_type": "code",
      "source": [
        "# solutions\n",
        "sent_tokens = [word.strip() for word in sent.split(',')]\n",
        "sent_tokens"
      ],
      "metadata": {
        "colab": {
          "base_uri": "https://localhost:8080/"
        },
        "id": "bdhh_SHyIbaL",
        "outputId": "f6be6321-4246-4253-bc18-cbf544641336"
      },
      "execution_count": 67,
      "outputs": [
        {
          "output_type": "execute_result",
          "data": {
            "text/plain": [
              "['I', 'have', 'a', 'car']"
            ]
          },
          "metadata": {},
          "execution_count": 67
        }
      ]
    },
    {
      "cell_type": "code",
      "source": [
        "# ['I', 'have', 'a', 'car'] => 'I have a car'\n",
        "' '.join(sent_tokens)"
      ],
      "metadata": {
        "colab": {
          "base_uri": "https://localhost:8080/",
          "height": 36
        },
        "id": "G9WgMC9sIwN8",
        "outputId": "e1c0f486-5be3-4d07-ff0c-7f73e8ec3df4"
      },
      "execution_count": 68,
      "outputs": [
        {
          "output_type": "execute_result",
          "data": {
            "text/plain": [
              "'I have a car'"
            ],
            "application/vnd.google.colaboratory.intrinsic+json": {
              "type": "string"
            }
          },
          "metadata": {},
          "execution_count": 68
        }
      ]
    },
    {
      "cell_type": "markdown",
      "source": [
        "### 7. 반복문 맛보기\n",
        "- 자료구조를 순회할 때 사용\n",
        "- 시작조건, 종료조건, 수행명령\n",
        "\n",
        "- for 변수 in <반복 범위>:\n",
        "     <수행명령>\n",
        "- 리스트 컴프리핸션과 형태 비슷 \n",
        "   - `[<수행명령>] for 변수 in <반복 명령>]`\n",
        "- range(): 숫자 순회할 때 사용\n",
        "   - 0부터 시작\n",
        "   - 인덱스랑 다른 점은 : -> ,"
      ],
      "metadata": {
        "id": "SSBmVTbTJOEm"
      }
    },
    {
      "cell_type": "code",
      "source": [
        "[word for word in sent_tokens]"
      ],
      "metadata": {
        "colab": {
          "base_uri": "https://localhost:8080/"
        },
        "id": "cTBQG3-vJ0Yr",
        "outputId": "ebc0f93e-5da2-4c05-87de-86f988b431da"
      },
      "execution_count": 69,
      "outputs": [
        {
          "output_type": "execute_result",
          "data": {
            "text/plain": [
              "['I', 'have', 'a', 'car']"
            ]
          },
          "metadata": {},
          "execution_count": 69
        }
      ]
    },
    {
      "cell_type": "code",
      "source": [
        "for word in sent_tokens:\n",
        "  print(word)"
      ],
      "metadata": {
        "colab": {
          "base_uri": "https://localhost:8080/"
        },
        "id": "Hr2aMr81J3-4",
        "outputId": "e63e676c-0663-4f7b-b755-56419d13d521"
      },
      "execution_count": 70,
      "outputs": [
        {
          "output_type": "stream",
          "name": "stdout",
          "text": [
            "I\n",
            "have\n",
            "a\n",
            "car\n"
          ]
        }
      ]
    },
    {
      "cell_type": "code",
      "source": [
        "# 1~10까지 출력하고 싶다면?\n",
        "for i in range(10):       # 숫자를 쓸 땐 보통 i 사용\n",
        "  print(i)"
      ],
      "metadata": {
        "colab": {
          "base_uri": "https://localhost:8080/"
        },
        "id": "kyUcZdNSKAe8",
        "outputId": "00845f4a-378d-41c8-a7d1-d0b289743c73"
      },
      "execution_count": 71,
      "outputs": [
        {
          "output_type": "stream",
          "name": "stdout",
          "text": [
            "0\n",
            "1\n",
            "2\n",
            "3\n",
            "4\n",
            "5\n",
            "6\n",
            "7\n",
            "8\n",
            "9\n"
          ]
        }
      ]
    },
    {
      "cell_type": "markdown",
      "source": [
        "### Ex\n",
        "- 1. text6에서 길이가 4자 이하인 알파벳 중 ie를 포함하는 단어를 알파벳 개수로 출력하시오.\n",
        "  - 예: `['I', 'have', 'a', 'pen'] -> [1, 3, 4, 3]`\n",
        "- 2. text2에서 ch로 끝나는 단어를 출력\n",
        "  - 중복 없음\n",
        "  - 첫 글자와 ch 남기고 가운데는 모두 -으로 가리기\n",
        "    - 예: much -> m-ch\n",
        "    - ch로 시작하면 바꾸면 안됨\n",
        "  - 정렬:\n",
        "    - 문자 길이로 정렬하기\n"
      ],
      "metadata": {
        "id": "JI0mKzEyKsDg"
      }
    },
    {
      "cell_type": "code",
      "source": [
        "# 1.\n",
        "btxt6 = book.text6\n",
        "fdist3 = [len(word) for word in btxt6 if ('ie' in word) and (len(word) <= 4)]\n",
        "fdist3"
      ],
      "metadata": {
        "colab": {
          "base_uri": "https://localhost:8080/"
        },
        "id": "_9dMMvAiOYSo",
        "outputId": "afa90615-5411-41df-f704-183d88b1d055"
      },
      "execution_count": 72,
      "outputs": [
        {
          "output_type": "execute_result",
          "data": {
            "text/plain": [
              "[3, 3, 3, 3, 3, 3, 4, 3, 3, 3, 3, 3, 4, 4, 4, 4, 3, 3, 3, 3, 3, 4, 4]"
            ]
          },
          "metadata": {},
          "execution_count": 72
        }
      ]
    },
    {
      "cell_type": "code",
      "source": [
        "# 2.\n",
        "with_ch = [voca for voca in set(btxt2) if voca.endswith('ch') or voca.startswith('ch')]\n",
        "sorted(with_ch, key = len)\n",
        "new_list = []\n",
        "\n",
        "for voca in btxt2:\n",
        "  if voca.startswith('ch'):\n",
        "    start_ch = voca[:2] + '-' * len(voca[2:-1])\n",
        "    new_list.append(start_ch)\n",
        "  elif voca.endswith('ch'):\n",
        "    end_ch = '-' * len(voca[:-3]) + voca[-2:]\n",
        "    new_list.append(end_ch)"
      ],
      "metadata": {
        "id": "7DPyocvfQ-qM"
      },
      "execution_count": 73,
      "outputs": []
    }
  ]
}