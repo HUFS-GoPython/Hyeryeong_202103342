{
  "nbformat": 4,
  "nbformat_minor": 0,
  "metadata": {
    "colab": {
      "name": "week_05.ipynb",
      "provenance": [],
      "collapsed_sections": [],
      "authorship_tag": "ABX9TyNJrXtaPkjmW6Qb8U3tb5WG",
      "include_colab_link": true
    },
    "kernelspec": {
      "name": "python3",
      "display_name": "Python 3"
    },
    "language_info": {
      "name": "python"
    }
  },
  "cells": [
    {
      "cell_type": "markdown",
      "metadata": {
        "id": "view-in-github",
        "colab_type": "text"
      },
      "source": [
        "<a href=\"https://colab.research.google.com/github/HUFS-Programming-2022/Hyeryeong_202103342/blob/main/week_05.ipynb\" target=\"_parent\"><img src=\"https://colab.research.google.com/assets/colab-badge.svg\" alt=\"Open In Colab\"/></a>"
      ]
    },
    {
      "cell_type": "markdown",
      "source": [
        "# 고급파이썬프로그래밍_5주차(04/01)"
      ],
      "metadata": {
        "id": "-N_DHYj1wxof"
      }
    },
    {
      "cell_type": "code",
      "execution_count": 28,
      "metadata": {
        "colab": {
          "base_uri": "https://localhost:8080/"
        },
        "id": "FOBc1m_awuJo",
        "outputId": "8d4f6325-5afc-449c-cd25-637d48b1fc7d"
      },
      "outputs": [
        {
          "output_type": "stream",
          "name": "stdout",
          "text": [
            "*** Introductory Examples for the NLTK Book ***\n",
            "Loading text1, ..., text9 and sent1, ..., sent9\n",
            "Type the name of the text or sentence to view it.\n",
            "Type: 'texts()' or 'sents()' to list the materials.\n",
            "text1: Moby Dick by Herman Melville 1851\n",
            "text2: Sense and Sensibility by Jane Austen 1811\n",
            "text3: The Book of Genesis\n",
            "text4: Inaugural Address Corpus\n",
            "text5: Chat Corpus\n",
            "text6: Monty Python and the Holy Grail\n",
            "text7: Wall Street Journal\n",
            "text8: Personals Corpus\n",
            "text9: The Man Who Was Thursday by G . K . Chesterton 1908\n"
          ]
        }
      ],
      "source": [
        "import nltk\n",
        "nltk.download('book', quiet = True)\n",
        "from nltk.book import*    # '*'을 붙이면 book 이외에 다른 문서도 불러올 수 있음"
      ]
    },
    {
      "cell_type": "markdown",
      "source": [
        "#### 저번 시간 문제(2번) - 반영하지 못한 문제 요소, 코드 비효율적 -> retry\n",
        "- 2. text2에서 ch 포함한 단어 출력\n",
        "  - 중복 없음\n",
        "  - 첫 글자와 ch 남기고 가운데는 모두 -으로 가리기\n",
        "    - 예: much -> m-ch\n",
        "    - ch로 시작하면 바꾸면 안됨\n",
        "  - 정렬:\n",
        "    - 문자 길이로 정렬하기\n"
      ],
      "metadata": {
        "id": "qb4OOXu0xwe5"
      }
    },
    {
      "cell_type": "code",
      "source": [
        "# 2.\n",
        "btxt2 = book.text2\n",
        "ch_end = [word for word in set(btxt2) if word.endswith('ch')]\n",
        "include_h = [voca[0] + '-' * len(voca[1:-2]) + voca[-2:] for voca in ch_end]\n",
        "ch_start = [words for words in set(btxt2) if words.startswith('ch')]\n",
        "include_h1 = [pala[:2] + '-' * len(pala[2:]) for pala in ch_start]\n",
        "include_h.append(','.join(include_h1))\n",
        "print(sorted(include_h, key = len))"
      ],
      "metadata": {
        "colab": {
          "base_uri": "https://localhost:8080/"
        },
        "id": "ko-Z9Qm9xX81",
        "outputId": "56196573-860c-4437-dcb1-d79d2f7a6821"
      },
      "execution_count": null,
      "outputs": [
        {
          "output_type": "stream",
          "name": "stdout",
          "text": [
            "['M-ch', 'E-ch', 'm-ch', 'i-ch', 'e-ch', 'r-ch', 's-ch', 'S-ch', 'f--ch', 'c--ch', 'r--ch', 't--ch', 't--ch', 'M--ch', 'p--ch', 'w--ch', 'b--ch', 'c--ch', 'w--ch', 'W--ch', 'm--ch', 's---ch', 'c---ch', 'e---ch', 'b---ch', 's---ch', 'a---ch', 'b---ch', 's---ch', 's----ch', 's----ch', 's----ch', 'a-----ch', 'r-----ch', 'd-----ch', 'd-----ch', 'ch-----,ch-----,ch------,ch----,ch---,ch-----,ch-----,ch---,ch---,ch----,ch-----,ch-------,ch-----,ch-----,ch------,ch-----,ch----,ch------,ch---,ch----,ch------,ch-----,ch---,ch----,ch---------,ch--,ch-----,ch-----,ch-----,ch--------,ch------,ch----,ch----,ch---,ch----,ch-----,ch-------,ch-----,ch--------,ch----------,ch---,ch------,ch----,ch----,ch-----,ch-----,ch---,ch------,ch---,ch---,ch-------,ch-----,ch----,ch----,ch----,ch---,ch------']\n"
          ]
        }
      ]
    },
    {
      "cell_type": "markdown",
      "source": [
        "# CH06\n",
        "## 1. 반복문 : for loop, while loop\n",
        "### 1-1. 저번 시간 복습 : for loop\n",
        "- 자료구조를 순회할 때 사용\n",
        "- 리스트 컴프리핸션과 형태 비슷 -> []\n",
        "- range()\n",
        "   - 숫자 순회할 때 사용\n",
        "   - range(start, stop, step)\n",
        "   - start 생략 -> 0부터 시작, step 기본값: 1\n",
        "   - stop은 꼭 입력해야 함. -> 범위의 끝은 stop 바로 직전 값\n",
        "\n",
        "### 1-2. while loop\n",
        "- 가장 간단한 looping 매커니즘\n",
        "- 어떤 조건에 만족할 때까지 블록 수행\n",
        "- 해당 조건이 거짓이 되면 수행 정지 -> 거짓의 순간, 즉 블록을 빠져나오는 때를 정확히 파악해야 함!\n",
        "- for + if 의 결합 형태\n",
        "\n",
        "### 1-3. for vs while\n",
        "- for loop: 반복 횟수를 정확히 앎. 반복 횟수 변하지 않음(범위 설정)\n",
        "  - 예| 전체 성적 산출\n",
        "- while loop : 반복 횟수 정확하지 않음. 어떤 조건을 만족 -> 프로그램 종료(조건 설정)\n",
        "  - 예| 가위바위보 이기면 종료"
      ],
      "metadata": {
        "id": "YHHxefhl3lQA"
      }
    },
    {
      "cell_type": "code",
      "source": [
        "'''\n",
        "[for loop form]\n",
        "for 변수 in <반복 범위>:\n",
        "  <수행명령>\n",
        "\n",
        "[while loop form]\n",
        "while <조건>:\n",
        "  <수행명령>\n",
        "'''"
      ],
      "metadata": {
        "colab": {
          "base_uri": "https://localhost:8080/",
          "height": 36
        },
        "id": "2BjKx4g44b5g",
        "outputId": "113ff3b6-4dc6-4863-c285-4e1e9fe2359f"
      },
      "execution_count": null,
      "outputs": [
        {
          "output_type": "execute_result",
          "data": {
            "text/plain": [
              "'\\nfor 변수 in <반복 범위>:\\n       <수행명령>\\n'"
            ],
            "application/vnd.google.colaboratory.intrinsic+json": {
              "type": "string"
            }
          },
          "metadata": {},
          "execution_count": 3
        }
      ]
    },
    {
      "cell_type": "code",
      "source": [
        "# for loop : 정해진 루트 안에서 값 출력\n",
        "for i in range(10):\n",
        "  print(i)"
      ],
      "metadata": {
        "colab": {
          "base_uri": "https://localhost:8080/"
        },
        "id": "6IdtUz0t47sh",
        "outputId": "8486104d-7ce6-496d-dafb-eafdddbcb569"
      },
      "execution_count": null,
      "outputs": [
        {
          "output_type": "stream",
          "name": "stdout",
          "text": [
            "0\n",
            "1\n",
            "2\n",
            "3\n",
            "4\n",
            "5\n",
            "6\n",
            "7\n",
            "8\n",
            "9\n"
          ]
        }
      ]
    },
    {
      "cell_type": "code",
      "source": [
        "# while loop\n",
        "n = 0          # n 초기화 설정 및 지정\n",
        "while n < 10:   # 0,1,2,3,4,5,...\n",
        "  n += 1        # 1,2,3,4,...\n",
        "  print(n)      # 1,2,3,4,..."
      ],
      "metadata": {
        "colab": {
          "base_uri": "https://localhost:8080/"
        },
        "id": "kYrNzEyb5a9H",
        "outputId": "a0e84639-0a63-431e-a5a9-a539e5a1e7ab"
      },
      "execution_count": null,
      "outputs": [
        {
          "output_type": "stream",
          "name": "stdout",
          "text": [
            "1\n",
            "2\n",
            "3\n",
            "4\n",
            "5\n",
            "6\n",
            "7\n",
            "8\n",
            "9\n",
            "10\n"
          ]
        }
      ]
    },
    {
      "cell_type": "code",
      "source": [
        "# while loop _ 앞선 코드와 비교: 0부터 출력됨\n",
        "n = 0\n",
        "while n < 10:\n",
        "  print(n)\n",
        "  n += 1"
      ],
      "metadata": {
        "colab": {
          "base_uri": "https://localhost:8080/"
        },
        "id": "8MxRdJR46Evw",
        "outputId": "37fca77c-54da-4497-8d12-10999001b6db"
      },
      "execution_count": null,
      "outputs": [
        {
          "output_type": "stream",
          "name": "stdout",
          "text": [
            "0\n",
            "1\n",
            "2\n",
            "3\n",
            "4\n",
            "5\n",
            "6\n",
            "7\n",
            "8\n",
            "9\n"
          ]
        }
      ]
    },
    {
      "cell_type": "code",
      "source": [
        "# 컴프리핸션과 비교\n",
        "characters = ['Ironman', 'Hurk', 'Thor']\n",
        "[ch for ch in characters]"
      ],
      "metadata": {
        "colab": {
          "base_uri": "https://localhost:8080/"
        },
        "id": "WaYY03nJ6TFz",
        "outputId": "c03ba314-ae02-4617-9f26-6439fe933c00"
      },
      "execution_count": null,
      "outputs": [
        {
          "output_type": "execute_result",
          "data": {
            "text/plain": [
              "['Ironman', 'Hurk', 'Thor']"
            ]
          },
          "metadata": {},
          "execution_count": 18
        }
      ]
    },
    {
      "cell_type": "code",
      "source": [
        "# 위의 코드를 for loop으로\n",
        "for ch in characters:\n",
        "  print(ch, end = ' ')"
      ],
      "metadata": {
        "colab": {
          "base_uri": "https://localhost:8080/"
        },
        "id": "hKOSuF6_7N3j",
        "outputId": "946ebb13-7406-4bf6-8d4c-7d21f0d7864d"
      },
      "execution_count": null,
      "outputs": [
        {
          "output_type": "stream",
          "name": "stdout",
          "text": [
            "Ironman Hurk Thor "
          ]
        }
      ]
    },
    {
      "cell_type": "code",
      "source": [
        "# 위의 코드를 while loop으로\n",
        "ch = 0\n",
        "while ch < len(characters):   # len(characters) == 3\n",
        "  print(characters[ch], end = ' ')\n",
        "  ch += 1"
      ],
      "metadata": {
        "colab": {
          "base_uri": "https://localhost:8080/"
        },
        "id": "7_9w5yl084UH",
        "outputId": "8e3bb0b6-3746-4b81-dbe1-263ae4bb20b0"
      },
      "execution_count": null,
      "outputs": [
        {
          "output_type": "stream",
          "name": "stdout",
          "text": [
            "Ironman Hurk Thor "
          ]
        }
      ]
    },
    {
      "cell_type": "markdown",
      "source": [
        "### 1-4. 반복문의 제어\n",
        "- 의도치 않게 코드를 종료시킬 수 있으므로 되도록 사용하지 않음\n",
        "- 종류\n",
        "   - break(중단하기): 논리적으로 반복 중단(어떤 일이 일어나는지 확실하지 않을 때, 무한 루프 중단을 위해 사용)\n",
        "   - continue(건너뛰기): 특정 조건 건너뛰고 다음 조건 수행\n",
        "   - else(break 확인하기)\n",
        "     - 어떤 조건이 \"완전히\" 끝났을 때 한 번 더 실행하는 블록\n",
        "     - while문, for문이 실행되었으나 발견하지 못했을 때 else문 실행\n",
        "     - break로 끝난 것과 구분됨."
      ],
      "metadata": {
        "id": "EJPd7INI9dyd"
      }
    },
    {
      "cell_type": "code",
      "source": [
        "for i in range(10):\n",
        "  if i == 6:\n",
        "    break\n",
        "  print(i)\n",
        "else:\n",
        "  print('ended')"
      ],
      "metadata": {
        "colab": {
          "base_uri": "https://localhost:8080/"
        },
        "id": "-4apUousaKls",
        "outputId": "e23b10ad-2c68-41d9-f131-60dbd6f68481"
      },
      "execution_count": null,
      "outputs": [
        {
          "output_type": "stream",
          "name": "stdout",
          "text": [
            "0\n",
            "1\n",
            "2\n",
            "3\n",
            "4\n",
            "5\n"
          ]
        }
      ]
    },
    {
      "cell_type": "code",
      "source": [
        "n = 0\n",
        "while n < 5:\n",
        "  print(n)\n",
        "  if n == 4:  break\n",
        "  n += 1\n",
        "else:\n",
        "  print(\"\")"
      ],
      "metadata": {
        "colab": {
          "base_uri": "https://localhost:8080/"
        },
        "id": "fj21qBmuVtQy",
        "outputId": "5e77fb0f-f875-4ffe-8796-4faa1da8579f"
      },
      "execution_count": null,
      "outputs": [
        {
          "output_type": "stream",
          "name": "stdout",
          "text": [
            "0\n",
            "1\n",
            "2\n",
            "3\n",
            "4\n"
          ]
        }
      ]
    },
    {
      "cell_type": "markdown",
      "source": [
        "### 구구단\n",
        "- 1. for, while 선택한 뒤, n단을 입력받아서 n단을 출력한다.\n",
        "   - 출력: == 3단 ==\n",
        "           3 x 1 = 3\n",
        "           3 x 2 = 6\n",
        "           ...\n",
        "           3 x 9 = 27\n",
        "\n",
        "- 2. 1~ n단까지 출력한다.\n",
        "- 3. 시작단, 끝단 둘다 입력받을 것\n",
        "  - 예: 4-7단\n",
        "  - 시작단이 끝단보다 적을 때 어떻게 처리할지\n",
        "- 4. 프로그램으로 만든다.\n",
        "   - 1) n단  2) 1-n단  3) n-m단\n",
        "   - 3번 -> n, m -> ...\n",
        "   - 메뉴에 없는 선택 처리"
      ],
      "metadata": {
        "id": "5lgb0tAiV4I9"
      }
    },
    {
      "cell_type": "code",
      "source": [
        "# 1~2.\n",
        "n = int(input('몇 단까지 출력할까요? '))\n",
        "for i in range(1, n+1):\n",
        "  print(f'== {i}단 ==')\n",
        "  for j in range(1, 10):\n",
        "    print(f'{i} x {j} = {i * j}')"
      ],
      "metadata": {
        "id": "Oxun-yKeV8vW"
      },
      "execution_count": null,
      "outputs": []
    },
    {
      "cell_type": "code",
      "source": [
        "# 3.\n",
        "start_n = int(input('몇 단부터 출력할까요? '))\n",
        "end_n = int(input('몇 단까지 출력할까요? '))\n",
        "if start_n > 0 and end_n > start_n:\n",
        "  for i in range(start_n, end_n + 1):\n",
        "    print(f'== {i}단 ==')\n",
        "    for j in range(10):\n",
        "      print(f'{i} x {j} = {i * j}')\n",
        "else:\n",
        "  print(\"잘못된 입력 값입니다.\")"
      ],
      "metadata": {
        "colab": {
          "base_uri": "https://localhost:8080/"
        },
        "id": "LSzvfXiGWPHq",
        "outputId": "64419e62-4ad9-4aa6-d971-12b1efd2800f"
      },
      "execution_count": null,
      "outputs": [
        {
          "output_type": "stream",
          "name": "stdout",
          "text": [
            "몇 단부터 출력할까요? 4\n",
            "몇 단까지 출력할까요? 7\n",
            "== 4단 ==\n",
            "4 x 0 = 0\n",
            "4 x 1 = 4\n",
            "4 x 2 = 8\n",
            "4 x 3 = 12\n",
            "4 x 4 = 16\n",
            "4 x 5 = 20\n",
            "4 x 6 = 24\n",
            "4 x 7 = 28\n",
            "4 x 8 = 32\n",
            "4 x 9 = 36\n",
            "== 5단 ==\n",
            "5 x 0 = 0\n",
            "5 x 1 = 5\n",
            "5 x 2 = 10\n",
            "5 x 3 = 15\n",
            "5 x 4 = 20\n",
            "5 x 5 = 25\n",
            "5 x 6 = 30\n",
            "5 x 7 = 35\n",
            "5 x 8 = 40\n",
            "5 x 9 = 45\n",
            "== 6단 ==\n",
            "6 x 0 = 0\n",
            "6 x 1 = 6\n",
            "6 x 2 = 12\n",
            "6 x 3 = 18\n",
            "6 x 4 = 24\n",
            "6 x 5 = 30\n",
            "6 x 6 = 36\n",
            "6 x 7 = 42\n",
            "6 x 8 = 48\n",
            "6 x 9 = 54\n",
            "== 7단 ==\n",
            "7 x 0 = 0\n",
            "7 x 1 = 7\n",
            "7 x 2 = 14\n",
            "7 x 3 = 21\n",
            "7 x 4 = 28\n",
            "7 x 5 = 35\n",
            "7 x 6 = 42\n",
            "7 x 7 = 49\n",
            "7 x 8 = 56\n",
            "7 x 9 = 63\n"
          ]
        }
      ]
    },
    {
      "cell_type": "code",
      "source": [
        "# 4. 무한 루프에서 나오기 위해 4번-프로그램 종료 추가\n",
        "\n",
        "while True:\n",
        "  choose_num = int(input(\"1번 - n단, 2번 - (1~n)단, 3번 - (n ~ m)단, 4번 - 프로그램 종료 -> 번호를 선택하세요: \"))\n",
        "  if choose_num == 1:\n",
        "     n_print = int(input(\"몇 단을 출력하시겠습니까? \"))\n",
        "     print(f'== {n_print}단 ==')\n",
        "     for j in range(1, 10):\n",
        "       print(f'{n_print} X {j} = {n_print * j}')\n",
        "    \n",
        "  elif choose_num == 2:\n",
        "    from1_n = int(input(\"몇 단까지 출력하시겠습니까? \"))\n",
        "    for i in range(1, from1_n + 1):\n",
        "      print(f'== {i}단 ==')\n",
        "      for j in range(1, 10):\n",
        "        print(f'{i} X {j} = {i * j}')\n",
        "\n",
        "  elif choose_num == 3:\n",
        "    start_n = int(input(\"몇 단부터 출력하시겠습니까? \"))\n",
        "    end_n = int(input(\"몇 단까지 출력하시겠습니까? \"))\n",
        "    for i in range(start_n, end_n + 1):\n",
        "      print(f'== {i}단 ==')\n",
        "      for j in range(1, 10):\n",
        "        print(f'{i} X {j} = {i * j}')\n",
        "\n",
        "  elif choose_num == 4:\n",
        "    print(\"프로그램을 종료합니다.\")\n",
        "    break\n",
        "    \n",
        "  else:\n",
        "    print('잘못된 입력값입니다.')"
      ],
      "metadata": {
        "colab": {
          "base_uri": "https://localhost:8080/"
        },
        "id": "FqEkj5TWXiRx",
        "outputId": "5230b82f-b21a-4653-f888-0422c90b07d6"
      },
      "execution_count": null,
      "outputs": [
        {
          "output_type": "stream",
          "name": "stdout",
          "text": [
            "1번 - n단, 2번 - (1~n)단, 3번 - (n ~ m)단, 4번 - 프로그램 종료 -> 번호를 선택하세요: 4\n",
            "프로그램을 종료합니다.\n"
          ]
        }
      ]
    },
    {
      "cell_type": "markdown",
      "source": [
        "## 2. print formating\n",
        "- 1. f string\n",
        "    - f, F 둘다 사용가능\n",
        "    - f'{var}'\n",
        "- 2. format\n",
        "    - '{}'.format(var)\n",
        "- 3. %\n",
        "    - ' %type ' % var\n",
        "    - 3번은 구식, 1번과 2번 사용 권장\n",
        "\n",
        "- print('', a, '', b) -> 오답!"
      ],
      "metadata": {
        "id": "SKGuH_JZd_j2"
      }
    },
    {
      "cell_type": "code",
      "source": [
        "name = 'cho'\n",
        "print(f'나의 이름은 {name}입니다')"
      ],
      "metadata": {
        "colab": {
          "base_uri": "https://localhost:8080/"
        },
        "id": "kMSN2K10d8Sc",
        "outputId": "8941cdef-3e4c-4c16-bc68-7d8ff290517e"
      },
      "execution_count": null,
      "outputs": [
        {
          "output_type": "stream",
          "name": "stdout",
          "text": [
            "나의 이름은 cho입니다\n"
          ]
        }
      ]
    },
    {
      "cell_type": "code",
      "source": [
        "print('너의 이름은 {}???'.format(name))    # 소수점 출력 시 활용"
      ],
      "metadata": {
        "colab": {
          "base_uri": "https://localhost:8080/"
        },
        "id": "LqXjLnDQeSi9",
        "outputId": "97e4129c-abe9-4ff1-8c63-2c99a2e91364"
      },
      "execution_count": null,
      "outputs": [
        {
          "output_type": "stream",
          "name": "stdout",
          "text": [
            "너의 이름은 cho???\n"
          ]
        }
      ]
    },
    {
      "cell_type": "code",
      "source": [
        "name = 'cho'\n",
        "print(f'나의 이름은 {name= }!!!')   # 질문 -> 코랩의 문제일 수 있음(교수님께서 알아보신다고 함)"
      ],
      "metadata": {
        "colab": {
          "base_uri": "https://localhost:8080/",
          "height": 139
        },
        "id": "gey0d_d8eVUS",
        "outputId": "354f4217-6bc0-45df-c85c-1eba436c2657"
      },
      "execution_count": null,
      "outputs": [
        {
          "output_type": "error",
          "ename": "SyntaxError",
          "evalue": "ignored",
          "traceback": [
            "\u001b[0;36m  File \u001b[0;32m\"<fstring>\"\u001b[0;36m, line \u001b[0;32m1\u001b[0m\n\u001b[0;31m    (name= )\u001b[0m\n\u001b[0m         ^\u001b[0m\n\u001b[0;31mSyntaxError\u001b[0m\u001b[0;31m:\u001b[0m invalid syntax\n"
          ]
        }
      ]
    },
    {
      "cell_type": "markdown",
      "source": [
        "#### 교재 예제 및 연습문제\n",
        "- 1. input()함수로 키보드에서 한 라인을 읽은 후 첫 번째 문자 대문자 출력, 문자 q를 입력하면 반복문 종료\n",
        "- 2. 정수가 홀수일 때는 그 수의 제곱 출력, 짝수일 때는 다음 반복으로 건너뜀. 이전과 같이 q를 입력하면 반복문을 종료\n",
        "- 3. numbers = [1,3,5], position = 0 일 때, while문이 모두 실행되었지만, 발견하지 못했을 땐 else문 실행\n",
        "- 4. 스트링 'thud'를 순서대로 출력하기(while문,for문으로 모두 출력해볼것)\n",
        "- 5. 스트링 'thud'에서 u출력\n",
        "- 6. 스트링 'thud'에서 'x'가 발견될 때까지 문자를 순서대로 출력하고 break, x가 없다면 'x가 없습니다.' 출력 후 중단\n",
        "- 7. for 문으로 리스트 [3,2,1,0] 출력\n",
        "- 8. guess_me 변수에 7을 할당하고, number 변수에 1을 할당한다. number와 guess_me를 비교하는 while문을 작성해보자. number가 guess_me보다 작으면 'too low'를 출력한다. number와 guess_me가 같으면 'found it!'을 출력하고 반복문을 종료한다. number가 guess_me보다 크면 'oops'를 출력하고 반복문을 종료한다. 그리고 반복문의 마지막에 number를 1씩 증가시킨다.\n",
        "- 9. guess_me 변수에 5를 할당하고, for문을 사용하여 range(10)에서 number 변수를 사용한다. number가 guess_me보다 작으면 'too low'를 출력한다. number와 guess_me가 같으면 'found it!'을 출력하고 반복문을 종료한다. number가 guess_me보다 크면 'oops'를 출력하고 반복문을 종료한다."
      ],
      "metadata": {
        "id": "2RK1bXL_Uq7s"
      }
    },
    {
      "cell_type": "code",
      "source": [
        "#1. \n",
        "while True:\n",
        "  input_str = input('첫 번째 문자를 대문자로 출력합니다(q를 입력하면 종료): ')\n",
        "  if input_str == 'q':\n",
        "    print('프로그램을 종료합니다')\n",
        "    break\n",
        "  else:\n",
        "    first_capital = input_str.title()\n",
        "    print(first_capital, end = '\\n')"
      ],
      "metadata": {
        "colab": {
          "base_uri": "https://localhost:8080/"
        },
        "id": "cRSL4qT0Top3",
        "outputId": "603fd19d-2425-4fb8-8d2f-db9741fad8d3"
      },
      "execution_count": null,
      "outputs": [
        {
          "output_type": "stream",
          "name": "stdout",
          "text": [
            "첫 번째 문자를 대문자로 출력합니다(q를 입력하면 종료): cat\n",
            "Cat\n",
            "첫 번째 문자를 대문자로 출력합니다(q를 입력하면 종료): dag\n",
            "Dag\n",
            "첫 번째 문자를 대문자로 출력합니다(q를 입력하면 종료): q\n",
            "프로그램을 종료합니다\n"
          ]
        }
      ]
    },
    {
      "cell_type": "code",
      "source": [
        "#2.\n",
        "while True:\n",
        "  num_int = input('정수를 입력하세요: ')\n",
        "  if num_int == 'q':\n",
        "    print('프로그램을 종료합니다.')\n",
        "    break\n",
        "  elif int(num_int) % 2 == 1:\n",
        "    print(int(num_int) ** 2)\n",
        "  else:\n",
        "    continue"
      ],
      "metadata": {
        "colab": {
          "base_uri": "https://localhost:8080/"
        },
        "id": "eHFT0EQaZRzO",
        "outputId": "c5a1994f-2836-468b-f6cb-51a62ee6dd6d"
      },
      "execution_count": null,
      "outputs": [
        {
          "output_type": "stream",
          "name": "stdout",
          "text": [
            "정수를 입력하세요: 12\n",
            "정수를 입력하세요: 10\n",
            "정수를 입력하세요: 45\n",
            "2025\n",
            "정수를 입력하세요: q\n",
            "프로그램을 종료합니다.\n"
          ]
        }
      ]
    },
    {
      "cell_type": "code",
      "source": [
        "#3. numbers에서 짝수 찾기\n",
        "numbers = [1, 3, 5]\n",
        "position = 0\n",
        "while position < len(numbers):     # numbers 안의 숫자 수만큼 순회\n",
        "  number = numbers[position]       # numbers 안의 숫자 순회 -> number = numbers[0], number = numbers[1],...\n",
        "  if number % 2 == 0:              # 짝수 확인\n",
        "    print(f'Found even number => {number}')   # 짝수라면 Found even number 출력하고 중단하기\n",
        "    break                          # 짝수 찾으면 중단\n",
        "  position += 1                    # 짝수 못 찾으면 position 1씩 증가\n",
        "else:                              # while문을 다 순회했음에도 짝수 못 찾았을 경우(break문 호출되지 않은 경우)\n",
        "  print('No even number found')    "
      ],
      "metadata": {
        "colab": {
          "base_uri": "https://localhost:8080/"
        },
        "id": "L04jPCXmaru9",
        "outputId": "ab5064c9-30f2-41d5-f625-9142c1e2d373"
      },
      "execution_count": null,
      "outputs": [
        {
          "output_type": "stream",
          "name": "stdout",
          "text": [
            "No even number found\n"
          ]
        }
      ]
    },
    {
      "cell_type": "code",
      "source": [
        "#4 -1. while문으로 출력하기\n",
        "text = 'thud'\n",
        "value = 0\n",
        "while value < len(text):\n",
        "  print(text[value])\n",
        "  value += 1"
      ],
      "metadata": {
        "colab": {
          "base_uri": "https://localhost:8080/"
        },
        "id": "1jY0ZwO0eSg4",
        "outputId": "1bd9658d-94b7-44a6-8036-b92da6733511"
      },
      "execution_count": null,
      "outputs": [
        {
          "output_type": "stream",
          "name": "stdout",
          "text": [
            "t\n",
            "h\n",
            "u\n",
            "d\n"
          ]
        }
      ]
    },
    {
      "cell_type": "code",
      "source": [
        "# 4-2. for문으로 출력하기\n",
        "for letter in text:\n",
        "  print(letter)"
      ],
      "metadata": {
        "colab": {
          "base_uri": "https://localhost:8080/"
        },
        "id": "QPBP234qhtX8",
        "outputId": "b1b6d49e-375d-464a-921a-1eb7c55fcee0"
      },
      "execution_count": null,
      "outputs": [
        {
          "output_type": "stream",
          "name": "stdout",
          "text": [
            "t\n",
            "h\n",
            "u\n",
            "d\n"
          ]
        }
      ]
    },
    {
      "cell_type": "code",
      "source": [
        "#5. \n",
        "for alpha in text:\n",
        "  if alpha == 'u':\n",
        "    break\n",
        "  print(alpha)"
      ],
      "metadata": {
        "colab": {
          "base_uri": "https://localhost:8080/"
        },
        "id": "BW57BLffh8ot",
        "outputId": "b21f0f57-2bf7-478b-f591-15cfbba31fe2"
      },
      "execution_count": null,
      "outputs": [
        {
          "output_type": "stream",
          "name": "stdout",
          "text": [
            "t\n",
            "h\n"
          ]
        }
      ]
    },
    {
      "cell_type": "code",
      "source": [
        "#6. 스트링 'thud'에서 'x'가 발견될 때까지 문자를 순서대로 출력하고 break, x가 없다면 'x가 없습니다.' 출력 후 중단\n",
        "for letter in text:\n",
        "  if letter == 'x':\n",
        "    print('x is in text')\n",
        "    break\n",
        "  print(letter)\n",
        "else:\n",
        "  print('x is not in text')"
      ],
      "metadata": {
        "colab": {
          "base_uri": "https://localhost:8080/"
        },
        "id": "yvye8-IPiR90",
        "outputId": "1d7bb67f-57b9-45cb-c637-5caab0bd5065"
      },
      "execution_count": null,
      "outputs": [
        {
          "output_type": "stream",
          "name": "stdout",
          "text": [
            "t\n",
            "h\n",
            "u\n",
            "d\n",
            "x is not in text\n"
          ]
        }
      ]
    },
    {
      "cell_type": "code",
      "source": [
        "#7. for 문으로 리스트 [3,2,1,0] 출력\n",
        "for i in range(3,-1,-1):    # 2에서 시작해서 -1까지 -1step으로 출력\n",
        "  print(i)\n",
        "\n",
        "list( (range(3,-1,-1)) )"
      ],
      "metadata": {
        "colab": {
          "base_uri": "https://localhost:8080/"
        },
        "id": "3q5oWHxBpVZ0",
        "outputId": "59fb0853-76db-481a-e576-fa0b02f90e82"
      },
      "execution_count": null,
      "outputs": [
        {
          "output_type": "stream",
          "name": "stdout",
          "text": [
            "3\n",
            "2\n",
            "1\n",
            "0\n"
          ]
        },
        {
          "output_type": "execute_result",
          "data": {
            "text/plain": [
              "[3, 2, 1, 0]"
            ]
          },
          "metadata": {},
          "execution_count": 16
        }
      ]
    },
    {
      "cell_type": "code",
      "source": [
        "#7-2. while문으로 출력\n",
        "num = 3\n",
        "while num > -1:\n",
        "  print(num)\n",
        "  num -= 1\n",
        "list( (range(3,-1,-1)) )"
      ],
      "metadata": {
        "colab": {
          "base_uri": "https://localhost:8080/"
        },
        "id": "hpjamV_Uq8pH",
        "outputId": "fe25cabd-9d62-4b8c-adfb-668f0f19d500"
      },
      "execution_count": null,
      "outputs": [
        {
          "output_type": "stream",
          "name": "stdout",
          "text": [
            "3\n",
            "2\n",
            "1\n",
            "0\n"
          ]
        },
        {
          "output_type": "execute_result",
          "data": {
            "text/plain": [
              "[3, 2, 1, 0]"
            ]
          },
          "metadata": {},
          "execution_count": 18
        }
      ]
    },
    {
      "cell_type": "code",
      "source": [
        "#8. guess_me 변수에 7을 할당, number 변수에 1을 할당. number와 guess_me를 비교하는 while문을 작성. number가 guess_me보다 작으면 'too low'를 출력.\n",
        "# number와 guess_me가 같으면 'found it!'을 출력하고 반복문을 종료. number가 guess_me보다 크면 'oops'를 출력하고 반복문을 종료. \n",
        "# 반복문의 마지막에 number를 1씩 증가시킨다.\n",
        "\n",
        "guess_me = 7\n",
        "number = 1\n",
        "\n",
        "while True:\n",
        "  if number < guess_me:\n",
        "    print('too low')\n",
        "  elif number == guess_me:\n",
        "    print('found it!')\n",
        "    break\n",
        "  else:\n",
        "    print('oops')\n",
        "    break\n",
        "  number += 1"
      ],
      "metadata": {
        "colab": {
          "base_uri": "https://localhost:8080/"
        },
        "id": "9z-lPeGQrfKD",
        "outputId": "3fa006f4-f2ff-4e07-8288-3780fa495285"
      },
      "execution_count": null,
      "outputs": [
        {
          "output_type": "stream",
          "name": "stdout",
          "text": [
            "too low\n",
            "too low\n",
            "too low\n",
            "too low\n",
            "too low\n",
            "too low\n",
            "found it!\n"
          ]
        }
      ]
    },
    {
      "cell_type": "code",
      "source": [
        "# 9. guess_me 변수에 5를 할당, for문을 사용하여 range(10)에서 number 변수를 사용. number가 guess_me보다 작으면 'too low'를 출력.\n",
        "# number와 guess_me가 같으면 'found it!'을 출력하고 반복문을 종료.\n",
        "# number가 guess_me보다 크면 'oops'를 출력하고 반복문을 종료.\n",
        "\n",
        "guess_me = 5\n",
        "\n",
        "for number in range(10):\n",
        "  if number < guess_me:\n",
        "    print('too low')\n",
        "  elif number == guess_me:\n",
        "    print('found it!')\n",
        "    break\n",
        "  else:\n",
        "    print('oops')\n",
        "    break"
      ],
      "metadata": {
        "colab": {
          "base_uri": "https://localhost:8080/"
        },
        "id": "UBpYoHuBshUg",
        "outputId": "8d024ce8-555e-4489-ee4b-281977120cef"
      },
      "execution_count": 26,
      "outputs": [
        {
          "output_type": "stream",
          "name": "stdout",
          "text": [
            "too low\n",
            "too low\n",
            "too low\n",
            "too low\n",
            "too low\n",
            "found it!\n"
          ]
        }
      ]
    },
    {
      "cell_type": "code",
      "source": [
        "# 9번을 while문으로 해결하기\n",
        "\n",
        "guess_me = 5\n",
        "number = 0\n",
        "\n",
        "while number < 10:\n",
        "  if number < guess_me:\n",
        "    print('too low')\n",
        "  elif number == guess_me:\n",
        "    print('found it!')\n",
        "    break\n",
        "  else:\n",
        "    print('oops')\n",
        "    break\n",
        "  number += 1"
      ],
      "metadata": {
        "id": "JdGWQuOpt7mr",
        "colab": {
          "base_uri": "https://localhost:8080/"
        },
        "outputId": "ce0bbbc9-2eae-496b-9cbd-32ca8c673055"
      },
      "execution_count": 27,
      "outputs": [
        {
          "output_type": "stream",
          "name": "stdout",
          "text": [
            "too low\n",
            "too low\n",
            "too low\n",
            "too low\n",
            "too low\n",
            "found it!\n"
          ]
        }
      ]
    },
    {
      "cell_type": "markdown",
      "source": [
        "## 3. NLTK: Corpus\n",
        "- 자연어 분석 작업을 위해 만든 샘플 문서 집합\n",
        "- 다양한 종류의 코퍼스가 있다.\n",
        "- 더 다양한 언어 분석 가능\n",
        "\n",
        "- 종류\n",
        "  - gutenberg: 저작권 말소된 문학작품 포함\n",
        "  - brown\n",
        "  - inaugural\n",
        "\n",
        "- 함수\n",
        "  - words(): 해당 텍스트에 담긴 단어를 리스트 형태로 보여줌\n",
        "  - sents(): 해당 텍스트에 담긴 문장을 단어의 단위로 끊어서 리스트에 담아 보여줌\n",
        "  - fileids(): 해당 nltk corpus에 담긴 작품의 제목 볼 수 있음.\n",
        "     - ex) nltk.corpus.gutenberg.fileids()\n",
        "  - raw(): 해당 텍스트의 내용을 보여줌\n",
        "     - ex) gutenberg.raw('austen-emma.txt')"
      ],
      "metadata": {
        "id": "vrRwId5jWsgF"
      }
    },
    {
      "cell_type": "markdown",
      "source": [
        "### 3-1. gutenberg\n"
      ],
      "metadata": {
        "id": "k99EimQt5i_W"
      }
    },
    {
      "cell_type": "code",
      "source": [
        "import nltk\n",
        "from nltk.corpus import gutenberg\n",
        "nltk.download('gutenberg', quiet = True)"
      ],
      "metadata": {
        "colab": {
          "base_uri": "https://localhost:8080/"
        },
        "id": "w2Li_oybW6pF",
        "outputId": "ec09c131-329f-4037-b2bd-4d1fb560ac10"
      },
      "execution_count": 2,
      "outputs": [
        {
          "output_type": "execute_result",
          "data": {
            "text/plain": [
              "True"
            ]
          },
          "metadata": {},
          "execution_count": 2
        }
      ]
    },
    {
      "cell_type": "code",
      "source": [
        "gutenberg.fileids()"
      ],
      "metadata": {
        "colab": {
          "base_uri": "https://localhost:8080/"
        },
        "id": "jtyZtjh1XKIe",
        "outputId": "2e99500a-073e-49db-ff39-d934398acb7c"
      },
      "execution_count": 29,
      "outputs": [
        {
          "output_type": "execute_result",
          "data": {
            "text/plain": [
              "['austen-emma.txt',\n",
              " 'austen-persuasion.txt',\n",
              " 'austen-sense.txt',\n",
              " 'bible-kjv.txt',\n",
              " 'blake-poems.txt',\n",
              " 'bryant-stories.txt',\n",
              " 'burgess-busterbrown.txt',\n",
              " 'carroll-alice.txt',\n",
              " 'chesterton-ball.txt',\n",
              " 'chesterton-brown.txt',\n",
              " 'chesterton-thursday.txt',\n",
              " 'edgeworth-parents.txt',\n",
              " 'melville-moby_dick.txt',\n",
              " 'milton-paradise.txt',\n",
              " 'shakespeare-caesar.txt',\n",
              " 'shakespeare-hamlet.txt',\n",
              " 'shakespeare-macbeth.txt',\n",
              " 'whitman-leaves.txt']"
            ]
          },
          "metadata": {},
          "execution_count": 29
        }
      ]
    },
    {
      "cell_type": "code",
      "source": [
        "gutenberg.words('austen-emma.txt')   # 여러 개 출력하고 싶으면 리스트 형태로"
      ],
      "metadata": {
        "colab": {
          "base_uri": "https://localhost:8080/"
        },
        "id": "gy7qdKrgXQXU",
        "outputId": "a821c5b6-0a39-406c-8d6f-d732e6c890cf"
      },
      "execution_count": null,
      "outputs": [
        {
          "output_type": "execute_result",
          "data": {
            "text/plain": [
              "['[', 'Emma', 'by', 'Jane', 'Austen', '1816', ']', ...]"
            ]
          },
          "metadata": {},
          "execution_count": 3
        }
      ]
    },
    {
      "cell_type": "code",
      "source": [
        "gutenberg.sents('austen-emma.txt')"
      ],
      "metadata": {
        "colab": {
          "base_uri": "https://localhost:8080/"
        },
        "id": "XNP_RN6x9uJr",
        "outputId": "2efee803-0a5c-4e94-88fc-495a9c966671"
      },
      "execution_count": 32,
      "outputs": [
        {
          "output_type": "execute_result",
          "data": {
            "text/plain": [
              "[['[', 'Emma', 'by', 'Jane', 'Austen', '1816', ']'], ['VOLUME', 'I'], ...]"
            ]
          },
          "metadata": {},
          "execution_count": 32
        }
      ]
    },
    {
      "cell_type": "code",
      "source": [
        "emma_raw = gutenberg.raw('austen-emma.txt')   # nltk.corpus.gutenberg.raw라고 입력할 수도 있음\n",
        "# emma_raw  -> (텍스트가 길어 출력은 따로 하지 않음)"
      ],
      "metadata": {
        "id": "3ANp7RsY85SA"
      },
      "execution_count": 3,
      "outputs": []
    },
    {
      "cell_type": "code",
      "source": [
        "# 구텐버그의 각 파일을 돌아가면서 글자 수, 단어 수, 문장 수를 출력합니다.\n",
        "'''\n",
        "austen-emma | 글자 수 = 12개, 단어 수 = 14개, 문장 수 = 15개\n",
        "...\n",
        "'''"
      ],
      "metadata": {
        "colab": {
          "base_uri": "https://localhost:8080/",
          "height": 36
        },
        "id": "5x6pU5DXX0qd",
        "outputId": "8a7d1cb0-de41-4505-87a4-8c72d7673fcc"
      },
      "execution_count": null,
      "outputs": [
        {
          "output_type": "execute_result",
          "data": {
            "text/plain": [
              "'\\nausten-emma | 글자 수 = 12개, 단어 수 = 14개, 문장 수 = 15개\\n...\\n'"
            ],
            "application/vnd.google.colaboratory.intrinsic+json": {
              "type": "string"
            }
          },
          "metadata": {},
          "execution_count": 5
        }
      ]
    },
    {
      "cell_type": "code",
      "source": [
        "for txt in gutenberg.fileids():\n",
        "  letter = len(gutenberg.raw(txt))\n",
        "  word = len(gutenberg.words(txt))\n",
        "  sent = len(gutenberg.sents(txt))\n",
        "  print(f'{txt[:]} | 글자 수 = {letter}개, 단어 수 = {word}개, 문장 수 = {sent}개')"
      ],
      "metadata": {
        "id": "dH_xDBxtcQD6",
        "colab": {
          "base_uri": "https://localhost:8080/"
        },
        "outputId": "3326ab83-84c8-4c7a-965e-ec79099d5030"
      },
      "execution_count": 42,
      "outputs": [
        {
          "output_type": "stream",
          "name": "stdout",
          "text": [
            "austen-emma.txt | 글자 수 = 887071개, 단어 수 = 192427개, 문장 수 = 7752개\n",
            "austen-persuasion.txt | 글자 수 = 466292개, 단어 수 = 98171개, 문장 수 = 3747개\n",
            "austen-sense.txt | 글자 수 = 673022개, 단어 수 = 141576개, 문장 수 = 4999개\n",
            "bible-kjv.txt | 글자 수 = 4332554개, 단어 수 = 1010654개, 문장 수 = 30103개\n",
            "blake-poems.txt | 글자 수 = 38153개, 단어 수 = 8354개, 문장 수 = 438개\n",
            "bryant-stories.txt | 글자 수 = 249439개, 단어 수 = 55563개, 문장 수 = 2863개\n",
            "burgess-busterbrown.txt | 글자 수 = 84663개, 단어 수 = 18963개, 문장 수 = 1054개\n",
            "carroll-alice.txt | 글자 수 = 144395개, 단어 수 = 34110개, 문장 수 = 1703개\n",
            "chesterton-ball.txt | 글자 수 = 457450개, 단어 수 = 96996개, 문장 수 = 4779개\n",
            "chesterton-brown.txt | 글자 수 = 406629개, 단어 수 = 86063개, 문장 수 = 3806개\n",
            "chesterton-thursday.txt | 글자 수 = 320525개, 단어 수 = 69213개, 문장 수 = 3742개\n",
            "edgeworth-parents.txt | 글자 수 = 935158개, 단어 수 = 210663개, 문장 수 = 10230개\n",
            "melville-moby_dick.txt | 글자 수 = 1242990개, 단어 수 = 260819개, 문장 수 = 10059개\n",
            "milton-paradise.txt | 글자 수 = 468220개, 단어 수 = 96825개, 문장 수 = 1851개\n",
            "shakespeare-caesar.txt | 글자 수 = 112310개, 단어 수 = 25833개, 문장 수 = 2163개\n",
            "shakespeare-hamlet.txt | 글자 수 = 162881개, 단어 수 = 37360개, 문장 수 = 3106개\n",
            "shakespeare-macbeth.txt | 글자 수 = 100351개, 단어 수 = 23140개, 문장 수 = 1907개\n",
            "whitman-leaves.txt | 글자 수 = 711215개, 단어 수 = 154883개, 문장 수 = 4250개\n"
          ]
        }
      ]
    },
    {
      "cell_type": "markdown",
      "source": [
        "#### * nltk book 관련"
      ],
      "metadata": {
        "id": "4aW2mUrvcfvm"
      }
    },
    {
      "cell_type": "code",
      "source": [
        "nltk.download('book', quiet = True)\n",
        "from nltk import book"
      ],
      "metadata": {
        "id": "FK6F0QWdcbDm"
      },
      "execution_count": null,
      "outputs": []
    },
    {
      "cell_type": "code",
      "source": [
        "# texts = [text1, ,,,.]\n",
        "#1. text1=9 => str 'text1'\n",
        "#2. 'text1'에 기능을 부여한다. getattr(library, string_name)"
      ],
      "metadata": {
        "id": "v7NPCxpmco0M"
      },
      "execution_count": null,
      "outputs": []
    },
    {
      "cell_type": "code",
      "source": [
        "texts = [getattr(nltk.book, f'text{i}') for i in range(1, 10)] \n",
        "texts"
      ],
      "metadata": {
        "colab": {
          "base_uri": "https://localhost:8080/"
        },
        "id": "8K8slhqNdi-2",
        "outputId": "0caf4786-8fbd-4ab7-a178-fb16679e30c0"
      },
      "execution_count": null,
      "outputs": [
        {
          "output_type": "execute_result",
          "data": {
            "text/plain": [
              "[<Text: Moby Dick by Herman Melville 1851>,\n",
              " <Text: Sense and Sensibility by Jane Austen 1811>,\n",
              " <Text: The Book of Genesis>,\n",
              " <Text: Inaugural Address Corpus>,\n",
              " <Text: Chat Corpus>,\n",
              " <Text: Monty Python and the Holy Grail>,\n",
              " <Text: Wall Street Journal>,\n",
              " <Text: Personals Corpus>,\n",
              " <Text: The Man Who Was Thursday by G . K . Chesterton 1908>]"
            ]
          },
          "metadata": {},
          "execution_count": 13
        }
      ]
    },
    {
      "cell_type": "code",
      "source": [
        "texts[1]"
      ],
      "metadata": {
        "colab": {
          "base_uri": "https://localhost:8080/"
        },
        "id": "Jx8th3x2d0J9",
        "outputId": "10ddb5f1-4c6b-4fc4-b97d-f5bda78f57f0"
      },
      "execution_count": null,
      "outputs": [
        {
          "output_type": "execute_result",
          "data": {
            "text/plain": [
              "<Text: Sense and Sensibility by Jane Austen 1811>"
            ]
          },
          "metadata": {},
          "execution_count": 14
        }
      ]
    },
    {
      "cell_type": "code",
      "source": [
        "gutenberg.words()"
      ],
      "metadata": {
        "colab": {
          "base_uri": "https://localhost:8080/"
        },
        "id": "EhG-gT7mefa_",
        "outputId": "f595368e-a138-4a00-a3a1-e563102ac725"
      },
      "execution_count": null,
      "outputs": [
        {
          "output_type": "execute_result",
          "data": {
            "text/plain": [
              "['[', 'Emma', 'by', 'Jane', 'Austen', '1816', ']', ...]"
            ]
          },
          "metadata": {},
          "execution_count": 17
        }
      ]
    },
    {
      "cell_type": "code",
      "source": [
        "corpus1 = gutenberg.words(fileids = 'whitman-leaves.txt')\n",
        "fdist = nltk.FreqDist([w.lower() for w in corpus1])"
      ],
      "metadata": {
        "id": "F2VGVbqfcu-Z"
      },
      "execution_count": null,
      "outputs": []
    },
    {
      "cell_type": "code",
      "source": [
        "fdist['tree']"
      ],
      "metadata": {
        "colab": {
          "base_uri": "https://localhost:8080/"
        },
        "id": "KwJwVrg5c7a-",
        "outputId": "0ad4980e-ee03-493c-e229-76a780b14009"
      },
      "execution_count": null,
      "outputs": [
        {
          "output_type": "execute_result",
          "data": {
            "text/plain": [
              "28"
            ]
          },
          "metadata": {},
          "execution_count": 11
        }
      ]
    },
    {
      "cell_type": "markdown",
      "source": [
        "### 3-2. Brown (브라운대학에서 만듦)\n",
        "- categories()"
      ],
      "metadata": {
        "id": "FJUjOXq7eMUO"
      }
    },
    {
      "cell_type": "code",
      "source": [
        "# from nltk.corpus import brown\n",
        "nltk.download('brown')\n",
        "brown_corpus = nltk.corpus.brown"
      ],
      "metadata": {
        "colab": {
          "base_uri": "https://localhost:8080/"
        },
        "id": "xlEjz-PCc_Ft",
        "outputId": "64799902-fddd-431b-bc37-9620d9e2bc66"
      },
      "execution_count": null,
      "outputs": [
        {
          "output_type": "stream",
          "name": "stdout",
          "text": [
            "[nltk_data] Downloading package brown to /root/nltk_data...\n",
            "[nltk_data]   Package brown is already up-to-date!\n"
          ]
        }
      ]
    },
    {
      "cell_type": "code",
      "source": [
        "humor = brown_corpus.words(categories = 'humor')"
      ],
      "metadata": {
        "id": "AtTXlxInexU1"
      },
      "execution_count": null,
      "outputs": []
    },
    {
      "cell_type": "code",
      "source": [
        "# modal verbs의 쓰임\n",
        "modals = ['can', ' could', 'may', 'might', 'will', 'would']\n",
        "\n",
        "fdist_brown = nltk.FreqDist([w.lower() for w in humor])\n",
        "for verb in modals:\n",
        "  print(verb, fdist_brown[verb])"
      ],
      "metadata": {
        "colab": {
          "base_uri": "https://localhost:8080/"
        },
        "id": "eoGdCEsEe0e_",
        "outputId": "eec82b90-abc3-4330-8483-9eb1daff7d2f"
      },
      "execution_count": null,
      "outputs": [
        {
          "output_type": "stream",
          "name": "stdout",
          "text": [
            "can 17\n",
            " could 0\n",
            "may 8\n",
            "might 8\n",
            "will 13\n",
            "would 56\n"
          ]
        }
      ]
    },
    {
      "cell_type": "markdown",
      "source": [
        "### 3-3. conditional frequency distribution(CFD)\n",
        "- 조건이 붙은 fdist"
      ],
      "metadata": {
        "id": "8idRiDmKe56P"
      }
    },
    {
      "cell_type": "code",
      "source": [
        "cfd = nltk.ConditionalFreqDist(\n",
        "    # genre에 따른 fdist\n",
        "    (genre, word.lower())\n",
        "    for genre in brown_corpus.categories()\n",
        "    for word in brown_corpus.words(categories = genre)\n",
        ")"
      ],
      "metadata": {
        "id": "mPia6-o9e4aR"
      },
      "execution_count": null,
      "outputs": []
    },
    {
      "cell_type": "code",
      "source": [
        "cfd['adventure'].most_common(10)"
      ],
      "metadata": {
        "colab": {
          "base_uri": "https://localhost:8080/"
        },
        "id": "eOb20Y5tfCl-",
        "outputId": "ad732d11-c5e9-420c-8548-58c3f1265f67"
      },
      "execution_count": null,
      "outputs": [
        {
          "output_type": "execute_result",
          "data": {
            "text/plain": [
              "[('.', 4057),\n",
              " ('the', 3780),\n",
              " (',', 3488),\n",
              " ('and', 1706),\n",
              " ('a', 1432),\n",
              " ('of', 1327),\n",
              " ('to', 1322),\n",
              " ('he', 1283),\n",
              " ('``', 998),\n",
              " (\"''\", 995)]"
            ]
          },
          "metadata": {},
          "execution_count": 22
        }
      ]
    },
    {
      "cell_type": "code",
      "source": [
        "cfd.tabulate(conditions =brown_corpus.categories()[:3], samples = modals)"
      ],
      "metadata": {
        "colab": {
          "base_uri": "https://localhost:8080/"
        },
        "id": "1nmnjTINfE7T",
        "outputId": "025e6a37-bfc9-4a13-f1c0-c54856dd8e17"
      },
      "execution_count": null,
      "outputs": [
        {
          "output_type": "stream",
          "name": "stdout",
          "text": [
            "                  can  could    may  might   will  would \n",
            "     adventure     48      0      7     59     51    194 \n",
            "belles_lettres    249      0    221    113    246    397 \n",
            "     editorial    124      0     79     39    235    185 \n"
          ]
        }
      ]
    }
  ]
}