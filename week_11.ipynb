{
  "nbformat": 4,
  "nbformat_minor": 0,
  "metadata": {
    "colab": {
      "name": "week_11.ipynb",
      "provenance": [],
      "collapsed_sections": [],
      "authorship_tag": "ABX9TyMnXBbQJt7c0dF3dBzbH9yO",
      "include_colab_link": true
    },
    "kernelspec": {
      "name": "python3",
      "display_name": "Python 3"
    },
    "language_info": {
      "name": "python"
    }
  },
  "cells": [
    {
      "cell_type": "markdown",
      "metadata": {
        "id": "view-in-github",
        "colab_type": "text"
      },
      "source": [
        "<a href=\"https://colab.research.google.com/github/HUFS-Programming-2022/Hyeryeong_202103342/blob/main/week_11.ipynb\" target=\"_parent\"><img src=\"https://colab.research.google.com/assets/colab-badge.svg\" alt=\"Open In Colab\"/></a>"
      ]
    },
    {
      "cell_type": "markdown",
      "source": [
        "# 고급파이썬프로그래밍_11주차(0513)\n"
      ],
      "metadata": {
        "id": "UB8rWPTAu2JC"
      }
    },
    {
      "cell_type": "markdown",
      "source": [
        "# CH10. Object & Class\n",
        "## 1. 상속 | inheritance\n",
        "- 코드에서 신경을 써야 할 것-> 반복 피하기, 효율성, 속도, ...\n",
        "### 1-1. 개념\n",
        "- 이전 클래스의 내용을 추가, 변경해야 할 경우\n",
        "- 코드 재사용에 유용\n",
        "- 기준: vehicle, parent, super, base, **부모클래스**\n",
        "   -> 상속 받는 클래스: child, sub, derived, **자식클래스**\n",
        "- ex. Vehicle <- Car\n",
        "   - 부모 클래스를 자식클래스가 구체화시킨다.\n",
        "   - 부모 클래스는 상위 개념 -> 더 일반적이어야 함\n",
        "   - is-a: Car is-a-Vehicle\n",
        "   - has-a: Notebook has-a-note\n"
      ],
      "metadata": {
        "id": "NfIYmrQzAXYF"
      }
    },
    {
      "cell_type": "code",
      "source": [
        "class Vehicle:\n",
        "  def __init__(self, speed):\n",
        "    self.speed = speed\n",
        "\n",
        "  def go(self):\n",
        "    print(f'{self.speed}의 속력으로 달린다.')\n",
        "\n",
        "# 자식클래스\n",
        "class Car(Vehicle):\n",
        "  pass"
      ],
      "metadata": {
        "id": "wL8Ih1tnBQjL"
      },
      "execution_count": 46,
      "outputs": []
    },
    {
      "cell_type": "code",
      "source": [
        "car = Car('15km/h')"
      ],
      "metadata": {
        "id": "G_fp_5YDBg_v"
      },
      "execution_count": 47,
      "outputs": []
    },
    {
      "cell_type": "code",
      "source": [
        "car.go()"
      ],
      "metadata": {
        "colab": {
          "base_uri": "https://localhost:8080/"
        },
        "id": "c6qgR2-MBo_a",
        "outputId": "feaa12f9-3496-41af-be7f-7eec27c67045"
      },
      "execution_count": 48,
      "outputs": [
        {
          "output_type": "stream",
          "name": "stdout",
          "text": [
            "15km/h의 속력으로 달린다.\n"
          ]
        }
      ]
    },
    {
      "cell_type": "markdown",
      "source": [
        "### 1-2. 추가, 변경\n",
        "- 속성(변수)"
      ],
      "metadata": {
        "id": "Tx0DgNywCVHW"
      }
    },
    {
      "cell_type": "code",
      "source": [
        "class Car(Vehicle):\n",
        "  def __init__(self, speed, brand):\n",
        "    # self.speed = speed\n",
        "    super().__init__(speed)   # 부모 클래스에 접근(선택적 인수 설정하기)\n",
        "    self.brand = brand   # 추가한 변수\n",
        "    # self == 나 자신, super() == 부모"
      ],
      "metadata": {
        "id": "7VRGoD7wCUS3"
      },
      "execution_count": 49,
      "outputs": []
    },
    {
      "cell_type": "code",
      "source": [
        "car2 = Car('14km/h', 'kia')"
      ],
      "metadata": {
        "id": "1jgFzXzmCn9R"
      },
      "execution_count": 5,
      "outputs": []
    },
    {
      "cell_type": "code",
      "source": [
        "car2.speed"
      ],
      "metadata": {
        "colab": {
          "base_uri": "https://localhost:8080/",
          "height": 36
        },
        "id": "AZKm2Lt6Ctst",
        "outputId": "14c86180-19f7-4629-f263-21798cc74e58"
      },
      "execution_count": 6,
      "outputs": [
        {
          "output_type": "execute_result",
          "data": {
            "text/plain": [
              "'14km/h'"
            ],
            "application/vnd.google.colaboratory.intrinsic+json": {
              "type": "string"
            }
          },
          "metadata": {},
          "execution_count": 6
        }
      ]
    },
    {
      "cell_type": "code",
      "source": [
        "car2.go()"
      ],
      "metadata": {
        "colab": {
          "base_uri": "https://localhost:8080/"
        },
        "id": "h5CE7zygF6_M",
        "outputId": "7bea0927-7bf6-4454-880d-3557d9c09a8c"
      },
      "execution_count": 7,
      "outputs": [
        {
          "output_type": "stream",
          "name": "stdout",
          "text": [
            "14km/h의 속력으로 달린다.\n"
          ]
        }
      ]
    },
    {
      "cell_type": "code",
      "source": [
        "v = Vehicle('15km/h')\n",
        "# v.brand\n",
        "# 부모클래스는 자식클래스 사용 못함\n",
        "# 자식클래스는 부모클래스 모두 사용 가능"
      ],
      "metadata": {
        "id": "dlOqQ3ZLLPWR"
      },
      "execution_count": 8,
      "outputs": []
    },
    {
      "cell_type": "markdown",
      "source": [
        "- 메서드 변경 => 오버라이드(override), 재정의"
      ],
      "metadata": {
        "id": "Xc_QXvZWC6vO"
      }
    },
    {
      "cell_type": "code",
      "source": [
        "class Car(Vehicle):    # 부모클래스의 차별성을 가지게 되는 부분에 주목할 것!\n",
        "  def __init__(self, speed, brand):\n",
        "    super().__init__(speed)  # 선택적 인수 설정하기\n",
        "    self.brand = brand\n",
        "\n",
        "  def go(self):   # override\n",
        "    # 부모의 go도 같이 타고 싶다.\n",
        "    super().go()\n",
        "    print(f'차종은 {self.brand}')\n",
        "\n",
        "  def stop(self):    # 부모클래스에 없는 메소드\n",
        "    print('차가 멈춘다.')"
      ],
      "metadata": {
        "id": "AQua3D1XDgBy"
      },
      "execution_count": 9,
      "outputs": []
    },
    {
      "cell_type": "code",
      "source": [
        "car3 = Car('15km/h', 'nissan')\n",
        "car3.go()\n",
        "car3.stop()"
      ],
      "metadata": {
        "colab": {
          "base_uri": "https://localhost:8080/"
        },
        "id": "TtzzM5KWDRWz",
        "outputId": "2bb8325c-f80a-4d0a-a48a-2b721126a2c9"
      },
      "execution_count": 10,
      "outputs": [
        {
          "output_type": "stream",
          "name": "stdout",
          "text": [
            "15km/h의 속력으로 달린다.\n",
            "차종은 nissan\n",
            "차가 멈춘다.\n"
          ]
        }
      ]
    },
    {
      "cell_type": "code",
      "source": [
        "# 교재 실습\n",
        "class Clock():\n",
        "  def __init__(self, shape):\n",
        "    self.shape = shape\n",
        "\n",
        "class Clocks(Clock):\n",
        "  def __init__(self, shape, color):\n",
        "    super().__init__(shape)\n",
        "    self.color = color\n",
        "\n",
        "a_clock = Clocks('round', 'black')\n",
        "a_clock.shape, a_clock.color"
      ],
      "metadata": {
        "colab": {
          "base_uri": "https://localhost:8080/"
        },
        "id": "v71TpOUcSxsd",
        "outputId": "fd58848f-7e62-49b7-e445-15b0294b3617"
      },
      "execution_count": 57,
      "outputs": [
        {
          "output_type": "execute_result",
          "data": {
            "text/plain": [
              "('round', 'black')"
            ]
          },
          "metadata": {},
          "execution_count": 57
        }
      ]
    },
    {
      "cell_type": "code",
      "source": [
        "# 왜 자식 클래스를 다음과 같이 정의하지 않을까? -> 상속의 이점을 활용할 수 없기 때문!\n",
        "class Clocks(Clock):\n",
        "  def __init__(self, shape, color):\n",
        "    self.shape = shape\n",
        "    self.color = color"
      ],
      "metadata": {
        "id": "ILv5c-80UgeH"
      },
      "execution_count": 58,
      "outputs": []
    },
    {
      "cell_type": "markdown",
      "source": [
        "#### 실습:"
      ],
      "metadata": {
        "id": "aVq94JJ4GvNW"
      }
    },
    {
      "cell_type": "code",
      "source": [
        "class Person:\n",
        "  # name\n",
        "  def __init__(self, name):\n",
        "    self.name = name\n",
        "\n",
        "class Doctor(Person):\n",
        "  # 'Dr.name'\n",
        "  def __init__(self, name):\n",
        "    super().__init__('Dr.' + name)   # f'Dr. {name}'\n",
        "\n",
        "class Male(Person):\n",
        "  # 'Mr.name'\n",
        "  def __init__(self, name):\n",
        "    super().__init__(f'Mr.{name}')\n",
        "\n",
        "class Female(Person):\n",
        "  # 'Mrs.name'\n",
        "  def __init__(self, name):\n",
        "    super().__init__(f'Mrs.{name}')\n",
        "\n",
        "'''\n",
        "Person <- Doctor (상속)\n",
        "       <- Female\n",
        "       <- Male\n",
        "'''"
      ],
      "metadata": {
        "id": "tzuX3lSoGubK",
        "colab": {
          "base_uri": "https://localhost:8080/",
          "height": 36
        },
        "outputId": "744d09e6-2d8a-4fd2-ffab-2ec3ffca2cbc"
      },
      "execution_count": 11,
      "outputs": [
        {
          "output_type": "execute_result",
          "data": {
            "text/plain": [
              "'\\nPerson <- Doctor (상속)\\n       <- Female\\n       <- Male\\n'"
            ],
            "application/vnd.google.colaboratory.intrinsic+json": {
              "type": "string"
            }
          },
          "metadata": {},
          "execution_count": 11
        }
      ]
    },
    {
      "cell_type": "code",
      "source": [
        "Doctor('Cho').name"
      ],
      "metadata": {
        "colab": {
          "base_uri": "https://localhost:8080/",
          "height": 36
        },
        "id": "TOSfm78WrPg1",
        "outputId": "537ab752-deda-4a2d-a065-509d26a5e5ed"
      },
      "execution_count": 12,
      "outputs": [
        {
          "output_type": "execute_result",
          "data": {
            "text/plain": [
              "'Dr.Cho'"
            ],
            "application/vnd.google.colaboratory.intrinsic+json": {
              "type": "string"
            }
          },
          "metadata": {},
          "execution_count": 12
        }
      ]
    },
    {
      "cell_type": "code",
      "source": [
        "Female('Son').name"
      ],
      "metadata": {
        "colab": {
          "base_uri": "https://localhost:8080/",
          "height": 36
        },
        "id": "Ntv_t3fhsajt",
        "outputId": "a4b74363-b937-4fc4-aa67-86640905d624"
      },
      "execution_count": 13,
      "outputs": [
        {
          "output_type": "execute_result",
          "data": {
            "text/plain": [
              "'Mrs.Son'"
            ],
            "application/vnd.google.colaboratory.intrinsic+json": {
              "type": "string"
            }
          },
          "metadata": {},
          "execution_count": 13
        }
      ]
    },
    {
      "cell_type": "markdown",
      "source": [
        "### 1-3. 다중 상속\n",
        "- method resolution order (MRO)\n",
        "- ex. Animal <- Horse\n",
        "              <- Donkey\n",
        "                   <- Mule(donkey > horse)\n",
        "                   <- Hinny(horse > donkey)"
      ],
      "metadata": {
        "id": "y8_L6PniKiko"
      }
    },
    {
      "cell_type": "code",
      "source": [
        "class Animal:\n",
        "  def says(self):\n",
        "    return '동물이 운다'\n",
        "\n",
        "# --------------------------------child\n",
        "class Horse(Animal):\n",
        "  def says(self):\n",
        "    return '히히힝'\n",
        "\n",
        "class Donkey(Animal):\n",
        "  def says(self):\n",
        "    return '히이호'\n",
        "\n",
        "# --------------------------------grandchild\n",
        "# 먼저 쓰인 부모클래스가 더 가까움.\n",
        "class Mule(Donkey, Horse):\n",
        "  pass\n",
        "\n",
        "class Hinny(Horse, Donkey):\n",
        "  pass"
      ],
      "metadata": {
        "id": "YtM4GwiJK4l4"
      },
      "execution_count": 14,
      "outputs": []
    },
    {
      "cell_type": "code",
      "source": [
        "Mule().says()   # 히이호"
      ],
      "metadata": {
        "colab": {
          "base_uri": "https://localhost:8080/",
          "height": 36
        },
        "id": "HSa3PEOJLdNX",
        "outputId": "d8316077-5247-470a-e9c6-87ff843d02f0"
      },
      "execution_count": 15,
      "outputs": [
        {
          "output_type": "execute_result",
          "data": {
            "text/plain": [
              "'히이호'"
            ],
            "application/vnd.google.colaboratory.intrinsic+json": {
              "type": "string"
            }
          },
          "metadata": {},
          "execution_count": 15
        }
      ]
    },
    {
      "cell_type": "code",
      "source": [
        "Hinny().says()   # 히히힝"
      ],
      "metadata": {
        "colab": {
          "base_uri": "https://localhost:8080/",
          "height": 36
        },
        "id": "Azx-H6z5LgM_",
        "outputId": "ac7a374d-e8a3-4a25-c301-705e50447bad"
      },
      "execution_count": 16,
      "outputs": [
        {
          "output_type": "execute_result",
          "data": {
            "text/plain": [
              "'히히힝'"
            ],
            "application/vnd.google.colaboratory.intrinsic+json": {
              "type": "string"
            }
          },
          "metadata": {},
          "execution_count": 16
        }
      ]
    },
    {
      "cell_type": "code",
      "source": [
        "Mule.mro()"
      ],
      "metadata": {
        "id": "MSOy82LTLi_g",
        "colab": {
          "base_uri": "https://localhost:8080/"
        },
        "outputId": "54641752-76e5-4890-8c61-53cbb0d1a995"
      },
      "execution_count": 17,
      "outputs": [
        {
          "output_type": "execute_result",
          "data": {
            "text/plain": [
              "[__main__.Mule, __main__.Donkey, __main__.Horse, __main__.Animal, object]"
            ]
          },
          "metadata": {},
          "execution_count": 17
        }
      ]
    },
    {
      "cell_type": "markdown",
      "source": [
        "### 1-4. 다형성 | duck typing\n",
        "- 클래스에 상관없이 같은 동작을 다른 객체에 적용 가능\n",
        "- 다른 객체임에도 똑같은 메서드를 가지고 있기 때문에 '.'으로 접근할 수 있음."
      ],
      "metadata": {
        "id": "MFRVMQvqtnAx"
      }
    },
    {
      "cell_type": "code",
      "source": [
        "for animal in [Animal(), Horse(), Mule()]:\n",
        "  print(animal.says())"
      ],
      "metadata": {
        "colab": {
          "base_uri": "https://localhost:8080/"
        },
        "id": "RnXqzUFfuK4M",
        "outputId": "0b177189-ae9e-4296-aed4-d2cf9969b1d0"
      },
      "execution_count": 18,
      "outputs": [
        {
          "output_type": "stream",
          "name": "stdout",
          "text": [
            "동물이 운다\n",
            "히히힝\n",
            "히이호\n"
          ]
        }
      ]
    },
    {
      "cell_type": "markdown",
      "source": [
        "\n",
        "\n",
        "---\n",
        "\n"
      ],
      "metadata": {
        "id": "CMYr0kcKSGZ_"
      }
    },
    {
      "cell_type": "markdown",
      "source": [
        "## 2. 메서드\n",
        "- 인스턴스 메서드:\n",
        "   - 첫 번쨰 인수가 self인 메서드\n",
        "   - 우리가 지금까지 배운 메서드\n",
        "   - 객체 생성 -> 사용 가능\n",
        "- 클래스 메서드:\n",
        "   - 객체마다 달라지지 않음\n",
        "   - 모든 객체가 공유하는 (클래스) 변수, 메소드\n",
        "   - 예약어: cls\n",
        "   - 데코레이터 @classmethod 사용한다\n",
        "   - 객체 생성하지 않고 메서드에 접근 가능!!\n",
        "- 정적 메서드\n",
        "   - 첫 번째 인수가 self가 아님\n",
        "   - 클래스나 인스턴스에 접근하지 않는 메서드\n",
        "   - 비슷한 유틸리티에서 클래스 내에 묶어둘 때 사용한다\n",
        "   - 객체 생성하지 않고 메서드 접근 가능!\n",
        "- 추상 메서드\n",
        "   - abstract\n",
        "   - @abstractmethod"
      ],
      "metadata": {
        "id": "rmagDMrguYTy"
      }
    },
    {
      "cell_type": "code",
      "source": [
        "# 인스턴스 메서드\n",
        "h = Hinny()\n",
        "h.says()"
      ],
      "metadata": {
        "colab": {
          "base_uri": "https://localhost:8080/",
          "height": 36
        },
        "id": "Nv0INgsPutYk",
        "outputId": "1c53defc-cb30-4702-bdf3-ecbc513be966"
      },
      "execution_count": 19,
      "outputs": [
        {
          "output_type": "execute_result",
          "data": {
            "text/plain": [
              "'히히힝'"
            ],
            "application/vnd.google.colaboratory.intrinsic+json": {
              "type": "string"
            }
          },
          "metadata": {},
          "execution_count": 19
        }
      ]
    },
    {
      "cell_type": "code",
      "source": [
        "# 클래스 메서드\n",
        "class A:\n",
        "  cnt = 0\n",
        "  \n",
        "  @classmethod\n",
        "  def move(cls):    # self, super(), cls\n",
        "    print(cls.cnt)"
      ],
      "metadata": {
        "id": "t_VdlwWFNdRj"
      },
      "execution_count": 20,
      "outputs": []
    },
    {
      "cell_type": "code",
      "source": [
        "A().move()"
      ],
      "metadata": {
        "colab": {
          "base_uri": "https://localhost:8080/"
        },
        "id": "t-ihEO4PNqKQ",
        "outputId": "d3b19cee-663d-4b41-e6c0-30559efe2bfe"
      },
      "execution_count": 21,
      "outputs": [
        {
          "output_type": "stream",
          "name": "stdout",
          "text": [
            "0\n"
          ]
        }
      ]
    },
    {
      "cell_type": "code",
      "source": [
        "class B:\n",
        "  cnt = 0\n",
        "  def __init__(self):\n",
        "    B.cnt += 1\n",
        "    \n",
        "  @classmethod\n",
        "  def count(cls):\n",
        "    # 객체가 생성될 때마다 횟수 증가해서 프린트하기\n",
        "    cls.cnt += 1\n",
        "    print(cls.cnt)"
      ],
      "metadata": {
        "id": "lK6pP3-mN2sH"
      },
      "execution_count": 22,
      "outputs": []
    },
    {
      "cell_type": "code",
      "source": [
        "B()\n",
        "B()\n",
        "B()\n",
        "B().count()   #4"
      ],
      "metadata": {
        "id": "6y-P6BbGPqfa",
        "colab": {
          "base_uri": "https://localhost:8080/"
        },
        "outputId": "755c6dc5-42e8-4596-e392-13d20886ab43"
      },
      "execution_count": 23,
      "outputs": [
        {
          "output_type": "stream",
          "name": "stdout",
          "text": [
            "5\n"
          ]
        }
      ]
    },
    {
      "cell_type": "code",
      "source": [
        "class Person:\n",
        "  def __init__(self, name, age):\n",
        "    self.name = name\n",
        "    self.age = age\n",
        "\n",
        "  @classmethod\n",
        "  def tuple_object(cls, args):\n",
        "    # 튜플로 인자를 받아서 객체 생성하는 메서드 만들기\n",
        "    return cls(args[0], args[1])\n",
        "\n",
        "name = 'hong'\n",
        "age = 24\n",
        "\n",
        "p = Person(name, age)\n",
        "\n",
        "info = name, age\n",
        "p = Person.tuple_object(info)   # 객체 생성하지 않고 메서드에 접근했다."
      ],
      "metadata": {
        "id": "y66sxbEJPvOt"
      },
      "execution_count": 24,
      "outputs": []
    },
    {
      "cell_type": "code",
      "source": [
        "p.name"
      ],
      "metadata": {
        "id": "DGHkNCVuPy6g",
        "colab": {
          "base_uri": "https://localhost:8080/",
          "height": 36
        },
        "outputId": "2505c080-2fd0-483d-c0e1-2f803e78defb"
      },
      "execution_count": 25,
      "outputs": [
        {
          "output_type": "execute_result",
          "data": {
            "text/plain": [
              "'hong'"
            ],
            "application/vnd.google.colaboratory.intrinsic+json": {
              "type": "string"
            }
          },
          "metadata": {},
          "execution_count": 25
        }
      ]
    },
    {
      "cell_type": "code",
      "source": [
        "p.age"
      ],
      "metadata": {
        "id": "obEl2Zy-QTpl",
        "colab": {
          "base_uri": "https://localhost:8080/"
        },
        "outputId": "bc31eeb4-9482-4e84-a081-f1af956245cc"
      },
      "execution_count": 26,
      "outputs": [
        {
          "output_type": "execute_result",
          "data": {
            "text/plain": [
              "24"
            ]
          },
          "metadata": {},
          "execution_count": 26
        }
      ]
    },
    {
      "cell_type": "code",
      "source": [
        "# '@staticmethod' <- 주석 처리 안 되서 작은따옴표로 묶음\n",
        "class Coyote:\n",
        "\n",
        "  @staticmethod   # class 안에 있을 필요 없는 메서드(내용상 비슷해서 class 안에 넣음)\n",
        "  def says(cry):   # self 없음(객체 생성하지 않는 함수) -> 외부에서도 쉽게 쓸 수 있음\n",
        "    return 'hi' + cry\n",
        "\n",
        "Coyote.says()"
      ],
      "metadata": {
        "id": "gDqPfJC-Qu8q",
        "colab": {
          "base_uri": "https://localhost:8080/",
          "height": 36
        },
        "outputId": "88043f41-d2ac-45d0-e46d-974a53e59446"
      },
      "execution_count": 29,
      "outputs": [
        {
          "output_type": "execute_result",
          "data": {
            "text/plain": [
              "'hi'"
            ],
            "application/vnd.google.colaboratory.intrinsic+json": {
              "type": "string"
            }
          },
          "metadata": {},
          "execution_count": 29
        }
      ]
    },
    {
      "cell_type": "code",
      "source": [
        "from abc import *\n",
        "class Vehicle(metaclass = ABCMeta):   # 추상클래스\n",
        "  # 변수에 뭘 넣을지 정의하기\n",
        "  speed = '속도'\n",
        "  \n",
        "  # 자식 클래스가 오버라이드해야 하는 메서드 정의, 구체화하지 않는다.\n",
        "  @abstractmethod\n",
        "  def drive(self):\n",
        "    print('교통수단에 관하여')\n",
        "\n",
        "  def stop(self):\n",
        "    pass\n",
        "\n",
        "  def park(self):\n",
        "    pass\n",
        "    \n",
        "# -----------\n",
        "class Car(Vehicle):\n",
        "  def drive(self):\n",
        "    return super().speed"
      ],
      "metadata": {
        "id": "GQE-6ws4Rm-l"
      },
      "execution_count": 28,
      "outputs": []
    },
    {
      "cell_type": "code",
      "source": [
        "# Car()"
      ],
      "metadata": {
        "id": "ztMEWBvYxwFZ"
      },
      "execution_count": 30,
      "outputs": []
    },
    {
      "cell_type": "markdown",
      "source": [
        "### 메직메서드\n",
        "- `__init__` : special method\n",
        "   \n",
        "- object 클래스 메서드 재정의하는 것\n",
        "   - `__str__`: \n",
        "   - `__repr__`:"
      ],
      "metadata": {
        "id": "puLS3TU2TCAg"
      }
    },
    {
      "cell_type": "code",
      "source": [
        "class Person:\n",
        "  def __init__(self, name):\n",
        "    self.name = name\n",
        "\n",
        "  def __str__(self):\n",
        "    # 인스턴스를 스트링으로 출력: 이름, 메모리주소\n",
        "    # print(인스턴스)했을 때 출력되는 값\n",
        "    return self.name\n",
        "\n",
        "  def __repr__(self):\n",
        "    # 사용자가 이해할 수 있게 객체를 출력하고 싶을 때 사용한다.\n",
        "    return f'Person({self.name})'"
      ],
      "metadata": {
        "id": "xYARg7YiTRN_"
      },
      "execution_count": 31,
      "outputs": []
    },
    {
      "cell_type": "code",
      "source": [
        "p = Person('lee')"
      ],
      "metadata": {
        "id": "9w1_0PHuTWZX"
      },
      "execution_count": 32,
      "outputs": []
    },
    {
      "cell_type": "code",
      "source": [
        "p"
      ],
      "metadata": {
        "id": "QT5NY8sNTZeL",
        "colab": {
          "base_uri": "https://localhost:8080/"
        },
        "outputId": "08a6f088-1c9e-407e-898d-ea6f61d0e362"
      },
      "execution_count": 33,
      "outputs": [
        {
          "output_type": "execute_result",
          "data": {
            "text/plain": [
              "Person(lee)"
            ]
          },
          "metadata": {},
          "execution_count": 33
        }
      ]
    },
    {
      "cell_type": "code",
      "source": [
        "print(p)"
      ],
      "metadata": {
        "id": "ZjT4kC6hTaYF",
        "colab": {
          "base_uri": "https://localhost:8080/"
        },
        "outputId": "da025e61-1357-481d-bdeb-8c2ded0b28f9"
      },
      "execution_count": 34,
      "outputs": [
        {
          "output_type": "stream",
          "name": "stdout",
          "text": [
            "lee\n"
          ]
        }
      ]
    },
    {
      "cell_type": "code",
      "source": [
        "str(p)"
      ],
      "metadata": {
        "id": "pyv6cngnUJmf",
        "colab": {
          "base_uri": "https://localhost:8080/",
          "height": 36
        },
        "outputId": "cc0afead-687e-4d65-fcfe-1b21a4351a5f"
      },
      "execution_count": 35,
      "outputs": [
        {
          "output_type": "execute_result",
          "data": {
            "text/plain": [
              "'lee'"
            ],
            "application/vnd.google.colaboratory.intrinsic+json": {
              "type": "string"
            }
          },
          "metadata": {},
          "execution_count": 35
        }
      ]
    },
    {
      "cell_type": "code",
      "source": [
        "repr(p)"
      ],
      "metadata": {
        "id": "9khmxCanULJn",
        "colab": {
          "base_uri": "https://localhost:8080/",
          "height": 36
        },
        "outputId": "45249e24-0411-4282-98ff-9d6ea721c9c5"
      },
      "execution_count": 36,
      "outputs": [
        {
          "output_type": "execute_result",
          "data": {
            "text/plain": [
              "'Person(lee)'"
            ],
            "application/vnd.google.colaboratory.intrinsic+json": {
              "type": "string"
            }
          },
          "metadata": {},
          "execution_count": 36
        }
      ]
    },
    {
      "cell_type": "markdown",
      "source": [
        "### namedtuple, dataclass\n",
        "- 변수만 있는 클래스 설정할 때 더 효율적으로 사용하는 수단\n",
        "- 딕셔너리 키와 같은 기능\n",
        "- 불변 객체"
      ],
      "metadata": {
        "id": "NtiUZEkaUN6E"
      }
    },
    {
      "cell_type": "code",
      "source": [
        "from collections import namedtuple\n",
        "\n",
        "Person = namedtuple('Person', 'name age')\n",
        "a = Person('kim', 33)"
      ],
      "metadata": {
        "id": "OQp78AVOUSrC"
      },
      "execution_count": 37,
      "outputs": []
    },
    {
      "cell_type": "code",
      "source": [
        "a.name"
      ],
      "metadata": {
        "colab": {
          "base_uri": "https://localhost:8080/",
          "height": 36
        },
        "id": "fadUSieDUqpl",
        "outputId": "c8821860-5f88-4ab6-f5c6-45bbbd6e12de"
      },
      "execution_count": 38,
      "outputs": [
        {
          "output_type": "execute_result",
          "data": {
            "text/plain": [
              "'kim'"
            ],
            "application/vnd.google.colaboratory.intrinsic+json": {
              "type": "string"
            }
          },
          "metadata": {},
          "execution_count": 38
        }
      ]
    },
    {
      "cell_type": "code",
      "source": [
        "a.age"
      ],
      "metadata": {
        "id": "qPBM4KGPUxjJ",
        "colab": {
          "base_uri": "https://localhost:8080/"
        },
        "outputId": "da7f018b-f097-49be-8299-6a000f0bb143"
      },
      "execution_count": 39,
      "outputs": [
        {
          "output_type": "execute_result",
          "data": {
            "text/plain": [
              "33"
            ]
          },
          "metadata": {},
          "execution_count": 39
        }
      ]
    },
    {
      "cell_type": "code",
      "source": [
        "b = a._replace(name = 'lee')"
      ],
      "metadata": {
        "id": "S66zFoi_U0Ub"
      },
      "execution_count": 40,
      "outputs": []
    },
    {
      "cell_type": "code",
      "source": [
        "from dataclasses import dataclass\n",
        "\n",
        "@dataclass\n",
        "class Person:\n",
        "  name: str\n",
        "  age: int"
      ],
      "metadata": {
        "id": "cmyEt81EU3w8"
      },
      "execution_count": 42,
      "outputs": []
    },
    {
      "cell_type": "code",
      "source": [
        "a = Person('kim', 33)"
      ],
      "metadata": {
        "id": "T3QQLtzsVA-m"
      },
      "execution_count": 44,
      "outputs": []
    },
    {
      "cell_type": "code",
      "source": [
        "a.age"
      ],
      "metadata": {
        "id": "0x-6PgzDVDrO",
        "colab": {
          "base_uri": "https://localhost:8080/"
        },
        "outputId": "7067c5b6-9ad8-4f01-8ffe-64172f761227"
      },
      "execution_count": 45,
      "outputs": [
        {
          "output_type": "execute_result",
          "data": {
            "text/plain": [
              "33"
            ]
          },
          "metadata": {},
          "execution_count": 45
        }
      ]
    }
  ]
}