{
  "nbformat": 4,
  "nbformat_minor": 0,
  "metadata": {
    "colab": {
      "name": "week_14.ipynb",
      "provenance": [],
      "collapsed_sections": [],
      "authorship_tag": "ABX9TyNyge093Rz11mNyfb5TkzKb",
      "include_colab_link": true
    },
    "kernelspec": {
      "name": "python3",
      "display_name": "Python 3"
    },
    "language_info": {
      "name": "python"
    }
  },
  "cells": [
    {
      "cell_type": "markdown",
      "metadata": {
        "id": "view-in-github",
        "colab_type": "text"
      },
      "source": [
        "<a href=\"https://colab.research.google.com/github/HUFS-Programming-2022/Hyeryeong_202103342/blob/main/week_14.ipynb\" target=\"_parent\"><img src=\"https://colab.research.google.com/assets/colab-badge.svg\" alt=\"Open In Colab\"/></a>"
      ]
    },
    {
      "cell_type": "markdown",
      "source": [
        "# 고급파이썬프로그래밍_14주차(6/3)\n",
        "- 해리포터랑 구구단 리뷰\n",
        "- 이번주는 3주차로 하면 됨\n",
        "- 4,5주차 하면 가산점"
      ],
      "metadata": {
        "id": "SE_n70v63TLq"
      }
    },
    {
      "cell_type": "markdown",
      "source": [
        "## 1. 함수II\n",
        "- 중첩함수\n",
        "  - 캡슐화 목적\n",
        "     - 변수 범위를 제한할 수 있다.\n",
        "     - 책임, 관리 명확해짐\n",
        "- 제너레이터\n",
        "- 재귀함수"
      ],
      "metadata": {
        "id": "CIlNgM_y3eNl"
      }
    },
    {
      "cell_type": "code",
      "execution_count": 1,
      "metadata": {
        "colab": {
          "base_uri": "https://localhost:8080/"
        },
        "id": "CO4ptSXa3OFj",
        "outputId": "5bf23877-82b2-4c81-faba-96f98e57f1f1"
      },
      "outputs": [
        {
          "output_type": "execute_result",
          "data": {
            "text/plain": [
              "4"
            ]
          },
          "metadata": {},
          "execution_count": 1
        }
      ],
      "source": [
        "def outer(a, b):  # 외부함수\n",
        "  def inner(c, d):   # 내부함수\n",
        "    return c + d\n",
        "  return inner(a, b)\n",
        "\n",
        "outer(2, 2)"
      ]
    },
    {
      "cell_type": "code",
      "source": [
        "# inner(2, 2)   # error => 선언한 적 없다"
      ],
      "metadata": {
        "id": "quDQnez96JiP"
      },
      "execution_count": 2,
      "outputs": []
    },
    {
      "cell_type": "code",
      "source": [
        "def knights(saying):\n",
        "  def inner(quote):\n",
        "    return f'we are the knights who say: {quote}'\n",
        "  return inner(saying)\n",
        "\n",
        "case1 = knights('Ni!')"
      ],
      "metadata": {
        "id": "M5QwnfWN6kPZ"
      },
      "execution_count": 3,
      "outputs": []
    },
    {
      "cell_type": "code",
      "source": [
        "case1"
      ],
      "metadata": {
        "colab": {
          "base_uri": "https://localhost:8080/",
          "height": 36
        },
        "id": "2jWPUsQR62yl",
        "outputId": "74698b29-6f87-47a4-c2bd-b2a43644ad39"
      },
      "execution_count": 4,
      "outputs": [
        {
          "output_type": "execute_result",
          "data": {
            "text/plain": [
              "'we are the knights who say: Ni!'"
            ],
            "application/vnd.google.colaboratory.intrinsic+json": {
              "type": "string"
            }
          },
          "metadata": {},
          "execution_count": 4
        }
      ]
    },
    {
      "cell_type": "markdown",
      "source": [
        "### 1-1.클로저\n",
        "- 자신을 둘러싼 scope(name space)의 상태값을 기억하는 함수\n",
        "- 호출하기 전까진 메모리에 올라가지 않음\n",
        "  -> 메모리 효율적 사용(함수 호출 시 꺼내 쓸 수 있다)\n",
        "- 조건\n",
        "  - 중첩함수여야 함\n",
        "  - 외부함수의 상태값 참조해야 함\n",
        "  - 외부함수가 내부함수를 반환해야 함"
      ],
      "metadata": {
        "id": "pGZ6zrHoa6_i"
      }
    },
    {
      "cell_type": "code",
      "source": [
        "def multiply(x): # 클로저(closure)\n",
        "  def inner(y):\n",
        "    return x + y\n",
        "  return inner  # 함수 실행되기 전\n",
        "\n",
        "multiply"
      ],
      "metadata": {
        "colab": {
          "base_uri": "https://localhost:8080/"
        },
        "id": "Vnr4FumS65oW",
        "outputId": "f95588b3-a939-446a-90ae-ac0d6aafe631"
      },
      "execution_count": 5,
      "outputs": [
        {
          "output_type": "execute_result",
          "data": {
            "text/plain": [
              "<function __main__.multiply>"
            ]
          },
          "metadata": {},
          "execution_count": 5
        }
      ]
    },
    {
      "cell_type": "code",
      "source": [
        "m5 = multiply(5) # x = 5\n",
        "m6 = multiply(6) # x = 6"
      ],
      "metadata": {
        "id": "sgnq4pRG7O2n"
      },
      "execution_count": 6,
      "outputs": []
    },
    {
      "cell_type": "code",
      "source": [
        "m5(4)"
      ],
      "metadata": {
        "colab": {
          "base_uri": "https://localhost:8080/"
        },
        "id": "yowM7E5w7Ou-",
        "outputId": "acce88bd-9b68-4f0a-a433-2c71675b1803"
      },
      "execution_count": 7,
      "outputs": [
        {
          "output_type": "execute_result",
          "data": {
            "text/plain": [
              "9"
            ]
          },
          "metadata": {},
          "execution_count": 7
        }
      ]
    },
    {
      "cell_type": "code",
      "source": [
        "m5(6)"
      ],
      "metadata": {
        "id": "-NCJDOVK7acg",
        "outputId": "919e0167-685a-48a3-c8b1-a57714bc41c6",
        "colab": {
          "base_uri": "https://localhost:8080/"
        }
      },
      "execution_count": 8,
      "outputs": [
        {
          "output_type": "execute_result",
          "data": {
            "text/plain": [
              "11"
            ]
          },
          "metadata": {},
          "execution_count": 8
        }
      ]
    },
    {
      "cell_type": "code",
      "source": [
        "del(multiply) # 삭제 가능"
      ],
      "metadata": {
        "id": "G3x5eiwebXe7"
      },
      "execution_count": 9,
      "outputs": []
    },
    {
      "cell_type": "code",
      "source": [
        "# multiply  # 위세서 multiply 없앴기 때문에 오류 뜸"
      ],
      "metadata": {
        "id": "Q_ZOYa2Dbb-g"
      },
      "execution_count": 11,
      "outputs": []
    },
    {
      "cell_type": "code",
      "source": [
        "m5(10)"
      ],
      "metadata": {
        "colab": {
          "base_uri": "https://localhost:8080/"
        },
        "id": "z2gOd59-bctj",
        "outputId": "3ac67cc0-e325-4651-e816-53a1ee8bacfe"
      },
      "execution_count": 12,
      "outputs": [
        {
          "output_type": "execute_result",
          "data": {
            "text/plain": [
              "15"
            ]
          },
          "metadata": {},
          "execution_count": 12
        }
      ]
    },
    {
      "cell_type": "markdown",
      "source": [
        "### 1-2. 데커레이터\n",
        "- 메인 함수에 또 다른 함수를 데코레이터로 선언하여 사용할 수 있음\n",
        "- 목적:\n",
        "   - 재사용, 가독성, 직관적임\n",
        "\n",
        "- 사용되는 기술\n",
        "  - `*args, **kwargs`\n",
        "  - 내부 함수\n",
        "  - 함수 인수\n",
        "\n",
        "- 정의 순서\n",
        "  - 1. 한수 이름과 인수를 출력\n",
        "  - 2. 인수로 함수를 실행\n",
        "  - 3. 결과를 출력\n",
        "  - 4. 수정된 함수를 사용하도록 반환\n",
        "  "
      ],
      "metadata": {
        "id": "MZjuhOkAbndz"
      }
    },
    {
      "cell_type": "code",
      "source": [
        "def document_it(func):\n",
        "  def new_func(*args, **kargs):\n",
        "    print('arguments: ', args)\n",
        "    print('key arguments: ', kargs)\n",
        "    return func(*args, **kargs)\n",
        "  return new_func\n",
        "\n",
        "@document_it\n",
        "def add(a,b):\n",
        "  return a + b\n",
        "\n",
        "@document_it\n",
        "def subtract(a, b):\n",
        "  return a - b\n",
        "\n",
        "# document_it이 먼저 실행되어야 데코레이터 쓸 수 있음!"
      ],
      "metadata": {
        "id": "rG9XmrEQbvMa"
      },
      "execution_count": 19,
      "outputs": []
    },
    {
      "cell_type": "code",
      "source": [
        "add(1,3)"
      ],
      "metadata": {
        "colab": {
          "base_uri": "https://localhost:8080/"
        },
        "id": "IFQ02Mq8caZN",
        "outputId": "69fab60d-b838-41a1-b1b0-56da062e808a"
      },
      "execution_count": 20,
      "outputs": [
        {
          "output_type": "stream",
          "name": "stdout",
          "text": [
            "arguments:  (1, 3)\n",
            "key arguments:  {}\n"
          ]
        },
        {
          "output_type": "execute_result",
          "data": {
            "text/plain": [
              "4"
            ]
          },
          "metadata": {},
          "execution_count": 20
        }
      ]
    },
    {
      "cell_type": "markdown",
      "source": [
        "### 1-3. add에 활용할 중첩함수 만들기\n",
        "- 결과값의 제곱 값을 반환하는 클로저 함수 만들기"
      ],
      "metadata": {
        "id": "UJfJKlnxc7Ut"
      }
    },
    {
      "cell_type": "code",
      "source": [
        "def square(func):\n",
        "  def inner():  ## x -> x * x\n",
        "    return ##\n",
        "  return inner"
      ],
      "metadata": {
        "id": "Pi1sKbXzc6NV"
      },
      "execution_count": 21,
      "outputs": []
    },
    {
      "cell_type": "code",
      "source": [
        "@square\n",
        "def add(a,b):\n",
        "  return a * b"
      ],
      "metadata": {
        "id": "t0lbTxZ1iAHm"
      },
      "execution_count": 22,
      "outputs": []
    },
    {
      "cell_type": "markdown",
      "source": [
        "### 1-4. scope: global, local, nonlocal\n",
        "- 내부함수는 외부함수의 인자를 \"참조\"만 할 수 있다.(읽기만 가능)\n",
        "- nonlocal 예약어를 활용"
      ],
      "metadata": {
        "id": "L15U-pZ_jU6I"
      }
    },
    {
      "cell_type": "code",
      "source": [
        "# 전역(global)\n",
        "a = 4\n",
        "def square(func):\n",
        "  # 지역(local)\n",
        "  def new_func(*args):\n",
        "    # 지역 내의 지역?\n",
        "    result = func(*args)\n",
        "    return result * result\n",
        "\n",
        "  return new_func\n",
        "\n",
        "@square\n",
        "def add(a,b):\n",
        "  return a+b"
      ],
      "metadata": {
        "id": "wx0cYQTTiM4Q"
      },
      "execution_count": 24,
      "outputs": []
    },
    {
      "cell_type": "code",
      "source": [
        "add(3,4)"
      ],
      "metadata": {
        "colab": {
          "base_uri": "https://localhost:8080/"
        },
        "id": "JS1v9OvEiG1v",
        "outputId": "817341e8-db70-4211-ec08-a80c8e8647dd"
      },
      "execution_count": 25,
      "outputs": [
        {
          "output_type": "execute_result",
          "data": {
            "text/plain": [
              "49"
            ]
          },
          "metadata": {},
          "execution_count": 25
        }
      ]
    },
    {
      "cell_type": "code",
      "source": [
        "z = 3 \n",
        "def outer(x):\n",
        "  y = 4\n",
        "  def inner():\n",
        "    # x = 10\n",
        "    # x = 1000\n",
        "    nonlocal x\n",
        "    x += 1   # x = x + 1\n",
        "    return x\n",
        "  return inner()\n",
        "\n",
        "outer(10)  # ?"
      ],
      "metadata": {
        "colab": {
          "base_uri": "https://localhost:8080/"
        },
        "id": "xwzpoVveilvo",
        "outputId": "73fda678-1a59-4b91-bbb6-a534ee189a8c"
      },
      "execution_count": 31,
      "outputs": [
        {
          "output_type": "execute_result",
          "data": {
            "text/plain": [
              "11"
            ]
          },
          "metadata": {},
          "execution_count": 31
        }
      ]
    },
    {
      "cell_type": "code",
      "source": [
        "def my_func(nums:list):  # 가변인자 -> 리턴 없이도 리턴 얻음\n",
        "  # 문서화 => 사용자가 알 수 있게\n",
        "  nums.append(sum(nums))\n",
        "\n",
        "a = [1,2,3]\n",
        "my_func(a)"
      ],
      "metadata": {
        "id": "Tw9EH2djje7o"
      },
      "execution_count": 33,
      "outputs": []
    },
    {
      "cell_type": "code",
      "source": [
        "my_func(a)\n",
        "my_func(a)\n",
        "my_func(a)"
      ],
      "metadata": {
        "id": "kbDx7aXgj52K"
      },
      "execution_count": 34,
      "outputs": []
    },
    {
      "cell_type": "code",
      "source": [
        "a"
      ],
      "metadata": {
        "colab": {
          "base_uri": "https://localhost:8080/"
        },
        "id": "yp4-ljeEj_sN",
        "outputId": "24616c5a-f389-4cd6-880e-ca26e55edebb"
      },
      "execution_count": 35,
      "outputs": [
        {
          "output_type": "execute_result",
          "data": {
            "text/plain": [
              "[1, 2, 3, 6, 12, 24, 48]"
            ]
          },
          "metadata": {},
          "execution_count": 35
        }
      ]
    },
    {
      "cell_type": "markdown",
      "source": [
        "#### 실습\n",
        "- 1. 함수: 차 속도, 제한 속도를 비교해서 true/false\n",
        "- 2. 데코레이터 함수\n",
        "  - 만약 제한 속도를 초과했다면 얼마나 초과했는지 프린트하는 함수\n",
        "  - 예: 100, 80\n",
        "  - \"20 km/h 초과\"\n"
      ],
      "metadata": {
        "id": "SCAagVdKkJCx"
      }
    },
    {
      "cell_type": "code",
      "source": [
        "def calc_speed(func):\n",
        "  def inner(speed, limit):\n",
        "    if func(speed, limit):\n",
        "      return f'초과 속도: {speed - limit}km/h'\n",
        "    else:\n",
        "      return f'정상 속도'\n",
        "  return inner"
      ],
      "metadata": {
        "id": "IlTqD4KZklN1"
      },
      "execution_count": 39,
      "outputs": []
    },
    {
      "cell_type": "code",
      "source": [
        "@calc_speed\n",
        "def is_speeding(speed, limit):\n",
        "  return speed > limit\n",
        "\n",
        "is_speeding(100,80)"
      ],
      "metadata": {
        "colab": {
          "base_uri": "https://localhost:8080/",
          "height": 36
        },
        "id": "7kv4NVVOka1J",
        "outputId": "66d94357-b9c6-4690-d5ed-eef34047b11d"
      },
      "execution_count": 41,
      "outputs": [
        {
          "output_type": "execute_result",
          "data": {
            "text/plain": [
              "'초과 속도: 20km/h'"
            ],
            "application/vnd.google.colaboratory.intrinsic+json": {
              "type": "string"
            }
          },
          "metadata": {},
          "execution_count": 41
        }
      ]
    },
    {
      "cell_type": "markdown",
      "source": [
        "### 1-5.제너레이터\n",
        "- return -> yied\n",
        "- 순회의 리턴값을 하나씩 반환\n",
        "- 시퀀스를 생성하는 객체\n",
        "- 메모리 효율성 증대"
      ],
      "metadata": {
        "id": "aw3QO3aOlRqS"
      }
    },
    {
      "cell_type": "code",
      "source": [
        "'''\n",
        "def ...():\n",
        "  for i in range(5):\n",
        "    yield i\n",
        "'''"
      ],
      "metadata": {
        "colab": {
          "base_uri": "https://localhost:8080/",
          "height": 36
        },
        "id": "5JpUIDTEmjKm",
        "outputId": "e9062c19-6558-4e09-c211-a23ffdb02e80"
      },
      "execution_count": 76,
      "outputs": [
        {
          "output_type": "execute_result",
          "data": {
            "text/plain": [
              "'\\ndef ...():\\n  for i in range(5):\\n    yield i\\n'"
            ],
            "application/vnd.google.colaboratory.intrinsic+json": {
              "type": "string"
            }
          },
          "metadata": {},
          "execution_count": 76
        }
      ]
    },
    {
      "cell_type": "code",
      "source": [
        "names = 'Kevin Michael Juliette Laura'.split()\n",
        "\n",
        "def printing(name_list:list):\n",
        "  for name in name_list:\n",
        "    yield name\n",
        "\n",
        "printing(names)"
      ],
      "metadata": {
        "colab": {
          "base_uri": "https://localhost:8080/"
        },
        "id": "Q-Ehk2aVmsp0",
        "outputId": "2c5ed8d6-6e91-42c1-f223-f38b52b260a1"
      },
      "execution_count": 43,
      "outputs": [
        {
          "output_type": "execute_result",
          "data": {
            "text/plain": [
              "<generator object printing at 0x7fd0c6c258d0>"
            ]
          },
          "metadata": {},
          "execution_count": 43
        }
      ]
    },
    {
      "cell_type": "code",
      "source": [
        "for i in printing(names):\n",
        "  print(i)"
      ],
      "metadata": {
        "colab": {
          "base_uri": "https://localhost:8080/"
        },
        "id": "7MUcOiIvm_jz",
        "outputId": "27f2e28e-ee08-4742-950f-ce24a7951b1c"
      },
      "execution_count": 44,
      "outputs": [
        {
          "output_type": "stream",
          "name": "stdout",
          "text": [
            "Kevin\n",
            "Michael\n",
            "Juliette\n",
            "Laura\n"
          ]
        }
      ]
    },
    {
      "cell_type": "code",
      "source": [
        "for i in printing(names):\n",
        "  print(i)"
      ],
      "metadata": {
        "colab": {
          "base_uri": "https://localhost:8080/"
        },
        "id": "R23dVhnpm_gQ",
        "outputId": "3ff16955-f7d8-4988-d4dd-04dd8751ab01"
      },
      "execution_count": 45,
      "outputs": [
        {
          "output_type": "stream",
          "name": "stdout",
          "text": [
            "Kevin\n",
            "Michael\n",
            "Juliette\n",
            "Laura\n"
          ]
        }
      ]
    },
    {
      "cell_type": "code",
      "source": [
        "for i in name_list:\n",
        "  print(i)"
      ],
      "metadata": {
        "id": "OACCa6E9nxld"
      },
      "execution_count": null,
      "outputs": []
    },
    {
      "cell_type": "code",
      "source": [
        "''' \n",
        "#실습: range 함수 구현하기\n",
        "def my_range(start, end, step):\n",
        "  # 작성하기(range() 쓰면 안됨)\n",
        "  yield\n",
        "'''"
      ],
      "metadata": {
        "colab": {
          "base_uri": "https://localhost:8080/",
          "height": 54
        },
        "id": "ZUV4IPVUncUs",
        "outputId": "b0a9b638-a28d-4450-a52a-526965ee5421"
      },
      "execution_count": 50,
      "outputs": [
        {
          "output_type": "execute_result",
          "data": {
            "text/plain": [
              "' \\n#실습: range 함수 구현하기\\ndef my_range(start, end, step):\\n  # 작성하기(range() 쓰면 안됨)\\n  yield\\n'"
            ],
            "application/vnd.google.colaboratory.intrinsic+json": {
              "type": "string"
            }
          },
          "metadata": {},
          "execution_count": 50
        }
      ]
    },
    {
      "cell_type": "code",
      "source": [
        "def my_range(start, end, step = 1):\n",
        "  while start < end:\n",
        "    yield start\n",
        "    start += step\n",
        "\n",
        "ranger = my_range(1, 10)"
      ],
      "metadata": {
        "id": "fy3xFda3oFdn"
      },
      "execution_count": 48,
      "outputs": []
    },
    {
      "cell_type": "code",
      "source": [
        "# 리스트 컴프리헨션으로도 제너레이터 구현 가능\n",
        "ranger = (i for i in range(10))"
      ],
      "metadata": {
        "id": "SR-XsTcHoqsk"
      },
      "execution_count": 77,
      "outputs": []
    },
    {
      "cell_type": "code",
      "source": [
        "for i in ranger:\n",
        "  print(f'K{i}')"
      ],
      "metadata": {
        "colab": {
          "base_uri": "https://localhost:8080/"
        },
        "id": "UNl6URRoow9Y",
        "outputId": "692c71aa-7de8-4c78-f11c-fdccd3ad4156"
      },
      "execution_count": 51,
      "outputs": [
        {
          "output_type": "stream",
          "name": "stdout",
          "text": [
            "K1\n",
            "K2\n",
            "K3\n",
            "K4\n",
            "K5\n",
            "K6\n",
            "K7\n",
            "K8\n",
            "K9\n"
          ]
        }
      ]
    },
    {
      "cell_type": "markdown",
      "source": [
        "### 1-6. 재귀함수\n",
        "- 자기 자신을 호출하는 함수\n",
        "- 재귀가 너무 깊어지면 예외 발생, 주의해야 함\n",
        "- [[a, ,b],[[[a,b,c],b], b,c] => 모든 요소의 차원을 단일화시킬 때 [a,b,a,b,c,...]"
      ],
      "metadata": {
        "id": "ENeiIJtvoABz"
      }
    },
    {
      "cell_type": "code",
      "source": [
        "def flatten(sent):\n",
        "  for word in sent:\n",
        "    if isinstance(word, list):\n",
        "      # 리스트가 맞다\n",
        "      for sub_word in flatten(word):\n",
        "        yield sub_word\n",
        "    else:\n",
        "      yield word\n",
        "\n",
        "a = [1, 2, [2, 3, 4],[[[1, 2]]]]\n",
        "flatten(a)"
      ],
      "metadata": {
        "colab": {
          "base_uri": "https://localhost:8080/"
        },
        "id": "QmMC4KPPpMB4",
        "outputId": "268486e4-7cd5-4b1a-b1aa-897f0ac5d49a"
      },
      "execution_count": 54,
      "outputs": [
        {
          "output_type": "execute_result",
          "data": {
            "text/plain": [
              "<generator object flatten at 0x7fd0c6bd6250>"
            ]
          },
          "metadata": {},
          "execution_count": 54
        }
      ]
    },
    {
      "cell_type": "code",
      "source": [
        "for i in flatten(a):\n",
        "  print(i)"
      ],
      "metadata": {
        "colab": {
          "base_uri": "https://localhost:8080/"
        },
        "id": "bn7tmh9Apatc",
        "outputId": "db0f53d1-f3d1-4fa4-926b-ac17e7faaf49"
      },
      "execution_count": 55,
      "outputs": [
        {
          "output_type": "stream",
          "name": "stdout",
          "text": [
            "1\n",
            "2\n",
            "2\n",
            "3\n",
            "4\n",
            "1\n",
            "2\n"
          ]
        }
      ]
    },
    {
      "cell_type": "code",
      "source": [
        "def flatten(sent):\n",
        "  for word in sent:\n",
        "    if isinstance(word, list):\n",
        "      # 리스트가 맞다\n",
        "      # for sub_word in flatten(word):\n",
        "      #   yield sub_word\n",
        "      yield from flatten(word) \n",
        "    else:\n",
        "      yield word"
      ],
      "metadata": {
        "id": "qmlKecJEpwE1"
      },
      "execution_count": 57,
      "outputs": []
    },
    {
      "cell_type": "code",
      "source": [
        "isinstance('word', int)"
      ],
      "metadata": {
        "colab": {
          "base_uri": "https://localhost:8080/"
        },
        "id": "1YHsA-4wp8fi",
        "outputId": "be04674b-e53e-481c-e716-a5232354d271"
      },
      "execution_count": 58,
      "outputs": [
        {
          "output_type": "execute_result",
          "data": {
            "text/plain": [
              "False"
            ]
          },
          "metadata": {},
          "execution_count": 58
        }
      ]
    },
    {
      "cell_type": "markdown",
      "source": [
        "## 2. 예외\n",
        "- 프로그램 동작 중 예외가 발생했을 때 대처하기 위함\n",
        "- 사용자에게 예외를 알리고, 원하는 조치를 설정한다.\n",
        "- 프로그램이 정상적으로 종료가 될 수 있다.\n"
      ],
      "metadata": {
        "id": "z07fICDuqFIv"
      }
    },
    {
      "cell_type": "markdown",
      "source": [
        "### 2-1. 예외 처리 | exception handing\n",
        "- 에러가 예상되는 코드에 try문 사용\n",
        "- 에러 처리 위해 except문 사용\n"
      ],
      "metadata": {
        "id": "rx6yfiJeyVTY"
      }
    },
    {
      "cell_type": "code",
      "source": [
        "try:\n",
        "  # 예외가 발생할 수도 있는 코드 블럭\n",
        "  5/0\n",
        "except ZeroDivisionError:\n",
        "  # 예외 시 행할 행동\n",
        "  print('0으로 나눌 수 없음')"
      ],
      "metadata": {
        "colab": {
          "base_uri": "https://localhost:8080/"
        },
        "id": "RzHBRlaWq2N1",
        "outputId": "75a359a5-d9be-4185-c06f-b501d1059032"
      },
      "execution_count": 64,
      "outputs": [
        {
          "output_type": "stream",
          "name": "stdout",
          "text": [
            "0으로 나눌 수 없음\n"
          ]
        }
      ]
    },
    {
      "cell_type": "code",
      "source": [
        "for i in range(10):\n",
        "  try:\n",
        "    print(10/i)\n",
        "  except ZeroDivisionError:\n",
        "    # 예외 시 행할 행동\n",
        "    print('0으로 나눌 수 없음')"
      ],
      "metadata": {
        "colab": {
          "base_uri": "https://localhost:8080/"
        },
        "id": "GTCp0KbbrJ-_",
        "outputId": "e7c2d86d-8183-44cb-9701-bc21bd8946f0"
      },
      "execution_count": 66,
      "outputs": [
        {
          "output_type": "stream",
          "name": "stdout",
          "text": [
            "0으로 나눌 수 없음\n",
            "10.0\n",
            "5.0\n",
            "3.3333333333333335\n",
            "2.5\n",
            "2.0\n",
            "1.6666666666666667\n",
            "1.4285714285714286\n",
            "1.25\n",
            "1.1111111111111112\n"
          ]
        }
      ]
    },
    {
      "cell_type": "code",
      "source": [
        "5 / 0  # divisionError"
      ],
      "metadata": {
        "colab": {
          "base_uri": "https://localhost:8080/",
          "height": 176
        },
        "id": "3P8rMyzbqhPD",
        "outputId": "f6a1211d-19b9-4879-ddf3-30c2adab36aa"
      },
      "execution_count": 59,
      "outputs": [
        {
          "output_type": "error",
          "ename": "ZeroDivisionError",
          "evalue": "ignored",
          "traceback": [
            "\u001b[0;31m---------------------------------------------------------------------------\u001b[0m",
            "\u001b[0;31mZeroDivisionError\u001b[0m                         Traceback (most recent call last)",
            "\u001b[0;32m<ipython-input-59-adafc2937013>\u001b[0m in \u001b[0;36m<module>\u001b[0;34m()\u001b[0m\n\u001b[0;32m----> 1\u001b[0;31m \u001b[0;36m5\u001b[0m \u001b[0;34m/\u001b[0m \u001b[0;36m0\u001b[0m\u001b[0;34m\u001b[0m\u001b[0;34m\u001b[0m\u001b[0m\n\u001b[0m",
            "\u001b[0;31mZeroDivisionError\u001b[0m: division by zero"
          ]
        }
      ]
    },
    {
      "cell_type": "code",
      "source": [
        "a = [1, 2, 3]\n",
        "a[5]   # IndexError"
      ],
      "metadata": {
        "colab": {
          "base_uri": "https://localhost:8080/",
          "height": 194
        },
        "id": "Jl9lYDshqmEs",
        "outputId": "419ac559-902a-4042-ecc8-c4b19057d574"
      },
      "execution_count": 60,
      "outputs": [
        {
          "output_type": "error",
          "ename": "IndexError",
          "evalue": "ignored",
          "traceback": [
            "\u001b[0;31m---------------------------------------------------------------------------\u001b[0m",
            "\u001b[0;31mIndexError\u001b[0m                                Traceback (most recent call last)",
            "\u001b[0;32m<ipython-input-60-70fa385a413f>\u001b[0m in \u001b[0;36m<module>\u001b[0;34m()\u001b[0m\n\u001b[1;32m      1\u001b[0m \u001b[0ma\u001b[0m \u001b[0;34m=\u001b[0m \u001b[0;34m[\u001b[0m\u001b[0;36m1\u001b[0m\u001b[0;34m,\u001b[0m \u001b[0;36m2\u001b[0m\u001b[0;34m,\u001b[0m \u001b[0;36m3\u001b[0m\u001b[0;34m]\u001b[0m\u001b[0;34m\u001b[0m\u001b[0;34m\u001b[0m\u001b[0m\n\u001b[0;32m----> 2\u001b[0;31m \u001b[0ma\u001b[0m\u001b[0;34m[\u001b[0m\u001b[0;36m5\u001b[0m\u001b[0;34m]\u001b[0m\u001b[0;34m\u001b[0m\u001b[0;34m\u001b[0m\u001b[0m\n\u001b[0m",
            "\u001b[0;31mIndexError\u001b[0m: list index out of range"
          ]
        }
      ]
    },
    {
      "cell_type": "code",
      "source": [
        "int('hello')  # ValueError"
      ],
      "metadata": {
        "colab": {
          "base_uri": "https://localhost:8080/",
          "height": 176
        },
        "id": "oSFek7LOqrKG",
        "outputId": "d7b9d196-4b49-4145-cd69-55933adc3db0"
      },
      "execution_count": 61,
      "outputs": [
        {
          "output_type": "error",
          "ename": "ValueError",
          "evalue": "ignored",
          "traceback": [
            "\u001b[0;31m---------------------------------------------------------------------------\u001b[0m",
            "\u001b[0;31mValueError\u001b[0m                                Traceback (most recent call last)",
            "\u001b[0;32m<ipython-input-61-456df5c53107>\u001b[0m in \u001b[0;36m<module>\u001b[0;34m()\u001b[0m\n\u001b[0;32m----> 1\u001b[0;31m \u001b[0mint\u001b[0m\u001b[0;34m(\u001b[0m\u001b[0;34m'hello'\u001b[0m\u001b[0;34m)\u001b[0m  \u001b[0;31m# ValueError\u001b[0m\u001b[0;34m\u001b[0m\u001b[0;34m\u001b[0m\u001b[0m\n\u001b[0m",
            "\u001b[0;31mValueError\u001b[0m: invalid literal for int() with base 10: 'hello'"
          ]
        }
      ]
    },
    {
      "cell_type": "code",
      "source": [
        "k += 1  # NameError"
      ],
      "metadata": {
        "colab": {
          "base_uri": "https://localhost:8080/",
          "height": 176
        },
        "id": "gNueStaGqyXO",
        "outputId": "ff1ec7df-31cb-4c63-e861-dade42468e61"
      },
      "execution_count": 62,
      "outputs": [
        {
          "output_type": "error",
          "ename": "NameError",
          "evalue": "ignored",
          "traceback": [
            "\u001b[0;31m---------------------------------------------------------------------------\u001b[0m",
            "\u001b[0;31mNameError\u001b[0m                                 Traceback (most recent call last)",
            "\u001b[0;32m<ipython-input-62-07568baabd57>\u001b[0m in \u001b[0;36m<module>\u001b[0;34m()\u001b[0m\n\u001b[0;32m----> 1\u001b[0;31m \u001b[0mk\u001b[0m \u001b[0;34m+=\u001b[0m \u001b[0;36m1\u001b[0m  \u001b[0;31m# NameError\u001b[0m\u001b[0;34m\u001b[0m\u001b[0;34m\u001b[0m\u001b[0m\n\u001b[0m",
            "\u001b[0;31mNameError\u001b[0m: name 'k' is not defined"
          ]
        }
      ]
    },
    {
      "cell_type": "code",
      "source": [
        "word = 'hello'\n",
        "\n",
        "while True:\n",
        "  index = input('인덱스를 입력하세요>> ')\n",
        "  if index == 'q':\n",
        "    break\n",
        "  try:\n",
        "    index = int(index)  # ValueError, IndexError\n",
        "    print(word[index])\n",
        "  except ValueError as e1: # 예외 핸들러\n",
        "    print(e1)    # 에러 메시지\n",
        "  except IndexError as e2:\n",
        "    print(e2)"
      ],
      "metadata": {
        "colab": {
          "base_uri": "https://localhost:8080/"
        },
        "id": "0ilVq9DkroQ0",
        "outputId": "28ee1faa-89a2-4700-fe4c-3c70a809e7d3"
      },
      "execution_count": 70,
      "outputs": [
        {
          "name": "stdout",
          "output_type": "stream",
          "text": [
            "인덱스를 입력하세요>> 9\n",
            "string index out of range\n",
            "인덱스를 입력하세요>> q\n"
          ]
        }
      ]
    },
    {
      "cell_type": "markdown",
      "source": [
        "### 2-1. 예외 일으키기\n",
        "- 프로그램 강제 종료시키기 위해 사용함\n",
        "- raise\n",
        "  - rasie 예외타입(메시지)\n",
        "- assert\n",
        "  - assert <참인 조건>, <False일 경우 내보낼 메시지>\n",
        "  - AssertionError"
      ],
      "metadata": {
        "id": "tFaohoLesmfm"
      }
    },
    {
      "cell_type": "code",
      "source": [
        "while True:\n",
        "  num = input('숫자>> ')\n",
        "  if not num.isdigit():\n",
        "    raise ValueError('숫자가 아닙니다!')\n",
        "  else:\n",
        "    print(int(num) + 5)"
      ],
      "metadata": {
        "colab": {
          "base_uri": "https://localhost:8080/",
          "height": 269
        },
        "id": "J-X-v71nsx2o",
        "outputId": "6c7b872f-b264-4bd5-b352-6a43c34627bb"
      },
      "execution_count": 72,
      "outputs": [
        {
          "name": "stdout",
          "output_type": "stream",
          "text": [
            "숫자>> d\n"
          ]
        },
        {
          "output_type": "error",
          "ename": "ValueError",
          "evalue": "ignored",
          "traceback": [
            "\u001b[0;31m---------------------------------------------------------------------------\u001b[0m",
            "\u001b[0;31mValueError\u001b[0m                                Traceback (most recent call last)",
            "\u001b[0;32m<ipython-input-72-26f2692cde63>\u001b[0m in \u001b[0;36m<module>\u001b[0;34m()\u001b[0m\n\u001b[1;32m      2\u001b[0m   \u001b[0mnum\u001b[0m \u001b[0;34m=\u001b[0m \u001b[0minput\u001b[0m\u001b[0;34m(\u001b[0m\u001b[0;34m'숫자>> '\u001b[0m\u001b[0;34m)\u001b[0m\u001b[0;34m\u001b[0m\u001b[0;34m\u001b[0m\u001b[0m\n\u001b[1;32m      3\u001b[0m   \u001b[0;32mif\u001b[0m \u001b[0;32mnot\u001b[0m \u001b[0mnum\u001b[0m\u001b[0;34m.\u001b[0m\u001b[0misdigit\u001b[0m\u001b[0;34m(\u001b[0m\u001b[0;34m)\u001b[0m\u001b[0;34m:\u001b[0m\u001b[0;34m\u001b[0m\u001b[0;34m\u001b[0m\u001b[0m\n\u001b[0;32m----> 4\u001b[0;31m     \u001b[0;32mraise\u001b[0m \u001b[0mValueError\u001b[0m\u001b[0;34m(\u001b[0m\u001b[0;34m'숫자가 아닙니다!'\u001b[0m\u001b[0;34m)\u001b[0m\u001b[0;34m\u001b[0m\u001b[0;34m\u001b[0m\u001b[0m\n\u001b[0m\u001b[1;32m      5\u001b[0m   \u001b[0;32melse\u001b[0m\u001b[0;34m:\u001b[0m\u001b[0;34m\u001b[0m\u001b[0;34m\u001b[0m\u001b[0m\n\u001b[1;32m      6\u001b[0m     \u001b[0mprint\u001b[0m\u001b[0;34m(\u001b[0m\u001b[0mint\u001b[0m\u001b[0;34m(\u001b[0m\u001b[0mnum\u001b[0m\u001b[0;34m)\u001b[0m \u001b[0;34m+\u001b[0m \u001b[0;36m5\u001b[0m\u001b[0;34m)\u001b[0m\u001b[0;34m\u001b[0m\u001b[0;34m\u001b[0m\u001b[0m\n",
            "\u001b[0;31mValueError\u001b[0m: 숫자가 아닙니다!"
          ]
        }
      ]
    },
    {
      "cell_type": "code",
      "source": [
        "def get_binary(num):\n",
        "  assert isinstance(num, int), '정수 아님'\n",
        "  return bin(num)\n",
        "\n",
        "get_binary('10')"
      ],
      "metadata": {
        "colab": {
          "base_uri": "https://localhost:8080/",
          "height": 344
        },
        "id": "Wu-bqDarsxxI",
        "outputId": "d8bbfbf6-b45a-4c24-d116-520fd9e9628f"
      },
      "execution_count": 73,
      "outputs": [
        {
          "output_type": "error",
          "ename": "AssertionError",
          "evalue": "ignored",
          "traceback": [
            "\u001b[0;31m---------------------------------------------------------------------------\u001b[0m",
            "\u001b[0;31mAssertionError\u001b[0m                            Traceback (most recent call last)",
            "\u001b[0;32m<ipython-input-73-ea5f0ec05cdf>\u001b[0m in \u001b[0;36m<module>\u001b[0;34m()\u001b[0m\n\u001b[1;32m      3\u001b[0m   \u001b[0;32mreturn\u001b[0m \u001b[0mbin\u001b[0m\u001b[0;34m(\u001b[0m\u001b[0mnum\u001b[0m\u001b[0;34m)\u001b[0m\u001b[0;34m\u001b[0m\u001b[0;34m\u001b[0m\u001b[0m\n\u001b[1;32m      4\u001b[0m \u001b[0;34m\u001b[0m\u001b[0m\n\u001b[0;32m----> 5\u001b[0;31m \u001b[0mget_binary\u001b[0m\u001b[0;34m(\u001b[0m\u001b[0;34m'10'\u001b[0m\u001b[0;34m)\u001b[0m\u001b[0;34m\u001b[0m\u001b[0;34m\u001b[0m\u001b[0m\n\u001b[0m",
            "\u001b[0;32m<ipython-input-73-ea5f0ec05cdf>\u001b[0m in \u001b[0;36mget_binary\u001b[0;34m(num)\u001b[0m\n\u001b[1;32m      1\u001b[0m \u001b[0;32mdef\u001b[0m \u001b[0mget_binary\u001b[0m\u001b[0;34m(\u001b[0m\u001b[0mnum\u001b[0m\u001b[0;34m)\u001b[0m\u001b[0;34m:\u001b[0m\u001b[0;34m\u001b[0m\u001b[0;34m\u001b[0m\u001b[0m\n\u001b[0;32m----> 2\u001b[0;31m   \u001b[0;32massert\u001b[0m \u001b[0misinstance\u001b[0m\u001b[0;34m(\u001b[0m\u001b[0mnum\u001b[0m\u001b[0;34m,\u001b[0m \u001b[0mint\u001b[0m\u001b[0;34m)\u001b[0m\u001b[0;34m,\u001b[0m \u001b[0;34m'정수 아님'\u001b[0m\u001b[0;34m\u001b[0m\u001b[0;34m\u001b[0m\u001b[0m\n\u001b[0m\u001b[1;32m      3\u001b[0m   \u001b[0;32mreturn\u001b[0m \u001b[0mbin\u001b[0m\u001b[0;34m(\u001b[0m\u001b[0mnum\u001b[0m\u001b[0;34m)\u001b[0m\u001b[0;34m\u001b[0m\u001b[0;34m\u001b[0m\u001b[0m\n\u001b[1;32m      4\u001b[0m \u001b[0;34m\u001b[0m\u001b[0m\n\u001b[1;32m      5\u001b[0m \u001b[0mget_binary\u001b[0m\u001b[0;34m(\u001b[0m\u001b[0;34m'10'\u001b[0m\u001b[0;34m)\u001b[0m\u001b[0;34m\u001b[0m\u001b[0;34m\u001b[0m\u001b[0m\n",
            "\u001b[0;31mAssertionError\u001b[0m: 정수 아님"
          ]
        }
      ]
    },
    {
      "cell_type": "markdown",
      "source": [
        "### 2-2. 사용자 정의 예외 타입\n",
        "- class 선언, Exception 클래스를 상속 받는다."
      ],
      "metadata": {
        "id": "geTSp1Tvty-y"
      }
    },
    {
      "cell_type": "code",
      "source": [
        "class MyException(Exception):\n",
        "  pass"
      ],
      "metadata": {
        "id": "VlRhhMh1sxu5"
      },
      "execution_count": 78,
      "outputs": []
    },
    {
      "cell_type": "code",
      "source": [
        "cities = 'dublin newyotk seoul tokyo'.split()\n",
        "\n",
        "for city in cities:\n",
        "  if city.isupper():\n",
        "    # raise MyException('대문자 안됨')\n",
        "    raise UppercaseException\n",
        "  else:\n",
        "    print(city)"
      ],
      "metadata": {
        "colab": {
          "base_uri": "https://localhost:8080/"
        },
        "id": "A1KwSMdxt-dc",
        "outputId": "14260d79-564c-4ab2-a0bb-dc1d7dd7456f"
      },
      "execution_count": 80,
      "outputs": [
        {
          "output_type": "stream",
          "name": "stdout",
          "text": [
            "dublin\n",
            "newyotk\n",
            "seoul\n",
            "tokyo\n"
          ]
        }
      ]
    },
    {
      "cell_type": "code",
      "source": [
        "class UppercaseException(Exception):\n",
        "  def __init__(self):\n",
        "    super().__init__('대문자 안된다구')"
      ],
      "metadata": {
        "id": "nLYT_z_Tt8l1"
      },
      "execution_count": 75,
      "outputs": []
    }
  ]
}