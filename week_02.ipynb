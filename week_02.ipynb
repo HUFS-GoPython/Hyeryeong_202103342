{
 "cells": [
  {
   "cell_type": "markdown",
   "id": "b1a416d8",
   "metadata": {},
   "source": [
    "# 고급파이썬프로그래밍(2주차)_3/11\n",
    " - `#`의 개수가 많아질수록 글씨의 크기가 작아짐\n",
    " - 다음주부터 조 구성 -> 조장은 퀴즈 결과에 따라 달라짐\n",
    "\n",
    "\n",
    "## Ch02. Variables\n",
    "### 자료형 변환하기\n",
    "- int(정수)\n",
    "- str(문자열)\n",
    "- float(소수)\n",
    "- bool(불리언)"
   ]
  },
  {
   "cell_type": "code",
   "execution_count": 1,
   "id": "0c3c5dc8",
   "metadata": {},
   "outputs": [
    {
     "data": {
      "text/plain": [
       "int"
      ]
     },
     "execution_count": 1,
     "metadata": {},
     "output_type": "execute_result"
    }
   ],
   "source": [
    "a = 10  ## 문자, 기호 간의 띄어쓰기는 필수\n",
    "type(a)  # a는 현재 정수"
   ]
  },
  {
   "cell_type": "code",
   "execution_count": 13,
   "id": "b9a90e6d",
   "metadata": {},
   "outputs": [
    {
     "name": "stdout",
     "output_type": "stream",
     "text": [
      "10.0\n"
     ]
    },
    {
     "data": {
      "text/plain": [
       "float"
      ]
     },
     "execution_count": 13,
     "metadata": {},
     "output_type": "execute_result"
    }
   ],
   "source": [
    "# int -> float으로 변환 \n",
    "print(float(a))\n",
    "type(float(a))"
   ]
  },
  {
   "cell_type": "code",
   "execution_count": 14,
   "id": "941ac856",
   "metadata": {},
   "outputs": [
    {
     "name": "stdout",
     "output_type": "stream",
     "text": [
      "10\n"
     ]
    },
    {
     "data": {
      "text/plain": [
       "str"
      ]
     },
     "execution_count": 14,
     "metadata": {},
     "output_type": "execute_result"
    }
   ],
   "source": [
    "# int -> str으로 변환\n",
    "print(str(a))\n",
    "type(str(a))"
   ]
  },
  {
   "cell_type": "code",
   "execution_count": 5,
   "id": "69c3cbac",
   "metadata": {},
   "outputs": [
    {
     "data": {
      "text/plain": [
       "True"
      ]
     },
     "execution_count": 5,
     "metadata": {},
     "output_type": "execute_result"
    }
   ],
   "source": [
    "# int -> bool으로 변환\n",
    "print(bool(a))\n",
    "type(bool(a))"
   ]
  },
  {
   "cell_type": "code",
   "execution_count": 7,
   "id": "6cfca8e8",
   "metadata": {},
   "outputs": [
    {
     "data": {
      "text/plain": [
       "10"
      ]
     },
     "execution_count": 7,
     "metadata": {},
     "output_type": "execute_result"
    }
   ],
   "source": [
    "# float -> int으로 변환\n",
    "# 정수 변환 시 소수점 이하 값을 버린다.\n",
    "int(10.6)"
   ]
  },
  {
   "cell_type": "code",
   "execution_count": 8,
   "id": "7ca9542e",
   "metadata": {},
   "outputs": [
    {
     "name": "stdout",
     "output_type": "stream",
     "text": [
      "12\n",
      "11\n"
     ]
    }
   ],
   "source": [
    "x = 4.6\n",
    "y = 7.9\n",
    "\n",
    "print(int(x + y))  # 11.xx -> 11\n",
    "print(int(x) + int(y))   # 4 + 7"
   ]
  },
  {
   "cell_type": "code",
   "execution_count": 15,
   "id": "79a5f89d",
   "metadata": {},
   "outputs": [
    {
     "name": "stdout",
     "output_type": "stream",
     "text": [
      "88.3\n"
     ]
    },
    {
     "data": {
      "text/plain": [
       "20"
      ]
     },
     "execution_count": 15,
     "metadata": {},
     "output_type": "execute_result"
    }
   ],
   "source": [
    "# str -> int으로 변환\n",
    "p = '88.3'\n",
    "# int(p) -> error\n",
    "print(float(p))  \n",
    "# string을 integer로 바꾸기 위해서는 부동 소수점으로 먼저 바꾸어야 함.\n",
    "\n",
    "# ex.\n",
    "q = '20.45'\n",
    "int(float(q))"
   ]
  },
  {
   "cell_type": "markdown",
   "id": "b2beb75c",
   "metadata": {},
   "source": [
    "### *교수님의 꿀팁\n",
    "#### print()의 사용 \n",
    "- default : 띄어쓰기, 줄바꿈\n",
    "- print()의 괄호 속에 2개 이상의 변수 -> 원소들 간 간격 설정\n",
    "- 줄 바꾸기를 하지 않는 방법 -> ' ; '의 사용"
   ]
  },
  {
   "cell_type": "code",
   "execution_count": 17,
   "id": "6a464c1b",
   "metadata": {},
   "outputs": [
    {
     "name": "stdout",
     "output_type": "stream",
     "text": [
      "orange apple tomato\n",
      "the next line\n"
     ]
    }
   ],
   "source": [
    "print('orange', 'apple', 'tomato')  # default : 띄어쓰기, 줄바꾸기\n",
    "print('the next line')"
   ]
  },
  {
   "cell_type": "code",
   "execution_count": 18,
   "id": "9d378df4",
   "metadata": {},
   "outputs": [
    {
     "name": "stdout",
     "output_type": "stream",
     "text": [
      "orangeappletomato\n",
      "orange apple tomato\n",
      "orange_apple_tomato\n",
      "\n",
      "EOL\n"
     ]
    }
   ],
   "source": [
    "orange = 'orange'\n",
    "apple = 'apple'\n",
    "tomato = 'tomato'\n",
    "\n",
    "#1. \n",
    "print(orange + apple + tomato) #''+'로 연결 가능하지만, 원소들 간 공백 사라짐\n",
    "print(orange ,apple, tomato, sep = ' ', end = '\\n')  # default\n",
    "print(orange, apple, tomato, sep = '_', end = '\\n\\n')\n",
    "# sep = ' ' -> 원소들 간 간격 설정(''안에 문자 혹은 기호 삽입, 공백도 가능), end = '\\n' -> 줄바꿈(enter 1회), \n",
    "print('EOL')  # End Of Line"
   ]
  },
  {
   "cell_type": "code",
   "execution_count": 76,
   "id": "83c13eae",
   "metadata": {},
   "outputs": [],
   "source": [
    "# 라인이 짧을 때 -> ;\n",
    "orange = 'orange'; apple = 'apple'; tomato = 'tomato'  # 줄 바꾸기하지 않고 변수 선언"
   ]
  },
  {
   "cell_type": "code",
   "execution_count": 84,
   "id": "27e00a20",
   "metadata": {},
   "outputs": [
    {
     "name": "stdout",
     "output_type": "stream",
     "text": [
      "blueelephantpizza5\n",
      "blue-elephant-pizza-5\n",
      "blue_and_elephant_and_pizza_and_5\n",
      "\n",
      "5\n"
     ]
    }
   ],
   "source": [
    "#예시(mine)\n",
    "color = 'blue'; animal = 'elephant'; food = 'pizza'; num = '5'\n",
    "\n",
    "print(color + animal + food + num)\n",
    "print(color, animal, food, num, sep = '-', end ='\\n')\n",
    "print(color, animal, food, num, sep = '_and_',end = '\\n\\n')\n",
    "print(int(float(num)))"
   ]
  },
  {
   "cell_type": "markdown",
   "id": "05de5988",
   "metadata": {},
   "source": [
    "### input()\n",
    " - console 에서 사용자에게 값을 입력 받는 함수(입출력과 관련)\n",
    " - 입력 받는 값의 자료형은 문자열(str)\n",
    " - 입력 받은 값을 변수에 담아서 사용한다.\n",
    " - input()함수를 문자열(str)이 아닌 다른 자료형(type)으로 사용하고 싶을 땐 형 변환을 미리 해준다.\n",
    " - 변수와 달리 함수를 나타날 때는 ()를 꼭 쓴다."
   ]
  },
  {
   "cell_type": "code",
   "execution_count": 20,
   "id": "1d5079d9",
   "metadata": {},
   "outputs": [
    {
     "name": "stdout",
     "output_type": "stream",
     "text": [
      "What's your name? 조혜령\n"
     ]
    },
    {
     "data": {
      "text/plain": [
       "'조혜령'"
      ]
     },
     "execution_count": 20,
     "metadata": {},
     "output_type": "execute_result"
    }
   ],
   "source": [
    "input(\"What's your name? \")"
   ]
  },
  {
   "cell_type": "code",
   "execution_count": 1,
   "id": "ea38a63e",
   "metadata": {},
   "outputs": [
    {
     "name": "stdout",
     "output_type": "stream",
     "text": [
      "What's your name? Cho\n"
     ]
    }
   ],
   "source": [
    "# 입력 받은 값을 어떻게 변수에 담아서 사용?\n",
    "# 1. \n",
    "name = input(\"What's your name?\")"
   ]
  },
  {
   "cell_type": "code",
   "execution_count": 2,
   "id": "cd580d56",
   "metadata": {},
   "outputs": [
    {
     "name": "stdout",
     "output_type": "stream",
     "text": [
      " Cho\n"
     ]
    }
   ],
   "source": [
    "print(name)"
   ]
  },
  {
   "cell_type": "code",
   "execution_count": 3,
   "id": "6915620c",
   "metadata": {},
   "outputs": [
    {
     "name": "stdout",
     "output_type": "stream",
     "text": [
      "What's your name? \n",
      "Cho\n"
     ]
    }
   ],
   "source": [
    "# 2.\n",
    "print(\"What's your name? \")\n",
    "name = input()"
   ]
  },
  {
   "cell_type": "code",
   "execution_count": 12,
   "id": "8d78e82a",
   "metadata": {},
   "outputs": [
    {
     "name": "stdout",
     "output_type": "stream",
     "text": [
      "How old are you? 21\n",
      "21 <class 'str'>\n"
     ]
    }
   ],
   "source": [
    "# input()함수를 str이 아닌 다른 타입으로 사용하고 싶다면 형 변환을 미리 해줌\n",
    "age = input(\"How old are you? \")\n",
    "print(age, type(age))  # str로 출력"
   ]
  },
  {
   "cell_type": "code",
   "execution_count": 85,
   "id": "826d3f9b",
   "metadata": {},
   "outputs": [
    {
     "ename": "TypeError",
     "evalue": "unsupported operand type(s) for -: 'int' and 'str'",
     "output_type": "error",
     "traceback": [
      "\u001b[1;31m---------------------------------------------------------------------------\u001b[0m",
      "\u001b[1;31mTypeError\u001b[0m                                 Traceback (most recent call last)",
      "\u001b[1;32m~\\AppData\\Local\\Temp/ipykernel_12260/2849576919.py\u001b[0m in \u001b[0;36m<module>\u001b[1;34m\u001b[0m\n\u001b[1;32m----> 1\u001b[1;33m \u001b[0mprint\u001b[0m\u001b[1;33m(\u001b[0m\u001b[1;34m'당신이 태어난 해는'\u001b[0m\u001b[1;33m,\u001b[0m \u001b[1;36m2022\u001b[0m \u001b[1;33m-\u001b[0m \u001b[0mage\u001b[0m \u001b[1;33m+\u001b[0m \u001b[1;36m1\u001b[0m\u001b[1;33m,\u001b[0m \u001b[1;34m'년입니다.'\u001b[0m\u001b[1;33m)\u001b[0m\u001b[1;33m\u001b[0m\u001b[1;33m\u001b[0m\u001b[0m\n\u001b[0m\u001b[0;32m      2\u001b[0m \u001b[1;31m# 연산 불가 -> 변수 age의 자료형이 문자열이기 때문\u001b[0m\u001b[1;33m\u001b[0m\u001b[1;33m\u001b[0m\u001b[0m\n",
      "\u001b[1;31mTypeError\u001b[0m: unsupported operand type(s) for -: 'int' and 'str'"
     ]
    }
   ],
   "source": [
    "print('당신이 태어난 해는', 2022 - age + 1, '년입니다.')  \n",
    "# 연산 불가 -> 변수 age의 자료형이 문자열이기 때문"
   ]
  },
  {
   "cell_type": "code",
   "execution_count": 18,
   "id": "a682511f",
   "metadata": {},
   "outputs": [
    {
     "name": "stdout",
     "output_type": "stream",
     "text": [
      "How old are you? 21\n",
      "21 <class 'int'>\n"
     ]
    }
   ],
   "source": [
    "edad = int(input(\"How old are you? \"))\n",
    "print(edad, type(edad))  # int로 출력"
   ]
  },
  {
   "cell_type": "code",
   "execution_count": 19,
   "id": "e5b5930d",
   "metadata": {},
   "outputs": [
    {
     "name": "stdout",
     "output_type": "stream",
     "text": [
      "당신이 태어난 해는 2002 년입니다.\n"
     ]
    }
   ],
   "source": [
    "# 정수형으로 변환 후 연산 가능\n",
    "print('당신이 태어난 해는', 2022 - edad + 1, '년입니다.')"
   ]
  },
  {
   "cell_type": "code",
   "execution_count": 21,
   "id": "725ff878",
   "metadata": {},
   "outputs": [
    {
     "name": "stdout",
     "output_type": "stream",
     "text": [
      "당신이 태어난 해는 2002년입니다.\n"
     ]
    }
   ],
   "source": [
    "## Printing without single quote\n",
    "print(f'당신이 태어난 해는 {2022 - edad + 1}년입니다.')\n",
    "#1. print()함수 안 문장 앞에 f 입력\n",
    "#2. 변수를 {}로 감싸기\n",
    "# 불필요한 공백 제거 가능"
   ]
  },
  {
   "cell_type": "markdown",
   "id": "c3866ca0",
   "metadata": {},
   "source": [
    "### Quiz 1\n",
    "- 택배 정보를 입력 받고 무게에 따른 값 산정하기\n",
    "\n",
    "   - 수취인 성명: \n",
    "   - 수취인 주소:\n",
    "   - 배송비: 3000원\n",
    "   - 물건 비용: <계산된 값>원\n",
    "   - 총 합계: <계산된 값>\n",
    "   \n",
    "- 물건 비용은 무게(g) * 5\n",
    "- 입력 값 = 이름, 주소, 무게"
   ]
  },
  {
   "cell_type": "code",
   "execution_count": 22,
   "id": "ff6fa4fd",
   "metadata": {},
   "outputs": [
    {
     "name": "stdout",
     "output_type": "stream",
     "text": [
      "성명을 입력하세요: 조혜령\n",
      "주소를 입력하세요: 경기도 고양시\n",
      "계산할 물건의 무게를(g)를 입력하세요: 600\n",
      "수취인 성명: 조혜령\n",
      "수취인 주소: 경기도 고양시\n",
      "배송비: 3000\n",
      "물건 비용: 3000\n",
      "총 합계: 6000\n"
     ]
    }
   ],
   "source": [
    "#Quiz1\n",
    "name = input('성명을 입력하세요: ')\n",
    "address = input('주소를 입력하세요: ')\n",
    "weight = int(input('계산할 물건의 무게를(g)를 입력하세요: '))\n",
    "\n",
    "delivery = 3000\n",
    "cost = weight * 5\n",
    "total = delivery + cost\n",
    "print(f'수취인 성명: {name}')\n",
    "print(f'수취인 주소: {address}')\n",
    "print(f'배송비: {delivery}')\n",
    "print(f'물건 비용: {cost}')\n",
    "print(f'총 합계: {total}')"
   ]
  },
  {
   "cell_type": "code",
   "execution_count": 109,
   "id": "12e37feb",
   "metadata": {},
   "outputs": [
    {
     "name": "stdout",
     "output_type": "stream",
     "text": [
      "<class 'int'>\n",
      "<class 'float'>\n",
      "<class 'float'>\n"
     ]
    }
   ],
   "source": [
    "# 연습문제\n",
    "#2-2. 값 5는 어떤 타입인가?\n",
    "print(type(5))\n",
    "\n",
    "#2-3. 값 2.0은 어떤 타입인가?\n",
    "print(type(2.0))\n",
    "\n",
    "#2-4. 표현식 5 + 2.0은 어떤 타입인가?\n",
    "print(type(5 + 2.0))"
   ]
  },
  {
   "cell_type": "markdown",
   "id": "16cf526b",
   "metadata": {},
   "source": [
    "## Ch03. Numbers\n",
    "### boolean\n",
    " - True / False 의 값을 가짐\n",
    " - False인 값 : None, 0, ' '(공백), False\n",
    " - If문(조건식): \"만약 어떤 값이 True면,...\"\n",
    " - True와 False를 정수로 변환 -> 각각 1,0으로 반환"
   ]
  },
  {
   "cell_type": "code",
   "execution_count": 28,
   "id": "4049856c",
   "metadata": {},
   "outputs": [
    {
     "name": "stdout",
     "output_type": "stream",
     "text": [
      "False\n",
      "False\n",
      "False\n"
     ]
    }
   ],
   "source": [
    "print(bool(0))\n",
    "print(bool(None))\n",
    "print(bool(False))"
   ]
  },
  {
   "cell_type": "code",
   "execution_count": 73,
   "id": "439df4f7",
   "metadata": {},
   "outputs": [
    {
     "name": "stdout",
     "output_type": "stream",
     "text": [
      "1\n",
      "0\n"
     ]
    }
   ],
   "source": [
    "print(int(True))\n",
    "print(int(False))"
   ]
  },
  {
   "cell_type": "markdown",
   "id": "57bdf42b",
   "metadata": {},
   "source": [
    "### integer\n",
    " - 분수나 소수가 아닌 정수\n",
    " - 음수는 '-'기호를 붙인다. (ex. -30)\n",
    " - default = 양수\n",
    " - 숫자 앞에는 0을 쓰지 못한다. (ex. 09)\n",
    "      -0bxx -> 10진수 x\n",
    " - 숫자 사이에 쉼표를 쓰면 오류: 100,000(x) -> 쉼표를 쓰면 각기 다른 숫자로 인식한다.\n",
    " - 숫자 사이의 언더바는 인식하지 않는다."
   ]
  },
  {
   "cell_type": "code",
   "execution_count": 29,
   "id": "08885704",
   "metadata": {},
   "outputs": [
    {
     "ename": "SyntaxError",
     "evalue": "leading zeros in decimal integer literals are not permitted; use an 0o prefix for octal integers (Temp/ipykernel_12260/2890110653.py, line 1)",
     "output_type": "error",
     "traceback": [
      "\u001b[1;36m  File \u001b[1;32m\"C:\\Users\\user\\AppData\\Local\\Temp/ipykernel_12260/2890110653.py\"\u001b[1;36m, line \u001b[1;32m1\u001b[0m\n\u001b[1;33m    a = 09\u001b[0m\n\u001b[1;37m         ^\u001b[0m\n\u001b[1;31mSyntaxError\u001b[0m\u001b[1;31m:\u001b[0m leading zeros in decimal integer literals are not permitted; use an 0o prefix for octal integers\n"
     ]
    }
   ],
   "source": [
    "a = 09  # 숫자 앞에 0 쓰면 error"
   ]
  },
  {
   "cell_type": "code",
   "execution_count": 92,
   "id": "c652378d",
   "metadata": {},
   "outputs": [
    {
     "name": "stdout",
     "output_type": "stream",
     "text": [
      "100 0\n",
      "100000\n"
     ]
    }
   ],
   "source": [
    "print(100,000)  # 숫자 중간에 쉼표를 쓰면 '십만'이 아니라 '100과 0'의 결과가 나옴\n",
    "print(100_000)  # 그래서 숫자 사이에 언더바를 써서 '십만'으로 표현"
   ]
  },
  {
   "cell_type": "code",
   "execution_count": 88,
   "id": "07867d23",
   "metadata": {},
   "outputs": [
    {
     "name": "stdout",
     "output_type": "stream",
     "text": [
      "1 <class 'int'>\n"
     ]
    }
   ],
   "source": [
    "a = 50\n",
    "b = -49\n",
    "print(a + b, type(a + b))"
   ]
  },
  {
   "cell_type": "markdown",
   "id": "9000ffb0",
   "metadata": {},
   "source": [
    "### 연산자 | operator\n",
    " - `+ , -, *, /` (덧셈, 뺄셈, 곱셈, 나눗셈)\n",
    " - 피연산자 | operand : 1,2,...\n",
    " - 수식 | expression"
   ]
  },
  {
   "cell_type": "code",
   "execution_count": 70,
   "id": "927face3",
   "metadata": {},
   "outputs": [
    {
     "name": "stdout",
     "output_type": "stream",
     "text": [
      "13\n",
      "5\n",
      "36\n",
      "2.25\n",
      "6561\n",
      "\n",
      "2\n",
      "1\n"
     ]
    }
   ],
   "source": [
    "x = 9\n",
    "y = 4\n",
    "\n",
    "# 연산\n",
    "print(x + y)  # 더하기\n",
    "print(x - y)  # 빼기\n",
    "print(x * y)  # 곱하기\n",
    "print(x / y)  # 부동소수점 나누기\n",
    "print(x ** y)  # 거듭제곱 | exponential(지수)\n",
    "print()\n",
    "\n",
    "# 나눗셈 => 몫과 나머지가 나옴\n",
    "print(x // y)  # 정수 나누기(몫만 나옴)\n",
    "print(x % y)  # 나머지만 나옴"
   ]
  },
  {
   "cell_type": "code",
   "execution_count": 93,
   "id": "027dc9f4",
   "metadata": {},
   "outputs": [
    {
     "data": {
      "text/plain": [
       "(1, 2)"
      ]
     },
     "execution_count": 93,
     "metadata": {},
     "output_type": "execute_result"
    }
   ],
   "source": [
    "divmod(x , y)  # 소수점을 제외한 {몫, 나머지}의 결과가 나옴"
   ]
  },
  {
   "cell_type": "code",
   "execution_count": 35,
   "id": "f39f06bc",
   "metadata": {},
   "outputs": [],
   "source": [
    "# division by zero 항시 유의"
   ]
  },
  {
   "cell_type": "code",
   "execution_count": 94,
   "id": "ce7c7e31",
   "metadata": {},
   "outputs": [
    {
     "data": {
      "text/plain": [
       "104"
      ]
     },
     "execution_count": 94,
     "metadata": {},
     "output_type": "execute_result"
    }
   ],
   "source": [
    "1 +    3                  + 100 \n",
    "# 숫자 사이의 공백은 무시됨"
   ]
  },
  {
   "cell_type": "markdown",
   "id": "b1c9c0ab",
   "metadata": {},
   "source": [
    "### 복합 대입 연산자 | compoun assignment operator"
   ]
  },
  {
   "cell_type": "code",
   "execution_count": 105,
   "id": "6b48d152",
   "metadata": {},
   "outputs": [
    {
     "name": "stdout",
     "output_type": "stream",
     "text": [
      "5 <class 'int'>\n",
      "8\n",
      "5\n",
      "10 <class 'int'>\n",
      "3.3333333333333335 <class 'float'>\n",
      "3 <class 'float'>\n",
      "11.111111111111112 <class 'float'>\n",
      "11 <class 'float'>\n",
      "2.0 <class 'float'>\n",
      "2 <class 'float'>\n",
      "2.0 <class 'float'>\n"
     ]
    }
   ],
   "source": [
    "x = 5\n",
    "print(x, type(x))\n",
    "\n",
    "x += 3   # x = x + 3\n",
    "print(x)\n",
    "\n",
    "x -= 3   # x = x - 3\n",
    "print(x)\n",
    "\n",
    "x *= 2   # x = x * 3\n",
    "print(x, type(x))\n",
    "\n",
    "x /= 3  # x = x / 3\n",
    "print(x,type(x))\n",
    "print(int(x), type(x))\n",
    "\n",
    "x **= 2  # x = x ** 3\n",
    "print(x, type(x))\n",
    "print(int(x), type(x))\n",
    "\n",
    "x //= 5   # x = x // 3\n",
    "print(x, type(x))\n",
    "print(int(x), type(x))\n",
    "\n",
    "x %= 3   # x = x % 3\n",
    "print(x, type(x))"
   ]
  },
  {
   "cell_type": "code",
   "execution_count": 38,
   "id": "29091514",
   "metadata": {},
   "outputs": [
    {
     "name": "stdout",
     "output_type": "stream",
     "text": [
      "5\n"
     ]
    }
   ],
   "source": [
    "x = 5\n",
    "x - 3\n",
    "print(x)\n",
    "# 주의: x - 3이 계산되지 않음 -> 대입되지 않았기 때문"
   ]
  },
  {
   "cell_type": "code",
   "execution_count": 89,
   "id": "5b6d1710",
   "metadata": {},
   "outputs": [
    {
     "name": "stdout",
     "output_type": "stream",
     "text": [
      "6\n"
     ]
    }
   ],
   "source": [
    "x = x - 3\n",
    "print(x)\n",
    "\n",
    "#1. x - 3 계산\n",
    "#2. temp = x - 3 (임시변수에 담는다.)\n",
    "#3. x = temp"
   ]
  },
  {
   "cell_type": "code",
   "execution_count": 90,
   "id": "5ea81ada",
   "metadata": {},
   "outputs": [
    {
     "name": "stdout",
     "output_type": "stream",
     "text": [
      "12\n",
      "24\n"
     ]
    }
   ],
   "source": [
    "# 예시\n",
    "half_day = 12\n",
    "half_day + 12 \n",
    "print(half_day)  # half_day + 12가 대입되지 않음\n",
    "\n",
    "one_day = half_day + 12\n",
    "print(one_day)"
   ]
  },
  {
   "cell_type": "markdown",
   "id": "4ae61905",
   "metadata": {},
   "source": [
    "### Quiz 1\n",
    "- 반지름을 입력 받아서 원의 면적을 구하기\n",
    "- 면적 = pi * r제곱\n",
    "\n",
    "### Quiz 2\n",
    "- 숫자를 입력 받고 3의 배수인지 확인하기\n",
    "- 숫자를 입력 받고 홀수인지 확인하기"
   ]
  },
  {
   "cell_type": "code",
   "execution_count": 50,
   "id": "f8780323",
   "metadata": {},
   "outputs": [
    {
     "name": "stdout",
     "output_type": "stream",
     "text": [
      "반지름의 길이를 입력하세요: 5\n",
      "반지름의 길이는 5이며, 원의 넓이는 78.5입니다.\n"
     ]
    }
   ],
   "source": [
    "## Quiz 1.\n",
    "radius = int(input('반지름의 길이를 입력하세요: '))\n",
    "pi = 3.14\n",
    "width = pi * (radius ** 2)\n",
    "print(f'반지름의 길이는 {radius}이며, 원의 넓이는 {width}입니다.')"
   ]
  },
  {
   "cell_type": "code",
   "execution_count": 52,
   "id": "0e22f1ba",
   "metadata": {},
   "outputs": [
    {
     "name": "stdout",
     "output_type": "stream",
     "text": [
      "숫자를 입력하세요: 10\n",
      "이 수는 3의 배수가 아닙니다.\n",
      "이 수는 짝수입니다.\n",
      "숫자를 입력하세요: 2\n"
     ]
    }
   ],
   "source": [
    "## Quiz 2.\n",
    "num = int(input('숫자를 입력하세요: '))\n",
    "if num % 3 == 0:\n",
    "    print(\"이 수는 3의 배수입니다.\")\n",
    "else:\n",
    "    print(\"이 수는 3의 배수가 아닙니다.\")\n",
    "    \n",
    "if num % 2 != 0:\n",
    "    print(\"이 수는 홀수입니다.\")\n",
    "else:\n",
    "    print(\"이 수는 짝수입니다.\")\n",
    "    \n",
    "# => True False 이용해서 다시해보기\n",
    "num = int(input('숫자를 입력하세요: '))\n"
   ]
  },
  {
   "cell_type": "markdown",
   "id": "e465fdef",
   "metadata": {},
   "source": [
    "### 지수 표현 (*floating point number)\n",
    "- 예: '1.0e-4'\n",
    "- e의 앞부분은 소수, 정수 둘 다 됨\n",
    "- 뒷부분은 정수여야 함.\n",
    "- 뒷부분은 소수점 자릿수를 의미함\n",
    "- e, E 둘 다 사용 가능(대소문자 차이 없음)"
   ]
  },
  {
   "cell_type": "code",
   "execution_count": 53,
   "id": "c94ffe2a",
   "metadata": {},
   "outputs": [
    {
     "data": {
      "text/plain": [
       "0.0001"
      ]
     },
     "execution_count": 53,
     "metadata": {},
     "output_type": "execute_result"
    }
   ],
   "source": [
    "1.0e-4"
   ]
  },
  {
   "cell_type": "code",
   "execution_count": 54,
   "id": "a7b3ca86",
   "metadata": {},
   "outputs": [
    {
     "data": {
      "text/plain": [
       "0.0004005"
      ]
     },
     "execution_count": 54,
     "metadata": {},
     "output_type": "execute_result"
    }
   ],
   "source": [
    "# 0.0004005 => 지수로 표현하기\n",
    "# 내가 만든 예시: 4005.0e-7\n",
    "4.005e-4"
   ]
  },
  {
   "cell_type": "markdown",
   "id": "aa1ffbcf",
   "metadata": {},
   "source": [
    "### Ch03. 연습문제"
   ]
  },
  {
   "cell_type": "code",
   "execution_count": 67,
   "id": "a3befbda",
   "metadata": {},
   "outputs": [
    {
     "name": "stdout",
     "output_type": "stream",
     "text": [
      "3600\n",
      "86400\n",
      "24.0\n",
      "24\n"
     ]
    }
   ],
   "source": [
    "#1. 1시간은 몇 초인가?\n",
    "print(60 * 60)\n",
    "\n",
    "#2. 계산한 결과를 seconds_per_hour 변수에 저장해보자.\n",
    "seconds_per_hour = 60 * 60\n",
    "\n",
    "#3. 1일은 몇 초인가? seconds_per_hour 변수를 사용해보자.\n",
    "print(seconds_per_hour * 24)\n",
    "\n",
    "#4. 게산한 결과를 seconds_per_day 변수에 저장해보자.\n",
    "seconds_per_day = seconds_per_hour * 24\n",
    "\n",
    "#5. 부동소수점(/) 나눗셈을 사용해서 seconds_per_day를 seconds_per_hour로 나누어보자.\n",
    "print(seconds_per_day / seconds_per_hour)\n",
    "\n",
    "#6. 정수(//) 나눗셈을 사용해서 seconds_per_day를 seconds_per_hour로 나눈다. 3.5 문제 결과에서 본 .0 부분을 제외하고 결과가 같은가?\n",
    "print(seconds_per_day // seconds_per_hour)"
   ]
  },
  {
   "cell_type": "markdown",
   "id": "aa1a16cc",
   "metadata": {},
   "source": [
    "# Ch04. if조건문\n",
    "### 주석 달기\n",
    "- `#` -> hash(해시), sharp(샤프), pound(파운드), ooctothorpe(옥토소프)\n",
    "- `#` 시작 지점부터 같은 라인 끝까지가 주석 처리됨. 라인이 바뀌면 코드로 인식\n",
    "-  `\"\"\" \"\"\"`: 2줄 이상의 긴 주석을 쓸 때\n",
    "- 문자열 안에 있는 sharp `#`는 부호로 인식한다.\n",
    "- 이유 -> 코드에 대한 설명은 최대한 하지 않아야 함.(코드만 보고도 그 코드의 의미를 알아야 함 -> 코더의 실력) => 의도를 나타나기 위해, 혹은 오류가 있을 경우에 주석을 단다.\n",
    "\n",
    "\n",
    "- 라인 유지하기\n",
    "    - 들여쓰기 (default space 4개, 탭을 이용해서)\n",
    "    - 논리 구조를 나타내기 때문에 굉장히 중요\n",
    "    - 한 라인에 80자 정도 (백슬래시`\\`로 라인을 끊어주기)\n",
    "    - 줄 끝에 \\ 입력하면, 파이썬은 다음 줄을 같은 줄로 인식"
   ]
  },
  {
   "cell_type": "code",
   "execution_count": 75,
   "id": "cbc42966",
   "metadata": {},
   "outputs": [
    {
     "name": "stdout",
     "output_type": "stream",
     "text": [
      "3\n"
     ]
    }
   ],
   "source": [
    "a = 3  #주석\n",
    "\"\"\"\n",
    "주석1\n",
    "주석2\n",
    "주석3\n",
    "\"\"\"\n",
    "print(a)"
   ]
  },
  {
   "cell_type": "code",
   "execution_count": 58,
   "id": "c5765312",
   "metadata": {},
   "outputs": [
    {
     "name": "stdout",
     "output_type": "stream",
     "text": [
      "hey, there #\n"
     ]
    }
   ],
   "source": [
    "# but, hash가 문자열 안에 있다면 동작 x\n",
    "print(\"hey, there #\")\n",
    "# `''' '''`(single quote)로도 나타낼 수 있음"
   ]
  },
  {
   "cell_type": "code",
   "execution_count": 107,
   "id": "7013b180",
   "metadata": {},
   "outputs": [
    {
     "name": "stdout",
     "output_type": "stream",
     "text": [
      "105\n"
     ]
    }
   ],
   "source": [
    "num_set = (1 + \\\n",
    "+ 8 + 9) \\\n",
    "/ 4 * 2 \\\n",
    "- 4 \\\n",
    "+ 100\n",
    "\n",
    "print(int(num_set))"
   ]
  },
  {
   "cell_type": "markdown",
   "id": "200a70f5",
   "metadata": {},
   "source": [
    "### if\n",
    "- if 조건문\n",
    "    - if <조건식>:\n",
    "          <실행할 코드>\n",
    "- if-else 조건문\n",
    "    - if <조건식>:\n",
    "          <실행할 코드1>\n",
    "      else:\n",
    "           <실행할 코드2>\n",
    "- if-elif-else 조건문\n",
    "    - if <조건식>:\n",
    "          <실행할 코드1>\n",
    "      elif <조건식>:\n",
    "           <실행할 코드3>\n",
    "           ...\n",
    "      else:\n",
    "           <실행할 코드2>"
   ]
  },
  {
   "cell_type": "code",
   "execution_count": 74,
   "id": "033d0212",
   "metadata": {},
   "outputs": [],
   "source": [
    "if 3 == 1:\n",
    "    print(\"두 수는 같지 않다.\")"
   ]
  },
  {
   "cell_type": "code",
   "execution_count": 60,
   "id": "7dd3b762",
   "metadata": {},
   "outputs": [
    {
     "name": "stdout",
     "output_type": "stream",
     "text": [
      "두 수는 같지 않다.\n"
     ]
    }
   ],
   "source": [
    "if 3 != 1:\n",
    "    print(\"두 수는 같지 않다.\")\n",
    "else:\n",
    "    print(\"두 수가 같다.\")"
   ]
  },
  {
   "cell_type": "code",
   "execution_count": 61,
   "id": "4d29d78f",
   "metadata": {},
   "outputs": [
    {
     "name": "stdout",
     "output_type": "stream",
     "text": [
      "3보다 크다\n"
     ]
    }
   ],
   "source": [
    "a = 4\n",
    "if a < 3:\n",
    "    print(\"3보다 작다\")\n",
    "elif a == 3:\n",
    "    print(\"3이다\")\n",
    "else:\n",
    "    print(\"3보다 크다\")\n",
    "    \n",
    "# 첫 번째 if문의 조건에 해당하지 않는다면, 다음 elif문으로 넘어감."
   ]
  },
  {
   "cell_type": "code",
   "execution_count": 91,
   "id": "53d25e26",
   "metadata": {},
   "outputs": [
    {
     "name": "stdout",
     "output_type": "stream",
     "text": [
      "3보다 크다\n"
     ]
    }
   ],
   "source": [
    "if a < 3:\n",
    "    print(\"3보다 작다\")\n",
    "if a == 3:\n",
    "    print(\"3이다\")\n",
    "if a > 4:\n",
    "    print(\"3보다 크다\")\n",
    "    \n",
    "# 각각의 if문을 따로 인식하여 결과가 나오지 않음."
   ]
  },
  {
   "cell_type": "markdown",
   "id": "1c47c802",
   "metadata": {},
   "source": [
    "### 비교 연산자\n",
    "- x < y\n",
    "- x > y\n",
    "- x >= y\n",
    "- x <= y\n",
    "- x == y (값이 같음)\n",
    "- x != y (값이 다름)\n",
    "- x is y (값, 메모리주소)\n",
    "- x is not y"
   ]
  },
  {
   "cell_type": "markdown",
   "id": "bc2ebac0",
   "metadata": {},
   "source": [
    "### Quiz 3\n",
    "- 1. 시험 점수를 입력 받고 80점 이상이며 True, 아니면 False 반환하기\n",
    "- 2. 시험 점수를 입력 받고 95점 이상이면 A+, 90점 이상이면 A, 85점 이상이면 B+, 나머지는 F로 출력하세요."
   ]
  },
  {
   "cell_type": "code",
   "execution_count": 63,
   "id": "49fc540d",
   "metadata": {},
   "outputs": [
    {
     "name": "stdout",
     "output_type": "stream",
     "text": [
      "시험 점수를 입력하세요: 90\n",
      "True\n"
     ]
    }
   ],
   "source": [
    "#Quiz 3-1.\n",
    "score = int(input(\"시험 점수를 입력하세요: \"))\n",
    "if score >= 80:\n",
    "  print(\"True\")\n",
    "else:\n",
    "  print(\"False\")"
   ]
  },
  {
   "cell_type": "code",
   "execution_count": 65,
   "id": "1cf32057",
   "metadata": {},
   "outputs": [
    {
     "name": "stdout",
     "output_type": "stream",
     "text": [
      "시험 점수를 입력하세요: 94\n",
      "A\n"
     ]
    }
   ],
   "source": [
    "#Quiz 3-2.\n",
    "score = int(input(\"시험 점수를 입력하세요: \"))\n",
    "if score >= 95:\n",
    "  print(\"A+\")\n",
    "elif score >= 90:\n",
    "  print(\"A\")\n",
    "elif score >= 85:\n",
    "  print(\"B+\")\n",
    "else:\n",
    "  print(\"F\")"
   ]
  },
  {
   "cell_type": "code",
   "execution_count": 112,
   "id": "a00ee3e9",
   "metadata": {},
   "outputs": [
    {
     "name": "stdout",
     "output_type": "stream",
     "text": [
      "1~10 숫자 중 하나 선택: 4\n",
      "1~10 숫자 중 하나 선택(secret에서 선택한 숫자 제외): 7\n",
      "too high\n"
     ]
    }
   ],
   "source": [
    "## 연습문제\n",
    "\n",
    "#4-1. 1~10 사이 숫자를 선택해서 secret 변수에 할당. 1~10 사이 다른 숫자 선택해서 guess변수에 할당. if, elif, else문 사용하여 guess변수가 secret 변수보다 작으면 'too low', 크면 'too high', 일치하면 'just right' 출력\n",
    "secret = int(input('1~10 숫자 중 하나 선택: '))\n",
    "guess = int(input('1~10 숫자 중 하나 선택(secret에서 선택한 숫자 제외): '))\n",
    "\n",
    "if guess < secret:\n",
    "    print(\"too low\")\n",
    "elif guess > secret:\n",
    "    print(\"too high\")\n",
    "else:\n",
    "    print(\"just right\")"
   ]
  },
  {
   "cell_type": "code",
   "execution_count": 116,
   "id": "5da0f0e0",
   "metadata": {},
   "outputs": [
    {
     "name": "stdout",
     "output_type": "stream",
     "text": [
      "cherry\n"
     ]
    }
   ],
   "source": [
    "#4-2. True나 False를 small과 green 변수에 할당. if,else문을 사용하여 작은 것(small)과 녹색(green)을 기준으로 체리, 완두콩, 수박, 호박(cherry, pea, watermelon, pumpkin) 출력\n",
    "small = True\n",
    "green = False\n",
    "if green:\n",
    "    if small:\n",
    "        print('pea')\n",
    "    else:\n",
    "        print('watermelon')\n",
    "else:\n",
    "    if small:\n",
    "        print('cherry')\n",
    "    else:\n",
    "        print('pumpkin')"
   ]
  }
 ],
 "metadata": {
  "kernelspec": {
   "display_name": "Python 3 (ipykernel)",
   "language": "python",
   "name": "python3"
  },
  "language_info": {
   "codemirror_mode": {
    "name": "ipython",
    "version": 3
   },
   "file_extension": ".py",
   "mimetype": "text/x-python",
   "name": "python",
   "nbconvert_exporter": "python",
   "pygments_lexer": "ipython3",
   "version": "3.9.7"
  }
 },
 "nbformat": 4,
 "nbformat_minor": 5
}
