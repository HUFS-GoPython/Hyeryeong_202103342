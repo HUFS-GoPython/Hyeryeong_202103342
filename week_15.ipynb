{
  "nbformat": 4,
  "nbformat_minor": 0,
  "metadata": {
    "colab": {
      "name": "week_15.ipynb",
      "provenance": [],
      "collapsed_sections": [],
      "mount_file_id": "1rhU4cVxsCyI50BrW4dLoFdme4cyxcz_-",
      "authorship_tag": "ABX9TyMrFNWQTaifPiOsnyHwCaPd",
      "include_colab_link": true
    },
    "kernelspec": {
      "name": "python3",
      "display_name": "Python 3"
    },
    "language_info": {
      "name": "python"
    }
  },
  "cells": [
    {
      "cell_type": "markdown",
      "metadata": {
        "id": "view-in-github",
        "colab_type": "text"
      },
      "source": [
        "<a href=\"https://colab.research.google.com/github/HUFS-Programming-2022/Hyeryeong_202103342/blob/main/week_15.ipynb\" target=\"_parent\"><img src=\"https://colab.research.google.com/assets/colab-badge.svg\" alt=\"Open In Colab\"/></a>"
      ]
    },
    {
      "cell_type": "markdown",
      "source": [
        "# 고급파이썬프로그래밍_15주차 "
      ],
      "metadata": {
        "id": "mgbvXgVL7RsJ"
      }
    },
    {
      "cell_type": "markdown",
      "source": [
        "# CH16"
      ],
      "metadata": {
        "id": "m97aqcyrXGXq"
      }
    },
    {
      "cell_type": "markdown",
      "source": [
        "## 1. 파일과 디렉터리\n",
        "- 파일: 컴퓨터를 실행할 때 가장 기본이 되는 단위\n",
        "- 디렉터리: 폴더, 파일을 논리적으로 묶어놓은 단위\n",
        "  - 지빠구리: a,b,c,...\n",
        "- 파일 = 파일명 + 확장자(.txt,.csv,...)\n",
        "- 바이너리, 텍스트\n",
        "  - 바이너리: 내용을 확인할 수는 없고, 내용을 확인하려면 특정 프로그램을 통해야 함.(ex. 엑셀, 워드,..)\n",
        "  - 텍스트: 바이너리 -> 문자로 변환\n",
        "     - 메모장, python, html,...\n",
        "     - 변경 기준: 아스키코드, 유니코드 제정(\"인코딩\")\n",
        "     - utf-8\n",
        "     - cp494\n",
        "- f = open(파일명, 모드)\n",
        "  - r: read(default)\n",
        "  - w: write(없으면 새로 만들고 있으면 덮어쓴다)\n",
        "  - a: add(기존 파일에 마지막에 추가)\n",
        "  - x: write(없을 때만 쓸 수 있게)\n",
        "  - b: 바이너리\n",
        "  - t: (default) 텍스트\n",
        "     - t는 위에 것들과 합쳐 rb, rt,...로 많이 씀 \n",
        "\n",
        "- with open(파일, 모드) as f:\n",
        "  .... open 함수 기능이 유지되는 블록\n",
        "  data = f.read()\n",
        "자원 해체됨 (자동)"
      ],
      "metadata": {
        "id": "VOu32_2MXQqf"
      }
    },
    {
      "cell_type": "code",
      "source": [
        "f = open('test.txt','r')\n",
        "data = f.read()"
      ],
      "metadata": {
        "id": "1EIvPTGKatPS"
      },
      "execution_count": null,
      "outputs": []
    },
    {
      "cell_type": "code",
      "source": [
        "f.read(5)"
      ],
      "metadata": {
        "id": "eOvHjsKIYkC4"
      },
      "execution_count": null,
      "outputs": []
    },
    {
      "cell_type": "code",
      "source": [
        "f.close()   # 자원 해제 -> 다른 프로그램에서 동시에 호출하면 에러남"
      ],
      "metadata": {
        "id": "ElmCK4sRYkRy"
      },
      "execution_count": null,
      "outputs": []
    },
    {
      "cell_type": "code",
      "source": [
        "with open('test.txt', 'r') as f:\n",
        "  data = f.read()\n",
        "  # 텍스트 정제\n",
        "  data = [line.strip() for line in data]\n",
        "data"
      ],
      "metadata": {
        "id": "QLVjxgxrZzsG"
      },
      "execution_count": null,
      "outputs": []
    },
    {
      "cell_type": "code",
      "source": [
        "# read() : str\n",
        "# readline(): 한줄씩\n",
        "# readlines(): 전체를 한줄씩 str 담아서 리스트로"
      ],
      "metadata": {
        "id": "FcouAyenaDiv"
      },
      "execution_count": null,
      "outputs": []
    },
    {
      "cell_type": "code",
      "source": [
        "file = 'text2.txt'\n",
        "\n",
        "with open(flie) as f:\n",
        "  f.read()"
      ],
      "metadata": {
        "id": "TWpzrjjqadUA"
      },
      "execution_count": null,
      "outputs": []
    },
    {
      "cell_type": "code",
      "source": [
        "!pwd"
      ],
      "metadata": {
        "id": "YOVhszlOauoL"
      },
      "execution_count": null,
      "outputs": []
    },
    {
      "cell_type": "code",
      "source": [
        "# . : 현재 위치\n",
        "# .. : 상위 디렉터리"
      ],
      "metadata": {
        "id": "WUpMNxTOawg6"
      },
      "execution_count": null,
      "outputs": []
    },
    {
      "cell_type": "markdown",
      "source": [
        "### 1-2. 쓰기"
      ],
      "metadata": {
        "id": "DlYtbN64bHqN"
      }
    },
    {
      "cell_type": "code",
      "source": [
        "file = 'test3,txt'\n",
        "f = open(file, 'w', encoding = 'utf-8')"
      ],
      "metadata": {
        "id": "H7DiQ1UWbJGD"
      },
      "execution_count": null,
      "outputs": []
    },
    {
      "cell_type": "code",
      "source": [
        "for i in range(10):\n",
        "  data = f'{i}번째 줄입니다.\\n'\n",
        "  f.write(data)"
      ],
      "metadata": {
        "id": "8eptkW7DbSgM"
      },
      "execution_count": null,
      "outputs": []
    },
    {
      "cell_type": "code",
      "source": [
        "f.close()"
      ],
      "metadata": {
        "id": "lysu1RbnbdAr"
      },
      "execution_count": null,
      "outputs": []
    },
    {
      "cell_type": "code",
      "source": [
        "f = open(file, 'a')\n",
        "print('새로운 줄 추가', file = f)   # 프린트에서도 간단하게 추가 가능"
      ],
      "metadata": {
        "id": "3wxpnx7SbjHK"
      },
      "execution_count": null,
      "outputs": []
    },
    {
      "cell_type": "code",
      "source": [
        "f.close()"
      ],
      "metadata": {
        "id": "0F-0MZdpbyHI"
      },
      "execution_count": null,
      "outputs": []
    },
    {
      "cell_type": "markdown",
      "source": [
        "### 다른 디렉토리에 파일 쓰기\n",
        "- os"
      ],
      "metadata": {
        "id": "JrZbSUapb570"
      }
    },
    {
      "cell_type": "code",
      "source": [
        "import os"
      ],
      "metadata": {
        "id": "T21nobN_byDi"
      },
      "execution_count": null,
      "outputs": []
    },
    {
      "cell_type": "code",
      "source": [
        "file = './folder1/test3.txt'\n",
        "f = open(file, 'w', encoding = 'utf-8')\n",
        "f.close()"
      ],
      "metadata": {
        "id": "hAzDP5B-b2Kh"
      },
      "execution_count": null,
      "outputs": []
    },
    {
      "cell_type": "code",
      "source": [
        "# folder 만들고\n",
        "os.mkdir('folder1')\n",
        "# 파일 쓰기"
      ],
      "metadata": {
        "id": "caE9iGDKb2HB"
      },
      "execution_count": null,
      "outputs": []
    },
    {
      "cell_type": "code",
      "source": [
        "# 없을 때 만들어라\n",
        "if not os.paht.isdir('folder1'):\n",
        "  os.mkdir('folder1')"
      ],
      "metadata": {
        "id": "cGxcir7Eb2Eo"
      },
      "execution_count": null,
      "outputs": []
    },
    {
      "cell_type": "code",
      "source": [
        "os.path.exists(file)   # assert"
      ],
      "metadata": {
        "id": "YqDSW8u9b2CF"
      },
      "execution_count": null,
      "outputs": []
    },
    {
      "cell_type": "code",
      "source": [
        "os.remove(file)\n",
        "os.rmdir(dir_name)"
      ],
      "metadata": {
        "id": "4xOk1KQjb1_4"
      },
      "execution_count": null,
      "outputs": []
    },
    {
      "cell_type": "code",
      "source": [
        "# folder: 새로 만들고\n",
        "# 파일 쓰기: 내용 아무거나\n",
        "# 열기"
      ],
      "metadata": {
        "id": "OMd9ySOEdQdP"
      },
      "execution_count": null,
      "outputs": []
    },
    {
      "cell_type": "code",
      "source": [
        "file- = './opt/google/drive/folder0/text0.txt'\n",
        "f = open(file0, 'w', encoding = 'utf-8')\n",
        "f.close()"
      ],
      "metadata": {
        "id": "5F6GiR1ibGtC"
      },
      "execution_count": null,
      "outputs": []
    },
    {
      "cell_type": "code",
      "source": [
        "import shutil\n",
        "shutil.rmtree('folder1')"
      ],
      "metadata": {
        "id": "trKICEHPbU_o"
      },
      "execution_count": null,
      "outputs": []
    },
    {
      "cell_type": "code",
      "source": [
        "#상위폴더에 쓰고 싶다\n",
        "os.getcwd()"
      ],
      "metadata": {
        "id": "QWMbgn-bfz2b"
      },
      "execution_count": null,
      "outputs": []
    },
    {
      "cell_type": "code",
      "source": [
        "os.chdir('..')"
      ],
      "metadata": {
        "id": "NjyarIeSf5F8"
      },
      "execution_count": null,
      "outputs": []
    },
    {
      "cell_type": "markdown",
      "source": [
        "### pickle\n",
        "- 객체를 저장, 불러들일 수 있다.\n",
        "- 저장: pickle.dump(변수, 파일명)\n",
        "- 열 때: 변수명 = pickle.load(파일)"
      ],
      "metadata": {
        "id": "f_w7NarJf8re"
      }
    },
    {
      "cell_type": "code",
      "source": [
        "import pickle"
      ],
      "metadata": {
        "id": "R9zmT7wcf_mp"
      },
      "execution_count": null,
      "outputs": []
    },
    {
      "cell_type": "code",
      "source": [
        "f = open('test.pickle', 'wb')\n",
        "pickle.dump(num,f)\n",
        "f.close()"
      ],
      "metadata": {
        "id": "5rTeRgtof5AT"
      },
      "execution_count": null,
      "outputs": []
    },
    {
      "cell_type": "code",
      "source": [
        "num = list(range(10))\n",
        "num"
      ],
      "metadata": {
        "id": "R3779krOf4-V"
      },
      "execution_count": null,
      "outputs": []
    },
    {
      "cell_type": "code",
      "source": [
        "with open('test.pickle', 'rb') as f:\n",
        "  number = pickle.load(f)"
      ],
      "metadata": {
        "id": "IykwMIQkf48G"
      },
      "execution_count": null,
      "outputs": []
    },
    {
      "cell_type": "code",
      "source": [
        "number"
      ],
      "metadata": {
        "id": "5beQo0TSf4xA"
      },
      "execution_count": null,
      "outputs": []
    },
    {
      "cell_type": "markdown",
      "source": [
        "#### 기말고사\n",
        "- 어떤 테스크 주면 모델 구현\n",
        "- 어떤 기능이 있어야 하는지 조건은 구체적으로 줄 것\n",
        "- 프로그램이 돌아가는지 안 돌아가는지를 기준으로 점수 부여\n",
        "  - 완성도\n",
        "  - 코드 짜는 것\n",
        "- 시간 암배 주의\n",
        "\n",
        "- 구구단 코드 꼭 다시 보기\n",
        " - 루프 순회하는 거 유용하게 쓸 수 있을 것\n",
        "- 우리가 지금까지 배웠던 것 중 유용한 것\n",
        " - 미리 함수로 만들어서 자료 빼놓기\n",
        "- 의사코드 x, 독스트링은 한줄정도\n",
        "- 검색은 자유롭게 할 수 있음\n",
        "- 배우지 않은 라이브러리 쓰지 않는 걸 추천\n",
        "- 파일 이름, 확장자 정해놓음 -> 지켜야 함\n",
        "- 점수는 항목별로 채점할 것\n",
        "- 웹엑스 안 열 것\n",
        "- 플랫폼은 이클래스 과제란"
      ],
      "metadata": {
        "id": "QicgaMG6gjIn"
      }
    }
  ]
}