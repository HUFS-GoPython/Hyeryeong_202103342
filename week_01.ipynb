{
 "cells": [
  {
   "cell_type": "markdown",
   "id": "3ef93b1e",
   "metadata": {},
   "source": [
    "# Heading 3 #\n",
    "## 프로그래밍이란?\n",
    "- programming : 프로그래밍 언어를 사용하여 프로그램을 개발하는 것\n",
    "- program : 일련의 작업을 자동화하는 것\n",
    "- python : 프로그래밍 언어 중 하나. 인간이 컴퓨터에게 작업을 명령하기 위해 사용하는 컴퓨터가 이해할 수 있는 언어\n",
    "\n",
    "## Ch 02. Data: Types, Values, Variables, Names"
   ]
  },
  {
   "cell_type": "code",
   "execution_count": 1,
   "id": "87634e64",
   "metadata": {},
   "outputs": [
    {
     "name": "stdout",
     "output_type": "stream",
     "text": [
      "2\n"
     ]
    }
   ],
   "source": [
    "a = 2   # a에 2를 대입했다\n",
    "print(a)"
   ]
  },
  {
   "cell_type": "markdown",
   "id": "8aac880b",
   "metadata": {},
   "source": [
    "- (markdown = m+)\n",
    "- 변수 | variable(i,e,a) : 측정 값을 저장하는 공간\n",
    "- 값 | value : 2\n",
    "- 자료형 | type : 2가 어떤 타입인가? 데이터의 형태(i.e. integer, int타입)\n",
    "- 할당하다 | assign : 2를 a에 넣는 과정\n",
    "- a가 2다. -> a == 2 (a는 2와 같다)"
   ]
  },
  {
   "cell_type": "code",
   "execution_count": 21,
   "id": "06657839",
   "metadata": {},
   "outputs": [
    {
     "data": {
      "text/plain": [
       "True"
      ]
     },
     "execution_count": 21,
     "metadata": {},
     "output_type": "execute_result"
    }
   ],
   "source": [
    "a == 2  # a = 2(a에 2를 할당)와 차이 알기"
   ]
  },
  {
   "cell_type": "markdown",
   "id": "0c6ef5e9",
   "metadata": {},
   "source": [
    "### 변수의 타입\n",
    "- boolean | 불리언 : True, False (bool)\n",
    "- integer | 정수 : 1,2,3,4,... (int)\n",
    "- floating point number | 부동 소수점 : 1.0, 2.0, 0.45,... (float)\n",
    "- string | 문자열 : 'apple'(single quote), \"apple\"(double quote) (str)"
   ]
  },
  {
   "cell_type": "code",
   "execution_count": 3,
   "id": "bfd51494",
   "metadata": {},
   "outputs": [
    {
     "name": "stdout",
     "output_type": "stream",
     "text": [
      "4 <class 'int'>\n"
     ]
    }
   ],
   "source": [
    "num = 4\n",
    "print(num, type(num))"
   ]
  },
  {
   "cell_type": "code",
   "execution_count": 5,
   "id": "55941a57",
   "metadata": {},
   "outputs": [
    {
     "name": "stdout",
     "output_type": "stream",
     "text": [
      "<class 'bool'>\n",
      "<class 'float'>\n"
     ]
    }
   ],
   "source": [
    "print(type(a == 2))\n",
    "print(type(1.0))"
   ]
  },
  {
   "cell_type": "code",
   "execution_count": 22,
   "id": "5093b7d9",
   "metadata": {},
   "outputs": [
    {
     "name": "stdout",
     "output_type": "stream",
     "text": [
      "my name <class 'str'>\n"
     ]
    }
   ],
   "source": [
    "name = 'my name'\n",
    "print(name, type(name))"
   ]
  },
  {
   "cell_type": "code",
   "execution_count": 7,
   "id": "f052d2cc",
   "metadata": {},
   "outputs": [
    {
     "ename": "NameError",
     "evalue": "name 'my_name' is not defined",
     "output_type": "error",
     "traceback": [
      "\u001b[1;31m---------------------------------------------------------------------------\u001b[0m",
      "\u001b[1;31mNameError\u001b[0m                                 Traceback (most recent call last)",
      "\u001b[1;32m~\\AppData\\Local\\Temp/ipykernel_6652/3526177431.py\u001b[0m in \u001b[0;36m<module>\u001b[1;34m\u001b[0m\n\u001b[1;32m----> 1\u001b[1;33m \u001b[0mmy_name\u001b[0m  \u001b[1;31m# 변수명으로 인식, 없는 변수 -> 에러\u001b[0m\u001b[1;33m\u001b[0m\u001b[1;33m\u001b[0m\u001b[0m\n\u001b[0m",
      "\u001b[1;31mNameError\u001b[0m: name 'my_name' is not defined"
     ]
    }
   ],
   "source": [
    "my_name  # 변수명으로 인식, 없는 변수 -> 에러"
   ]
  },
  {
   "cell_type": "markdown",
   "id": "65cc1d2b",
   "metadata": {},
   "source": [
    "### single quote 안에 single quote를 문자로 인식하는 방법\n",
    "- 예: 'I'm Sam.'\n",
    "- 1. 슬래쉬 사용 i.e. print('I\\'m Sam.')\n",
    "- 2. 더블 quote로 바꾸기 i.e. print(\"I'm Sam.\")"
   ]
  },
  {
   "cell_type": "code",
   "execution_count": 8,
   "id": "f4c27434",
   "metadata": {},
   "outputs": [
    {
     "name": "stdout",
     "output_type": "stream",
     "text": [
      "I'm Sam.\n",
      "I'm Sam.\n"
     ]
    }
   ],
   "source": [
    "#1. 슬래쉬 사용\n",
    "print('I\\'m Sam.')\n",
    "\n",
    "#2. double quote로 바꾸기\n",
    "print(\"I'm Sam.\")"
   ]
  },
  {
   "cell_type": "markdown",
   "id": "ccf6f7a0",
   "metadata": {},
   "source": [
    "### 변수명 정하기\n",
    "- 소문자, 대문자, 숫자, 언더바(_) 사용한다.\n",
    "-  예: name, my_name, NAME, Name, name3 (대문자는 특별한 용도가 있기 때문에 가능한 한 안 쓰는 게 좋음.)\n",
    "-  불가능한 예: my-name, 3name\n",
    "\n",
    "### 변수명으로 사용할 수 없는 케이스\n",
    "- 1. 숫자로 시작할 수 없다.\n",
    "- 2. 예약어는 사용할 수 없다."
   ]
  },
  {
   "cell_type": "code",
   "execution_count": 9,
   "id": "98caf797",
   "metadata": {},
   "outputs": [
    {
     "data": {
      "text/plain": [
       "'lee'"
      ]
     },
     "execution_count": 9,
     "metadata": {},
     "output_type": "execute_result"
    }
   ],
   "source": [
    "name = 'lee'\n",
    "name"
   ]
  },
  {
   "cell_type": "code",
   "execution_count": 24,
   "id": "d00b559b",
   "metadata": {},
   "outputs": [
    {
     "ename": "SyntaxError",
     "evalue": "invalid syntax (Temp/ipykernel_6652/1622139058.py, line 1)",
     "output_type": "error",
     "traceback": [
      "\u001b[1;36m  File \u001b[1;32m\"C:\\Users\\user\\AppData\\Local\\Temp/ipykernel_6652/1622139058.py\"\u001b[1;36m, line \u001b[1;32m1\u001b[0m\n\u001b[1;33m    3name = 'kim'  # 숫자는 변수명 맨 앞에 올 수 없다.\u001b[0m\n\u001b[1;37m     ^\u001b[0m\n\u001b[1;31mSyntaxError\u001b[0m\u001b[1;31m:\u001b[0m invalid syntax\n"
     ]
    }
   ],
   "source": [
    "3name = 'kim'  # 숫자는 변수명 맨 앞에 올 수 없다."
   ]
  },
  {
   "cell_type": "code",
   "execution_count": 25,
   "id": "b4d47149",
   "metadata": {},
   "outputs": [
    {
     "ename": "SyntaxError",
     "evalue": "invalid syntax (Temp/ipykernel_6652/3711118920.py, line 1)",
     "output_type": "error",
     "traceback": [
      "\u001b[1;36m  File \u001b[1;32m\"C:\\Users\\user\\AppData\\Local\\Temp/ipykernel_6652/3711118920.py\"\u001b[1;36m, line \u001b[1;32m1\u001b[0m\n\u001b[1;33m    def = 'Hwang'  # 예약어는 변수명으로 사용할 수 없다.\u001b[0m\n\u001b[1;37m        ^\u001b[0m\n\u001b[1;31mSyntaxError\u001b[0m\u001b[1;31m:\u001b[0m invalid syntax\n"
     ]
    }
   ],
   "source": [
    "def = 'Hwang'  # 예약어는 변수명으로 사용할 수 없다."
   ]
  },
  {
   "cell_type": "code",
   "execution_count": 28,
   "id": "fc9f58f7",
   "metadata": {},
   "outputs": [
    {
     "ename": "SyntaxError",
     "evalue": "cannot assign to operator (Temp/ipykernel_6652/1507805401.py, line 1)",
     "output_type": "error",
     "traceback": [
      "\u001b[1;36m  File \u001b[1;32m\"C:\\Users\\user\\AppData\\Local\\Temp/ipykernel_6652/1507805401.py\"\u001b[1;36m, line \u001b[1;32m1\u001b[0m\n\u001b[1;33m    my-name = 'Cho' # my-name은 불가능한 변수명 예시이다.\u001b[0m\n\u001b[1;37m    ^\u001b[0m\n\u001b[1;31mSyntaxError\u001b[0m\u001b[1;31m:\u001b[0m cannot assign to operator\n"
     ]
    }
   ],
   "source": [
    "my-name = 'Cho' # my-name은 불가능한 변수명 예시이다."
   ]
  },
  {
   "cell_type": "code",
   "execution_count": 11,
   "id": "c322d95a",
   "metadata": {},
   "outputs": [
    {
     "name": "stdout",
     "output_type": "stream",
     "text": [
      "\n",
      "Here is a list of the Python keywords.  Enter any keyword to get more help.\n",
      "\n",
      "False               break               for                 not\n",
      "None                class               from                or\n",
      "True                continue            global              pass\n",
      "__peg_parser__      def                 if                  raise\n",
      "and                 del                 import              return\n",
      "as                  elif                in                  try\n",
      "assert              else                is                  while\n",
      "async               except              lambda              with\n",
      "await               finally             nonlocal            yield\n",
      "\n"
     ]
    }
   ],
   "source": [
    "help(\"keywords\")"
   ]
  },
  {
   "cell_type": "markdown",
   "id": "52e0e17c",
   "metadata": {},
   "source": [
    "### 주의할 점(특별한 용도가 있어 일반적으로 사용하지 않는 변수 타입)\n",
    "- 1. 언더바로 시작하는 변수명- 예: `_name`\n",
    "- 2. 언더바가 2개 있는 변수명- 예: `__name__`\n",
    "- 3. 대문자로 시작하는 변수명- 예: `Car`\n",
    "- 4. 전체가 대문자인 변수명-예: `CAR`\n",
    "\n",
    "**좋은 변수명 : 이름만으로도 용도를 확실히 알 수 있는 변수명"
   ]
  },
  {
   "cell_type": "markdown",
   "id": "75338d54",
   "metadata": {},
   "source": [
    "- number != Number (대소문자 구분한다.)"
   ]
  },
  {
   "cell_type": "code",
   "execution_count": 29,
   "id": "7d9ac397",
   "metadata": {},
   "outputs": [
    {
     "name": "stdout",
     "output_type": "stream",
     "text": [
      "False\n",
      "True\n"
     ]
    }
   ],
   "source": [
    "# 대소문자 구분\n",
    "word1 = 'number'\n",
    "word2 = 'Number'\n",
    "print(word1 == word2)\n",
    "print(word1 != word2)"
   ]
  },
  {
   "cell_type": "markdown",
   "id": "cc5c68af",
   "metadata": {},
   "source": [
    "## 할당하기\n",
    "- 수학에서는 =가 양변이 같음을 의미, 프로그램에서는 할당을 의미한다.\n",
    "- 예: name = 'lee' - lee라는 값을 name에 넣는 것.\n",
    "- 오른쪽에 있는 모든 것은 값을 가져야 한다.(\"초기화\")\n",
    "- 변수 타입은 따로 지정하지 않는다."
   ]
  },
  {
   "cell_type": "code",
   "execution_count": 36,
   "id": "35cc57ef",
   "metadata": {},
   "outputs": [],
   "source": [
    "hyundai = 'hyundai'\n",
    "kia = 'kia'\n",
    "truck = kia  \n",
    "# truck은 없는 값이기 때문에 결과가 나오지 않음 -> kia의 값이 truck이라는 변수명에 할당됨"
   ]
  },
  {
   "cell_type": "code",
   "execution_count": 35,
   "id": "43a0dc03",
   "metadata": {},
   "outputs": [
    {
     "name": "stdout",
     "output_type": "stream",
     "text": [
      "kia\n"
     ]
    }
   ],
   "source": [
    "print(truck)"
   ]
  },
  {
   "cell_type": "code",
   "execution_count": 37,
   "id": "c0f8ac90",
   "metadata": {},
   "outputs": [
    {
     "data": {
      "text/plain": [
       "str"
      ]
     },
     "execution_count": 37,
     "metadata": {},
     "output_type": "execute_result"
    }
   ],
   "source": [
    "type(truck)  #str"
   ]
  },
  {
   "cell_type": "code",
   "execution_count": 14,
   "id": "d7ad1b4c",
   "metadata": {},
   "outputs": [
    {
     "name": "stdout",
     "output_type": "stream",
     "text": [
      "2 12\n"
     ]
    }
   ],
   "source": [
    "x = 2\n",
    "y = x + 10  # name 'x' is not defined.(앞줄에서 x의 값을 할당하지 않은 경우)\n",
    "print(x,y)"
   ]
  },
  {
   "cell_type": "code",
   "execution_count": 20,
   "id": "fc10d96b",
   "metadata": {},
   "outputs": [
    {
     "data": {
      "text/plain": [
       "'kia'"
      ]
     },
     "execution_count": 20,
     "metadata": {},
     "output_type": "execute_result"
    }
   ],
   "source": [
    "#str car = 'kia'\n",
    "car = 'kia'\n",
    "car"
   ]
  },
  {
   "cell_type": "code",
   "execution_count": 30,
   "id": "d9709883",
   "metadata": {},
   "outputs": [
    {
     "data": {
      "text/plain": [
       "72"
      ]
     },
     "execution_count": 30,
     "metadata": {},
     "output_type": "execute_result"
    }
   ],
   "source": [
    "## 연습문제\n",
    "#1-3. 8 * 9를 입력하고 엔터키를 눌러보자. 72가 출력되었는가?\n",
    "8 * 9"
   ]
  },
  {
   "cell_type": "code",
   "execution_count": 31,
   "id": "6c58fb16",
   "metadata": {},
   "outputs": [
    {
     "data": {
      "text/plain": [
       "47"
      ]
     },
     "execution_count": 31,
     "metadata": {},
     "output_type": "execute_result"
    }
   ],
   "source": [
    "#1-4. 숫자 47을 입력하고 엔터키를 눌러보자. 47이 출력되었는가?\n",
    "47"
   ]
  },
  {
   "cell_type": "code",
   "execution_count": 33,
   "id": "6bba26fa",
   "metadata": {},
   "outputs": [
    {
     "name": "stdout",
     "output_type": "stream",
     "text": [
      "47\n"
     ]
    }
   ],
   "source": [
    "#1-5. print(47)을 입력하고 엔터키를 눌러보자. 역시 47이 출력되었는가?\n",
    "print(47)"
   ]
  }
 ],
 "metadata": {
  "kernelspec": {
   "display_name": "Python 3 (ipykernel)",
   "language": "python",
   "name": "python3"
  },
  "language_info": {
   "codemirror_mode": {
    "name": "ipython",
    "version": 3
   },
   "file_extension": ".py",
   "mimetype": "text/x-python",
   "name": "python",
   "nbconvert_exporter": "python",
   "pygments_lexer": "ipython3",
   "version": "3.9.7"
  }
 },
 "nbformat": 4,
 "nbformat_minor": 5
}
