{
  "nbformat": 4,
  "nbformat_minor": 0,
  "metadata": {
    "colab": {
      "name": "week_10.ipynb",
      "provenance": [],
      "collapsed_sections": [],
      "authorship_tag": "ABX9TyPHuiBBQAI1fbvtI5V+W10c",
      "include_colab_link": true
    },
    "kernelspec": {
      "name": "python3",
      "display_name": "Python 3"
    },
    "language_info": {
      "name": "python"
    }
  },
  "cells": [
    {
      "cell_type": "markdown",
      "metadata": {
        "id": "view-in-github",
        "colab_type": "text"
      },
      "source": [
        "<a href=\"https://colab.research.google.com/github/HUFS-Programming-2022/Hyeryeong_202103342/blob/main/week_10.ipynb\" target=\"_parent\"><img src=\"https://colab.research.google.com/assets/colab-badge.svg\" alt=\"Open In Colab\"/></a>"
      ]
    },
    {
      "cell_type": "markdown",
      "source": [
        "# 고급파이썬프로그래밍_10주차(0506)\n",
        "- 다음 프로젝트는 함수로 만들어야 점수 나감\n",
        "- 마지막 실습 다음 시간까지 해오기\n",
        "- 독스트링 써야 하긴 하지만, 지금은 안 써도 됨\n",
        "- 다음 프로젝트는 실습과 비슷하게 나감"
      ],
      "metadata": {
        "id": "xpHeFaXVquB3"
      }
    },
    {
      "cell_type": "markdown",
      "source": [
        "### barchart\n",
        "#### defaultdict\n",
        "- 누락된 키 처리\n",
        "- 딕셔너리 생성 시 모든 새 키에 대한 기본값 지정\n",
        "- 값이 없으면 0으로 설정될 수 있게 해주는 딕셔너리\n",
        "- defaultdict(list) # `[]`(빈 리스트)"
      ],
      "metadata": {
        "id": "hA15Isgx11S7"
      }
    },
    {
      "cell_type": "code",
      "source": [
        "import nltk\n",
        "nltk.download('collections')\n",
        "from collections import defaultdict"
      ],
      "metadata": {
        "colab": {
          "base_uri": "https://localhost:8080/"
        },
        "id": "7yW-gFl71Lxb",
        "outputId": "19537f3f-fce3-4696-d80f-013cff4d3398"
      },
      "execution_count": 1,
      "outputs": [
        {
          "output_type": "stream",
          "name": "stdout",
          "text": [
            "[nltk_data] Error loading collections: Package 'collections' not found\n",
            "[nltk_data]     in index\n"
          ]
        }
      ]
    },
    {
      "cell_type": "code",
      "source": [
        "letter = 'defaultdict'\n",
        "empty = {}   # a: [a, a]\n",
        "for ch in letter:\n",
        "  # if empty[ch] = 0\n",
        "  # else 값을 넣어라\n",
        "  empty.setdefault(ch, 0)  # a가 없으면 기본값으로 0을 넣어라\n",
        "  empty[ch] += 1"
      ],
      "metadata": {
        "id": "zZNV9nGD1FDa"
      },
      "execution_count": 2,
      "outputs": []
    },
    {
      "cell_type": "code",
      "source": [
        "empty"
      ],
      "metadata": {
        "colab": {
          "base_uri": "https://localhost:8080/"
        },
        "id": "J3im6NDj1upM",
        "outputId": "9eaf2095-f646-4120-c0ce-476e83eb2cf7"
      },
      "execution_count": 3,
      "outputs": [
        {
          "output_type": "execute_result",
          "data": {
            "text/plain": [
              "{'a': 1, 'c': 1, 'd': 2, 'e': 1, 'f': 1, 'i': 1, 'l': 1, 't': 2, 'u': 1}"
            ]
          },
          "metadata": {},
          "execution_count": 3
        }
      ]
    },
    {
      "cell_type": "code",
      "source": [
        "empty2 = defaultdict(int)\n",
        "for ch in letter:\n",
        "  empty2[ch] += 1\n",
        "\n",
        "empty2"
      ],
      "metadata": {
        "colab": {
          "base_uri": "https://localhost:8080/"
        },
        "id": "avEw0umK1KpJ",
        "outputId": "7fd4e631-7cac-4002-e3ef-96b3e062ae9c"
      },
      "execution_count": 4,
      "outputs": [
        {
          "output_type": "execute_result",
          "data": {
            "text/plain": [
              "defaultdict(int,\n",
              "            {'a': 1,\n",
              "             'c': 1,\n",
              "             'd': 2,\n",
              "             'e': 1,\n",
              "             'f': 1,\n",
              "             'i': 1,\n",
              "             'l': 1,\n",
              "             't': 2,\n",
              "             'u': 1})"
            ]
          },
          "metadata": {},
          "execution_count": 4
        }
      ]
    },
    {
      "cell_type": "markdown",
      "source": [
        "# CH10: Object & Class\n",
        "## 1. Object\n",
        "- 객체 -> 실제적인 물건, 개념(정말 중요한 개념) \n",
        "- 프로그래밍 언어에서, 속성(데이터/변수), 행동(코드/함수)을 가지는 개념\n",
        "- 속성: 클래스나 객체 내부의 변수/ 행동: 클래스 또는 객체의 함수\n",
        "  - 예| 자동차\n",
        "    - 속성: 엔진, 브랜드, 가격, 색상, 이름, ... => 변수\n",
        "    - 행동: 나가다, 정지하다, 좌회전, 우회전 => 메서드(함수)\n",
        "    -> 이 두 가지로 자동차라는 객체 설정\n",
        "  - 예2| 고양이\n",
        "    - 속성: 종, 이름, 컬러, 몸무게, 성별, ...\n",
        "    - 행동: 울다, 뛰다, 걷다, 째려보다, ...\n",
        "  - 예3| 사전(아까 만든 딕셔너리)\n",
        "    - 속성: 글자 수, 시작 글자, 출현 빈도수, ...\n",
        "    - 행동: 추가하다, 제외하다, ...\n",
        "- 관련 짓는 방법\n",
        "    - 예: 사람이 상점에서 물건을 샀다.\n",
        "    - 세 가지 객체로 프로그래밍: 사람, 상점, 물건\n",
        "    - 속성 -> 명사\n",
        "         - 사람: 이름, 돈/ 상점: 재고, 이익, 고객명단/ 물건: 브랜드명, 이름, 가격\n",
        "    - 행동 -> 동사\n",
        "         - 사람: 사다/ 상점: 회원등록, 팔다, 수익계산/\n",
        "- 객체 사용하는 이유: 코드 재사용 수월\n",
        "    "
      ],
      "metadata": {
        "id": "KpBDyWw2rMwf"
      }
    },
    {
      "cell_type": "markdown",
      "source": [
        "## 2. Class\n",
        "- 객체가 가져야 할 기본 정보를 담은 코드\n",
        "- 설계도, 틀, 프레임워크\n",
        "- 붕어빵의 틀\n",
        "- 붕어빵 == 인스턴스\n",
        "- `class Car:`\n",
        "    - 클래스명은 카멜표기법을 쓴다."
      ],
      "metadata": {
        "id": "P8YqLuFl4c8B"
      }
    },
    {
      "cell_type": "code",
      "source": [
        "# 정의\n",
        "class Car:\n",
        "  pass   # pass : 클래스 비어있음\n",
        "\n",
        "# 선언(괄호 꼭 쓸 것)\n",
        "car1 = Car()\n",
        "# Car(): Car 클래스부터 개별 객체를 생성"
      ],
      "metadata": {
        "id": "FwHC3jJq4oa-"
      },
      "execution_count": 5,
      "outputs": []
    },
    {
      "cell_type": "code",
      "source": [
        "car2 = Car()"
      ],
      "metadata": {
        "id": "SCAHuJ3V49bp"
      },
      "execution_count": 6,
      "outputs": []
    },
    {
      "cell_type": "code",
      "source": [
        "car2     # Car 클래스는 빈 클래스 -> 생성한 객체만 존재, 아무것도 할 수 없다."
      ],
      "metadata": {
        "colab": {
          "base_uri": "https://localhost:8080/"
        },
        "id": "493V37zY5AqH",
        "outputId": "19c27d9d-4f63-4553-ea1b-74182aface57"
      },
      "execution_count": 7,
      "outputs": [
        {
          "output_type": "execute_result",
          "data": {
            "text/plain": [
              "<__main__.Car at 0x7fae96e11f50>"
            ]
          },
          "metadata": {},
          "execution_count": 7
        }
      ]
    },
    {
      "cell_type": "code",
      "source": [
        "type(car2)   # nltk.book type == Text"
      ],
      "metadata": {
        "colab": {
          "base_uri": "https://localhost:8080/"
        },
        "id": "J-d37eK75GnF",
        "outputId": "8df324bd-ab0f-4164-f02e-b76ce2feee4f"
      },
      "execution_count": 8,
      "outputs": [
        {
          "output_type": "execute_result",
          "data": {
            "text/plain": [
              "__main__.Car"
            ]
          },
          "metadata": {},
          "execution_count": 8
        }
      ]
    },
    {
      "cell_type": "code",
      "source": [
        "car1.brand = 'mercedes'\n",
        "car2.brand = 'kia'"
      ],
      "metadata": {
        "id": "T97tL6yq5LNB"
      },
      "execution_count": 9,
      "outputs": []
    },
    {
      "cell_type": "code",
      "source": [
        "for car in [car1, car2]:\n",
        "  print(car.brand)"
      ],
      "metadata": {
        "colab": {
          "base_uri": "https://localhost:8080/"
        },
        "id": "O--jCbpD5QcG",
        "outputId": "9a6091ae-7bc0-4976-fab4-662b8bae79f2"
      },
      "execution_count": 10,
      "outputs": [
        {
          "output_type": "stream",
          "name": "stdout",
          "text": [
            "mercedes\n",
            "kia\n"
          ]
        }
      ]
    },
    {
      "cell_type": "code",
      "source": [
        "class Car:\n",
        "  # 속성 정해짐\n",
        "  brand = 'mercedes'\n",
        "\n",
        "car3 = Car()"
      ],
      "metadata": {
        "id": "cGwLXMS55Uik"
      },
      "execution_count": 11,
      "outputs": []
    },
    {
      "cell_type": "code",
      "source": [
        "car3.brand"
      ],
      "metadata": {
        "colab": {
          "base_uri": "https://localhost:8080/",
          "height": 36
        },
        "id": "Sme4LtPF5vQH",
        "outputId": "41f3f804-f9a2-4cbd-9a2c-028aaa38a71f"
      },
      "execution_count": 12,
      "outputs": [
        {
          "output_type": "execute_result",
          "data": {
            "text/plain": [
              "'mercedes'"
            ],
            "application/vnd.google.colaboratory.intrinsic+json": {
              "type": "string"
            }
          },
          "metadata": {},
          "execution_count": 12
        }
      ]
    },
    {
      "cell_type": "code",
      "source": [
        "# 교재 변형\n",
        "class Dog:\n",
        "  pass    \n",
        "\n",
        "my_pet = Dog()\n",
        "another_pet = Dog()\n",
        "\n",
        "my_pet.age = 3\n",
        "my_pet.name = 'Mr.Denny'\n",
        "my_pet.nameis = another_pet\n",
        "# nameis 속성이 다른 Dog 객체를 참조하므로 접근가능\n",
        "\n",
        "my_pet.nameis.name = 'Mr.Dian'  # 다른 객체에 name 속성 할당\n",
        "\n",
        "my_pet.age;my_pet.name;my_pet.nameis.name"
      ],
      "metadata": {
        "colab": {
          "base_uri": "https://localhost:8080/",
          "height": 36
        },
        "id": "JXGiOmUmADSS",
        "outputId": "162eca3d-eaaa-436e-bfa0-3b309991181a"
      },
      "execution_count": 13,
      "outputs": [
        {
          "output_type": "execute_result",
          "data": {
            "text/plain": [
              "'Mr.Dian'"
            ],
            "application/vnd.google.colaboratory.intrinsic+json": {
              "type": "string"
            }
          },
          "metadata": {},
          "execution_count": 13
        }
      ]
    },
    {
      "cell_type": "markdown",
      "source": [
        "## 3. 초기화\n",
        "- `__init__(self)`: 개별 객체 초기화하는 특수 메서드 \n",
        "- self 매개변수\n",
        "   - 개별 객체 자신 참조하도록\n",
        "   - `__init__()` 정의 시, 첫 번째 매개변수 이름은 self\n",
        "   - self는 일반적으로 사용됨(예약어 x)\n",
        "\n"
      ],
      "metadata": {
        "id": "YmXZY6K2oI4m"
      }
    },
    {
      "cell_type": "code",
      "source": [
        "# 다양한 속성을 원한다.\n",
        "class Car:\n",
        "  def __init__(self, brand):    # 속성을 초기화하는 함수 (self == my_car)\n",
        "    self.brand = brand    # self == instance"
      ],
      "metadata": {
        "id": "MjkFPo1_5xrH"
      },
      "execution_count": 14,
      "outputs": []
    },
    {
      "cell_type": "code",
      "source": [
        "my_car = Car(brand = 'toyota')\n",
        "my_car.brand"
      ],
      "metadata": {
        "colab": {
          "base_uri": "https://localhost:8080/",
          "height": 36
        },
        "id": "wXYgWVIg56ND",
        "outputId": "e3805d33-9074-4fd9-86b9-623408aa3a54"
      },
      "execution_count": 15,
      "outputs": [
        {
          "output_type": "execute_result",
          "data": {
            "text/plain": [
              "'toyota'"
            ],
            "application/vnd.google.colaboratory.intrinsic+json": {
              "type": "string"
            }
          },
          "metadata": {},
          "execution_count": 15
        }
      ]
    },
    {
      "cell_type": "code",
      "source": [
        "# color, model 속성 초기화하기\n",
        "# 인스턴스 만들기\n",
        "class Car:\n",
        "  def __init__(self, brand, model, color):    \n",
        "    self.brand = brand   # self == instance\n",
        "    # self.brand = 어떤 객체가 만들어지더라도 가져갈 브랜드명\n",
        "    # brand = 객체 생성 시 설정되는 브랜드명(처음에 들어오는 값)\n",
        "    self.model = model\n",
        "    self.color = color\n",
        "\n",
        "  # action 정의하기\n",
        "  def drive(self):\n",
        "    # 출력: 내 차(브랜드 = {})이 움직인다.\n",
        "    print('차가 움직인다.')\n",
        "\n",
        "  def stop(self):\n",
        "    print('차가 멈춘다.')\n",
        "\n",
        "  def change_pink(self):\n",
        "    # self.color -> 'pink'로 바꾼다.\n",
        "    self.color = 'pink'\n",
        "    print(self.color)\n",
        "\n",
        "my_morning = Car('kia', 'morning', 'black')"
      ],
      "metadata": {
        "id": "CHsdQFpJ70vT"
      },
      "execution_count": 16,
      "outputs": []
    },
    {
      "cell_type": "code",
      "source": [
        "my_morning.color"
      ],
      "metadata": {
        "colab": {
          "base_uri": "https://localhost:8080/",
          "height": 36
        },
        "id": "4yURIOQb77A1",
        "outputId": "aa88fd98-1a34-4f6d-f356-236d8c6f1922"
      },
      "execution_count": 17,
      "outputs": [
        {
          "output_type": "execute_result",
          "data": {
            "text/plain": [
              "'black'"
            ],
            "application/vnd.google.colaboratory.intrinsic+json": {
              "type": "string"
            }
          },
          "metadata": {},
          "execution_count": 17
        }
      ]
    },
    {
      "cell_type": "code",
      "source": [
        "my_morning.stop()"
      ],
      "metadata": {
        "colab": {
          "base_uri": "https://localhost:8080/"
        },
        "id": "EEq6fzXf83oy",
        "outputId": "c9fe06ff-59b9-4100-cf92-9d4d353049d8"
      },
      "execution_count": 18,
      "outputs": [
        {
          "output_type": "stream",
          "name": "stdout",
          "text": [
            "차가 멈춘다.\n"
          ]
        }
      ]
    },
    {
      "cell_type": "code",
      "source": [
        "my_morning.color = 'white'    # 이 객체에 대해서만 속성 바꾸기 \n",
        "my_morning.color"
      ],
      "metadata": {
        "colab": {
          "base_uri": "https://localhost:8080/",
          "height": 36
        },
        "id": "QqLPB89w8I66",
        "outputId": "93c9010d-e952-4a48-aa9b-538f015060ac"
      },
      "execution_count": 19,
      "outputs": [
        {
          "output_type": "execute_result",
          "data": {
            "text/plain": [
              "'white'"
            ],
            "application/vnd.google.colaboratory.intrinsic+json": {
              "type": "string"
            }
          },
          "metadata": {},
          "execution_count": 19
        }
      ]
    },
    {
      "cell_type": "code",
      "source": [
        "my_sorento = Car('kia', 'sorento', 'yellow')\n",
        "my_sorento.color"
      ],
      "metadata": {
        "colab": {
          "base_uri": "https://localhost:8080/",
          "height": 36
        },
        "id": "PPVnwOQd8Oft",
        "outputId": "02198f69-7ef8-4560-9dfa-2bf9d24983b3"
      },
      "execution_count": 20,
      "outputs": [
        {
          "output_type": "execute_result",
          "data": {
            "text/plain": [
              "'yellow'"
            ],
            "application/vnd.google.colaboratory.intrinsic+json": {
              "type": "string"
            }
          },
          "metadata": {},
          "execution_count": 20
        }
      ]
    },
    {
      "cell_type": "code",
      "source": [
        "my_morning.change_pink()"
      ],
      "metadata": {
        "colab": {
          "base_uri": "https://localhost:8080/"
        },
        "id": "bQoVBFmN-2va",
        "outputId": "5e946152-6a95-4663-dce6-17b5bf86fe9a"
      },
      "execution_count": 21,
      "outputs": [
        {
          "output_type": "stream",
          "name": "stdout",
          "text": [
            "pink\n"
          ]
        }
      ]
    },
    {
      "cell_type": "code",
      "source": [
        "# 1. 내가 원하는 컬러로 바꾸기\n",
        "# 2. 컬러가 있으면 있는, 없으면 orange로 기본값 설정하기\n",
        "\n",
        "class Car:\n",
        "  def __init__(self, brand, model = None, color = 'orange'):    \n",
        "    self.brand = brand   # self == instance\n",
        "    # self.brand = 어떤 객체가 만들어지더라도 가져갈 브랜드명\n",
        "    # brand = 객체 생성 시 설정되는 브랜드명(처음에 들어오는 값)\n",
        "    self.model = model\n",
        "    self.color = color\n",
        "\n",
        "    # model 기본적으로는 값을 안 받아도 되게 설정하기?\n",
        "\n",
        "  # action 정의하기\n",
        "  def drive(self):\n",
        "    # 출력: 내 차(브랜드 = {})이 움직인다.\n",
        "    print(f'내 차 (브랜드 = {self.brand})가 움직인다.')\n",
        "\n",
        "  def stop(self):\n",
        "    print('차가 멈춘다.')\n",
        "\n",
        "  def change_color(self, color):\n",
        "    # self.color -> 'pink'로 바꾼다.\n",
        "    self.color = 'pink'\n",
        "    # 입력되는 컬러로 설정하기\n",
        "    self.color = color\n",
        "\n",
        "my_morning = Car('kia', 'morning', 'black')\n",
        "my_morning.change_color('blue')"
      ],
      "metadata": {
        "id": "2Gq0PhUBDLks"
      },
      "execution_count": 22,
      "outputs": []
    },
    {
      "cell_type": "code",
      "source": [
        "# 교재 변형\n",
        "class Dog:\n",
        "  def __init__(self, name, color, kind):\n",
        "    self.name = name\n",
        "    self.color = color\n",
        "    self.kind = kind\n",
        "\n",
        "  def walk(self):\n",
        "    print(f'애완동물 (이름 = {self.name})가 걷는다.')\n",
        "    \n",
        "  def bark(self):\n",
        "    print(f'{self.kind}가 짖는다.')\n",
        "\n",
        "  def sleep(self):\n",
        "    print(f'{self.color}색 강아지가 잔다.')\n",
        "\n",
        "my_pet = Dog('Denny', 'brown', 'Golden retriever')\n",
        "my_pet"
      ],
      "metadata": {
        "colab": {
          "base_uri": "https://localhost:8080/"
        },
        "id": "MXfNNOAiCCBX",
        "outputId": "4dab7b90-15b7-4c05-a521-5596b74ccc4a"
      },
      "execution_count": 61,
      "outputs": [
        {
          "output_type": "execute_result",
          "data": {
            "text/plain": [
              "<__main__.Dog at 0x7fb5fa58f310>"
            ]
          },
          "metadata": {},
          "execution_count": 61
        }
      ]
    },
    {
      "cell_type": "markdown",
      "source": [
        "## 4. getter, setter\n",
        "### 4-1.\n",
        "- 캡슐화, 정보 은닉\n",
        "- 클래스 외부에서 변수 접근을 용이하지 못하게 하는 것\n",
        "- public -> private"
      ],
      "metadata": {
        "id": "0SY_1_XKF0ao"
      }
    },
    {
      "cell_type": "code",
      "source": [
        "# 1. 틀에서 변수를 바꾸는 것\n",
        "# 2. 인스턴스에서 변수를 바꾸는 것"
      ],
      "metadata": {
        "id": "wsGwE6FTF4RS"
      },
      "execution_count": 23,
      "outputs": []
    },
    {
      "cell_type": "code",
      "source": [
        "class Fruit:\n",
        "  color = 'red'"
      ],
      "metadata": {
        "id": "zV3LeVGvF_3K"
      },
      "execution_count": 24,
      "outputs": []
    },
    {
      "cell_type": "code",
      "source": [
        "apple = Fruit()\n",
        "apple.color"
      ],
      "metadata": {
        "colab": {
          "base_uri": "https://localhost:8080/",
          "height": 36
        },
        "id": "r4Oij1h5GE_J",
        "outputId": "da7899bb-892f-4470-ac3a-ba989b4a0661"
      },
      "execution_count": 25,
      "outputs": [
        {
          "output_type": "execute_result",
          "data": {
            "text/plain": [
              "'red'"
            ],
            "application/vnd.google.colaboratory.intrinsic+json": {
              "type": "string"
            }
          },
          "metadata": {},
          "execution_count": 25
        }
      ]
    },
    {
      "cell_type": "code",
      "source": [
        "Fruit.color = 'purple'\n",
        "Fruit.color"
      ],
      "metadata": {
        "colab": {
          "base_uri": "https://localhost:8080/",
          "height": 36
        },
        "id": "rfC2a-PKGI3y",
        "outputId": "bd82174a-bd1a-48f5-e5a0-8cf685a4ae53"
      },
      "execution_count": 26,
      "outputs": [
        {
          "output_type": "execute_result",
          "data": {
            "text/plain": [
              "'purple'"
            ],
            "application/vnd.google.colaboratory.intrinsic+json": {
              "type": "string"
            }
          },
          "metadata": {},
          "execution_count": 26
        }
      ]
    },
    {
      "cell_type": "code",
      "source": [
        "orange = Fruit()\n",
        "orange.color"
      ],
      "metadata": {
        "colab": {
          "base_uri": "https://localhost:8080/",
          "height": 36
        },
        "id": "K1WaWby9GNPf",
        "outputId": "d24a26a9-8df4-4a63-9d5f-c309e05bc418"
      },
      "execution_count": 27,
      "outputs": [
        {
          "output_type": "execute_result",
          "data": {
            "text/plain": [
              "'purple'"
            ],
            "application/vnd.google.colaboratory.intrinsic+json": {
              "type": "string"
            }
          },
          "metadata": {},
          "execution_count": 27
        }
      ]
    },
    {
      "cell_type": "code",
      "source": [
        "class Car:\n",
        "  def __init__(self, input_brand):\n",
        "    self.brand = input_brand\n",
        "\n",
        "  def get_brand(self):\n",
        "    # 원래 변수명에 접근하도록\n",
        "    print('from the getter')\n",
        "    return self.brand\n",
        "\n",
        "  def set_brand(self, input_brand):\n",
        "    print('from the setter')\n",
        "    # 변수명을 바꾸는 작업\n",
        "    self.brand = input_brand"
      ],
      "metadata": {
        "id": "QcKKRpBPGTT1"
      },
      "execution_count": 28,
      "outputs": []
    },
    {
      "cell_type": "code",
      "source": [
        "ex = Car('toyota')\n",
        "ex.brand"
      ],
      "metadata": {
        "colab": {
          "base_uri": "https://localhost:8080/",
          "height": 36
        },
        "id": "flzPKKorHVNa",
        "outputId": "26971b0a-6b41-4c98-ceaf-ad4bba16304e"
      },
      "execution_count": 29,
      "outputs": [
        {
          "output_type": "execute_result",
          "data": {
            "text/plain": [
              "'toyota'"
            ],
            "application/vnd.google.colaboratory.intrinsic+json": {
              "type": "string"
            }
          },
          "metadata": {},
          "execution_count": 29
        }
      ]
    },
    {
      "cell_type": "code",
      "source": [
        "ex.get_brand()"
      ],
      "metadata": {
        "colab": {
          "base_uri": "https://localhost:8080/",
          "height": 54
        },
        "id": "QyyWnfDDHZ5B",
        "outputId": "fa41b1d9-c485-4abd-ede1-614854a7cd13"
      },
      "execution_count": 30,
      "outputs": [
        {
          "output_type": "stream",
          "name": "stdout",
          "text": [
            "from the getter\n"
          ]
        },
        {
          "output_type": "execute_result",
          "data": {
            "text/plain": [
              "'toyota'"
            ],
            "application/vnd.google.colaboratory.intrinsic+json": {
              "type": "string"
            }
          },
          "metadata": {},
          "execution_count": 30
        }
      ]
    },
    {
      "cell_type": "code",
      "source": [
        "ex.set_brand('mazuda')"
      ],
      "metadata": {
        "colab": {
          "base_uri": "https://localhost:8080/"
        },
        "id": "_iTXXrlwHbir",
        "outputId": "7ee00519-628f-486a-ba7e-8dfecd69d5e2"
      },
      "execution_count": 31,
      "outputs": [
        {
          "output_type": "stream",
          "name": "stdout",
          "text": [
            "from the setter\n"
          ]
        }
      ]
    },
    {
      "cell_type": "code",
      "source": [
        "ex.brand"
      ],
      "metadata": {
        "colab": {
          "base_uri": "https://localhost:8080/",
          "height": 36
        },
        "id": "DZUc2887HfW-",
        "outputId": "00780201-5e32-4052-cfb5-a40d42fd3372"
      },
      "execution_count": 32,
      "outputs": [
        {
          "output_type": "execute_result",
          "data": {
            "text/plain": [
              "'mazuda'"
            ],
            "application/vnd.google.colaboratory.intrinsic+json": {
              "type": "string"
            }
          },
          "metadata": {},
          "execution_count": 32
        }
      ]
    },
    {
      "cell_type": "code",
      "source": [
        "ex.get_brand()"
      ],
      "metadata": {
        "colab": {
          "base_uri": "https://localhost:8080/",
          "height": 54
        },
        "id": "cHZuwYraHrR_",
        "outputId": "c29480d0-3734-451f-e360-454b70bdf6e7"
      },
      "execution_count": 34,
      "outputs": [
        {
          "output_type": "stream",
          "name": "stdout",
          "text": [
            "from the getter\n"
          ]
        },
        {
          "output_type": "execute_result",
          "data": {
            "text/plain": [
              "'mazuda'"
            ],
            "application/vnd.google.colaboratory.intrinsic+json": {
              "type": "string"
            }
          },
          "metadata": {},
          "execution_count": 34
        }
      ]
    },
    {
      "cell_type": "code",
      "source": [
        "Car.brand = 'bmw'"
      ],
      "metadata": {
        "id": "UtEnCVMGH37G"
      },
      "execution_count": 33,
      "outputs": []
    },
    {
      "cell_type": "code",
      "source": [
        "a = Car('toyota')\n",
        "a.brand"
      ],
      "metadata": {
        "colab": {
          "base_uri": "https://localhost:8080/",
          "height": 36
        },
        "id": "mwDBxYKWH6MC",
        "outputId": "81f0b677-e6ad-4f60-aee1-4f18fba57843"
      },
      "execution_count": 35,
      "outputs": [
        {
          "output_type": "execute_result",
          "data": {
            "text/plain": [
              "'toyota'"
            ],
            "application/vnd.google.colaboratory.intrinsic+json": {
              "type": "string"
            }
          },
          "metadata": {},
          "execution_count": 35
        }
      ]
    },
    {
      "cell_type": "code",
      "source": [
        "a.get_brand()"
      ],
      "metadata": {
        "colab": {
          "base_uri": "https://localhost:8080/",
          "height": 54
        },
        "id": "Oi7PxyFKIFLv",
        "outputId": "e9fb7c62-6b7a-4de1-9808-4672d1d4f843"
      },
      "execution_count": 36,
      "outputs": [
        {
          "output_type": "stream",
          "name": "stdout",
          "text": [
            "from the getter\n"
          ]
        },
        {
          "output_type": "execute_result",
          "data": {
            "text/plain": [
              "'toyota'"
            ],
            "application/vnd.google.colaboratory.intrinsic+json": {
              "type": "string"
            }
          },
          "metadata": {},
          "execution_count": 36
        }
      ]
    },
    {
      "cell_type": "markdown",
      "source": [
        "### 4-2. property\n",
        "- 속성 프라이버시를 위한 파이써닉한 방법\n",
        "\n",
        "#### 4-2-1. class 정의 마지막 줄에 추가하기\n",
        "- getter/setter 메서드 작동\n",
        "- 속성 이름을 사용하여 hidden_name 속성 가져오거나 설정 가능"
      ],
      "metadata": {
        "id": "zCLfcdEIIW9B"
      }
    },
    {
      "cell_type": "code",
      "source": [
        "class Car:\n",
        "  def __init__(self, input_brand):\n",
        "    self.hidden_brand = input_brand\n",
        "\n",
        "  def get_brand(self):\n",
        "    return self.hidden_brand\n",
        "\n",
        "  def set_brand(self, input_brand):\n",
        "    self.hidden_brand = input_brand\n",
        "\n",
        "  # 내가 사용할 변수명\n",
        "  brand = property(get_brand, set_brand)\n",
        "\n",
        "c = Car('kia')\n",
        "c.brand"
      ],
      "metadata": {
        "colab": {
          "base_uri": "https://localhost:8080/",
          "height": 36
        },
        "id": "NsiCuZkKIVv6",
        "outputId": "77f95b9b-5071-4341-b3b8-ffbc142cfda7"
      },
      "execution_count": 37,
      "outputs": [
        {
          "output_type": "execute_result",
          "data": {
            "text/plain": [
              "'kia'"
            ],
            "application/vnd.google.colaboratory.intrinsic+json": {
              "type": "string"
            }
          },
          "metadata": {},
          "execution_count": 37
        }
      ]
    },
    {
      "cell_type": "code",
      "source": [
        "c.brand = 'hyundai'"
      ],
      "metadata": {
        "id": "d_kmcMQUI4yg"
      },
      "execution_count": 38,
      "outputs": []
    },
    {
      "cell_type": "code",
      "source": [
        "Car.hidden_brand = 'toyota'"
      ],
      "metadata": {
        "id": "lRuOQRxgI7mb"
      },
      "execution_count": 39,
      "outputs": []
    },
    {
      "cell_type": "code",
      "source": [
        "Car.brand = 'aa'"
      ],
      "metadata": {
        "id": "camhxxocI-ip"
      },
      "execution_count": 40,
      "outputs": []
    },
    {
      "cell_type": "markdown",
      "source": [
        "#### 4-2-2. decorator 추가\n",
        "- getter메서드 앞에 `@property` 데커레이터 쓰기\n",
        "- setter메서드 앞에 `@name.setter` 데커레이터 쓰기\n"
      ],
      "metadata": {
        "id": "jvlPtcBMJXha"
      }
    },
    {
      "cell_type": "code",
      "source": [
        "# decorator : @...\n",
        "class Car:\n",
        "  def __init__(self, input_brand):\n",
        "    self.hidden_brand = input_brand\n",
        "  \n",
        "  @property\n",
        "  def brand(self):\n",
        "    return self.hidden_brand\n",
        "\n",
        "  @brand.setter\n",
        "  def brand(self, input_brand):\n",
        "    self.hidden_brand = input_brand\n",
        "\n",
        "c = Car('aa')\n",
        "c.brand"
      ],
      "metadata": {
        "colab": {
          "base_uri": "https://localhost:8080/",
          "height": 36
        },
        "id": "5pfx9ICJJZq6",
        "outputId": "3e47a652-2406-4e1e-8e40-bfd53f66fb92"
      },
      "execution_count": 49,
      "outputs": [
        {
          "output_type": "execute_result",
          "data": {
            "text/plain": [
              "'aa'"
            ],
            "application/vnd.google.colaboratory.intrinsic+json": {
              "type": "string"
            }
          },
          "metadata": {},
          "execution_count": 49
        }
      ]
    },
    {
      "cell_type": "code",
      "source": [
        "class Car:\n",
        "  def __init__(self, input_brand):\n",
        "    self.__brand = input_brand\n",
        "  \n",
        "  @property\n",
        "  def brand(self):\n",
        "    return self.__brand\n",
        "\n",
        "  @brand.setter\n",
        "  def brand(self, input_brand):\n",
        "    self.__brand = input_brand\n",
        "\n",
        "c = Car('aa')\n",
        "c.__brand   "
      ],
      "metadata": {
        "id": "uvPGM_1fJ2t8",
        "colab": {
          "base_uri": "https://localhost:8080/",
          "height": 213
        },
        "outputId": "7f2a0e96-8878-4e5b-d863-0147f5749637"
      },
      "execution_count": 41,
      "outputs": [
        {
          "output_type": "error",
          "ename": "AttributeError",
          "evalue": "ignored",
          "traceback": [
            "\u001b[0;31m---------------------------------------------------------------------------\u001b[0m",
            "\u001b[0;31mAttributeError\u001b[0m                            Traceback (most recent call last)",
            "\u001b[0;32m<ipython-input-41-f4bdb0cfab4e>\u001b[0m in \u001b[0;36m<module>\u001b[0;34m()\u001b[0m\n\u001b[1;32m     12\u001b[0m \u001b[0;34m\u001b[0m\u001b[0m\n\u001b[1;32m     13\u001b[0m \u001b[0mc\u001b[0m \u001b[0;34m=\u001b[0m \u001b[0mCar\u001b[0m\u001b[0;34m(\u001b[0m\u001b[0;34m'aa'\u001b[0m\u001b[0;34m)\u001b[0m\u001b[0;34m\u001b[0m\u001b[0;34m\u001b[0m\u001b[0m\n\u001b[0;32m---> 14\u001b[0;31m \u001b[0mc\u001b[0m\u001b[0;34m.\u001b[0m\u001b[0m__brand\u001b[0m\u001b[0;34m\u001b[0m\u001b[0;34m\u001b[0m\u001b[0m\n\u001b[0m",
            "\u001b[0;31mAttributeError\u001b[0m: 'Car' object has no attribute '__brand'"
          ]
        }
      ]
    },
    {
      "cell_type": "code",
      "source": [
        "c.brand   # 이렇게 해야 나옴"
      ],
      "metadata": {
        "colab": {
          "base_uri": "https://localhost:8080/",
          "height": 36
        },
        "id": "XDyleWYfKEqD",
        "outputId": "e71fe81a-2be4-4d6d-b9ae-55efbb9a3a2b"
      },
      "execution_count": 42,
      "outputs": [
        {
          "output_type": "execute_result",
          "data": {
            "text/plain": [
              "'aa'"
            ],
            "application/vnd.google.colaboratory.intrinsic+json": {
              "type": "string"
            }
          },
          "metadata": {},
          "execution_count": 42
        }
      ]
    },
    {
      "cell_type": "code",
      "source": [
        "class Circle:\n",
        "  def __init__(self, radius):\n",
        "    self.radius = radius\n",
        "\n",
        "  @property\n",
        "  def diameter(self):\n",
        "    return self.radius * 2\n",
        "\n",
        "c = Circle(7)\n",
        "c.diameter"
      ],
      "metadata": {
        "colab": {
          "base_uri": "https://localhost:8080/"
        },
        "id": "ztVZOHUqKGSR",
        "outputId": "3b544167-d10b-4f64-d054-367541d42fa7"
      },
      "execution_count": 43,
      "outputs": [
        {
          "output_type": "execute_result",
          "data": {
            "text/plain": [
              "14"
            ]
          },
          "metadata": {},
          "execution_count": 43
        }
      ]
    },
    {
      "cell_type": "code",
      "source": [
        "# 교재 변형\n",
        "class Fruit():\n",
        "  def __init__(self, input_name):\n",
        "    self.hidden_name = input_name\n",
        "\n",
        "  @property\n",
        "  def name(self):\n",
        "    print('inside the getter', end = ' ')\n",
        "    return self.hidden_name\n",
        "\n",
        "  @name.setter\n",
        "  def name(self, input_name):\n",
        "    print('insidet the setter')\n",
        "    self.hidden_name = input_name\n",
        "\n",
        "vitamin = Fruit('banana')\n",
        "vitamin.name\n",
        "\n",
        "vitamin.name = 'mango'\n",
        "vitamin.name"
      ],
      "metadata": {
        "colab": {
          "base_uri": "https://localhost:8080/",
          "height": 54
        },
        "id": "4_MHJUZYEYj-",
        "outputId": "79929e28-7bf2-469e-dc32-4e2b4e68c0ed"
      },
      "execution_count": 44,
      "outputs": [
        {
          "output_type": "stream",
          "name": "stdout",
          "text": [
            "inside the getter insidet the setter\n",
            "inside the getter "
          ]
        },
        {
          "output_type": "execute_result",
          "data": {
            "text/plain": [
              "'mango'"
            ],
            "application/vnd.google.colaboratory.intrinsic+json": {
              "type": "string"
            }
          },
          "metadata": {},
          "execution_count": 44
        }
      ]
    },
    {
      "cell_type": "markdown",
      "source": [
        "#### 실습\n",
        "- 객체: 메모장(노트), 메모\n",
        "- 변수\n",
        "    - 메모장: 제목, 페이지번호, 메모\n",
        "    - 메모: 글귀\n",
        "- 메서드\n",
        "    - 메모장: 추가, 삭제, 페이지번호\n",
        "    - 메모: 쓰기, 지우기\n",
        "\n",
        "- getter, setter 메모장 제목에 설정하기\n",
        "- '메모' 객체에 글귀를 추가한다\n",
        "- '메모장' 객체에 메모 추가 -> 페이지번호가 늘어난다\n",
        "- 메모를 삭제하면 페이지번호가 줄어들고\n",
        "- 페이지가 300을 넘으면 메모 추가 못하게 막기\n",
        "- 페이지번호로 메모 찾기"
      ],
      "metadata": {
        "id": "spHSu5mMKbLQ"
      }
    },
    {
      "cell_type": "code",
      "source": [
        "class Notebook:\n",
        "  def __Init__(self, title, page, memo):\n",
        "    self.title = title\n",
        "    self.page = 0    # 제목, 페이지번호, 메모*** == Note  (예)   \n",
        "    self.memo = []\n",
        "\n",
        "  def title(self):\n",
        "    return self.__title\n",
        "\n",
        "  def add_note(self, record):\n",
        "    if self.page < 300:\n",
        "      self.memo.append(record)\n",
        "      self.page += 1\n",
        "    else:\n",
        "      print('메모장 용량 초과')\n",
        "\n",
        "  def remove_note(self, record):\n",
        "    self.memo.remove(record)\n",
        "    self.page -= 1\n",
        "\n",
        "  def get_page_num(self, find_memo):\n",
        "    pass\n",
        "    \n",
        "class Note:\n",
        "  def __init__(self, write_note):\n",
        "    self.note = write_note\n",
        "\n",
        "  def write(self, write_note):\n",
        "    pass\n",
        "\n",
        "  def erase(self, write_note):\n",
        "    pass\n",
        "\n",
        "# 모르는 부분은 계속 고민 중입니다!"
      ],
      "metadata": {
        "id": "lW-Efpt3MW4E"
      },
      "execution_count": 45,
      "outputs": []
    },
    {
      "cell_type": "code",
      "source": [
        "# 메모 추가하기\n",
        "memo1 = '꿈을 이루고자 하는 용기만 있다면 모든 꿈을 이룰 수 있다.'\n",
        "memo2 = '웃음이 없는 하루는 버린 하루다.'\n",
        "memo3 = '승리는 가장 끈기 있는 사람에게 돌아간다.'\n",
        "\n",
        "note = Note()\n",
        "\n",
        "# 메모 쓰기\n",
        "note.write(memo1)\n",
        "note.write(memo2)\n",
        "note.write(memo3)\n",
        "\n",
        "# 메모장 만들기\n",
        "my_book = Notebook()\n",
        "\n",
        "# 메모장에 메모 추가하기\n",
        "my_book.add_note(note1)\n",
        "my_book.add_note(note2)\n",
        "my_book.add_note(note3)"
      ],
      "metadata": {
        "id": "akU24eoPNqw6",
        "colab": {
          "base_uri": "https://localhost:8080/",
          "height": 251
        },
        "outputId": "a7473a52-807a-4509-8543-5f5d892d3fcf"
      },
      "execution_count": 46,
      "outputs": [
        {
          "output_type": "error",
          "ename": "TypeError",
          "evalue": "ignored",
          "traceback": [
            "\u001b[0;31m---------------------------------------------------------------------------\u001b[0m",
            "\u001b[0;31mTypeError\u001b[0m                                 Traceback (most recent call last)",
            "\u001b[0;32m<ipython-input-46-b9351c76f607>\u001b[0m in \u001b[0;36m<module>\u001b[0;34m()\u001b[0m\n\u001b[1;32m      4\u001b[0m \u001b[0mmemo3\u001b[0m \u001b[0;34m=\u001b[0m \u001b[0;34m'승리는 가장 끈기 있는 사람에게 돌아간다.'\u001b[0m\u001b[0;34m\u001b[0m\u001b[0;34m\u001b[0m\u001b[0m\n\u001b[1;32m      5\u001b[0m \u001b[0;34m\u001b[0m\u001b[0m\n\u001b[0;32m----> 6\u001b[0;31m \u001b[0mnote\u001b[0m \u001b[0;34m=\u001b[0m \u001b[0mNote\u001b[0m\u001b[0;34m(\u001b[0m\u001b[0;34m)\u001b[0m\u001b[0;34m\u001b[0m\u001b[0;34m\u001b[0m\u001b[0m\n\u001b[0m\u001b[1;32m      7\u001b[0m \u001b[0;34m\u001b[0m\u001b[0m\n\u001b[1;32m      8\u001b[0m \u001b[0;31m# 메모 쓰기\u001b[0m\u001b[0;34m\u001b[0m\u001b[0;34m\u001b[0m\u001b[0;34m\u001b[0m\u001b[0m\n",
            "\u001b[0;31mTypeError\u001b[0m: __init__() missing 1 required positional argument: 'write_note'"
          ]
        }
      ]
    }
  ]
}