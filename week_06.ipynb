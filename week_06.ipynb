{
  "nbformat": 4,
  "nbformat_minor": 0,
  "metadata": {
    "colab": {
      "name": "week_06.ipynb",
      "provenance": [],
      "collapsed_sections": [],
      "authorship_tag": "ABX9TyMqecGML5Bvi8aal5C2Q4Pc",
      "include_colab_link": true
    },
    "kernelspec": {
      "name": "python3",
      "display_name": "Python 3"
    },
    "language_info": {
      "name": "python"
    }
  },
  "cells": [
    {
      "cell_type": "markdown",
      "metadata": {
        "id": "view-in-github",
        "colab_type": "text"
      },
      "source": [
        "<a href=\"https://colab.research.google.com/github/HUFS-Programming-2022/Hyeryeong_202103342/blob/main/week_06.ipynb\" target=\"_parent\"><img src=\"https://colab.research.google.com/assets/colab-badge.svg\" alt=\"Open In Colab\"/></a>"
      ]
    },
    {
      "cell_type": "markdown",
      "source": [
        "# 고급파이썬프로그래밍_6주차(0408)"
      ],
      "metadata": {
        "id": "t9QQEZiyZGNL"
      }
    },
    {
      "cell_type": "markdown",
      "source": [
        "# CH07\n",
        "\n",
        "## 1. NLTK Corpus\n",
        "\n",
        "### 1-1. Brown\n",
        "- 브라운 대학에서 만듦\n",
        "- categories()\n",
        "\n",
        "### 1-2. ConditionalFreqDist()\n",
        "- 조건이 붙은 fdist\n",
        "- 컴프리핸션의 형태와 비슷함"
      ],
      "metadata": {
        "id": "1woiA8W-nf6B"
      }
    },
    {
      "cell_type": "code",
      "source": [
        "# nltk brown, inaugural\n",
        "import nltk\n",
        "nltk. download(['brown','inaugural']) "
      ],
      "metadata": {
        "colab": {
          "base_uri": "https://localhost:8080/"
        },
        "id": "fuK7Hcaknboq",
        "outputId": "56f534dd-2b9e-42a2-d56f-d686901f2a6c"
      },
      "execution_count": 2,
      "outputs": [
        {
          "output_type": "stream",
          "name": "stdout",
          "text": [
            "[nltk_data] Downloading package brown to /root/nltk_data...\n",
            "[nltk_data]   Unzipping corpora/brown.zip.\n",
            "[nltk_data] Downloading package inaugural to /root/nltk_data...\n",
            "[nltk_data]   Unzipping corpora/inaugural.zip.\n"
          ]
        },
        {
          "output_type": "execute_result",
          "data": {
            "text/plain": [
              "True"
            ]
          },
          "metadata": {},
          "execution_count": 2
        }
      ]
    },
    {
      "cell_type": "code",
      "source": [
        "brown = nltk.corpus.brown\n",
        "cfd1 = nltk.ConditionalFreqDist(\n",
        "    (genre, word)\n",
        "    for genre in brown.categories()   # brown에 담긴 장르(예제)명 불러옴\n",
        "    for word in brown.words(categories = genre)    # 각 장르별 카테고리에 담긴 word 불러옴\n",
        ")   # 뒤에서 변수 정확히 언급해 주어야 함\n",
        "\n",
        "genres = brown.categories()    # brown에 담긴 장르를 변수에 저장\n",
        "modals = ['can', 'could', 'will', 'would', 'may', 'might']   # modals 리스트 지정\n",
        "cfd1.tabulate(conditional = genres, samples = modals)   "
      ],
      "metadata": {
        "colab": {
          "base_uri": "https://localhost:8080/"
        },
        "id": "WeDege0zoDzG",
        "outputId": "604c5ce6-12a1-43a6-b876-2a93449c6f4f"
      },
      "execution_count": 3,
      "outputs": [
        {
          "output_type": "stream",
          "name": "stdout",
          "text": [
            "                  can could  will would   may might \n",
            "      adventure    46   151    50   191     5    58 \n",
            " belles_lettres   246   213   236   392   207   113 \n",
            "      editorial   121    56   233   180    74    39 \n",
            "        fiction    37   166    52   287     8    44 \n",
            "     government   117    38   244   120   153    13 \n",
            "        hobbies   268    58   264    78   131    22 \n",
            "          humor    16    30    13    56     8     8 \n",
            "        learned   365   159   340   319   324   128 \n",
            "           lore   170   141   175   186   165    49 \n",
            "        mystery    42   141    20   186    13    57 \n",
            "           news    93    86   389   244    66    38 \n",
            "       religion    82    59    71    68    78    12 \n",
            "        reviews    45    40    58    47    45    26 \n",
            "        romance    74   193    43   244    11    51 \n",
            "science_fiction    16    49    16    79     4    12 \n"
          ]
        }
      ]
    },
    {
      "cell_type": "code",
      "source": [
        "brown.categories()[:5]    # brown 카테고리에 무엇이 담겨 있는지 확인"
      ],
      "metadata": {
        "colab": {
          "base_uri": "https://localhost:8080/"
        },
        "id": "J8W5LWk1XXNj",
        "outputId": "466f7037-c780-4cd5-d4f2-2956a4bfb387"
      },
      "execution_count": 8,
      "outputs": [
        {
          "output_type": "execute_result",
          "data": {
            "text/plain": [
              "['adventure', 'belles_lettres', 'editorial', 'fiction', 'government']"
            ]
          },
          "metadata": {},
          "execution_count": 8
        }
      ]
    },
    {
      "cell_type": "code",
      "source": [
        "# genre 별로 modal의 빈도수를 가진 cfd\n",
        "cfd2 = nltk.ConditionalFreqDist(\n",
        "    (genre, modals)\n",
        "    for genre in brown.categories()    # modal과 genre의 위치 바꿀 수 있음\n",
        "    for modals in ['can', 'could', 'will', 'would', 'may', 'might']    \n",
        "    \n",
        "    for word in brown.words(categories = genre)\n",
        "         if word.lower() == modals    # candidate  # if 써서 word랑 modal 연결 시킴\n",
        ")\n",
        "cfd2.tabulate()"
      ],
      "metadata": {
        "colab": {
          "base_uri": "https://localhost:8080/"
        },
        "id": "cczf0L9ho0PI",
        "outputId": "7dbd9521-047b-49ab-ed75-7114472cdc31"
      },
      "execution_count": 7,
      "outputs": [
        {
          "output_type": "stream",
          "name": "stdout",
          "text": [
            "                  can could   may might  will would \n",
            "      adventure    48   154     7    59    51   194 \n",
            " belles_lettres   249   216   221   113   246   397 \n",
            "      editorial   124    57    79    39   235   185 \n",
            "        fiction    39   168    10    44    56   291 \n",
            "     government   119    38   179    13   244   120 \n",
            "        hobbies   276    59   143    22   269    83 \n",
            "          humor    17    33     8     8    13    56 \n",
            "        learned   367   159   336   128   340   321 \n",
            "           lore   170   142   170    50   178   188 \n",
            "        mystery    45   145    15    57    25   189 \n",
            "           news    94    87    93    38   389   246 \n",
            "       religion    84    59    79    12    72    69 \n",
            "        reviews    45    40    47    26    61    48 \n",
            "        romance    79   195    11    51    49   247 \n",
            "science_fiction    16    49     4    12    17    80 \n"
          ]
        }
      ]
    },
    {
      "cell_type": "code",
      "source": [
        "beverb = nltk.ConditionalFreqDist(\n",
        "    (genre, be_verb)\n",
        "    for genre in brown.categories()\n",
        "    for be_verb in ['be', 'is', 'am', 'are', 'was', 'were']\n",
        "\n",
        "    for verb in brown.words(categories = genre)\n",
        "         if verb.lower() == be_verb\n",
        ")\n",
        "beverb.tabulate()"
      ],
      "metadata": {
        "colab": {
          "base_uri": "https://localhost:8080/"
        },
        "id": "CJP2atDWqN6N",
        "outputId": "c97faf20-b637-41fd-bd92-ae3a3b9d3f2b"
      },
      "execution_count": 4,
      "outputs": [
        {
          "output_type": "stream",
          "name": "stdout",
          "text": [
            "                  am  are   be   is  was were \n",
            "      adventure    9   53  188  102  919  251 \n",
            " belles_lettres   58  649  843 1816 1470  525 \n",
            "      editorial   19  298  422  752  310  109 \n",
            "        fiction   22   52  256  151 1091  240 \n",
            "     government   18  416  603  657  223  126 \n",
            "        hobbies    5  532  524  971  265  106 \n",
            "          humor    8   44   79  121  276   84 \n",
            "        learned   13  993 1363 2412 1115  633 \n",
            "           lore   19  482  570 1016  961  349 \n",
            "        mystery    7   52  234  120  828  157 \n",
            "           news   14  330  526  733  717  252 \n",
            "       religion   15  194  243  537  214   92 \n",
            "        reviews    3  195  154  513  227   87 \n",
            "        romance   20   78  292  158  999  214 \n",
            "science_fiction    7   26   80   50  200   59 \n"
          ]
        }
      ]
    },
    {
      "cell_type": "code",
      "source": [
        "!pip install matplotlib"
      ],
      "metadata": {
        "colab": {
          "base_uri": "https://localhost:8080/"
        },
        "id": "L-1McizTpdBz",
        "outputId": "d8968b36-cca5-4cc9-b34e-2003deb77814"
      },
      "execution_count": 5,
      "outputs": [
        {
          "output_type": "stream",
          "name": "stdout",
          "text": [
            "Requirement already satisfied: matplotlib in /usr/local/lib/python3.7/dist-packages (3.2.2)\n",
            "Requirement already satisfied: pyparsing!=2.0.4,!=2.1.2,!=2.1.6,>=2.0.1 in /usr/local/lib/python3.7/dist-packages (from matplotlib) (3.0.8)\n",
            "Requirement already satisfied: python-dateutil>=2.1 in /usr/local/lib/python3.7/dist-packages (from matplotlib) (2.8.2)\n",
            "Requirement already satisfied: numpy>=1.11 in /usr/local/lib/python3.7/dist-packages (from matplotlib) (1.21.5)\n",
            "Requirement already satisfied: kiwisolver>=1.0.1 in /usr/local/lib/python3.7/dist-packages (from matplotlib) (1.4.2)\n",
            "Requirement already satisfied: cycler>=0.10 in /usr/local/lib/python3.7/dist-packages (from matplotlib) (0.11.0)\n",
            "Requirement already satisfied: typing-extensions in /usr/local/lib/python3.7/dist-packages (from kiwisolver>=1.0.1->matplotlib) (4.1.1)\n",
            "Requirement already satisfied: six>=1.5 in /usr/local/lib/python3.7/dist-packages (from python-dateutil>=2.1->matplotlib) (1.15.0)\n"
          ]
        }
      ]
    },
    {
      "cell_type": "code",
      "source": [
        "import matplotlib.pyplot as plt\n",
        "plt.figure(figsize = (12, 5))\n",
        "cfd2.plot()"
      ],
      "metadata": {
        "colab": {
          "base_uri": "https://localhost:8080/",
          "height": 353
        },
        "id": "2RQVJY46pk0-",
        "outputId": "9e045a19-6a79-49e2-ddc3-cff91c8b9a35"
      },
      "execution_count": 9,
      "outputs": [
        {
          "output_type": "display_data",
          "data": {
            "text/plain": [
              "<Figure size 864x360 with 1 Axes>"
            ],
            "image/png": "[encoded data removed]"
          },
          "metadata": {
            "needs_background": "light"
          }
        }
      ]
    },
    {
      "cell_type": "markdown",
      "source": [
        "###  1-3. Inaugural\n",
        "- 연설문 데이터"
      ],
      "metadata": {
        "id": "YeAWgIa-p3t3"
      }
    },
    {
      "cell_type": "code",
      "source": [
        "inaugural = nltk.corpus.inaugural"
      ],
      "metadata": {
        "id": "VZEn7joDqHV8"
      },
      "execution_count": 10,
      "outputs": []
    },
    {
      "cell_type": "code",
      "source": [
        "inaugural.fileids()[:5]  # 연도-이름.txt"
      ],
      "metadata": {
        "colab": {
          "base_uri": "https://localhost:8080/"
        },
        "id": "WFgNPurNqLiw",
        "outputId": "84e030db-74d4-475e-e4b9-19f8c6d64d28"
      },
      "execution_count": 11,
      "outputs": [
        {
          "output_type": "execute_result",
          "data": {
            "text/plain": [
              "['1789-Washington.txt',\n",
              " '1793-Washington.txt',\n",
              " '1797-Adams.txt',\n",
              " '1801-Jefferson.txt',\n",
              " '1805-Jefferson.txt']"
            ]
          },
          "metadata": {},
          "execution_count": 11
        }
      ]
    },
    {
      "cell_type": "code",
      "source": [
        "# inaugural애서 america, citizen의 빈도수, 연도별로 \n",
        "# cfd2 코드 참고\n",
        "cfd3 = nltk.ConditionalFreqDist(\n",
        "    # (genre, modals) # modals, genre\n",
        "    (target_word, fileid)   \n",
        "    for fileid in inaugural.fileids()\n",
        "    # for modals in ['can', 'could', 'will', 'would', 'may', 'might']\n",
        "    for target_word in ['america', 'citizen'] \n",
        "\n",
        "    # for word in brown.words(fileids = fileid)\n",
        "    for word in inaugural.words(fileids = fileid)\n",
        "          # if word.lower() == modal  # candidate\n",
        "          if word.lower().startswith(target_word)\n",
        ")"
      ],
      "metadata": {
        "id": "bXmXExe3rhXq"
      },
      "execution_count": 12,
      "outputs": []
    },
    {
      "cell_type": "code",
      "source": [
        "cfd3.plot()"
      ],
      "metadata": {
        "colab": {
          "base_uri": "https://localhost:8080/",
          "height": 374
        },
        "id": "aBmtPdoQuUtL",
        "outputId": "50662ac6-38ca-4313-e301-e9676919b16b"
      },
      "execution_count": 13,
      "outputs": [
        {
          "output_type": "display_data",
          "data": {
            "text/plain": [
              "<Figure size 432x288 with 1 Axes>"
            ],
            "image/png": "[encoded data removed]"
          },
          "metadata": {
            "needs_background": "light"
          }
        }
      ]
    },
    {
      "cell_type": "markdown",
      "source": [
        "## 2. Tuple & List\n",
        "### 1) 생성하기\n",
        "- 튜플은 다양한 방법으로 생성 가능(약간 비일관적)\n",
        "- 한 요소 이상의 튜플을 만들기 위해서는 각 요소 뒤에 ',' 붙임\n",
        "- 튜플 정의할 때 괄호 필요 없음 but 콤마를 다른 용도로 사용하려면 괄호 필요"
      ],
      "metadata": {
        "id": "QLhgkJLAu_F6"
      }
    },
    {
      "cell_type": "code",
      "source": [
        "# 빈 튜플 만들기\n",
        "emptyT = ()\n",
        "emptyT = tuple()\n",
        "\n",
        "emptyL = []\n",
        "emptyL = list()\n",
        "\n",
        "emptyT, emptyL"
      ],
      "metadata": {
        "colab": {
          "base_uri": "https://localhost:8080/"
        },
        "id": "E4er7Micu-vh",
        "outputId": "abcf9a83-9acb-45ca-a563-04c5cefe83ad"
      },
      "execution_count": 14,
      "outputs": [
        {
          "output_type": "execute_result",
          "data": {
            "text/plain": [
              "((), [])"
            ]
          },
          "metadata": {},
          "execution_count": 14
        }
      ]
    },
    {
      "cell_type": "markdown",
      "source": [
        "- 요소가 2개 이상일 때 -> 마지막에는 콤마 붙이지 X"
      ],
      "metadata": {
        "id": "BP0Ur31MveJJ"
      }
    },
    {
      "cell_type": "code",
      "source": [
        "listA = ['a', 'b']\n",
        "\n",
        "tupleA = 'a', 'b'  # 괄호 있어도 되고, 없어도 됨. -> 괄호 없이 쓰는 것이 더 효율적\n",
        "tupleA = ('a','b')\n",
        "\n",
        "listA , tupleA"
      ],
      "metadata": {
        "colab": {
          "base_uri": "https://localhost:8080/"
        },
        "id": "RI_CXqAAviEu",
        "outputId": "97ad70aa-e56e-4a9e-d289-80840b0a75c9"
      },
      "execution_count": 15,
      "outputs": [
        {
          "output_type": "execute_result",
          "data": {
            "text/plain": [
              "(['a', 'b'], ('a', 'b'))"
            ]
          },
          "metadata": {},
          "execution_count": 15
        }
      ]
    },
    {
      "cell_type": "markdown",
      "source": [
        "- 요소가 1개일 때 -> 콤마 생략하면 문자열이 됨"
      ],
      "metadata": {
        "id": "mVeW_vY8vzzS"
      }
    },
    {
      "cell_type": "code",
      "source": [
        "listA = ['a']\n",
        "\n",
        "tupleA = ('a',)  # comma\n",
        "tupleA = 'a',\n",
        "\n",
        "tupleA, listA"
      ],
      "metadata": {
        "colab": {
          "base_uri": "https://localhost:8080/"
        },
        "id": "QCTlRHC4v22p",
        "outputId": "9bdaeba3-c69a-48bb-b787-9f0377a78f6e"
      },
      "execution_count": 16,
      "outputs": [
        {
          "output_type": "execute_result",
          "data": {
            "text/plain": [
              "(('a',), ['a'])"
            ]
          },
          "metadata": {},
          "execution_count": 16
        }
      ]
    },
    {
      "cell_type": "code",
      "source": [
        "# 콤마 생략하여 문자열이 된 경우\n",
        "ex = 'a'\n",
        "type(ex)"
      ],
      "metadata": {
        "colab": {
          "base_uri": "https://localhost:8080/"
        },
        "id": "nnxmL-3FwBYN",
        "outputId": "8d5b3d1d-d045-4e5d-930c-1815d87254cc"
      },
      "execution_count": 17,
      "outputs": [
        {
          "output_type": "execute_result",
          "data": {
            "text/plain": [
              "str"
            ]
          },
          "metadata": {},
          "execution_count": 17
        }
      ]
    },
    {
      "cell_type": "code",
      "source": [
        "# 콤마를 다른 용도(ex.문자열)로 사용하는 경우\n",
        "movie = 'disney',\n",
        "print(type(movie), type('disney',), type(('disney',)))"
      ],
      "metadata": {
        "colab": {
          "base_uri": "https://localhost:8080/"
        },
        "id": "9ZkMRetS0Ty7",
        "outputId": "f760df63-5b0d-4f52-95c1-e37c338a89e4"
      },
      "execution_count": 18,
      "outputs": [
        {
          "output_type": "stream",
          "name": "stdout",
          "text": [
            "<class 'tuple'> <class 'str'> <class 'tuple'>\n"
          ]
        }
      ]
    },
    {
      "cell_type": "markdown",
      "source": [
        "### 2) 여러 변수 할당하기\n",
        "- packing: 한 변수에 여러 개의 데이터를 할당하는 것\n",
        "   - a = [1, 2, 3, 4]\n",
        "   - 리스트, 튜플이 담긴 변수 자체가 튜플, 리스트 \n",
        "- unpacking: 여러 변수에 하나의 데이터를 할당하는 것. 그것을 각각의 변수로 변환하는 것\n",
        "   - a, b, c = [1, 2, 3]\n",
        "   - a에 1, b에 2, c에 3\n",
        "   - 한 문장에서 값을 교환하기 위해 임시변수를 사용하지 않고 튜플 사용 가능"
      ],
      "metadata": {
        "id": "zJWc5qR4wEcU"
      }
    },
    {
      "cell_type": "code",
      "source": [
        "name = 'cho'\n",
        "a, b, c = name\n",
        "a, b, c  # unpacking"
      ],
      "metadata": {
        "colab": {
          "base_uri": "https://localhost:8080/"
        },
        "id": "FXmnU9PQwHID",
        "outputId": "ce994a33-3311-49b2-8ad4-c91b2f1e4a1b"
      },
      "execution_count": 19,
      "outputs": [
        {
          "output_type": "execute_result",
          "data": {
            "text/plain": [
              "('c', 'h', 'o')"
            ]
          },
          "metadata": {},
          "execution_count": 19
        }
      ]
    },
    {
      "cell_type": "code",
      "source": [
        "# unpacking 사용하여 교환\n",
        "pwd = 'abcd'\n",
        "userId = 'hello'\n",
        "\n",
        "# pwd = 'hello', userId = 'abcd'로 바꾸려 함\n",
        "\n",
        "temp1 = pwd\n",
        "temp2 = userId\n",
        "pwd = temp2\n",
        "userId = temp1  # 중간에 한 번 바뀜\n",
        "\n",
        "# 튜플 사용하면\n",
        "pwd, userId = userId, pwd\n",
        "pwd, userId  # 처음으로 돌아옴"
      ],
      "metadata": {
        "colab": {
          "base_uri": "https://localhost:8080/"
        },
        "id": "A3Aib93Qwi4J",
        "outputId": "ccf62f45-566f-4483-f608-fdafba79ccde"
      },
      "execution_count": 20,
      "outputs": [
        {
          "output_type": "execute_result",
          "data": {
            "text/plain": [
              "('abcd', 'hello')"
            ]
          },
          "metadata": {},
          "execution_count": 20
        }
      ]
    },
    {
      "cell_type": "markdown",
      "source": [
        "### 3) 연산\n",
        "- 결합하기 +\n",
        "- 항목 복제하기 *\n",
        "- 비교하기"
      ],
      "metadata": {
        "id": "R0VorW7HxC6e"
      }
    },
    {
      "cell_type": "code",
      "source": [
        "# 결합하기\n",
        "('a',) + ('b', 'c')"
      ],
      "metadata": {
        "colab": {
          "base_uri": "https://localhost:8080/"
        },
        "id": "WT12Qe66xFDh",
        "outputId": "9cfd8646-a38d-4a53-ae57-615d7715c42b"
      },
      "execution_count": 21,
      "outputs": [
        {
          "output_type": "execute_result",
          "data": {
            "text/plain": [
              "('a', 'b', 'c')"
            ]
          },
          "metadata": {},
          "execution_count": 21
        }
      ]
    },
    {
      "cell_type": "code",
      "source": [
        "# 항목 복제하기\n",
        "('a','b') * 4"
      ],
      "metadata": {
        "colab": {
          "base_uri": "https://localhost:8080/"
        },
        "id": "VugzQsQzxMbI",
        "outputId": "28aebb76-b9ab-4d96-a659-5000ba710577"
      },
      "execution_count": 22,
      "outputs": [
        {
          "output_type": "execute_result",
          "data": {
            "text/plain": [
              "('a', 'b', 'a', 'b', 'a', 'b', 'a', 'b')"
            ]
          },
          "metadata": {},
          "execution_count": 22
        }
      ]
    },
    {
      "cell_type": "code",
      "source": [
        "a = 1, 2\n",
        "b = 1, 3\n",
        "\n",
        "a, b"
      ],
      "metadata": {
        "colab": {
          "base_uri": "https://localhost:8080/"
        },
        "id": "Ren0so0ExVBF",
        "outputId": "039d6531-a58f-4161-ca0e-9f92e015c60a"
      },
      "execution_count": 23,
      "outputs": [
        {
          "output_type": "execute_result",
          "data": {
            "text/plain": [
              "((1, 2), (1, 3))"
            ]
          },
          "metadata": {},
          "execution_count": 23
        }
      ]
    },
    {
      "cell_type": "code",
      "source": [
        "# 비교하기 : 리스트 비교와 같음\n",
        "age_height = (21, 164)\n",
        "other_ah = (21, 170)\n",
        "print(age_height == other_ah, age_height <= other_ah, age_height > other_ah)"
      ],
      "metadata": {
        "colab": {
          "base_uri": "https://localhost:8080/"
        },
        "id": "jpxzD13d2a31",
        "outputId": "3e45f9d6-7602-452d-a5a4-82aecb7d4a37"
      },
      "execution_count": 24,
      "outputs": [
        {
          "output_type": "stream",
          "name": "stdout",
          "text": [
            "False True False\n"
          ]
        }
      ]
    },
    {
      "cell_type": "markdown",
      "source": [
        "### 4) 순회하기\n",
        "- for, in"
      ],
      "metadata": {
        "id": "4TYleVFPxcEp"
      }
    },
    {
      "cell_type": "code",
      "source": [
        "a = 1, 2, 3, 4, 5\n",
        "\n",
        "for i in a:\n",
        "  print(i)"
      ],
      "metadata": {
        "colab": {
          "base_uri": "https://localhost:8080/"
        },
        "id": "MSO4s0VZxaHP",
        "outputId": "568ca1b9-299d-43f2-90d7-a1a3ab809045"
      },
      "execution_count": 25,
      "outputs": [
        {
          "output_type": "stream",
          "name": "stdout",
          "text": [
            "1\n",
            "2\n",
            "3\n",
            "4\n",
            "5\n"
          ]
        }
      ]
    },
    {
      "cell_type": "code",
      "source": [
        "# str\n",
        "furniture = 'desk', 'chair', 'closet'\n",
        "\n",
        "for word in furniture:\n",
        "  print(word)"
      ],
      "metadata": {
        "colab": {
          "base_uri": "https://localhost:8080/"
        },
        "id": "bGCz7bBe3oHL",
        "outputId": "66397f9e-46f1-4d2c-8404-9761843a8614"
      },
      "execution_count": 26,
      "outputs": [
        {
          "output_type": "stream",
          "name": "stdout",
          "text": [
            "desk\n",
            "chair\n",
            "closet\n"
          ]
        }
      ]
    },
    {
      "cell_type": "markdown",
      "source": [
        "### 5) List comprehension\n",
        "- tuple comprehension은 존재 x\n",
        "- list comprehension을 튜플로 바꾸는 방법\n",
        "  - 1. 튜플로 감싸기\n",
        "  - 2. list comprehension 앞에 '*', 뒤에 ',' 붙이기"
      ],
      "metadata": {
        "id": "kOx2CIuMxnud"
      }
    },
    {
      "cell_type": "code",
      "source": [
        "[word for word in a]"
      ],
      "metadata": {
        "colab": {
          "base_uri": "https://localhost:8080/"
        },
        "id": "BK455APdxlJN",
        "outputId": "07dc6499-c0f6-4de9-f65c-b8807a2eaade"
      },
      "execution_count": 27,
      "outputs": [
        {
          "output_type": "execute_result",
          "data": {
            "text/plain": [
              "[1, 2, 3, 4, 5]"
            ]
          },
          "metadata": {},
          "execution_count": 27
        }
      ]
    },
    {
      "cell_type": "code",
      "source": [
        "# 1. 튜플로 감싸기\n",
        "tuple([word for word in a])"
      ],
      "metadata": {
        "colab": {
          "base_uri": "https://localhost:8080/"
        },
        "id": "V0Kl2FpkxxUh",
        "outputId": "7e426296-6dd5-4a91-8123-2b169a50287d"
      },
      "execution_count": 28,
      "outputs": [
        {
          "output_type": "execute_result",
          "data": {
            "text/plain": [
              "(1, 2, 3, 4, 5)"
            ]
          },
          "metadata": {},
          "execution_count": 28
        }
      ]
    },
    {
      "cell_type": "code",
      "source": [
        "# 2. 리스트 컴프리헨션 앞에 '*', 뒤에 ','\n",
        "*[word for word in a],"
      ],
      "metadata": {
        "colab": {
          "base_uri": "https://localhost:8080/"
        },
        "id": "vJ4onisvx3WL",
        "outputId": "a885c44a-cd8b-45a8-be7a-a9bcdcfd3bd2"
      },
      "execution_count": 29,
      "outputs": [
        {
          "output_type": "execute_result",
          "data": {
            "text/plain": [
              "(1, 2, 3, 4, 5)"
            ]
          },
          "metadata": {},
          "execution_count": 29
        }
      ]
    },
    {
      "cell_type": "markdown",
      "source": [
        "### 6) 튜플은 불변 객체이다\n",
        "- a = 1,2,3,4 -> a를 재지정하지 않는 이상 a에 값을 첨가 혹은 제거할 수 없다\n",
        "- 튜플은 코드를 수정할 수 없게 하는 용도로 사용함.\n",
        "- key값을 저장\n",
        "- 반면, 리스트는 가변 객체이다."
      ],
      "metadata": {
        "id": "svlwEko7x-uD"
      }
    },
    {
      "cell_type": "code",
      "source": [
        "a = (1,) \n",
        "b = (1, 2, 3)\n",
        "id(a), id(a + b)\n",
        "# id()함수는 변수 이름이 새로운 값을 가리킬 때 확인하는 용도로 쓰임"
      ],
      "metadata": {
        "colab": {
          "base_uri": "https://localhost:8080/"
        },
        "id": "fPd8Xg2iyazb",
        "outputId": "5cb6ed1d-7d65-490b-b4bd-2e80b282f23c"
      },
      "execution_count": 30,
      "outputs": [
        {
          "output_type": "execute_result",
          "data": {
            "text/plain": [
              "(140417469398928, 140417461775152)"
            ]
          },
          "metadata": {},
          "execution_count": 30
        }
      ]
    },
    {
      "cell_type": "markdown",
      "source": [
        "### 7) 튜플은 메모리 사용이 적다\n",
        "\n",
        "'''\n",
        "blue = 1\n",
        "white = 2\n",
        "...\n",
        "'''"
      ],
      "metadata": {
        "id": "9ABB8JdX4Wq-"
      }
    },
    {
      "cell_type": "markdown",
      "source": [
        "### 8) 형 변환\n",
        "- tuple()\n",
        "- {} "
      ],
      "metadata": {
        "id": "gcFsxScDyw7f"
      }
    },
    {
      "cell_type": "code",
      "source": [
        "tuple('cat'), ['cat']"
      ],
      "metadata": {
        "colab": {
          "base_uri": "https://localhost:8080/"
        },
        "id": "N7-zabk0y0tL",
        "outputId": "73bce3d3-7df2-4816-c0ec-bf271815c9a4"
      },
      "execution_count": 31,
      "outputs": [
        {
          "output_type": "execute_result",
          "data": {
            "text/plain": [
              "(('c', 'a', 't'), ['cat'])"
            ]
          },
          "metadata": {},
          "execution_count": 31
        }
      ]
    },
    {
      "cell_type": "code",
      "source": [
        "list('cat'), ['cat']"
      ],
      "metadata": {
        "colab": {
          "base_uri": "https://localhost:8080/"
        },
        "id": "Pymw-NVIy-WF",
        "outputId": "b308a95d-8e86-4688-8df6-c0618f30c0a8"
      },
      "execution_count": 32,
      "outputs": [
        {
          "output_type": "execute_result",
          "data": {
            "text/plain": [
              "(['c', 'a', 't'], ['cat'])"
            ]
          },
          "metadata": {},
          "execution_count": 32
        }
      ]
    },
    {
      "cell_type": "code",
      "source": [
        "b[0]"
      ],
      "metadata": {
        "colab": {
          "base_uri": "https://localhost:8080/"
        },
        "id": "nebeTex1zCkL",
        "outputId": "a18ea484-a511-4125-9824-324b894bf2fe"
      },
      "execution_count": 33,
      "outputs": [
        {
          "output_type": "execute_result",
          "data": {
            "text/plain": [
              "1"
            ]
          },
          "metadata": {},
          "execution_count": 33
        }
      ]
    },
    {
      "cell_type": "markdown",
      "source": [
        "### * 튜플의 장점\n",
        "- 타인이 변경하는 걸 막을 수 있다. **\n",
        "- 메모리 사용이 적다.\n",
        "\n",
        "### * 리스트 장점\n",
        "- 데이터 순차적으로 파악하기 좋다\n",
        "- 중복되는 데이트를 포함할 수 있다."
      ],
      "metadata": {
        "id": "1uD8cu6P1PIc"
      }
    },
    {
      "cell_type": "markdown",
      "source": [
        "## 3. List 관련 함수\n",
        "### 1) 항목 변경하기\n",
        "- .append(): 마지막에 요소 추가\n",
        "- .insert(): 원하는 위치에 요소 추가\n",
        "- .extend(): 다른 리스트 병합\n",
        "- 슬라이싱 가능"
      ],
      "metadata": {
        "id": "zeg52Wya1wIX"
      }
    },
    {
      "cell_type": "code",
      "source": [
        "days = ['월', '화', '수', '목']\n",
        "\n",
        "# 리스트 끝에 '금' 추가하기\n",
        "days.append('금')"
      ],
      "metadata": {
        "id": "N8vaN6Pu14CI"
      },
      "execution_count": 34,
      "outputs": []
    },
    {
      "cell_type": "code",
      "source": [
        "days"
      ],
      "metadata": {
        "colab": {
          "base_uri": "https://localhost:8080/"
        },
        "id": "4Is6PzeK2F9U",
        "outputId": "b3b7eb3e-98e4-47db-d477-13cbbf9857f5"
      },
      "execution_count": 35,
      "outputs": [
        {
          "output_type": "execute_result",
          "data": {
            "text/plain": [
              "['월', '화', '수', '목', '금']"
            ]
          },
          "metadata": {},
          "execution_count": 35
        }
      ]
    },
    {
      "cell_type": "code",
      "source": [
        "# '토'를 리스트 세 번째 자리(리스트 상에서는 2로 표현)에 삽입하기\n",
        "# offset과 insert 사용\n",
        "days.insert(2, '토')\n",
        "days"
      ],
      "metadata": {
        "id": "olkrDFkF2IYT",
        "colab": {
          "base_uri": "https://localhost:8080/"
        },
        "outputId": "a62cc7a0-a2d3-4787-cadf-e8e5840487af"
      },
      "execution_count": 36,
      "outputs": [
        {
          "output_type": "execute_result",
          "data": {
            "text/plain": [
              "['월', '화', '토', '수', '목', '금']"
            ]
          },
          "metadata": {},
          "execution_count": 36
        }
      ]
    },
    {
      "cell_type": "code",
      "source": [
        "# 병합하기\n",
        "listA = ['토', '일']\n",
        "days.extend(listA)\n",
        "days   # 스트링으로 들어감"
      ],
      "metadata": {
        "colab": {
          "base_uri": "https://localhost:8080/"
        },
        "id": "SxqSAx2s2Xz7",
        "outputId": "530e4b35-c437-4021-a9cb-36852d1c78d1"
      },
      "execution_count": 37,
      "outputs": [
        {
          "output_type": "execute_result",
          "data": {
            "text/plain": [
              "['월', '화', '토', '수', '목', '금', '토', '일']"
            ]
          },
          "metadata": {},
          "execution_count": 37
        }
      ]
    },
    {
      "cell_type": "code",
      "source": [
        "days.append(listA)  # list 자체로 들어감\n",
        "days"
      ],
      "metadata": {
        "id": "2vQy6Myz2mGv",
        "colab": {
          "base_uri": "https://localhost:8080/"
        },
        "outputId": "f5ef8352-8e9d-446f-80ca-952d8ccd612f"
      },
      "execution_count": 38,
      "outputs": [
        {
          "output_type": "execute_result",
          "data": {
            "text/plain": [
              "['월', '화', '토', '수', '목', '금', '토', '일', ['토', '일']]"
            ]
          },
          "metadata": {},
          "execution_count": 38
        }
      ]
    },
    {
      "cell_type": "code",
      "source": [
        "days += listA\n",
        "days"
      ],
      "metadata": {
        "colab": {
          "base_uri": "https://localhost:8080/"
        },
        "id": "csuhYupw6x4i",
        "outputId": "94937d86-899a-46dd-8ac1-766b4eb58e56"
      },
      "execution_count": 39,
      "outputs": [
        {
          "output_type": "execute_result",
          "data": {
            "text/plain": [
              "['월', '화', '토', '수', '목', '금', '토', '일', ['토', '일'], '토', '일']"
            ]
          },
          "metadata": {},
          "execution_count": 39
        }
      ]
    },
    {
      "cell_type": "code",
      "source": [
        "# offset -> 슬라이싱 가능, 문자열 넣을 땐 주의\n",
        "days[-3] = '공휴일'"
      ],
      "metadata": {
        "id": "xZIzJTdT2uPv"
      },
      "execution_count": 40,
      "outputs": []
    },
    {
      "cell_type": "code",
      "source": [
        "days[:3] = 1, 2, 3  # 슬라이싱 개수와 할당하는 값의 개수 달라도 됨\n",
        "days"
      ],
      "metadata": {
        "colab": {
          "base_uri": "https://localhost:8080/"
        },
        "id": "IWsDgC892y8v",
        "outputId": "f4ab3485-fbf1-46b3-a5df-f8f7e28d4b3b"
      },
      "execution_count": 41,
      "outputs": [
        {
          "output_type": "execute_result",
          "data": {
            "text/plain": [
              "[1, 2, 3, '수', '목', '금', '토', '일', '공휴일', '토', '일']"
            ]
          },
          "metadata": {},
          "execution_count": 41
        }
      ]
    },
    {
      "cell_type": "code",
      "source": [
        "days[:3] = 'cat'\n",
        "days  # 숫자는 하나씩 바뀌었지만, 스트링은 하나씩 순회하며 바뀜"
      ],
      "metadata": {
        "colab": {
          "base_uri": "https://localhost:8080/"
        },
        "id": "nYCIWvbH28gA",
        "outputId": "6e04c901-537a-439d-f347-d2848b2af17a"
      },
      "execution_count": 42,
      "outputs": [
        {
          "output_type": "execute_result",
          "data": {
            "text/plain": [
              "['c', 'a', 't', '수', '목', '금', '토', '일', '공휴일', '토', '일']"
            ]
          },
          "metadata": {},
          "execution_count": 42
        }
      ]
    },
    {
      "cell_type": "code",
      "source": [
        "# a = 1, 2, 3, 4, 5\n",
        "a = list(range(1, 6))\n",
        "a"
      ],
      "metadata": {
        "colab": {
          "base_uri": "https://localhost:8080/"
        },
        "id": "9EsGKIbu3LsO",
        "outputId": "6f000019-1f2f-4b97-835a-a3997e45b71f"
      },
      "execution_count": 43,
      "outputs": [
        {
          "output_type": "execute_result",
          "data": {
            "text/plain": [
              "[1, 2, 3, 4, 5]"
            ]
          },
          "metadata": {},
          "execution_count": 43
        }
      ]
    },
    {
      "cell_type": "markdown",
      "source": [
        "### 2) 삭제하기\n",
        "- del\n",
        "  - 함수가 아니라 구문 -> .del() X\n",
        "  - 할당의 반대\n",
        "- .remove()\n",
        "  - 리스트에서 삭제할 항목 위치 모를 때\n",
        "  - 같은 값으로 항목 중복 -> 첫 번째 항목만 삭제\n",
        "- .pop()\n",
        "  - 리스트에서 항목을 가져옴과 동시에 삭제(어떤 요소가 삭제되었는지 보여준다는 뜻)\n",
        "  - () 안에 값을 넣지 않으면 -> pop(-1)_후입 선출 자료구조 스택)\n",
        "  - pop(0)_선입 선출 자료구조 큐\n",
        "- .clear()\n",
        "  - 모든 항목 삭제"
      ],
      "metadata": {
        "id": "UOifpQ023ecZ"
      }
    },
    {
      "cell_type": "code",
      "source": [
        "# 1. offset\n",
        "del days[0]   # 자리가 보존되지 않고 요소가 하나씩 앞당겨짐\n",
        "days"
      ],
      "metadata": {
        "colab": {
          "base_uri": "https://localhost:8080/"
        },
        "id": "yS-t86123hat",
        "outputId": "76940024-ff5c-4fab-cf91-90e21a336731"
      },
      "execution_count": 44,
      "outputs": [
        {
          "output_type": "execute_result",
          "data": {
            "text/plain": [
              "['a', 't', '수', '목', '금', '토', '일', '공휴일', '토', '일']"
            ]
          },
          "metadata": {},
          "execution_count": 44
        }
      ]
    },
    {
      "cell_type": "code",
      "source": [
        "# 2. 특정한 값 삭제\n",
        "days.remove('일')   # 0번째만 삭제\n",
        "days"
      ],
      "metadata": {
        "colab": {
          "base_uri": "https://localhost:8080/"
        },
        "id": "XXAKXwtD3rsB",
        "outputId": "acf818df-56e4-4cf5-dfb2-95fc80c9cd6f"
      },
      "execution_count": 45,
      "outputs": [
        {
          "output_type": "execute_result",
          "data": {
            "text/plain": [
              "['a', 't', '수', '목', '금', '토', '공휴일', '토', '일']"
            ]
          },
          "metadata": {},
          "execution_count": 45
        }
      ]
    },
    {
      "cell_type": "code",
      "source": [
        "# 3. pop(index) default = -1 맨 마지막 요소를 삭제\n",
        "days.pop(0)"
      ],
      "metadata": {
        "colab": {
          "base_uri": "https://localhost:8080/",
          "height": 36
        },
        "id": "giZwVZnS35QI",
        "outputId": "245bc5ce-52b6-4741-bb20-ded8d4719e04"
      },
      "execution_count": 46,
      "outputs": [
        {
          "output_type": "execute_result",
          "data": {
            "text/plain": [
              "'a'"
            ],
            "application/vnd.google.colaboratory.intrinsic+json": {
              "type": "string"
            }
          },
          "metadata": {},
          "execution_count": 46
        }
      ]
    },
    {
      "cell_type": "code",
      "source": [
        "days"
      ],
      "metadata": {
        "colab": {
          "base_uri": "https://localhost:8080/"
        },
        "id": "IE7fOFbn4B2Q",
        "outputId": "6d4a32bd-80d6-4075-8522-024b2984fd1e"
      },
      "execution_count": 47,
      "outputs": [
        {
          "output_type": "execute_result",
          "data": {
            "text/plain": [
              "['t', '수', '목', '금', '토', '공휴일', '토', '일']"
            ]
          },
          "metadata": {},
          "execution_count": 47
        }
      ]
    },
    {
      "cell_type": "code",
      "source": [
        "# clear\n",
        "days.clear()"
      ],
      "metadata": {
        "id": "ymf8f9y-4FRH"
      },
      "execution_count": 48,
      "outputs": []
    },
    {
      "cell_type": "code",
      "source": [
        "days"
      ],
      "metadata": {
        "colab": {
          "base_uri": "https://localhost:8080/"
        },
        "id": "2UHlDM6T4IFU",
        "outputId": "94971b6f-5d20-4d11-ed6b-4b443a8b915f"
      },
      "execution_count": 49,
      "outputs": [
        {
          "output_type": "execute_result",
          "data": {
            "text/plain": [
              "[]"
            ]
          },
          "metadata": {},
          "execution_count": 49
        }
      ]
    },
    {
      "cell_type": "markdown",
      "source": [
        "### 3) 값 찾기"
      ],
      "metadata": {
        "id": "_cvzpci-4J07"
      }
    },
    {
      "cell_type": "code",
      "source": [
        "# 오프셋으로 값 찾기: index()\n",
        "a = list(range(5))\n",
        "a.index(2)"
      ],
      "metadata": {
        "colab": {
          "base_uri": "https://localhost:8080/"
        },
        "id": "dVn1ep574MKq",
        "outputId": "fed09ea2-849d-48d4-d0f3-bef7bbf5d9a9"
      },
      "execution_count": 50,
      "outputs": [
        {
          "output_type": "execute_result",
          "data": {
            "text/plain": [
              "2"
            ]
          },
          "metadata": {},
          "execution_count": 50
        }
      ]
    },
    {
      "cell_type": "code",
      "source": [
        "# 값으로 오프셋 찾기: index()\n",
        "animals = ['dog', 'cat', 'lion', 'rabbit']\n",
        "animals.index('cat')"
      ],
      "metadata": {
        "colab": {
          "base_uri": "https://localhost:8080/"
        },
        "id": "dcZBgW2s-7CM",
        "outputId": "3118685c-9ef4-4411-eeda-d9b479f94f0c"
      },
      "execution_count": 51,
      "outputs": [
        {
          "output_type": "execute_result",
          "data": {
            "text/plain": [
              "1"
            ]
          },
          "metadata": {},
          "execution_count": 51
        }
      ]
    },
    {
      "cell_type": "code",
      "source": [
        "# 값 존재유무 확인: in\n",
        "3 in a"
      ],
      "metadata": {
        "colab": {
          "base_uri": "https://localhost:8080/"
        },
        "id": "sNghky9T4Rrn",
        "outputId": "3b921096-f6f2-4863-e75c-5acebbe4d93b"
      },
      "execution_count": 52,
      "outputs": [
        {
          "output_type": "execute_result",
          "data": {
            "text/plain": [
              "True"
            ]
          },
          "metadata": {},
          "execution_count": 52
        }
      ]
    },
    {
      "cell_type": "markdown",
      "source": [
        "### 4) 정렬하기\n",
        "- list.sort(reverse)\n",
        "   - 정렬한 뒤 값 반환하지 않음, 기존값 변경되어 있음\n",
        "   - 내림차순으로 정렬하고 싶다면 reverse = True 추가\n",
        "- sorted(list, reverse)\n",
        "   - 정렬된 복사본을 변환, 기존 값은 유지\n",
        "- list.reverse(): 거꾸로 출력\n",
        "- list(reversed(list))\n",
        "\n",
        "** 리스트의 항목이 숫자라면 오름차순(기본값)으로 정렬, 문자열이면 알파벳순으로 정렬"
      ],
      "metadata": {
        "id": "LSHkKH6v4VVk"
      }
    },
    {
      "cell_type": "code",
      "source": [
        "b = sorted(a, reverse = True)"
      ],
      "metadata": {
        "id": "6TavxJeQ4Uhx"
      },
      "execution_count": 53,
      "outputs": []
    },
    {
      "cell_type": "code",
      "source": [
        "# reverse = False라면? -> 거꾸로 출력되지 않음, 즉 오름차순으로 정렬\n",
        "sorted(a, reverse = False)"
      ],
      "metadata": {
        "colab": {
          "base_uri": "https://localhost:8080/"
        },
        "id": "m_InxMdw4p4s",
        "outputId": "75aec817-e953-476d-9abd-c3ca7d48e1f5"
      },
      "execution_count": 54,
      "outputs": [
        {
          "output_type": "execute_result",
          "data": {
            "text/plain": [
              "[0, 1, 2, 3, 4]"
            ]
          },
          "metadata": {},
          "execution_count": 54
        }
      ]
    },
    {
      "cell_type": "code",
      "source": [
        "a, b"
      ],
      "metadata": {
        "colab": {
          "base_uri": "https://localhost:8080/"
        },
        "id": "tXApy0uD5CYC",
        "outputId": "a38dab78-0903-4f43-920e-c1854f655a92"
      },
      "execution_count": 55,
      "outputs": [
        {
          "output_type": "execute_result",
          "data": {
            "text/plain": [
              "([0, 1, 2, 3, 4], [4, 3, 2, 1, 0])"
            ]
          },
          "metadata": {},
          "execution_count": 55
        }
      ]
    },
    {
      "cell_type": "code",
      "source": [
        "b"
      ],
      "metadata": {
        "colab": {
          "base_uri": "https://localhost:8080/"
        },
        "id": "X4I90xo04ibn",
        "outputId": "7ca96475-152b-4b7f-9d2b-1876d9d8b023"
      },
      "execution_count": 56,
      "outputs": [
        {
          "output_type": "execute_result",
          "data": {
            "text/plain": [
              "[4, 3, 2, 1, 0]"
            ]
          },
          "metadata": {},
          "execution_count": 56
        }
      ]
    },
    {
      "cell_type": "code",
      "source": [
        "b.reverse()"
      ],
      "metadata": {
        "id": "LRtcpNur5KRA"
      },
      "execution_count": 57,
      "outputs": []
    },
    {
      "cell_type": "code",
      "source": [
        "b"
      ],
      "metadata": {
        "colab": {
          "base_uri": "https://localhost:8080/"
        },
        "id": "oXNrbFDG4lF3",
        "outputId": "5c0ebee7-e305-4644-a31a-684302a8e0a2"
      },
      "execution_count": 58,
      "outputs": [
        {
          "output_type": "execute_result",
          "data": {
            "text/plain": [
              "[0, 1, 2, 3, 4]"
            ]
          },
          "metadata": {},
          "execution_count": 58
        }
      ]
    },
    {
      "cell_type": "code",
      "source": [
        "c = list(reversed(b))"
      ],
      "metadata": {
        "id": "HLLLmHdH4nbs"
      },
      "execution_count": 59,
      "outputs": []
    },
    {
      "cell_type": "code",
      "source": [
        "c"
      ],
      "metadata": {
        "colab": {
          "base_uri": "https://localhost:8080/"
        },
        "id": "TU9V5mBS5UgJ",
        "outputId": "737e5283-37f7-4fc9-c1a9-95c7cf370a43"
      },
      "execution_count": 60,
      "outputs": [
        {
          "output_type": "execute_result",
          "data": {
            "text/plain": [
              "[4, 3, 2, 1, 0]"
            ]
          },
          "metadata": {},
          "execution_count": 60
        }
      ]
    },
    {
      "cell_type": "markdown",
      "source": [
        "### 5) 할당하기\n",
        "- 같은 메모리 주소를 참조하고 있으므로 '='으로 할당할 때에는 하나의 값이 변하면 같이 변함.\n",
        "- shallow copy\n",
        "   - a가 변해도 b가 변하지 않게 하는 복사\n",
        "   - 리스트.copy()\n",
        "   - list(리스트)\n",
        "   - 리스트[:]\n",
        "- deep copy\n",
        "   - 하위에 중첩된 리스트 요소가 바뀌는 것을 방지"
      ],
      "metadata": {
        "id": "lGqwle0x5VzL"
      }
    },
    {
      "cell_type": "code",
      "source": [
        "a"
      ],
      "metadata": {
        "colab": {
          "base_uri": "https://localhost:8080/"
        },
        "id": "khgTXUcW5Xy_",
        "outputId": "fd32a491-4c45-4b36-f822-95030f634902"
      },
      "execution_count": 61,
      "outputs": [
        {
          "output_type": "execute_result",
          "data": {
            "text/plain": [
              "[0, 1, 2, 3, 4]"
            ]
          },
          "metadata": {},
          "execution_count": 61
        }
      ]
    },
    {
      "cell_type": "code",
      "source": [
        "b = a   # [0, 1, 2, 3, 4]에 a, b가 같은 메모리 주소를 참조함\n",
        "b[0] = 7\n",
        "b"
      ],
      "metadata": {
        "colab": {
          "base_uri": "https://localhost:8080/"
        },
        "id": "uAs70sur5Zap",
        "outputId": "5f8bdcb8-02d7-4f37-e166-5d2e338525cc"
      },
      "execution_count": 62,
      "outputs": [
        {
          "output_type": "execute_result",
          "data": {
            "text/plain": [
              "[7, 1, 2, 3, 4]"
            ]
          },
          "metadata": {},
          "execution_count": 62
        }
      ]
    },
    {
      "cell_type": "code",
      "source": [
        "a  # a도 바뀜"
      ],
      "metadata": {
        "colab": {
          "base_uri": "https://localhost:8080/"
        },
        "id": "fGcwRY8-5ekI",
        "outputId": "18e67cf0-c6fe-4d58-f18d-454ee859fdcf"
      },
      "execution_count": 63,
      "outputs": [
        {
          "output_type": "execute_result",
          "data": {
            "text/plain": [
              "[7, 1, 2, 3, 4]"
            ]
          },
          "metadata": {},
          "execution_count": 63
        }
      ]
    },
    {
      "cell_type": "code",
      "source": [
        "id(a), id(b)\n",
        "# id 똑같음"
      ],
      "metadata": {
        "colab": {
          "base_uri": "https://localhost:8080/"
        },
        "id": "fXmm72U06Br1",
        "outputId": "c13b67d4-4122-437e-bc70-8ad9a046a259"
      },
      "execution_count": 64,
      "outputs": [
        {
          "output_type": "execute_result",
          "data": {
            "text/plain": [
              "(140417457035776, 140417457035776)"
            ]
          },
          "metadata": {},
          "execution_count": 64
        }
      ]
    },
    {
      "cell_type": "code",
      "source": [
        "# shallow copy\n",
        "b = a.copy()\n",
        "c = list(a)\n",
        "d = a[:]\n",
        "id(a), id(b), id(c), id(d)"
      ],
      "metadata": {
        "colab": {
          "base_uri": "https://localhost:8080/"
        },
        "id": "ie7jB_5354WZ",
        "outputId": "edff222b-f1d5-4bbb-f5b3-c6794087d771"
      },
      "execution_count": 65,
      "outputs": [
        {
          "output_type": "execute_result",
          "data": {
            "text/plain": [
              "(140417457035776, 140417469420800, 140417439546656, 140417469440800)"
            ]
          },
          "metadata": {},
          "execution_count": 65
        }
      ]
    },
    {
      "cell_type": "code",
      "source": [
        "a.append([6, 7, 8])   # 2차원 리스트\n",
        "a"
      ],
      "metadata": {
        "colab": {
          "base_uri": "https://localhost:8080/"
        },
        "id": "7p-DTspc6QE8",
        "outputId": "c22868ae-f227-42b8-c612-e1c5e6544e53"
      },
      "execution_count": 66,
      "outputs": [
        {
          "output_type": "execute_result",
          "data": {
            "text/plain": [
              "[7, 1, 2, 3, 4, [6, 7, 8]]"
            ]
          },
          "metadata": {},
          "execution_count": 66
        }
      ]
    },
    {
      "cell_type": "code",
      "source": [
        "e = a.copy()\n",
        "e"
      ],
      "metadata": {
        "colab": {
          "base_uri": "https://localhost:8080/"
        },
        "id": "G4VKMI_G6WVw",
        "outputId": "65196932-6240-44a9-9e11-669441b5f6a2"
      },
      "execution_count": 67,
      "outputs": [
        {
          "output_type": "execute_result",
          "data": {
            "text/plain": [
              "[7, 1, 2, 3, 4, [6, 7, 8]]"
            ]
          },
          "metadata": {},
          "execution_count": 67
        }
      ]
    },
    {
      "cell_type": "code",
      "source": [
        "a[-1][0] = 0\n",
        "a, e"
      ],
      "metadata": {
        "colab": {
          "base_uri": "https://localhost:8080/"
        },
        "id": "DWeCNAgi6Y0u",
        "outputId": "b2cddaf5-e6ac-41d8-c3e1-1dce8ab8917b"
      },
      "execution_count": 68,
      "outputs": [
        {
          "output_type": "execute_result",
          "data": {
            "text/plain": [
              "([7, 1, 2, 3, 4, [0, 7, 8]], [7, 1, 2, 3, 4, [0, 7, 8]])"
            ]
          },
          "metadata": {},
          "execution_count": 68
        }
      ]
    },
    {
      "cell_type": "code",
      "source": [
        "# deepcopy()\n",
        "import copy\n",
        "f = copy.deepcopy(a)\n",
        "f"
      ],
      "metadata": {
        "colab": {
          "base_uri": "https://localhost:8080/"
        },
        "id": "8ksQiF8H6wLe",
        "outputId": "882e6209-964f-41e4-8fda-7ed51638868e"
      },
      "execution_count": 69,
      "outputs": [
        {
          "output_type": "execute_result",
          "data": {
            "text/plain": [
              "[7, 1, 2, 3, 4, [0, 7, 8]]"
            ]
          },
          "metadata": {},
          "execution_count": 69
        }
      ]
    },
    {
      "cell_type": "code",
      "source": [
        "f[-1][-1] = 9\n",
        "a, f"
      ],
      "metadata": {
        "colab": {
          "base_uri": "https://localhost:8080/"
        },
        "id": "_ISXvRzT61kd",
        "outputId": "b895fbd8-c8e7-42ca-8f3c-b8adb3380fc0"
      },
      "execution_count": 70,
      "outputs": [
        {
          "output_type": "execute_result",
          "data": {
            "text/plain": [
              "([7, 1, 2, 3, 4, [0, 7, 8]], [7, 1, 2, 3, 4, [0, 7, 9]])"
            ]
          },
          "metadata": {},
          "execution_count": 70
        }
      ]
    },
    {
      "cell_type": "markdown",
      "source": [
        "### 6) 순회하기\n",
        "- zip(): 여러 개 리스트 동시 순회\n",
        "- enumerate(): 인덱스도 함께 돌고자 할 때 (list, range)\n",
        "- range()\n"
      ],
      "metadata": {
        "id": "GbnaWYmI7Dns"
      }
    },
    {
      "cell_type": "code",
      "source": [
        "# zip()\n",
        "a = [1, 2, 3]\n",
        "b = ['mon', 'tue', 'wed', 'thu']\n",
        "\n",
        "for itemA, itemB in zip(a, b):   # 요소의 수가 적은 시퀀스에서 완료됨\n",
        "  print((itemA, itemB))"
      ],
      "metadata": {
        "colab": {
          "base_uri": "https://localhost:8080/"
        },
        "id": "ps_e9PVV7Iu6",
        "outputId": "7c4fea23-a136-4809-f9a4-ab6e254a9138"
      },
      "execution_count": 71,
      "outputs": [
        {
          "output_type": "stream",
          "name": "stdout",
          "text": [
            "(1, 'mon')\n",
            "(2, 'tue')\n",
            "(3, 'wed')\n"
          ]
        }
      ]
    },
    {
      "cell_type": "code",
      "source": [
        "list(zip(a, b))   "
      ],
      "metadata": {
        "colab": {
          "base_uri": "https://localhost:8080/"
        },
        "id": "RBJ4jIGm7dvh",
        "outputId": "325f164a-9575-4a7f-9ee9-24e5b6cfcaf3"
      },
      "execution_count": 72,
      "outputs": [
        {
          "output_type": "execute_result",
          "data": {
            "text/plain": [
              "[(1, 'mon'), (2, 'tue'), (3, 'wed')]"
            ]
          },
          "metadata": {},
          "execution_count": 72
        }
      ]
    },
    {
      "cell_type": "code",
      "source": [
        "dict(zip(a, b))   # dictionary로도 가능"
      ],
      "metadata": {
        "colab": {
          "base_uri": "https://localhost:8080/"
        },
        "id": "zU51tS6z7hwR",
        "outputId": "cefea895-2d7f-49c4-b938-cab761fc055a"
      },
      "execution_count": 73,
      "outputs": [
        {
          "output_type": "execute_result",
          "data": {
            "text/plain": [
              "{1: 'mon', 2: 'tue', 3: 'wed'}"
            ]
          },
          "metadata": {},
          "execution_count": 73
        }
      ]
    },
    {
      "cell_type": "code",
      "source": [
        "# enumerate() : itemA의 인덱스가 매겨짐.\n",
        "for idx, itemA in enumerate(b):\n",
        "  print((idx, itemA))"
      ],
      "metadata": {
        "colab": {
          "base_uri": "https://localhost:8080/"
        },
        "id": "atrEu4K87zEQ",
        "outputId": "594fdfa3-7322-4ab2-e857-c8426aa0c6ec"
      },
      "execution_count": 74,
      "outputs": [
        {
          "output_type": "stream",
          "name": "stdout",
          "text": [
            "(0, 'mon')\n",
            "(1, 'tue')\n",
            "(2, 'wed')\n",
            "(3, 'thu')\n"
          ]
        }
      ]
    },
    {
      "cell_type": "code",
      "source": [
        "[day for day in b]"
      ],
      "metadata": {
        "colab": {
          "base_uri": "https://localhost:8080/"
        },
        "id": "chwnjoW78Fpx",
        "outputId": "7d1abf65-4244-45e8-8fd3-3ecf31f0d516"
      },
      "execution_count": 75,
      "outputs": [
        {
          "output_type": "execute_result",
          "data": {
            "text/plain": [
              "['mon', 'tue', 'wed', 'thu']"
            ]
          },
          "metadata": {},
          "execution_count": 75
        }
      ]
    },
    {
      "cell_type": "markdown",
      "source": [
        "#### * 리스트 컴프리핸션에서 순회하기"
      ],
      "metadata": {
        "id": "WNt7qzwc8Bmr"
      }
    },
    {
      "cell_type": "code",
      "source": [
        "ex = [(nal, day) for nal, day in zip(a, b)]\n",
        "ex"
      ],
      "metadata": {
        "colab": {
          "base_uri": "https://localhost:8080/"
        },
        "id": "4INTHscy9cW1",
        "outputId": "ff61aa25-cdc2-4a12-fc24-d5d93fa54065"
      },
      "execution_count": 76,
      "outputs": [
        {
          "output_type": "execute_result",
          "data": {
            "text/plain": [
              "[(1, 'mon'), (2, 'tue'), (3, 'wed')]"
            ]
          },
          "metadata": {},
          "execution_count": 76
        }
      ]
    },
    {
      "cell_type": "markdown",
      "source": [
        "##### ** 연습\n",
        "- 리스트 -> for문으로\n",
        "- for문을 사용하여 ex를 구현하기\n",
        "    - a = [1,2,3], b = ['mon', 'tue', 'wed', 'thu']"
      ],
      "metadata": {
        "id": "BpRtJXfB9k_4"
      }
    },
    {
      "cell_type": "code",
      "source": [
        "n_day = []\n",
        "for num, day in zip(a,b):\n",
        "  n_day.append((num,day))\n",
        "\n",
        "n_day"
      ],
      "metadata": {
        "colab": {
          "base_uri": "https://localhost:8080/"
        },
        "id": "9lewlEOp9jvq",
        "outputId": "97b2bfb7-0d34-4589-ff81-37a71223a81c"
      },
      "execution_count": 77,
      "outputs": [
        {
          "output_type": "execute_result",
          "data": {
            "text/plain": [
              "[(1, 'mon'), (2, 'tue'), (3, 'wed')]"
            ]
          },
          "metadata": {},
          "execution_count": 77
        }
      ]
    },
    {
      "cell_type": "code",
      "source": [
        "# for day in b\n",
        "   # for nal in a\n",
        "[(nal, day) for nal in a for day in b]"
      ],
      "metadata": {
        "colab": {
          "base_uri": "https://localhost:8080/"
        },
        "id": "oGRu70A3-Isg",
        "outputId": "9fe480a8-b459-4eb1-e7b8-5ff464862da0"
      },
      "execution_count": 78,
      "outputs": [
        {
          "output_type": "execute_result",
          "data": {
            "text/plain": [
              "[(1, 'mon'),\n",
              " (1, 'tue'),\n",
              " (1, 'wed'),\n",
              " (1, 'thu'),\n",
              " (2, 'mon'),\n",
              " (2, 'tue'),\n",
              " (2, 'wed'),\n",
              " (2, 'thu'),\n",
              " (3, 'mon'),\n",
              " (3, 'tue'),\n",
              " (3, 'wed'),\n",
              " (3, 'thu')]"
            ]
          },
          "metadata": {},
          "execution_count": 78
        }
      ]
    },
    {
      "cell_type": "code",
      "source": [
        "sentence = \"don't judge a book by its cover\"\n",
        "# 문제1 (대문자, 타이틀, 글자수)로 저장된 리스트로 만들어라.\n",
        "[(word.upper(), word.title(), len(word)) for word in sentence.split()]"
      ],
      "metadata": {
        "colab": {
          "base_uri": "https://localhost:8080/"
        },
        "id": "AMKl2xlK-fvF",
        "outputId": "4d819aad-1eb8-441b-d037-875a009a6b5e"
      },
      "execution_count": 79,
      "outputs": [
        {
          "output_type": "execute_result",
          "data": {
            "text/plain": [
              "[(\"DON'T\", \"Don'T\", 5),\n",
              " ('JUDGE', 'Judge', 5),\n",
              " ('A', 'A', 1),\n",
              " ('BOOK', 'Book', 4),\n",
              " ('BY', 'By', 2),\n",
              " ('ITS', 'Its', 3),\n",
              " ('COVER', 'Cover', 5)]"
            ]
          },
          "metadata": {},
          "execution_count": 79
        }
      ]
    },
    {
      "cell_type": "code",
      "source": [
        "# 문제2\n",
        "text = [\n",
        "        ['hello', 'guys'],\n",
        "        ['how', 'are', 'you']\n",
        "]\n",
        "\n",
        "# 2-1. 문장으로 구성된 리스트로 만들기 - ['hello guys', 'how are you']\n",
        "# 2-2. 전체 단어를 하나의 리스트로 가져오기\n",
        "    # ['', '', '', '', '']\n",
        "# 2-3. 전체를 스트링으로 가져오기\n",
        "    # 'hello guys how are you'"
      ],
      "metadata": {
        "id": "f8F6BF5R_3aZ"
      },
      "execution_count": 80,
      "outputs": []
    },
    {
      "cell_type": "code",
      "source": [
        "# 2-1. 문장으로 구성된 리스트로 만들기\n",
        "sent_list = [' '.join(sent) for sent in text]\n",
        "sent_list"
      ],
      "metadata": {
        "colab": {
          "base_uri": "https://localhost:8080/"
        },
        "id": "ZwPcOb8VAk_0",
        "outputId": "e2f35287-eca8-496a-cc2f-8c603f437431"
      },
      "execution_count": 81,
      "outputs": [
        {
          "output_type": "execute_result",
          "data": {
            "text/plain": [
              "['hello guys', 'how are you']"
            ]
          },
          "metadata": {},
          "execution_count": 81
        }
      ]
    },
    {
      "cell_type": "code",
      "source": [
        "# 2-2. 전체 단어를 하나의 리스트로 가져오기\n",
        "for sent in text:\n",
        "  for word in sent:\n",
        "    print(word)"
      ],
      "metadata": {
        "colab": {
          "base_uri": "https://localhost:8080/"
        },
        "id": "a-Kbort-CIBD",
        "outputId": "5b6f98f5-89a2-4195-998f-b3588c8f2bb0"
      },
      "execution_count": 82,
      "outputs": [
        {
          "output_type": "stream",
          "name": "stdout",
          "text": [
            "hello\n",
            "guys\n",
            "how\n",
            "are\n",
            "you\n"
          ]
        }
      ]
    },
    {
      "cell_type": "code",
      "source": [
        "#2. \n",
        "[word for sent in text for word in sent]"
      ],
      "metadata": {
        "colab": {
          "base_uri": "https://localhost:8080/"
        },
        "id": "S1aA4H0RCywq",
        "outputId": "4c34027c-ef61-4843-bb5e-7624a1b7a779"
      },
      "execution_count": 83,
      "outputs": [
        {
          "output_type": "execute_result",
          "data": {
            "text/plain": [
              "['hello', 'guys', 'how', 'are', 'you']"
            ]
          },
          "metadata": {},
          "execution_count": 83
        }
      ]
    },
    {
      "cell_type": "code",
      "source": [
        "#3.\n",
        "' '.join([word for sent in text for word in sent])"
      ],
      "metadata": {
        "colab": {
          "base_uri": "https://localhost:8080/",
          "height": 36
        },
        "id": "vyxhdUHIC3rt",
        "outputId": "3655f23b-376e-47a9-df55-45de94585658"
      },
      "execution_count": 84,
      "outputs": [
        {
          "output_type": "execute_result",
          "data": {
            "text/plain": [
              "'hello guys how are you'"
            ],
            "application/vnd.google.colaboratory.intrinsic+json": {
              "type": "string"
            }
          },
          "metadata": {},
          "execution_count": 84
        }
      ]
    },
    {
      "cell_type": "markdown",
      "source": [
        "#### 숙제 _ 시험란에 제출\n",
        "- 브라운코퍼스에서 romance 장르 raw 앞에서 5000개 선택\n",
        "   - 문장 분철 있는 토큰 리스트로 만들기\n",
        "   - 리스트컴프리핸션, for문 사용해서 불필요한 것을 제거하기\n",
        "   - 문장부호도 모두 제거\n",
        "\n",
        "   `\\n\\n\\tThey/ppss neither/cc liked/vbd`\n",
        "   [\n",
        "   ['They', 'neither','liked'],\n",
        "   [],\n",
        "   [],\n",
        "   []\n",
        "   ]"
      ],
      "metadata": {
        "id": "9PKS_KJHDBVD"
      }
    },
    {
      "cell_type": "code",
      "source": [
        "brown.raw(categories = 'romance')[:5000]   # -> list of words, sentence split 남긴 형태로"
      ],
      "metadata": {
        "colab": {
          "base_uri": "https://localhost:8080/",
          "height": 111
        },
        "id": "B444nVtMDNO-",
        "outputId": "7b5076a8-9b31-41e1-aa22-965668722fc2"
      },
      "execution_count": 85,
      "outputs": [
        {
          "output_type": "execute_result",
          "data": {
            "text/plain": [
              "\"\\n\\n\\tThey/ppss neither/cc liked/vbd nor/cc disliked/vbd the/at Old/jj-tl Man/nn-tl ./.\\nTo/in them/ppo he/pps could/md have/hv been/ben the/at broken/vbn bell/nn in/in the/at church/nn tower/nn which/wdt rang/vbd before/in and/cc after/in Mass/nn-tl ,/, and/cc at/in noon/nn ,/, and/cc at/in six/cd each/dt evening/nn --/-- its/pp$ tone/nn ,/, repetitive/jj ,/, monotonous/jj ,/, never/rb breaking/vbg the/at boredom/nn of/in the/at streets/nns ./.\\nThe/at Old/jj-tl Man/nn-tl was/bedz unimportant/jj ./.\\n\\n\\n\\tYet/rb if/cs he/pps were/bed not/* there/rb ,/, they/ppss would/md have/hv missed/vbn him/ppo ,/, as/cs they/ppss would/md have/hv missed/vbn the/at sounds/nns of/in bees/nns buzzing/vbg against/in the/at screen/nn door/nn in/in early/jj June/np ;/. ;/.\\nor/cc the/at smell/nn of/in thick/jj tomato/nn paste/nn --/-- the/at ripe/jj smell/nn that/wps was/bedz both/abx sweet/jj and/cc sour/jj --/-- rising/vbg up/rp from/in aluminum/nn trays/nns wrapped/vbn in/in fly-dotted/jj cheesecloth/nn ./.\\nOr/cc the/at surging/vbg whirling/vbg sounds/nns of/in bats/nns at/in night/nn ,/, when/wrb their/pp$ black/jj bodies/nns dived/vbd into/in the/at blackness/nn above/in and/cc below/in the/at amber/jj street/nn lights/nns ./.\\nOr/cc the/at bay/nn of/in female/nn dogs/nns in/in heat/nn ./.\\n\\n\\n\\tThey/ppss never/rb called/vbd him/ppo by/in name/nn ,/, although/cs he/pps had/hvd one/pn ./.\\nFilippo/np Rossi/np ,/, that's/dt+bez what/wdt he/pps was/bedz called/vbn in/in the/at old/jj country/nn ;/. ;/.\\nbut/cc here/rb he/pps was/bedz just/rb Signore/np or/cc the/at Old/jj-tl Man/nn-tl ./.\\nBut/cc this/dt was/bedz not/* unusual/jj ,/, because/cs youth/nn in/in these/dts quarters/nns was/bedz always/rb pushed/vbn at/in a/at distance/nn from/in its/pp$ elders/nns ./.\\nYouth/nn obeyed/vbd when/wrb commanded/vbn ./.\\nIt/pps went/vbd to/in church/nn on/in Sunday/nr and/cc one/cd Saturday/nr a/at month/nn went/vbd to/in confession/nn ./.\\nBut/cc youth/nn asked/vbd nothing/pn of/in its/pp$ parents/nns --/-- not/* a/at touch/nn of/in the/at hand/nn or/cc a/at kiss/nn given/vbn in/in passing/vbg ./.\\n\\n\\n\\tThe/at only/ap thing/nn unusual/jj about/in the/at Old/jj-tl Man/nn-tl had/hvd long/jj since/rb happened/vbn ./.\\nBut/cc the/at past/nn was/bedz dead/jj here/rb as/cs the/at present/jj was/bedz dead/jj ./.\\nOnce/cs the/at Old/jj-tl Man/nn-tl had/hvd had/hvn a/at wife/nn ./.\\nAnd/cc once/cs she/pps ,/, too/rb ,/, ignored/vbd him/ppo ./.\\nWith/in a/at tiny/jj fur-piece/nn wrapped/vbd around/in her/pp$ shoulders/nns ,/, she/pps wiggled/vbd her/pp$ satin-covered/jj buttocks/nns down/in the/at street/nn before/in him/ppo and/cc didn't/dod* stop/vb ./.\\nIn/in one/cd hand/nn she/pps clutched/vbd a/at hundred/cd dollar/nn bill/nn and/cc in/in the/at other/ap a/at straw/nn suitcase/nn ./.\\nThe/at way/nn she/pps strutted/vbd down/in the/at street/nn ,/, the/at Old/jj-tl Man/nn-tl would/md have/hv been/ben blind/jj not/* to/to have/hv noticed/vbn both/abx ./.\\nWithout/in looking/vbg at/in him/ppo ,/, without/in looking/vbg at/in anything/pn except/in Drexel/np-tl Street/nn-tl directly/rb in/in front/nn of/in her/ppo ,/, she/pps climbed/vbd up/rp into/in one/cd of/in those/dts orange/jj streetcars/nns ,/, rode/vbd away/rb in/in it/ppo ,/, and/cc never/rb came/vbd back/rb ./.\\n\\n\\n\\t``/`` But/cc she/pps shouldn't/md* have/hv come/vbn here/rb in/in the/at first/od place/nn ''/'' ,/, the/at women/nns had/hvd said/vbn ./.\\n\\n\\n\\t``/`` No/rb ,/, no/rb ./.\\nNot/* that/dt one/pn ./.\\nShe/pps thought/vbd she/pps was/bedz bigger/jjr than/cs we/ppss are/ber because/cs she/pps came/vbd from/in Torino/np ''/'' ./.\\n\\n\\n\\t``/`` Eh/uh ,/, Torino/np !/. !/.\\nShe/pps gave/vbd herself/ppl fancy/jj airs/nns !/. !/.\\nJust/rb because/cs she/pps had/hvd a/at part/nn on/in the/at stage/nn in/in the/at old/jj country/nn ,/, she/pps thought/vbd she/pps could/md carry/vb her/pp$ head/nn higher/rbr than/cs ours/pp$$ ''/'' ./.\\nThey/ppss had/hvd slapped/vbn their/pp$ thighs/nns ./.\\n\\n\\n\\t``/`` It's/pps+bez not/* for/in making/vbg pretty/jj speeches/nns about/in Dante/np those/dts actresses/nns get/vb paid/vbn so/ql good/rb ''/'' ./.\\n\\n\\n\\t``/`` Henh/uh ''/'' !/. !/.\\nCalloused/vbn fingers/nns ,/, caressed/vbn only/rb by/in the/at smoothness/nn of/in polished/vbn rosaries/nns ,/, had/hvd swayed/vbn excitedly/rb beneath/in puckered/vbn chins/nns where/wrb tiny/jj black/jj hairs/nns sprouted/vbd ,/, never/rb to/to be/be tweezed/vbn away/rb ./.\\nMauve-colored/jj mouths/nns that/wps had/hvd never/rb known/vbn anything/pn sweeter/jjr than/cs the/at taste/nn of/in new/jj wine/nn and/cc the/at passion/nn of/in man's/nn$ tongue/nn had/hvd not/* smiled/vbn ,/, but/cc had/hvd condemned/vbn again/rb and/cc again/rb ./.\\n``/`` Puttana/fw-nn ''/'' !/. !/.\\n\\n\\n\\tBut/cc if/cs the/at Old/jj-tl Man/nn-tl even/rb thought/vbd about/in his/pp$ wife/nn now/rb ,/, nobody/pn cared/vbd a/at fig/nn ./.\\nIt/pps was/bedz enough/ap for/in people/nns to/to know/vb that/cs at/in one/cd time/nn he/pps had/hvd looked/vbn down/in the/at street/nn at/in the/at f\""
            ],
            "application/vnd.google.colaboratory.intrinsic+json": {
              "type": "string"
            }
          },
          "metadata": {},
          "execution_count": 85
        }
      ]
    }
  ]
}