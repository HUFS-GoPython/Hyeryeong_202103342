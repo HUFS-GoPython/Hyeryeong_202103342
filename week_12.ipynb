{
  "nbformat": 4,
  "nbformat_minor": 0,
  "metadata": {
    "colab": {
      "name": "week_12.ipynb",
      "provenance": [],
      "collapsed_sections": [],
      "authorship_tag": "ABX9TyMl5g5Aej2i1s3A0n0Q2cSx",
      "include_colab_link": true
    },
    "kernelspec": {
      "name": "python3",
      "display_name": "Python 3"
    },
    "language_info": {
      "name": "python"
    }
  },
  "cells": [
    {
      "cell_type": "markdown",
      "metadata": {
        "id": "view-in-github",
        "colab_type": "text"
      },
      "source": [
        "<a href=\"https://colab.research.google.com/github/HUFS-Programming-2022/Hyeryeong_202103342/blob/main/week_12.ipynb\" target=\"_parent\"><img src=\"https://colab.research.google.com/assets/colab-badge.svg\" alt=\"Open In Colab\"/></a>"
      ]
    },
    {
      "cell_type": "markdown",
      "source": [
        "# 고급파이썬프로그래밍_12주차(0520)\n",
        "- 내부 함수 => 다음주\n",
        "- 이번주 프로젝트 X, 다음주에 프로젝트 올림"
      ],
      "metadata": {
        "id": "lqvzO8EtOU_F"
      }
    },
    {
      "cell_type": "markdown",
      "source": [
        "# CH09. 함수II"
      ],
      "metadata": {
        "id": "XGM08Oump_-w"
      }
    },
    {
      "cell_type": "markdown",
      "source": [
        "## 1. asterisk(stars)"
      ],
      "metadata": {
        "id": "E0MS22OIA9J8"
      }
    },
    {
      "cell_type": "markdown",
      "source": [
        "### 1-1. 위치 인수 분해/모으기\n",
        "- *\n",
        "- 함수의 매개변수에 asterisk 사용 -> 매개변수에서 위치 인수 변수를 **튜플**로 묶음"
      ],
      "metadata": {
        "id": "-q5QmXnVBCBH"
      }
    },
    {
      "cell_type": "code",
      "execution_count": null,
      "metadata": {
        "colab": {
          "base_uri": "https://localhost:8080/"
        },
        "id": "K25c6GfcOBKR",
        "outputId": "a266777e-f4be-48c9-a2e7-8a47c5680675"
      },
      "outputs": [
        {
          "output_type": "stream",
          "name": "stdout",
          "text": [
            "hey hello hi\n"
          ]
        }
      ],
      "source": [
        "def print_arg(*args):   # 1. 패킹\n",
        "  # 인자를 튜플로 묶어서 활용하는 역할\n",
        "  print(*args)   # 2. 언패킹(튜플 -> 인자로)\n",
        "\n",
        "print_arg('hey', 'hello', 'hi')"
      ]
    },
    {
      "cell_type": "code",
      "source": [
        "def print_arg2(name, *args):  # name 인수는 꼭 있어야 됨. *args는 name 외 다른 인수가 있다면 탐.\n",
        "  print('obligatory', name)\n",
        "  print(*args)   # 인덱싱도 가능\n",
        "\n",
        "print_arg2('book', 1, 2, 3, 4)  # name 인수: book, 그 외 인수: 1, 2, 3, 4\n",
        "nums = (1, 2, 3, 4)\n",
        "x = print_arg2('book', nums) \n",
        "y = print_arg2('book', *nums)"
      ],
      "metadata": {
        "colab": {
          "base_uri": "https://localhost:8080/"
        },
        "id": "hakNI8q4O289",
        "outputId": "9e02f1d6-e925-44aa-8f2b-cde5dd659de4"
      },
      "execution_count": null,
      "outputs": [
        {
          "output_type": "stream",
          "name": "stdout",
          "text": [
            "obligatory book\n",
            "1 2 3 4\n",
            "obligatory book\n",
            "(1, 2, 3, 4)\n",
            "obligatory book\n",
            "1 2 3 4\n"
          ]
        }
      ]
    },
    {
      "cell_type": "code",
      "source": [
        "# 교재\n",
        "def print_args(*args):\n",
        "  print('Positional tuple:', args)\n",
        "\n",
        "# print_args() -> 함수를 인수 없이 출력하면 *args에는 아무것도 없음\n",
        "# 즉,` Positional tuple: ()`로 출력됨 <- 매개변수에 해당하는 인수가 꼭 있어야 하는 것은 아니다.\n",
        "\n",
        "print_args(3, 2, 1, 'wait!', 'uh...') "
      ],
      "metadata": {
        "colab": {
          "base_uri": "https://localhost:8080/"
        },
        "id": "let8lpl6suUs",
        "outputId": "a841670f-7979-4739-a063-2a99a255748c"
      },
      "execution_count": null,
      "outputs": [
        {
          "output_type": "stream",
          "name": "stdout",
          "text": [
            "Positional tuple: (3, 2, 1, 'wait!', 'uh...')\n"
          ]
        }
      ]
    },
    {
      "cell_type": "code",
      "source": [
        "# 교재2\n",
        "def print_more(required1, required2, *args):\n",
        "  print('Need this one:', required1)\n",
        "  print('Need this one:', required2)\n",
        "  print('All the rest:', args)\n",
        "\n",
        "print_more('cap', 'gloves', 'scarf', 'monocle', 'mustache wax')"
      ],
      "metadata": {
        "colab": {
          "base_uri": "https://localhost:8080/"
        },
        "id": "Y-rTK6Zou-mM",
        "outputId": "b26bac67-fc8a-47e0-841b-8b920bd330e1"
      },
      "execution_count": null,
      "outputs": [
        {
          "output_type": "stream",
          "name": "stdout",
          "text": [
            "Need this one: cap\n",
            "Need this one: gloves\n",
            "All the rest: ('scarf', 'monocle', 'mustache wax')\n"
          ]
        }
      ]
    },
    {
      "cell_type": "code",
      "source": [
        "print_args(2, 5, 7, 'x')\n",
        "args = (2, 5, 7, 'x')\n",
        "print_args(args)\n",
        "print_args(*args)"
      ],
      "metadata": {
        "colab": {
          "base_uri": "https://localhost:8080/"
        },
        "id": "4kUAGuVGwXYh",
        "outputId": "82963ea8-1de2-4620-bd8b-56fa632fc829"
      },
      "execution_count": null,
      "outputs": [
        {
          "output_type": "stream",
          "name": "stdout",
          "text": [
            "Positional tuple: (2, 5, 7, 'x')\n",
            "Positional tuple: ((2, 5, 7, 'x'),)\n",
            "Positional tuple: (2, 5, 7, 'x')\n"
          ]
        }
      ]
    },
    {
      "cell_type": "markdown",
      "source": [
        "### 1-2. 외부에서 활용하기\n",
        "- 컬렉션 자료형 언패킹 출력 시\n",
        "- zip()\n",
        "- 키워드 전용 인수 선언\n",
        "   - 별 뒤에 오는 매개변수들은 반드시 키워드 인수로 들어오도록 설정하는 역할\n",
        "   - kargs(keyword arguments)와 혼선을 빚지 않기 위해"
      ],
      "metadata": {
        "id": "fRhGbYn2PK-D"
      }
    },
    {
      "cell_type": "code",
      "source": [
        "nums = list(range(5))\n",
        "print(*nums)"
      ],
      "metadata": {
        "colab": {
          "base_uri": "https://localhost:8080/"
        },
        "id": "wDfwRSoaPNwC",
        "outputId": "b9663390-f91e-4bc4-8e56-faa4b32523f7"
      },
      "execution_count": null,
      "outputs": [
        {
          "output_type": "stream",
          "name": "stdout",
          "text": [
            "0 1 2 3 4\n"
          ]
        }
      ]
    },
    {
      "cell_type": "code",
      "source": [
        "a = [\n",
        "     [1, 2],\n",
        "     [3, 4],\n",
        "     [5, 6]\n",
        "]\n",
        "\n",
        "# 1, 3, 5/ 2, 4, 6 (열을 순회하고 싶다)\n",
        "for row in zip(*a):\n",
        "  print(row)    # 밖에 대괄호가 사라짐."
      ],
      "metadata": {
        "colab": {
          "base_uri": "https://localhost:8080/"
        },
        "id": "5LhMl3GEPb66",
        "outputId": "36472136-48ea-45e0-9e0e-f8c653e312b0"
      },
      "execution_count": null,
      "outputs": [
        {
          "output_type": "stream",
          "name": "stdout",
          "text": [
            "(1, 3, 5)\n",
            "(2, 4, 6)\n"
          ]
        }
      ]
    },
    {
      "cell_type": "code",
      "source": [
        "# 키워드 전용 인수 선언 -> * 뒤에 오는 매개변수는 키워드 인수로 들어와야 함\n",
        "def print_data(data, *, start, end):  # start, end -> start = 0\n",
        "  for value in data[start:end]:\n",
        "    print(value)\n",
        "\n",
        "print_data(nums, start = 1, end = 3)  # start와 end는 키워드 인수"
      ],
      "metadata": {
        "colab": {
          "base_uri": "https://localhost:8080/"
        },
        "id": "hUfdqsmEQaFU",
        "outputId": "5b51eec8-87b8-44c4-a9de-ba9dd160646a"
      },
      "execution_count": null,
      "outputs": [
        {
          "output_type": "stream",
          "name": "stdout",
          "text": [
            "2\n",
            "3\n"
          ]
        }
      ]
    },
    {
      "cell_type": "markdown",
      "source": [
        "## 2. key arguments"
      ],
      "metadata": {
        "id": "vRbpAVh_Q1d_"
      }
    },
    {
      "cell_type": "markdown",
      "source": [
        "### 2-1. 키워드 인수 분해/모으기\n",
        "- **\n",
        "- 키워드 인수를 딕셔너리로 묶기 위해 사용\n",
        "- 인수 이름: 키, 값: 키에 대응하는 딕셔너리 값\n",
        "- 언패킹 기능이 없기 때문에 함수 내부에서 ** 사용 못함\n",
        "\n",
        "- 인수의 순서: 위치 인수 > args > kwargs"
      ],
      "metadata": {
        "id": "Qf4Q8QBGBFrg"
      }
    },
    {
      "cell_type": "code",
      "source": [
        "def print_kargs(**kargs):   # 변수를 딕셔너리로 묶는 기능\n",
        "  print(kargs)\n",
        "  # print(kargs['wine'], 'is semi-sweet')   # 오류가 나면 -> get(key, default)\n",
        "\n",
        "print_kargs(wine = 'merlot', dessert = 'cake')"
      ],
      "metadata": {
        "colab": {
          "base_uri": "https://localhost:8080/"
        },
        "id": "Tmn5atlEQ5cU",
        "outputId": "0399162c-8a78-44d8-9609-d33ec185828f"
      },
      "execution_count": null,
      "outputs": [
        {
          "output_type": "stream",
          "name": "stdout",
          "text": [
            "{'wine': 'merlot', 'dessert': 'cake'}\n"
          ]
        }
      ]
    },
    {
      "cell_type": "code",
      "source": [
        "wine_list = 'merlot cabernet crianza'.split()\n",
        "for wine in wine_list:\n",
        "  print_kargs(wine = wine, dessert = 'scone')"
      ],
      "metadata": {
        "colab": {
          "base_uri": "https://localhost:8080/"
        },
        "id": "F-YEvTsYRYfv",
        "outputId": "24f2f087-1046-43a9-ad5c-b3c9a1064d3e"
      },
      "execution_count": null,
      "outputs": [
        {
          "output_type": "stream",
          "name": "stdout",
          "text": [
            "{'wine': 'merlot', 'dessert': 'scone'}\n",
            "{'wine': 'cabernet', 'dessert': 'scone'}\n",
            "{'wine': 'crianza', 'dessert': 'scone'}\n"
          ]
        }
      ]
    },
    {
      "cell_type": "code",
      "source": [
        "def print_both(one, two, *args, **kargs):  # 위치 인수 > args > kargs\n",
        "  print(one + two + sum(args))\n",
        "  print(kargs)\n",
        "\n",
        "print_both(1, 2, 3, 4, 5, first = 1, second = 2)"
      ],
      "metadata": {
        "colab": {
          "base_uri": "https://localhost:8080/"
        },
        "id": "-ZH97sFpRwx7",
        "outputId": "7187974f-4985-4892-c28d-41fa082b3a21"
      },
      "execution_count": null,
      "outputs": [
        {
          "output_type": "stream",
          "name": "stdout",
          "text": [
            "15\n",
            "{'first': 1, 'second': 2}\n"
          ]
        }
      ]
    },
    {
      "cell_type": "code",
      "source": [
        "# 교재\n",
        "def print_kwargs(**kwargs):\n",
        "  print('Keyword arguments:', kwargs)\n",
        "\n",
        "print_kwargs()\n",
        "print_kwargs(wine = 'merlot', entree = 'mutton', dessert = 'macaroon')"
      ],
      "metadata": {
        "colab": {
          "base_uri": "https://localhost:8080/"
        },
        "id": "jmTilhzw0y7O",
        "outputId": "4b3b50d0-eb3c-48f9-aa65-8216ad5983b4"
      },
      "execution_count": null,
      "outputs": [
        {
          "output_type": "stream",
          "name": "stdout",
          "text": [
            "Keyword arguments: {}\n",
            "Keyword arguments: {'wine': 'merlot', 'entree': 'mutton', 'dessert': 'macaroon'}\n"
          ]
        }
      ]
    },
    {
      "cell_type": "markdown",
      "source": [
        "### 2-2. 두 개의 애스터리스크(**) 외부에서 활용하기\n",
        "- 딕셔너리 결합할 때 사용할 수 있다(파이썬 3.5 이상)\n"
      ],
      "metadata": {
        "id": "4JmZGUeHSQVR"
      }
    },
    {
      "cell_type": "code",
      "source": [
        "x = {1: 'a', 2: 'b'}\n",
        "y = {2: 'c', 3: 'd'}\n",
        "z = {**x, **y}\n",
        "z"
      ],
      "metadata": {
        "colab": {
          "base_uri": "https://localhost:8080/"
        },
        "id": "jQafQd13SUoT",
        "outputId": "cef57660-ca7a-4fc2-f51a-4df413f651f5"
      },
      "execution_count": null,
      "outputs": [
        {
          "output_type": "execute_result",
          "data": {
            "text/plain": [
              "{1: 'a', 2: 'c', 3: 'd'}"
            ]
          },
          "metadata": {},
          "execution_count": 21
        }
      ]
    },
    {
      "cell_type": "markdown",
      "source": [
        "## 3. 일급객체\n",
        "- first class object / first class citizen\n",
        "- 일반적으로 객체가 가지는 성질\n",
        "- 모든 것은 객체다.-> 즉, 함수도 객체다.(특이한 개념)\n",
        "- 함수의 인자로 전달 가능\n",
        "- 반환값이 될 수 있다\n",
        "- 수정, 할당될 수 있다."
      ],
      "metadata": {
        "id": "ZQ-tIchdSr2F"
      }
    },
    {
      "cell_type": "code",
      "source": [
        "def answer():\n",
        "  print(43)\n",
        "\n",
        "answer()\n",
        "\n",
        "def run_something(func):  # 파이썬에서만, 함수가 객체이므로\n",
        "  func()\n",
        "\n",
        "run_something(answer)\n",
        "# answer()가 아닌 answer 전달 => 괄호가 없으면 함수를 다른 모든 객체와 마찬가지로 간주\n",
        "\n",
        "def run_anything(func):\n",
        "  return func\n",
        "\n",
        "run_anything(answer)()  # 괄호 -> 실행"
      ],
      "metadata": {
        "colab": {
          "base_uri": "https://localhost:8080/"
        },
        "id": "pHtknUX5S68U",
        "outputId": "30da9921-3638-45d9-8ec9-b58dced67e21"
      },
      "execution_count": 34,
      "outputs": [
        {
          "output_type": "stream",
          "name": "stdout",
          "text": [
            "43\n",
            "43\n",
            "43\n"
          ]
        }
      ]
    },
    {
      "cell_type": "code",
      "source": [
        "type(run_something)"
      ],
      "metadata": {
        "colab": {
          "base_uri": "https://localhost:8080/"
        },
        "id": "rjXZ_u9--FLg",
        "outputId": "442c3cc7-2b35-486b-9874-73f03144737e"
      },
      "execution_count": 37,
      "outputs": [
        {
          "output_type": "execute_result",
          "data": {
            "text/plain": [
              "function"
            ]
          },
          "metadata": {},
          "execution_count": 37
        }
      ]
    },
    {
      "cell_type": "code",
      "source": [
        "def sum_args(*args):\n",
        "  return sum(args)\n",
        "\n",
        "def run_with_positional_args(func, *args):\n",
        "  return func(*args)\n",
        "\n",
        "run_with_positional_args(sum_args, 1, 3, 4, 5)"
      ],
      "metadata": {
        "colab": {
          "base_uri": "https://localhost:8080/"
        },
        "id": "SHGEg06SS7Ck",
        "outputId": "477f2018-67db-4b13-9f81-b3949e4528cd"
      },
      "execution_count": null,
      "outputs": [
        {
          "output_type": "execute_result",
          "data": {
            "text/plain": [
              "13"
            ]
          },
          "metadata": {},
          "execution_count": 25
        }
      ]
    },
    {
      "cell_type": "code",
      "source": [
        "# 교재\n",
        "def add_args(arg1, arg2):\n",
        "  print(arg1 + arg2)\n",
        "\n",
        "def run_something_with_args(func, arg1, arg2):\n",
        "  func(arg1, arg2)\n",
        "\n",
        "run_something_with_args(add_args, 5, 9)"
      ],
      "metadata": {
        "colab": {
          "base_uri": "https://localhost:8080/"
        },
        "id": "mtaDUH0u-ml0",
        "outputId": "d711421a-651a-4b07-9962-6bd4805b0741"
      },
      "execution_count": 40,
      "outputs": [
        {
          "output_type": "stream",
          "name": "stdout",
          "text": [
            "14\n"
          ]
        }
      ]
    },
    {
      "cell_type": "markdown",
      "source": [
        "## 4. 가변/ 불변 인수\n",
        "- 함수에 인수 전달할 때 주의할 것\n",
        "- 인수가 가변 객체인 경우 -> 해당 매개변수를 통해 함수 내부에서 값 변경 가능"
      ],
      "metadata": {
        "id": "Sw8Ad-kx7tTv"
      }
    },
    {
      "cell_type": "code",
      "source": [
        "# 주의: 가변 인자일 때 => 초기화하지 않으면 변수 내용이 변할 수 있음\n",
        "\n",
        "# 좋지 않은 예시\n",
        "def func(num_list):\n",
        "  # 변할 수 있음을 문서화할 것, 혹은 다른 방법 찾아볼 것(copy...)\n",
        "  sum_num = sum(num_list)\n",
        "  num_list.append(sum_num)\n",
        "\n",
        "a = [1, 3, 5]\n",
        "func(a)"
      ],
      "metadata": {
        "id": "5sIp20loS7I-"
      },
      "execution_count": null,
      "outputs": []
    },
    {
      "cell_type": "code",
      "source": [
        "a"
      ],
      "metadata": {
        "colab": {
          "base_uri": "https://localhost:8080/"
        },
        "id": "OZjQeMmgS7O9",
        "outputId": "841f939d-22dd-45c7-bf21-97723ba490f8"
      },
      "execution_count": null,
      "outputs": [
        {
          "output_type": "execute_result",
          "data": {
            "text/plain": [
              "[1, 3, 5, 9]"
            ]
          },
          "metadata": {},
          "execution_count": 27
        }
      ]
    },
    {
      "cell_type": "code",
      "source": [
        "func(a)"
      ],
      "metadata": {
        "id": "L9JCrKx87Ywf"
      },
      "execution_count": null,
      "outputs": []
    },
    {
      "cell_type": "code",
      "source": [
        "a"
      ],
      "metadata": {
        "colab": {
          "base_uri": "https://localhost:8080/"
        },
        "id": "wGSCb8vI7aMm",
        "outputId": "f8260f80-2929-42bc-f30f-513810e86faf"
      },
      "execution_count": null,
      "outputs": [
        {
          "output_type": "execute_result",
          "data": {
            "text/plain": [
              "[1, 3, 5, 9, 18]"
            ]
          },
          "metadata": {},
          "execution_count": 29
        }
      ]
    },
    {
      "cell_type": "code",
      "source": [
        "# 교재(좋지 않은 예시2)\n",
        "outside = ['one', 'fine', 'day']\n",
        "def mangle(arg):\n",
        "  arg[1] = 'terrible!'\n",
        "\n",
        "mangle(outside)\n",
        "outside"
      ],
      "metadata": {
        "colab": {
          "base_uri": "https://localhost:8080/"
        },
        "id": "R5hwnVWu_Rj2",
        "outputId": "6764af2a-6477-41fa-a38d-372f15713f1b"
      },
      "execution_count": 43,
      "outputs": [
        {
          "output_type": "execute_result",
          "data": {
            "text/plain": [
              "['one', 'terrible!', 'day']"
            ]
          },
          "metadata": {},
          "execution_count": 43
        }
      ]
    },
    {
      "cell_type": "markdown",
      "source": [
        "## 5. 익명 함수: lambda\n",
        "- lambda\n",
        "- 함수인데 이름이 없음(def, return)\n",
        "- 왜? 단순한 함수 사용할 때\n",
        "- 단, 잦은 사용은 권장하지 않을 때 => 직관적이지 않고 재활용 거의 불가\n",
        "- lambda x: <x를 요리할 코드>\n",
        "\n",
        "- 람다는 인수 취하지 않거나 콤마로 구분된 인수 취하고 콜론 이후에 함수 정의\n",
        "- 작은 함수 정의 -> 이것을 호출하여 얻은 결괏값을 저장해야 유용"
      ],
      "metadata": {
        "id": "A1ZGyPrh7xwu"
      }
    },
    {
      "cell_type": "code",
      "source": [
        "# lambda x: x.lower()  => 소문자로 바꾸는 익명 함수\n",
        "\n",
        "def f(x):\n",
        "  return x.lower()\n",
        "\n",
        "f2 = lambda x: x.lower()\n",
        "f2('OK')"
      ],
      "metadata": {
        "colab": {
          "base_uri": "https://localhost:8080/",
          "height": 36
        },
        "id": "UWOrFmCB7mQc",
        "outputId": "8742607f-7fc9-4225-8370-8c641905a40b"
      },
      "execution_count": null,
      "outputs": [
        {
          "output_type": "execute_result",
          "data": {
            "text/plain": [
              "'ok'"
            ],
            "application/vnd.google.colaboratory.intrinsic+json": {
              "type": "string"
            }
          },
          "metadata": {},
          "execution_count": 30
        }
      ]
    },
    {
      "cell_type": "code",
      "source": [
        "(lambda x: x.lower())('OK')"
      ],
      "metadata": {
        "colab": {
          "base_uri": "https://localhost:8080/",
          "height": 36
        },
        "id": "PiKKNklI8aDj",
        "outputId": "bedd9566-8598-44c5-abc2-54b0c0a48942"
      },
      "execution_count": null,
      "outputs": [
        {
          "output_type": "execute_result",
          "data": {
            "text/plain": [
              "'ok'"
            ],
            "application/vnd.google.colaboratory.intrinsic+json": {
              "type": "string"
            }
          },
          "metadata": {},
          "execution_count": 31
        }
      ]
    },
    {
      "cell_type": "code",
      "source": [
        "f3 = lambda x, y: x + y\n",
        "f3(5, 5)"
      ],
      "metadata": {
        "colab": {
          "base_uri": "https://localhost:8080/"
        },
        "id": "C_yethjr8f6a",
        "outputId": "e100d990-2089-42c0-df84-fedae4a74b47"
      },
      "execution_count": null,
      "outputs": [
        {
          "output_type": "execute_result",
          "data": {
            "text/plain": [
              "10"
            ]
          },
          "metadata": {},
          "execution_count": 32
        }
      ]
    },
    {
      "cell_type": "code",
      "source": [
        "# abc -> Abc!  # capitalize(), title() + '!'\n",
        "f4 = lambda x: x.title() + '!'\n",
        "f4('abc')"
      ],
      "metadata": {
        "colab": {
          "base_uri": "https://localhost:8080/",
          "height": 36
        },
        "id": "dpAzc9O18mpo",
        "outputId": "c9d31e5f-61b4-4ce4-ebc3-8044cdd6a0b1"
      },
      "execution_count": 44,
      "outputs": [
        {
          "output_type": "execute_result",
          "data": {
            "text/plain": [
              "'Abc!'"
            ],
            "application/vnd.google.colaboratory.intrinsic+json": {
              "type": "string"
            }
          },
          "metadata": {},
          "execution_count": 44
        }
      ]
    },
    {
      "cell_type": "code",
      "source": [
        "# 교재\n",
        "def edit_story(words, func):\n",
        "  for word in words:\n",
        "    print(func(word))\n",
        "\n",
        "stairs = ['thud', 'meow', 'thud', 'hiss']\n",
        "\n",
        "def enliven(word):\n",
        "  return word.capitalize() + '!'\n",
        "\n",
        "edit_story(stairs, enliven)\n",
        "\n",
        "## lambda 함수 사용\n",
        "edit_story(stairs, lambda word: word.capitalize() + '!')"
      ],
      "metadata": {
        "colab": {
          "base_uri": "https://localhost:8080/"
        },
        "id": "ZzSdfif-_w12",
        "outputId": "95b32714-1a3e-46d9-ac0f-098fab267ed5"
      },
      "execution_count": 49,
      "outputs": [
        {
          "output_type": "stream",
          "name": "stdout",
          "text": [
            "Thud!\n",
            "Meow!\n",
            "Thud!\n",
            "Hiss!\n",
            "Thud!\n",
            "Meow!\n",
            "Thud!\n",
            "Hiss!\n"
          ]
        }
      ]
    }
  ]
}